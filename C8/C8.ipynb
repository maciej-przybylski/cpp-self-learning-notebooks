{
 "cells": [
  {
   "cell_type": "markdown",
   "id": "24218d8b-9b9a-4480-be64-bab9d3562cb0",
   "metadata": {
    "editable": true,
    "slideshow": {
     "slide_type": ""
    },
    "tags": []
   },
   "source": [
    "![OMNIS2_Logo_projektu.png](../figures/OMNIS2_Logo_projektu.png)"
   ]
  },
  {
   "cell_type": "markdown",
   "id": "32578e4d-0818-420c-899c-e578bf69a922",
   "metadata": {
    "editable": true,
    "slideshow": {
     "slide_type": ""
    },
    "tags": []
   },
   "source": [
    "# Ćwiczenie 8: Funkcje i procedury \n",
    "Wprowadzenie do ćwiczenia.\n",
    "Krótkie przypomnienie teorii.\n",
    "todo przerobić na formę notatnika"
   ]
  },
  {
   "cell_type": "markdown",
   "id": "fa173a14",
   "metadata": {},
   "source": [
    "## Zadanie 8.0. \n",
    "Zanim przejdziemy dalej uruchomimy dwa polecenia pomocnicze - zadeklarujemy korzystanie z biblioteki `iostream` oraz określimy, że będziemy domyślnie korzystali z przestrzeni nazw `std`. Dzieki temu w dalszej części ćwiczenia ... todo"
   ]
  },
  {
   "cell_type": "code",
   "execution_count": null,
   "id": "58bf5572",
   "metadata": {
    "vscode": {
     "languageId": "plaintext"
    }
   },
   "outputs": [],
   "source": [
    "#include <iostream>\n",
    "\n",
    "using namespace std;"
   ]
  },
  {
   "cell_type": "markdown",
   "id": "3049219f",
   "metadata": {},
   "source": [
    "## Zadanie 8.1.\n",
    "Z wykorzsytaniem funkcji napisz program drukujący na ekranie powitanie w postaci dowolnego napisu (np. \"Witaj!\"). "
   ]
  },
  {
   "cell_type": "code",
   "execution_count": null,
   "id": "737ac271",
   "metadata": {
    "vscode": {
     "languageId": "plaintext"
    }
   },
   "outputs": [],
   "source": [
    "//todo rozwiąż zadanie"
   ]
  },
  {
   "cell_type": "code",
   "execution_count": null,
   "id": "e3408e1f",
   "metadata": {
    "vscode": {
     "languageId": "plaintext"
    }
   },
   "outputs": [],
   "source": [
    "//przykład poprawnego rozwiązania:\n",
    "\n",
    "void powitanie()\n",
    "{\n",
    "    cout << \"Cześć!\" << endl;\n",
    "}\n",
    "\n",
    "int main()\n",
    "{\n",
    "    powitanie();\n",
    "    return 0;\n",
    "}"
   ]
  },
  {
   "cell_type": "markdown",
   "id": "f2664f91",
   "metadata": {},
   "source": [
    "## Zadanie 8.2.\n",
    "Z wykorzsytaniem funkcji napisz program drukujący na ekranie powitanie imienne w postaci dowolnego napisu (np. \"Witaj! Janek\"). Imię przekaż do funkcji przez parametr. "
   ]
  },
  {
   "cell_type": "code",
   "execution_count": null,
   "id": "b7d59b05",
   "metadata": {
    "vscode": {
     "languageId": "plaintext"
    }
   },
   "outputs": [],
   "source": [
    "//todo rozwiąż zadanie"
   ]
  },
  {
   "cell_type": "code",
   "execution_count": null,
   "id": "dced849e",
   "metadata": {
    "vscode": {
     "languageId": "plaintext"
    }
   },
   "outputs": [],
   "source": [
    "//przykład poprawnego rozwiązania:\n",
    "void powitanie_imienne(string imie)\n",
    "{\n",
    "    cout << \"Cześć \" << imie << \"!\" << endl;\n",
    "}\n",
    "\n",
    "int main()\n",
    "{\n",
    "    string moje_imie = \"Janek\";\n",
    "    \n",
    "    powitanie_imienne( moje_imie );\n",
    "    return 0;\n",
    "}"
   ]
  },
  {
   "cell_type": "markdown",
   "id": "2dafb915",
   "metadata": {},
   "source": [
    "## Zadanie 8.3.\n",
    "Z wykorzsytaniem funkcji napisz program wyznaczający średnią ze znanej sumy i liczby pewnej grupy wartości. \n",
    "Sumę i liczbę wartości przekaż do funkcji przez parametry (przez wartość). Funkcja powinna zwracać wyznaczoną średnią przez nazwę."
   ]
  },
  {
   "cell_type": "code",
   "execution_count": null,
   "id": "a4f36c98",
   "metadata": {
    "vscode": {
     "languageId": "plaintext"
    }
   },
   "outputs": [],
   "source": [
    "//todo rozwiąż zadanie"
   ]
  },
  {
   "cell_type": "code",
   "execution_count": null,
   "id": "d8ffec0f",
   "metadata": {
    "vscode": {
     "languageId": "plaintext"
    }
   },
   "outputs": [],
   "source": [
    "//przykład poprawnego rozwiązania:\n",
    "float srednia(int suma, int liczba)\n",
    "{\n",
    "    float avg = float(suma)/liczba;\n",
    "    return avg;\n",
    "}\n",
    "\n",
    "int main()\n",
    "{\n",
    "    float sr = srednia(3, 2);\n",
    "    cout << \"srednia wynosi \" << sr << endl;\n",
    "    return 0;\n",
    "}"
   ]
  },
  {
   "cell_type": "markdown",
   "id": "552087ed",
   "metadata": {},
   "source": [
    "## Zadanie 8.4.\n",
    "Wczytywać z konsoli słowa dopóki rozpoczynają się małą literą. Dla każdego słowa wypisać co drugą jego literę."
   ]
  },
  {
   "cell_type": "code",
   "execution_count": null,
   "id": "5d74c751",
   "metadata": {
    "vscode": {
     "languageId": "plaintext"
    }
   },
   "outputs": [],
   "source": [
    "//todo rozwiąż zadanie"
   ]
  },
  {
   "cell_type": "code",
   "execution_count": null,
   "id": "e438c207",
   "metadata": {
    "vscode": {
     "languageId": "plaintext"
    }
   },
   "outputs": [],
   "source": [
    "//przykład poprawnego rozwiązania:\n",
    "\n",
    "string slowo;\n",
    "do\n",
    "{\n",
    "    cout << \"podaj slowo\" << endl;\n",
    "    \n",
    "    cin >> slowo;\n",
    "    int a = slowo.length();\n",
    "    \n",
    "    for(int i=0;i<a;i+=2)\n",
    "    {\n",
    "        cout << slowo[i]<< \" \";\n",
    "    }\n",
    "    \n",
    "    cout << endl;\n",
    "}while(slowo[0] <= 'z' && slowo[0] >= 'a');"
   ]
  },
  {
   "cell_type": "markdown",
   "id": "6a62a4bc",
   "metadata": {},
   "source": [
    "## Zadanie 8.5.\n",
    "Z wykorzsytaniem funkcji napisz program, który wczytuje zdanie podane w konsoli, a następnie liczy ilość użytych w nim słów. Założyć, że jeden znak to też słowo, a słowa oddzielone są znakami białymi, np. spacja, tabulacja.  "
   ]
  },
  {
   "cell_type": "code",
   "execution_count": null,
   "id": "baf1fc54",
   "metadata": {
    "vscode": {
     "languageId": "plaintext"
    }
   },
   "outputs": [],
   "source": [
    "//todo rozwiąż zadanie"
   ]
  },
  {
   "cell_type": "code",
   "execution_count": null,
   "id": "e17e4be3",
   "metadata": {
    "vscode": {
     "languageId": "plaintext"
    }
   },
   "outputs": [],
   "source": [
    "//przykład poprawnego rozwiązania:\n",
    "\n",
    "int licz_slowa(string zdanie)\n",
    "{\n",
    "    int licznik = 1;\n",
    "    for(int i = 0; i < zdanie.size(); i++)\n",
    "    {\n",
    "        if(zdanie[i] == ' ' || zdanie[i] == '\\t')\n",
    "        { \n",
    "            licznik ++;\n",
    "        }\n",
    "    }\n",
    "}\n",
    "\n",
    "int main() {\n",
    "    string zdanie;\n",
    "    getline(cin, zdanie);\n",
    "    int liczba_slow = licz_slowa(zdanie);\n",
    "    cout << liczba_slow;\n",
    "    return 0;\n",
    "}"
   ]
  },
  {
   "cell_type": "markdown",
   "id": "1282fef3",
   "metadata": {},
   "source": [
    "## Zadanie 8.6.\n",
    "Z wykorzsytaniem funkcji napisz program, w którym należy:\n",
    "a. zadeklarować tablicę statyczną o stałym rozmiarze N i wypełnić ją losowymi wartościami całkowitymi z zakresu <-10, 10>,\n",
    "b. wydrukować tablicę na konsoli,\n",
    "c. za pomocą jednej funkcji wyznaczyć sumę i liczbę wszystkich dodatnich wartości w tablicy (sumę i liczbę przekazać do funkcji przez referencję),\n",
    "d. na podstawie sumy i liczby wyznaczonej w punkcie c. wyznaczyć średnią z dodatnich wartości zapisanych w tablicy (można wykorzystać funkcję napisaną w zadaniu 6.3)."
   ]
  },
  {
   "cell_type": "code",
   "execution_count": null,
   "id": "34d8700d",
   "metadata": {
    "vscode": {
     "languageId": "plaintext"
    }
   },
   "outputs": [],
   "source": [
    "//todo rozwiąż zadanie"
   ]
  },
  {
   "cell_type": "code",
   "execution_count": null,
   "id": "0a914ef1",
   "metadata": {
    "vscode": {
     "languageId": "plaintext"
    }
   },
   "outputs": [],
   "source": [
    "// todo przykład poprawnego rozwiązania:\n",
    "\n",
    "const int N = 5;\n",
    "\n",
    "void sumuj_i_licz(int &sum, int &cnt, int tab[N])\n",
    "{​​​​​​​​\n",
    "    sum = 0;\n",
    "    cnt = 0;\n",
    "    for(int i = 0; i < N; i++)\n",
    "    {​​​​​​​​\n",
    "        sum += tab[i];\n",
    "        cnt ++;\n",
    "    }​​​​​​​​\n",
    "}​​​​​​​​\n",
    "\n",
    "float srednia(int suma, int liczba)\n",
    "{​​​​​​​​\n",
    "    float avg = float(suma)/liczba;\n",
    "    return avg;\n",
    "}​​​​​​​​\n",
    "\n",
    "int main()\n",
    "{​​​​​​​​\n",
    "    srand(time(0));\n",
    "\n",
    "    int tab[N];\n",
    "    for(int i = 0; i < N; i++)\n",
    "    {​​​​​​​​\n",
    "        tab[i] = -10 + rand()%(10 - -10 + 1);\n",
    "    }​​​​​​​​\n",
    "\n",
    "    int suma, liczba;\n",
    "    sumuj_i_licz(suma, liczba, tab);\n",
    "\n",
    "    float sr = srednia(suma, liczba);\n",
    "    cout << \"srednia wynosi \" << sr << endl;\n",
    "\n",
    "    return 0;\n",
    "}​​​​​​​​"
   ]
  },
  {
   "cell_type": "markdown",
   "id": "5cc088cf",
   "metadata": {},
   "source": [
    "## Zadanie 8.7.\n",
    "Rozwiąż za pomocą funkcji zadanie 4.5. Zadeklarować tablicę statyczną dwuwymiarową o rozmiarze NxN, gdzie N - wartość stała. Każdy podpunkt wykonaj jako oddzielną funkcję.\n",
    "\n",
    "a. Wydrukować tablicę wierszami po każdej z poniższych operacji. (każdy wiersz w nowej linii).\n",
    "b. Tablicę wypełnić losowymi literami (losować z wielki i małych liter).\n",
    "c. Zamienić miejscami wartości z komórek tablicy umieszczonych symetrycznie względem głównej przekątnej.\n",
    "d. Zamienić miejscami wartości z komórek tablicy umieszczonych symetrycznie względem II przekątnej.\n",
    "e. Zamienić miejscami wartości z komórek tablicy umieszczonych symetrycznie względem pionowej linii przechodzącej przez środek tablicy.\n",
    "f. Zamienić miejscami wartości z komórek tablicy umieszczonych symetrycznie względem poziomej linii przechodzącej przez środek tablicy."
   ]
  },
  {
   "cell_type": "code",
   "execution_count": null,
   "id": "ce45ceed",
   "metadata": {
    "vscode": {
     "languageId": "plaintext"
    }
   },
   "outputs": [],
   "source": [
    "//todo rozwiąż zadanie"
   ]
  },
  {
   "cell_type": "code",
   "execution_count": null,
   "id": "838835b8",
   "metadata": {
    "vscode": {
     "languageId": "plaintext"
    }
   },
   "outputs": [],
   "source": [
    "//przykład poprawnego rozwiązania:\n",
    "\n",
    "const int N=6;\n",
    "\n",
    "void wypelnij(char tab[N][N])\n",
    "{\n",
    "    for (int i=0; i<N; i++)\n",
    "    {\n",
    "        for (int j=0; j<N; j++)\n",
    "        {\n",
    "            int jaka = rand()%2;\n",
    "\n",
    "            if (jaka==0)\n",
    "            {\n",
    "                char x = 'A'+(rand()%('Z'-'A'+1));\n",
    "                tab[i][j] = x;\n",
    "            }\n",
    "            else\n",
    "            {\n",
    "                char x = 'a'+(rand()%('z'-'a'+1));\n",
    "                tab[i][j] = x;\n",
    "            }\n",
    "        }\n",
    "    }\n",
    "}\n",
    "\n",
    "void wypisz(char tab[N][N])\n",
    "{\n",
    "    for (int i=0; i<N; i++)\n",
    "    {\n",
    "        for (int j=0; j<N; j++)\n",
    "        {\n",
    "            cout << setw(2) << fixed << tab[i][j] << \" \";\n",
    "        }\n",
    "        cout << endl;\n",
    "    }\n",
    "    cout << endl;\n",
    "}\n",
    "\n",
    "void punkt_c(char tab[N][N])\n",
    "{\n",
    "    for(int i = 0; i < N; i++)\n",
    "    {\n",
    "        for(int j = 0; j < N; j++)\n",
    "        {\n",
    "            if(i > j)\n",
    "            {\n",
    "                int tmp = tab[i][j];\n",
    "                tab[i][j] = tab[j][i];\n",
    "                tab[j][i] = tmp;\n",
    "            }\n",
    "        }\n",
    "    }\n",
    "}\n",
    "\n",
    "void punkt_d(char tab[N][N])\n",
    "{\n",
    "    for(int i = 0; i < N; i++)\n",
    "    {\n",
    "        for(int j = 0; j < N; j++)\n",
    "        {\n",
    "            if(i > N-1-j)\n",
    "            {\n",
    "                int tmp = tab[i][j];\n",
    "                tab[i][j] = tab[N-1-j][N-1-i];\n",
    "                tab[N-1-j][N-1-i] = tmp;\n",
    "            }\n",
    "        }\n",
    "    }\n",
    "}\n",
    "\n",
    "void punkt_e(char tab[N][N])\n",
    "{\n",
    "    for(int i = 0; i < N; i++)\n",
    "    {\n",
    "        for(int j = 0; j < N/2; j++)\n",
    "        {\n",
    "            int tmp = tab[i][j];\n",
    "            tab[i][j] = tab[i][N-1-j];\n",
    "            tab[i][N-1-j] = tmp;\n",
    "        }\n",
    "    }\n",
    "}\n",
    "\n",
    "void punkt_f(char tab[N][N])\n",
    "{\n",
    "    for(int i = 0; i < N/2; i++)\n",
    "    {\n",
    "        for(int j = 0; j < N; j++)\n",
    "        {\n",
    "            int tmp = tab[i][j];\n",
    "            tab[i][j] = tab[N-1-i][j];\n",
    "            tab[N-1-i][j] = tmp;\n",
    "        }\n",
    "    }\n",
    "}\n",
    "\n",
    "int main()\n",
    "{\n",
    "    srand(time(0));\n",
    "\n",
    "    char tab[N][N];\n",
    "\n",
    "    //b. wypelnienie\n",
    "    wypelnij(tab);\n",
    "\n",
    "    //a.\n",
    "    cout << \"wypelniona tablica:\" << endl;\n",
    "    wypisz(tab);\n",
    "\n",
    "    //c.\n",
    "    punkt_c(tab);\n",
    "\n",
    "    //a.\n",
    "    cout << \"Symetria wzgledem glownej przekatnej\" << endl;\n",
    "    wypisz(tab);\n",
    "\n",
    "    //d.\n",
    "    punkt_d(tab);\n",
    "\n",
    "    //a.\n",
    "    cout << \"Symetria wzgledem drugiej przekatnej\" << endl;\n",
    "    wypisz(tab);\n",
    "\n",
    "    //e.\n",
    "    punkt_e(tab);\n",
    "\n",
    "    //a.\n",
    "    cout << \"Symetria wzgledem osi pionowej\" << endl;\n",
    "    wypisz(tab);\n",
    "\n",
    "    //f.\n",
    "    punkt_f(tab);\n",
    "\n",
    "    //a.\n",
    "    cout << \"Symetria wzgledem osi poziomej\" << endl;\n",
    "    wypisz(tab);\n",
    "\n",
    "    return 0;\n",
    "}"
   ]
  },
  {
   "cell_type": "markdown",
   "id": "4cc6cd26-7841-4a86-849f-0a525f8be689",
   "metadata": {
    "editable": true,
    "slideshow": {
     "slide_type": ""
    },
    "tags": []
   },
   "source": [
    "![logotypy.png](../figures/OMNIS2_logotypy.png)"
   ]
  }
 ],
 "metadata": {
  "kernelspec": {
   "display_name": "C++17",
   "language": "C++17",
   "name": "xcpp17"
  },
  "language_info": {
   "codemirror_mode": "text/x-c++src",
   "file_extension": ".cpp",
   "mimetype": "text/x-c++src",
   "name": "c++",
   "version": "17"
  }
 },
 "nbformat": 4,
 "nbformat_minor": 5
}

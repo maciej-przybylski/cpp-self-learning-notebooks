{
 "cells": [
  {
   "cell_type": "markdown",
   "id": "24218d8b-9b9a-4480-be64-bab9d3562cb0",
   "metadata": {
    "editable": true,
    "slideshow": {
     "slide_type": ""
    },
    "tags": []
   },
   "source": [
    "![OMNIS2_Logo_projektu.png](../figures/OMNIS2_Logo_projektu.png)"
   ]
  },
  {
   "cell_type": "markdown",
   "id": "32578e4d-0818-420c-899c-e578bf69a922",
   "metadata": {
    "editable": true,
    "slideshow": {
     "slide_type": ""
    },
    "tags": []
   },
   "source": [
    "# Ćwiczenie 8: Tablice statyczne jednowymiarowe i napisy\n",
    "\n",
    "autor: Jan Klimaszewski"
   ]
  },
  {
   "cell_type": "markdown",
   "id": "0eff4aaa",
   "metadata": {},
   "source": [
    "W tym ćwiczeniu nauczysz się, jak korzystać z **tablic jednowymiarowych** i **napisów** w C++ (a dokładniej - statycznych tablic jednowymiarowych).\n",
    "Dzięki temu będziesz potrafił przechowywać wiele wartości tego samego typu w jednej **strukturze danych**, zamiast tworzyć osobne zmienne dla każdej z nich. W podobny sposób nauczysz się używać **napisów** - są one podobne do tablic znaków, gdzie typem przechowywanych danych jest `char`. \n",
    "Tablica pozwala w prosty sposób **odwoływać się do elementów** za pomocą **indeksów** oraz **przetwarzać je w pętli**, np. `for` lub `while`.\n",
    "Takie rozwiązanie jest bardzo przydatne, gdy chcesz zapisać lub przetworzyć większą liczbę danych, np. wyniki pomiarów, oceny studentów, czy wybrane znaki napisu.\n",
    "\n",
    "\n",
    "todo dodać więcej zadań z prostymi napisami"
   ]
  },
  {
   "cell_type": "markdown",
   "id": "0f4ade27",
   "metadata": {},
   "source": [
    "## Tablice jednowymiarowe w C++\n",
    "\n",
    "W C++ **tablica jednowymiarowa** to zbiór elementów tego samego typu (np. `int`, `double`, `char`), które są zapisane w pamięci **obok siebie**.\n",
    "Każdy element tablicy ma swój **numer porządkowy (indeks)**, który zaczyna się od `0`.\n",
    "\n",
    "Tablice pozwalają w prosty sposób przechowywać i przetwarzać wiele danych naraz, np. wyniki pomiarów, oceny, liczby losowe, znaki itp.\n",
    "\n",
    "### Przykład deklaracji i inicjalizacji tablicy\n",
    "\n",
    "```cpp\n",
    "int liczby[5] = {10, 20, 30, 40, 50};\n",
    "```\n",
    "Tutaj tworzymy tablicę `liczby`, która zawiera `5` elementów typu `int`. Zauważ, że w powyższym poleceniu użyliśmy nawiasów kwadratowych `[]` do określenia **rozmiaru tablicy**. \n",
    "\n",
    "### Graficzne przedstawienie tablicy `liczby`\n",
    "\n",
    "|  Indeks |  0  |  1  |  2  |  3  |  4  |\n",
    "| :-----: | :-: | :-: | :-: | :-: | :-: |\n",
    "| Wartość |  10 |  20 |  30 |  40 |  50 |\n",
    "\n",
    "\n",
    "### Dostęp do elementów tablicy\n",
    "\n",
    "Aby **odwołać** się do konkretnego **elementu**, używamy jego **indeksu**:\n",
    "\n",
    "```cpp\n",
    "cout << liczby[2];  // wypisze: 30\n",
    "```\n",
    "Zauważ, że w powyższym poleceniu użyliśmy nawiasów kwadratowych `[]` do odwołania się do wybranej komórki tablicy, czyli w innym kontekście niż przy jej deklaracji. \n",
    "\n",
    "Aby wpisać dowolną wartość do tablicy, musimy podać **indeks**, zarówno wartość, jak i indeks mogą być przechowywane w zmiennej:\n",
    "\n",
    "```cpp\n",
    "int i = 2;\n",
    "int wartosc = 35;\n",
    "liczby[i] = 35;     // wstawi 35 do komórki o indeksie 2\n",
    "```\n",
    "Po tych operacjach tablica `liczby` będzie zawierała dane:\n",
    "\n",
    "|  Indeks |  0  |  1  |  2  |  3  |  4  |\n",
    "| :-----: | :-: | :-: | :-: | :-: | :-: |\n",
    "| Wartość |  10 |  20 |  **35** |  40 |  50 |\n",
    "\n",
    "\n",
    "\n",
    "### Rozmiar tablicy w C++ musi być stały\n",
    "\n",
    "W języku **C++ tablice statyczne** mogą być deklarowane w najprostrzy sposb tak:\n",
    "\n",
    "```cpp\n",
    "int liczby[5];\n",
    "```\n",
    "\n",
    "Te tablice muszą mieć **rozmiar znany w momencie kompilacji**.  \n",
    "\n",
    "Oznacza to, że **kompilator** musi wiedzieć 'z góry', ile pamięci zarezerwować dla tablicy w trakcie tworzenia programu (jeszcze przed jego uruchomieniem).  \n",
    " \n",
    "### Dlaczego tak jest?\n",
    "- Tablica zajmuje **ciągły obszar pamięci** - bez przerw od początku do końca.  \n",
    "- Kompilator musi obliczyć, **ile bajtów** będzie potrzebne na całą tablicę (np. 5 elementów × 4 bajty = 20 bajtów dla `int[5]`) i zarezerwować 'z góry' to miejsce.  \n",
    "- Jeśli rozmiar byłby zmienny, kompilator **nie wiedziałby, jak duży obszar pamięci zarezerwować**.  \n",
    "\n",
    "### Przykłady:\n",
    "✅ Poprawne (rozmiar znany w czasie kompilacji):\n",
    "\n",
    "```cpp\n",
    "int liczby[5];\n",
    "```\n",
    "\n",
    "❌ Błąd (rozmiar zależny od zmiennej):\n",
    "\n",
    "```cpp\n",
    "int n;\n",
    "cin >> n;\n",
    "int liczby[n];  // niepoprawne w standardowym C++\n",
    "```\n",
    "\n",
    "Rozmiar tablicy statycznej nie może być zapisany w zmiennej, ale można go zapisać w stałej. Zobacz przykład poniżej.\n",
    "✅ Poprawne (rozmiar znany w czasie kompilacji - użycie stałej N):\n",
    "\n",
    "```cpp\n",
    "const int N = 5;\n",
    "int liczby[N];\n",
    "```\n",
    "\n",
    "Dzięki użyciu **słowa kluczowego** `const` kompilator będzie pilnował za nas, żeby nie zmienić wartości `N` w trakcie pisania programu. \n",
    "\n",
    "### Co zrobić, gdy rozmiar tablicy nie jest znany?\n",
    "\n",
    "W takiej sytuacji można użyć np. **dynamicznej alokacji pamięci** - o tym sposobie dowiesz się w dalszej części kursu: [Ćwiczenie 14: Dynamiczna alokacja pamięci, tablice dynamiczne jednowymiarowe](./C14/C14.ipynb). Zanim do tego dojdzie naucz się korzystać z tablic statycznych. Wiedza tu zdobyta przyda Ci się w dalszej części kursu."
   ]
  },
  {
   "cell_type": "markdown",
   "id": "fa173a14",
   "metadata": {},
   "source": [
    "## Przygotowanie notatnika\n",
    "Zanim przejdziemy dalej uruchomimy dwa polecenia pomocnicze - zadeklarujemy korzystanie z biblioteki `iostream` oraz określimy, że będziemy domyślnie korzystali z przestrzeni nazw `std`. "
   ]
  },
  {
   "cell_type": "code",
   "execution_count": null,
   "id": "e69093e1",
   "metadata": {
    "vscode": {
     "languageId": "cpp"
    }
   },
   "outputs": [],
   "source": [
    "#include <iostream>\n",
    "\n",
    "using namespace std;"
   ]
  },
  {
   "cell_type": "markdown",
   "id": "3049219f",
   "metadata": {},
   "source": [
    "## Zadanie 8.1.\n",
    "Na początek napiszemy rozwiążemy proste zadanie wprowadzające. Zadeklaruj tablicę statyczną jednowymiarową o rozmiarze podanym w stałej `N`. Wypełnij ją wartościami liczbowymi od `0` do `N-1`, gdzie `N` - rozmiar tablicy. Wydrukuj wartości z komórek tablicy na konsoli."
   ]
  },
  {
   "cell_type": "code",
   "execution_count": null,
   "id": "737ac271",
   "metadata": {
    "vscode": {
     "languageId": "plaintext"
    }
   },
   "outputs": [],
   "source": [
    "const int N=?;                  //todo ustal rozmiar tablicy\n",
    "                                //todo zadeklaruj tablicę tab typu int o rozmiarze N \n",
    "\n",
    "for(int i=0;i<N;i++)            //pętla for, i zmienia się od 0 do N-1 - czyli dokładnie tak jak wszystkie indeksy tablicy \n",
    "{\n",
    "    tab[i] = ?;                 //todo wpisz wartości do kolejnych komórek tablicy\n",
    "}\n",
    "\n",
    "for(?)                          //todo skonfiguruj pętlę for tak, aby przejść po wszystkich komórkach tablicy\n",
    "{\n",
    "    cout << tab[?] << \"\\t\";     //todo wypisz wybraną komótkę tablicy na konsoli\n",
    "}\n",
    "cout << endl;"
   ]
  },
  {
   "cell_type": "markdown",
   "id": "e234f8f1",
   "metadata": {},
   "source": [
    "Rozwiń poniższy fragment kodu, aby zobaczyć rozwiązanie.\n",
    "\n",
    "<details>\n",
    "    <summary>Rozwiązanie</summary>\n",
    "\n",
    "```c++\n",
    "//przykład poprawnego rozwiązania:\n",
    "const int N=4;\n",
    "int tab[N];\n",
    "\n",
    "for(int i=0;i<N;i++)\n",
    "{\n",
    "    tab[i]=i;\n",
    "}\n",
    "\n",
    "for(int i=0;i<N;i++)\n",
    "{\n",
    "    cout << tab[i] << \"\\t\";\n",
    "}\n",
    "cout << endl;\n",
    "```"
   ]
  },
  {
   "cell_type": "markdown",
   "id": "f2664f91",
   "metadata": {},
   "source": [
    "## Zadanie 8.2.\n",
    "Wpisywanie ciągle tych samych wartości do tablicy jest dość nudne. Aby uzyskać ciekawsze działanie programu wpiszemy teraz do tablicy wartości **pseudolosowe**. Wykonaj następujące polecenie: do statycznej tablicy jednowymiarowej o rozmiarze `N` (stała) wpisz losowe wartości całkowite z przedziału pobranego z konsoli. Wydrukuj tablicę na konsoli. "
   ]
  },
  {
   "cell_type": "markdown",
   "id": "d1f9c9cf",
   "metadata": {},
   "source": [
    "Zanim przejdziemy do rozwiązania - zobacz jak stosować liczby losowe (właściwe pseudolosowe) w C++.\n",
    "\n",
    "### Losowe liczby w C++ – `srand(time(0))` i `rand()`\n",
    "\n",
    "C++ udostępnia proste narzędzia do generowania **liczb losowych** za pomocą funkcji z biblioteki `<cstdlib>` oraz `<ctime>`.\n",
    "\n",
    "\n",
    "### `rand()` – polecenie służące do generowania liczby losowej\n",
    "\n",
    "Funkcja `rand()` zwraca **liczbę całkowitą z zakresu od 0 do RAND_MAX** (RAND_MAX to duża liczba stała, np. 32767 lub więcej – zależnie od kompilatora).\n",
    "\n",
    "### Przykład:\n",
    "\n",
    "```cpp\n",
    "#include <cstdlib>          // po to, aby użyć rand()\n",
    "\n",
    "cout << rand() << endl;  // np. 1804289383\n",
    "```\n",
    "\n",
    "### Liczby losowe i pseudolosowe\n",
    "\n",
    "Każde uruchomienie powyższego programu wygeneruje zawsze **tę samą liczbę losową**. Nie jest to tak naprawdę liczba losowa, ale **pseudolosowa**. Komputer nie potrafi innych generować. Do 'wylosowania' tej liczby stosuje pewien algorytm, który udaje losowość, którego działanie jest zależne od 'punktu startowego'. \n",
    "\n",
    "Funkcja `rand()` nie losuje „z niczego”. Zaczyna od pewnej **wartości początkowej**, zwanej **ziarnem (ang. *seed*)**, i na jej podstawie generuje kolejne liczby według matematycznego wzoru. Każda następna liczba zależy od poprzedniej, dlatego cały ciąg liczb jest **powtarzalny**, jeśli ziarno jest takie samo. \n",
    "\n",
    "### Przykład:\n",
    "\n",
    "```cpp\n",
    "srand(1);                           // ustawiamy ziarno na 1\n",
    "for(int i = 0; i < 5; i++)\n",
    "    cout << rand() % 10 << \" \";\n",
    "```\n",
    "\n",
    "Za każdym razem, gdy uruchomisz ten program, wyniki będą **identyczne**, np.\n",
    "\n",
    "```\n",
    "3 6 7 5 3\n",
    "```\n",
    "\n",
    "Dlaczego?\n",
    "Bo generator zaczyna od tego samego „punktu startowego” (ziarna = 1) i wykonuje te same obliczenia.\n",
    "\n",
    "### `srand(time(0))` – ustawienie ziarna losowości\n",
    "\n",
    "Funkcja `srand()` (ang. *seed random*) ustawia **ziarno generatora liczb losowych**.\n",
    "Jeśli ziarno zawsze jest takie samo, to `rand()` zwraca te same liczby.\n",
    "Aby wyniki były różne przy każdym uruchomieniu programu, używamy aktualnego czasu jako ziarna:\n",
    "\n",
    "```cpp\n",
    "#include <ctime>        // po to, by użyć time(0)\n",
    "srand(time(0));\n",
    "```\n",
    "\n",
    "Dzięki temu za każdym razem program zacznie od innego punktu losowania.\n",
    "\n",
    "Polecenie `time(0)` zwraca bieżący czas w sekundach od 1 stycznia 1970 r.\n",
    "Ponieważ czas ciągle się zmienia, ziarno też będzie inne, a więc i wygenerowane liczby będą różne.\n",
    "\n",
    "### Podsumowanie\n",
    "\n",
    "| Pojęcie            | Co oznacza                                                          |\n",
    "| ------------------ | ------------------------------------------------------------------- |\n",
    "| **rand()**         | generuje kolejne liczby pseudolosowe                                |\n",
    "| **srand(x)**       | ustawia ziarno, czyli punkt startowy losowania                      |\n",
    "| **time(0)**        | dostarcza zmienne ziarno oparte na aktualnym czasie                 |\n",
    "| **pseudolosowość** | liczby wyglądają na losowe, ale wynikają z matematycznego algorytmu |\n",
    "\n"
   ]
  },
  {
   "cell_type": "markdown",
   "id": "d642651a",
   "metadata": {},
   "source": [
    "Do rozwiązania zadania 8.2. brakuje jeszcze pewnego fragmentu wiedzy.\n",
    "\n",
    "### Losowanie liczby z określonego przedziału\n",
    "\n",
    "Aby wylosować liczbę z konkretnego zakresu **od A do B**, używamy wzoru:\n",
    "\n",
    "```cpp\n",
    "int liczba = rand() % (B - A + 1) + A;\n",
    "```\n",
    "\n",
    "### Przykład:\n",
    "\n",
    "```cpp\n",
    "srand(time(0));                 // ustawienie ziarna\n",
    "\n",
    "for (int i = 0; i < 5; i++) {\n",
    "    int los = rand() % (10 - 1 + 1) + 1;  // liczba z przedziału 1–10\n",
    "    cout << los << \" \";\n",
    "}\n",
    "```\n",
    "\n",
    "Wynik przykładowy:\n",
    "\n",
    "```\n",
    "3 8 1 10 7\n",
    "```\n",
    "\n",
    "Za każdym uruchomieniem program może wypisać inne liczby.\n",
    "\n",
    "### Podsumowanie\n",
    "\n",
    "| Funkcja                    | Działanie                                                           |\n",
    "| -------------------------- | ------------------------------------------------------------------- |\n",
    "| `rand() % (B - A + 1) + A` | liczba losowa z przedziału ⟨A, B⟩                                   |\n"
   ]
  },
  {
   "cell_type": "code",
   "execution_count": null,
   "id": "b7d59b05",
   "metadata": {
    "vscode": {
     "languageId": "plaintext"
    }
   },
   "outputs": [],
   "source": [
    "//todo rozwiąż zadanie 8.2\n",
    "\n",
    "                            //todo dołącz biblioteki ctime i cstdlib\n",
    "\n",
    "\n",
    "                            //todo ustaw ziarno losowości za pomoca srand i rand\n",
    "\n",
    "const int N = ?;            //todo wpisz konkretną wartość\n",
    "\n",
    "int min, max;               \n",
    "                            //todo wczytaj z konsoli przedział losowości <min, max>\n",
    "\n",
    "//todo czy da się jakoś zapewić, że min < max nawet wtedy, gdy podane będą w konsoli nieprawidłowo?\n",
    "\n",
    "//losowanie\n",
    "int tab[?];                 //todo zadeklaruj tablicę o rozmiarze N\n",
    "for(?)                      //todo skonfiguruj odpowiednio pętlę for\n",
    "{\n",
    "    tab[?] = ?;             //todo do każdej komórki tablicy wpisz losową wartość z przedziału <min, max>\n",
    "}\n",
    "\n",
    "                            //todo wydrukuj wszystkie elementy tablicy na konsoli"
   ]
  },
  {
   "cell_type": "markdown",
   "id": "e116cf54",
   "metadata": {},
   "source": [
    "Rozwiń poniższy fragment kodu, aby zobaczyć rozwiązanie.\n",
    "\n",
    "<details>\n",
    "    <summary>Rozwiązanie</summary>\n",
    "\n",
    "```c++\n",
    "//przykład poprawnego rozwiązania:\n",
    "srand(time(0));\n",
    "const int N = 10;\n",
    "\n",
    "int min, max;\n",
    "cin >> min >> max; \n",
    "\n",
    "//zamień miejscami jeśli są w nieodpowiedniej kolejności\n",
    "if( min > max )\n",
    "{\n",
    "    int tmp = min;\n",
    "    min = max;\n",
    "    max = tmp;\n",
    "}\n",
    "\n",
    "//losowanie\n",
    "int tab[N];\n",
    "for(int i = 0; i < N; i++)\n",
    "{\n",
    "    tab[i] = min + rand()%(max - min + 1);\n",
    "}\n",
    "\n",
    "//drukowanie\n",
    "for(int i = 0; i < N; i++)\n",
    "{\n",
    "    cout << tab[i] << \"\\t\";\n",
    "}\n",
    "cout << endl;\n",
    "\n",
    "```"
   ]
  },
  {
   "cell_type": "markdown",
   "id": "2c95c848",
   "metadata": {},
   "source": [
    "## Zadanie 8.3.\n",
    "Dla tablicy z poprzedniego zadania wyznacz średnią ze wszystkich wartości w tablicy. Napisz poniżej pętlę for wyznaczającą tą średnią i wypisz średnią na konsoli. Pamiętaj o dzieleniu rzeczywistym!"
   ]
  },
  {
   "cell_type": "code",
   "execution_count": null,
   "id": "337a4f9b",
   "metadata": {
    "vscode": {
     "languageId": "plaintext"
    }
   },
   "outputs": [],
   "source": [
    "//todo wpisz rozwiązanie zadania 8.3."
   ]
  },
  {
   "cell_type": "markdown",
   "id": "62e35bd2",
   "metadata": {},
   "source": [
    "Rozwiń poniższy fragment kodu, aby zobaczyć rozwiązanie.\n",
    "\n",
    "<details>\n",
    "    <summary>Rozwiązanie</summary>\n",
    "\n",
    "```c++\n",
    "//przykład poprawnego rozwiązania:\n",
    "int suma = 0;\n",
    "for(int i = 0; i < N; i++)\n",
    "{\n",
    "    suma += tab[i];\n",
    "}\n",
    "cout << float(suma)/N << endl;\n",
    "\n",
    "```"
   ]
  },
  {
   "cell_type": "markdown",
   "id": "2dafb915",
   "metadata": {},
   "source": [
    "## Zadanie 8.4.\n",
    "Rozwiążemy teraz większe zadanie, ale podzielimy je na oddzielne fragmenty i opracujemy każdy z nich osobno. \n",
    "\n",
    "Do statycznej tablicy jednowymiarowej o rozmiarze `N` (stała) wpisz losowe wartości zmiennoprzecinkowe z przedziału pobranego z konsoli.  \n",
    "Wyznacz średnią z wartości w tablicy.  \n",
    "Przesuń tablicę cyklicznie o jedno miejsce w lewo.  \n",
    "Elementy tablicy zamień miejscami symetrycznie względem jej środka.  \n",
    "Wydrukuj tablicę na konsoli po każdej operacji. "
   ]
  },
  {
   "cell_type": "markdown",
   "id": "70ff5006",
   "metadata": {},
   "source": [
    "### Część 1\n",
    "Rozwiąż poniżej pierwszą część zadania. Do statycznej tablicy jednowymiarowej o rozmiarze `N` (stała) wpisz losowe wartości zmiennoprzecinkowe z przedziału pobranego z konsoli. Posłuż się schematem z zadania 8.2. Na koniec wydrukuj tablicę na konsoli."
   ]
  },
  {
   "cell_type": "code",
   "execution_count": null,
   "id": "a4f36c98",
   "metadata": {
    "vscode": {
     "languageId": "plaintext"
    }
   },
   "outputs": [],
   "source": [
    "//todo rozwiąż pierwszą część zadania"
   ]
  },
  {
   "cell_type": "markdown",
   "id": "ca903800",
   "metadata": {},
   "source": [
    "Rozwiń poniższy fragment kodu, aby zobaczyć rozwiązanie.\n",
    "\n",
    "<details>\n",
    "    <summary>Rozwiązanie</summary>\n",
    "\n",
    "```c++\n",
    "//przykład poprawnego rozwiązania:\n",
    "srand(time(0));\n",
    "const int N = 6;\n",
    "\n",
    "//wymuszenie poprawnych wartosci\n",
    "float min, max;\n",
    "do\n",
    "{\n",
    "    cin >> min >> max;\n",
    "}while(max <= min);\n",
    "\n",
    "//losowanie\n",
    "float tab[N];\n",
    "for(int i = 0; i < N; i++)\n",
    "{\n",
    "    tab[i] = min + (max-min)*rand()/float(RAND_MAX);\n",
    "}\n",
    "\n",
    "//drukowanie\n",
    "for(int i = 0; i < N; i++)\n",
    "{\n",
    "    cout << tab[i] << \"\\t\";\n",
    "}\n",
    "cout << endl;\n",
    "```\n",
    "\n",
    "Zastanów się - dlaczego zastosowano inny wzór niż przy liczbach całkowitych?"
   ]
  },
  {
   "cell_type": "markdown",
   "id": "29f5d5bf",
   "metadata": {},
   "source": [
    "### Część 2\n",
    "Rozwiąż poniżej drugą część zadania. Wyznacz średnią z wartości w tablicy. Posłuż się schematem z zadania 8.3. Na koniec wydrukuj średnią na konsoli."
   ]
  },
  {
   "cell_type": "code",
   "execution_count": null,
   "id": "76ef423e",
   "metadata": {
    "vscode": {
     "languageId": "plaintext"
    }
   },
   "outputs": [],
   "source": [
    "//todo rozwiąż drugą część zadania"
   ]
  },
  {
   "cell_type": "markdown",
   "id": "5ee722b1",
   "metadata": {},
   "source": [
    "Rozwiń poniższy fragment kodu, aby zobaczyć rozwiązanie.\n",
    "\n",
    "<details>\n",
    "    <summary>Rozwiązanie</summary>\n",
    "\n",
    "```c++\n",
    "//przykład poprawnego rozwiązania:\n",
    "\n",
    "//srednia\n",
    "float suma = 0;\n",
    "for(int i = 0; i < N; i++)\n",
    "{\n",
    "    suma += tab[i];\n",
    "}\n",
    "cout << \"Średnia = \" << suma/N << endl;\n",
    "\n",
    "```"
   ]
  },
  {
   "cell_type": "markdown",
   "id": "98220de4",
   "metadata": {},
   "source": [
    "### Część 3\n",
    "Rozwiąż poniżej trzecią część zadania. Przesuń tablicę cyklicznie o jedno miejsce w lewo. Na koniec wydrukuj tablicę na konsoli.\n",
    "\n",
    "### Przesunięcie cykliczne tablicy jednowymiarowej\n",
    "\n",
    "**Przesunięcie cykliczne** polega na takim przestawieniu elementów tablicy, aby część z jej końca „przeszła” na początek (lub odwrotnie).\n",
    "Dzięki temu żaden element nie znika – wszystkie tylko **zmieniają swoje pozycje**.\n",
    "\n",
    "\n",
    "### Przykład – przesunięcie w prawo o 1\n",
    "\n",
    "Tablica przed przesunięciem:\n",
    "\n",
    "|  Indeks |  0  |  1  |  2  |  3  |  4  |\n",
    "| :-----: | :-: | :-: | :-: | :-: | :-: |\n",
    "| Wartość |  1  |  2  |  3  |  4  |  5  |\n",
    "\n",
    "Po przesunięciu **w prawo o 1**:\n",
    "\n",
    "|  Indeks |  0  |  1  |  2  |  3  |  4  |\n",
    "| :-----: | :-: | :-: | :-: | :-: | :-: |\n",
    "| Wartość |  5  |  1  |  2  |  3  |  4  |\n",
    "\n",
    "\n",
    "### Przykład – przesunięcie w lewo o 1\n",
    "\n",
    "Tablica przed przesunięciem:\n",
    "\n",
    "|  Indeks |  0  |  1  |  2  |  3  |  4  |\n",
    "| :-----: | :-: | :-: | :-: | :-: | :-: |\n",
    "| Wartość |  1  |  2  |  3  |  4  |  5  |\n",
    "\n",
    "Po przesunięciu **w lewo o 1**:\n",
    "\n",
    "|  Indeks |  0  |  1  |  2  |  3  |  4  |\n",
    "| :-----: | :-: | :-: | :-: | :-: | :-: |\n",
    "| Wartość |  2  |  3  |  4  |  5  |  1  |\n",
    "\n",
    "\n",
    "**W skrócie:**\n",
    "Przesunięcie cykliczne to takie przesunięcie elementów tablicy, w którym wartości „zawijają się” na jej koniec lub początek — tworząc efekt cyklu.\n"
   ]
  },
  {
   "cell_type": "code",
   "execution_count": null,
   "id": "054c1f6d",
   "metadata": {
    "vscode": {
     "languageId": "plaintext"
    }
   },
   "outputs": [],
   "source": [
    "//todo rozwiąż trzecią część zadania\n",
    "//zastanów się jak zrobić przesumięcie cykliczne w prawo?\n"
   ]
  },
  {
   "cell_type": "markdown",
   "id": "c7e50348",
   "metadata": {},
   "source": [
    "Rozwiń poniższy fragment kodu, aby zobaczyć rozwiązanie.\n",
    "\n",
    "<details>\n",
    "    <summary>Rozwiązanie</summary>\n",
    "\n",
    "```c++\n",
    "//przykład poprawnego rozwiązania:\n",
    "\n",
    "//przesuniecie cykliczne w lewo\n",
    "float pom = tab[0];\n",
    "for(int i = 0; i < N-1; i++)\n",
    "{\n",
    "    tab[i] = tab[i+1];\n",
    "}\n",
    "tab[N-1] = pom;\n",
    "\n",
    "/* \n",
    "//przesuniecie cykliczne w prawo\n",
    "float pom = tab[N-1];\n",
    "for(int i = N-1; i > 0; i--)\n",
    "{\n",
    "    tab[i] = tab[i-1];\n",
    "}\n",
    "tab[0] = pom;\n",
    "*/\n",
    "\n",
    "\n",
    "//drukowanie\n",
    "for(int i = 0; i < N; i++)\n",
    "{\n",
    "    cout << tab[i] << \"\\t\";\n",
    "}\n",
    "cout << endl;\n",
    "\n",
    "```"
   ]
  },
  {
   "cell_type": "markdown",
   "id": "edbc7214",
   "metadata": {},
   "source": [
    "### Część 4\n",
    "Rozwiąż poniżej czwartą część zadania. Elementy tablicy zamień miejscami symetrycznie względem jej środka. Na koniec wydrukuj tablicę na konsoli.\n",
    "\n",
    "\n",
    "### Zamiana miejscami elementów tablicy symetrycznie względem środka\n",
    "\n",
    "Taka operacja polega na **odwróceniu kolejności elementów tablicy** - pierwszy element zamieniamy z ostatnim, drugi z przedostatnim itd.\n",
    "\n",
    "Dzięki temu elementy są **symetrycznie przestawione względem środka tablicy**.\n",
    "\n",
    "### Przykład\n",
    "\n",
    "Tablica przed zamianą:\n",
    "\n",
    "|  Indeks |  0  |  1  |  2  |  3  |  4  |\n",
    "| :-----: | :-: | :-: | :-: | :-: | :-: |\n",
    "| Wartość |  1  |  2  |  3  |  4  |  5  |\n",
    "\n",
    "Po zamianie miejscami (symetrycznie względem środka):\n",
    "\n",
    "|  Indeks |  0  |  1  |  2  |  3  |  4  |\n",
    "| :-----: | :-: | :-: | :-: | :-: | :-: |\n",
    "| Wartość |  5  |  4  |  3  |  2  |  1  |\n",
    "\n",
    "\n",
    "### Jak to działa krok po kroku\n",
    "\n",
    "1. Zamieniamy element o indeksie `0` z elementem o indeksie `4`.\n",
    "2. Zamieniamy element o indeksie `1` z elementem o indeksie `3`.\n",
    "3. Element środkowy (`2`) zostaje bez zmian.\n",
    "\n",
    "Rozwiń ten sposób i zastosuj go do tablicy o długości `N`."
   ]
  },
  {
   "cell_type": "code",
   "execution_count": null,
   "id": "e42a7963",
   "metadata": {
    "vscode": {
     "languageId": "plaintext"
    }
   },
   "outputs": [],
   "source": [
    "//todo rozwiąż czwartą część zadania"
   ]
  },
  {
   "cell_type": "markdown",
   "id": "946d758c",
   "metadata": {},
   "source": [
    "Rozwiń poniższy fragment kodu, aby zobaczyć rozwiązanie.\n",
    "\n",
    "<details>\n",
    "    <summary>Rozwiązanie</summary>\n",
    "\n",
    "```c++\n",
    "//przykład poprawnego rozwiązania:\n",
    "\n",
    "//zamiana symetryczna\n",
    "for(int i = 0; i < N/2; i++)\n",
    "{\n",
    "    float tmp = tab[i];\n",
    "    tab[i] = tab[N-1-i];\n",
    "    tab[N-1-i] = tmp;\n",
    "}\n",
    "\n",
    "//drukowanie\n",
    "for(int i = 0; i < N; i++)\n",
    "{\n",
    "    cout << tab[i] << \"\\t\";\n",
    "}\n",
    "cout << endl;\n",
    "\n",
    "```"
   ]
  },
  {
   "cell_type": "markdown",
   "id": "552087ed",
   "metadata": {},
   "source": [
    "Na koniec zrobimy dwa zadania dotyczące napisów, ale połączymy je z wiedzą z poprzednich ćwiczeń na temat pętli `while`. \n",
    "\n",
    "## Zadanie 8.5.\n",
    "Wczytuj z konsoli słowa dopóki rozpoczynają się małą literą. Dla każdego słowa wypisz co drugą jego literę.\n",
    "\n",
    "💡 **Wskazówka:** Do wczytywania słów z konsoli wykorzystaj pętlę `while`. Wewnątrz niej zastosuj pętlę `for` do analizy znaków każdego słowa. \n",
    "\n",
    "### Dostęp do znaków napisu `string`\n",
    "\n",
    "Typ `string` w C++ można traktować **podobnie jak tablicę znaków**, ponieważ każdy znak typu `char` ma **swój indeks** i można się do niego odwołać.\n",
    "\n",
    "### Przykład\n",
    "\n",
    "```cpp\n",
    "string napis = \"Hello\";\n",
    "cout << napis[0];  // wypisze: H\n",
    "```\n",
    "\n",
    "Tutaj `napis[0]` oznacza **pierwszy znak** łańcucha, czyli `'H'`.\n",
    "\n",
    "### Dostęp do znaków\n",
    "\n",
    "| Indeks |  0  |  1  |  2  |  3  |  4  |\n",
    "| :----: | :-: | :-: | :-: | :-: | :-: |\n",
    "|  Znak  |  H  |  e  |  l  |  l  |  o  |\n",
    "\n",
    "Można więc:\n",
    "\n",
    "* odczytywać znaki: `napis[i]`\n",
    "* zmieniać znaki: `napis[i] = 'X';`\n",
    "* przechodzić po wszystkich znakach pętlą `for`\n",
    "\n",
    "\n",
    "#### Przykład użycia w pętli\n",
    "\n",
    "```cpp\n",
    "for (int i = 0; i < napis.length(); i++) {\n",
    "    cout << napis[i] << \" \";\n",
    "}\n",
    "```\n",
    "\n",
    "**W skrócie:**\n",
    "Typ `string` w C++ działa jak „tablica znaków”, ale jest **wygodniejszy**, bo ma **wbudowane funkcje**, np. `length()` do sprawdzenia długości, `append()` do dodawania tekstu czy `substr()` do wycinania fragmentów.\n"
   ]
  },
  {
   "cell_type": "code",
   "execution_count": null,
   "id": "5d74c751",
   "metadata": {
    "vscode": {
     "languageId": "plaintext"
    }
   },
   "outputs": [],
   "source": [
    "//todo rozwiąż zadanie"
   ]
  },
  {
   "cell_type": "markdown",
   "id": "bdc0505b",
   "metadata": {},
   "source": [
    "Rozwiń poniższy fragment kodu, aby zobaczyć rozwiązanie.\n",
    "\n",
    "<details>\n",
    "    <summary>Rozwiązanie</summary>\n",
    "\n",
    "```c++\n",
    "//przykład poprawnego rozwiązania:\n",
    "\n",
    "string slowo;\n",
    "do\n",
    "{\n",
    "    cout << \"podaj slowo\" << endl;\n",
    "    \n",
    "    cin >> slowo;\n",
    "    int a = slowo.length();\n",
    "    \n",
    "    for(int i=0;i<a;i+=2)\n",
    "    {\n",
    "        cout << slowo[i]<< \" \";\n",
    "    }\n",
    "    \n",
    "    cout << endl;\n",
    "}while(slowo[0] <= 'z' && slowo[0] >= 'a');\n",
    "\n",
    "```"
   ]
  },
  {
   "cell_type": "markdown",
   "id": "6a62a4bc",
   "metadata": {},
   "source": [
    "## Zadanie 8.6.\n",
    "Wczytuj z konsoli zdania. Wypisz te znaki, które są literami lub spacjami. Zaproponuj warunek zakończenia wczytywania zdań.\n",
    "\n",
    "💡 **Wskazówka:** Do wczytywania zdań z konsoli użyj polecenia `getline`."
   ]
  },
  {
   "cell_type": "code",
   "execution_count": null,
   "id": "baf1fc54",
   "metadata": {
    "vscode": {
     "languageId": "plaintext"
    }
   },
   "outputs": [],
   "source": [
    "//todo rozwiąż zadanie"
   ]
  },
  {
   "cell_type": "markdown",
   "id": "a44ae3de",
   "metadata": {},
   "source": [
    "Rozwiń poniższy fragment kodu, aby zobaczyć rozwiązanie.\n",
    "\n",
    "<details>\n",
    "    <summary>Rozwiązanie</summary>\n",
    "\n",
    "```c++\n",
    "//przykład poprawnego rozwiązania:\n",
    "\n",
    "while (true)\n",
    "{\n",
    "    cout << \"wpisz zdanie\" << endl;\n",
    "    \n",
    "    string zdanie;\n",
    "    getline ( cin , zdanie);\n",
    "    \n",
    "    int pom1= zdanie.length();\n",
    "    for(int i=0;i<pom1;i++)\n",
    "    {\n",
    "        if( (zdanie[i]>='a' && zdanie[i]<='z') ||\n",
    "            (zdanie[i]>='A' && zdanie[i]<='Z') || \n",
    "            zdanie[i]==' ' || zdanie[i]=='\\t' )\n",
    "        {\n",
    "            cout << zdanie[i];\n",
    "        }\n",
    "    }\n",
    "    cout << endl;\n",
    "}\n",
    "\n",
    "```"
   ]
  },
  {
   "cell_type": "markdown",
   "id": "4cc6cd26-7841-4a86-849f-0a525f8be689",
   "metadata": {
    "editable": true,
    "slideshow": {
     "slide_type": ""
    },
    "tags": []
   },
   "source": [
    "![logotypy.png](../figures/OMNIS2_logotypy.png)"
   ]
  }
 ],
 "metadata": {
  "kernelspec": {
   "display_name": "C++17",
   "language": "C++17",
   "name": "xcpp17"
  },
  "language_info": {
   "codemirror_mode": "text/x-c++src",
   "file_extension": ".cpp",
   "mimetype": "text/x-c++src",
   "name": "c++",
   "version": "17"
  }
 },
 "nbformat": 4,
 "nbformat_minor": 5
}

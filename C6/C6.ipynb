{
 "cells": [
  {
   "cell_type": "markdown",
   "id": "24218d8b-9b9a-4480-be64-bab9d3562cb0",
   "metadata": {
    "editable": true,
    "slideshow": {
     "slide_type": ""
    },
    "tags": []
   },
   "source": [
    "![OMNIS2_Logo_projektu.png](../figures/OMNIS2_Logo_projektu.png)"
   ]
  },
  {
   "cell_type": "markdown",
   "id": "69ed669f-f126-483a-a47b-0744c32bde52",
   "metadata": {
    "editable": true,
    "slideshow": {
     "slide_type": ""
    },
    "tags": []
   },
   "source": [
    "# Ćwiczenie 6: Pętla `while` \n",
    "\n",
    "autor: Jan Klimaszewski"
   ]
  },
  {
   "cell_type": "markdown",
   "id": "32578e4d-0818-420c-899c-e578bf69a922",
   "metadata": {
    "editable": true,
    "slideshow": {
     "slide_type": ""
    },
    "tags": []
   },
   "source": [
    "W tym ćwiczeniu nauczysz się, jak korzystać z pętli `while` w C++.\n",
    "Dzięki temu będziesz potrafił napisać program, w którym niektóre **fragmenty kodu** będą się powtarzać tak długo, dopóki spełniony będzie podany przez Ciebie **warunek**.\n",
    "Takie jedno powtórzenie, czyli jedno wykonanie **fragmentu kodu**, nazywamy **iteracją** pętli.\n",
    "Pętla `while` przydaje się wtedy, gdy nie wiemy, ile razy program ma się powtórzyć. Wykonuje się tak długo, aż podany **warunek** przestanie być spełniony."
   ]
  },
  {
   "cell_type": "markdown",
   "id": "4d094084",
   "metadata": {},
   "source": [
    "## Pętla `while` w C++\n",
    "Pętla `while` wykonuje **fragment kodu** tak długo, jak długo podany **warunek** jest spełniony (true). Sposób użycia pętli `while` poniżej:"
   ]
  },
  {
   "cell_type": "code",
   "execution_count": null,
   "id": "d24143d0",
   "metadata": {
    "vscode": {
     "languageId": "cpp"
    }
   },
   "outputs": [],
   "source": [
    "while (warunek) {\n",
    "  // fragment kodu\n",
    "}"
   ]
  },
  {
   "cell_type": "markdown",
   "id": "b4fa39d3",
   "metadata": {},
   "source": [
    "**Warunek** łatwo napiszesz stosując obsługiwane przez C++ dobrze znane z matematyki operatory porównań:\n",
    "- Mniejsze niż: `a < b`\n",
    "- Mniejsze lub równe: `a <= b`\n",
    "- Większe niż: `a > b`\n",
    "- Większe lub równe: `a >= b`\n",
    "- Równe: `a == b`\n",
    "- Różne: `a != b`\n",
    "\n",
    "Rozwiązując kolejne zadania nauczysz się jak używać polecenia `while`."
   ]
  },
  {
   "cell_type": "markdown",
   "id": "bb2299c0",
   "metadata": {},
   "source": [
    "## Zadanie 6.0. \n",
    "Zanim przejdziemy dalej uruchomimy dwa polecenia pomocnicze - zadeklarujemy korzystanie z biblioteki `iostream` oraz określimy, że będziemy domyślnie korzystali z przestrzeni nazw `std`. Dzieki temu w dalszej części ćwiczenia ... todo"
   ]
  },
  {
   "cell_type": "code",
   "execution_count": null,
   "id": "634fda4e",
   "metadata": {
    "vscode": {
     "languageId": "cpp"
    }
   },
   "outputs": [],
   "source": [
    "#include <iostream>\n",
    "\n",
    "using namespace std;"
   ]
  },
  {
   "cell_type": "markdown",
   "id": "4a43d723",
   "metadata": {},
   "source": [
    "## Zadanie 6.1.\n",
    "Na początek napiszemy program, który będzie wczytywał różne wartości do **zmiennej**, a jeśli otrzyma wartość 0 - wyłączy się. Uzupełnij **warunek pętli** tak, aby sprawdzić, **czy wartość zmiennej jest równa zeru**. Po **zakończeniu pętli** (inaczej - po **wyjściu z pętli**) wypisz na ekranie konsoli dowolny komunikat.  \n",
    "\n",
    "Po uzupełnieniu kodu przetestuj, czy działa poprawnie dla różnych wartości, np.: 1, 2, 10, 20000, 124322, -2, -200, -4353 i koniecznie - dla 0!"
   ]
  },
  {
   "cell_type": "code",
   "execution_count": null,
   "id": "1ea21ac9",
   "metadata": {
    "vscode": {
     "languageId": "cpp"
    }
   },
   "outputs": [],
   "source": [
    "int zmienna;\n",
    "cout << \"Program zakończy się jeśli wpiszesz 0.\" << endl;\n",
    "\n",
    "cout << \"Podaj pierwszy raz wartość liczbową i naciśnij enter.\" << endl;\n",
    "cin >> zmienna;             // wczytaj wartość z konsoli do zmiennej \n",
    "\n",
    "while(?)                    //todo wpisz warunek sprawdzający, czy zmienna jest równa 0\n",
    "{\n",
    "    cout << \"Podaj wartość liczbową i naciśnij enter.\" << endl;\n",
    "    cin >> zmienna;\n",
    "}\n",
    "\n",
    "cout << ? << endl;          //todo wypisz na konsoli dowolny komunikat "
   ]
  },
  {
   "cell_type": "markdown",
   "id": "32d69540",
   "metadata": {},
   "source": [
    "Rozwiń poniższy fragment kodu, aby zobaczyć rozwiązanie."
   ]
  },
  {
   "cell_type": "code",
   "execution_count": null,
   "id": "d11e9f1c",
   "metadata": {
    "vscode": {
     "languageId": "cpp"
    }
   },
   "outputs": [],
   "source": [
    "//przykład poprawnego rozwiązania:\n",
    "int zmienna;\n",
    "cout << \"Program zakończy się jeśli wpiszesz 0.\" << endl;\n",
    "\n",
    "cout << \"Podaj pierwszy raz wartość liczbową i naciśnij enter.\" << endl;\n",
    "cin >> zmienna;\n",
    "\n",
    "while(zmienna != 0)                    \n",
    "{\n",
    "    cout << \"Podaj wartość liczbową i naciśnij enter.\" << endl;\n",
    "    cin >> zmienna;\n",
    "}\n",
    "\n",
    "cout << \"Koniec progtamu - podano wartość 0.\" << endl; "
   ]
  },
  {
   "cell_type": "markdown",
   "id": "f684904b",
   "metadata": {},
   "source": [
    "## Zadanie 6.2.\n",
    "Napiszmy teraz program, który za pomocą pętli `while` wypisze na konsoli wszystkie wartości od 0 do `n`, gdzie `n` - zmienna liczbowa o dowolnej wartości.\n",
    "\n",
    "Po uzupełnieniu kodu przetestuj, czy działa poprawnie dla różnych wartości, np.: 1, 2, 10, 20000, 124322, -2, -200, -4353 i koniecznie - dla 0!"
   ]
  },
  {
   "cell_type": "code",
   "execution_count": null,
   "id": "fbfd365d",
   "metadata": {
    "vscode": {
     "languageId": "c++"
    }
   },
   "outputs": [],
   "source": [
    "int n;\n",
    "n = 10;                     //todo Wpisz konkretną wartość ...\n",
    "\n",
    "int i = 0;                  // to będzie nasz licznik\n",
    "while(?)                    //todo jak napisać warunek, aby zakończyć pętlę po wypisaniu wszystkich wartości?\n",
    "{\n",
    "    cout << i << endl;      // przy pierwszym wywołaniu tej instukcji - wypisze wartość 0\n",
    "    i++;                    // zwiększamy wartość i po każdym wykonaniu \n",
    "}"
   ]
  },
  {
   "cell_type": "markdown",
   "id": "af32c3d2",
   "metadata": {},
   "source": [
    "Rozwiń poniższy fragment kodu, aby zobaczyć rozwiązanie."
   ]
  },
  {
   "cell_type": "code",
   "execution_count": null,
   "id": "7f862523",
   "metadata": {
    "vscode": {
     "languageId": "c++"
    }
   },
   "outputs": [],
   "source": [
    "//przykład poprawnego rozwiązania:\n",
    "int n;\n",
    "\n",
    "//Wpisz konkretną wartość ...\n",
    "n = 10;\n",
    "\n",
    "//... lub pobierz z konsoli:\n",
    "//cout << \"Wprowadź n \";\n",
    "//cin >> n;\n",
    "\n",
    "int i = 0;\n",
    "while(i < n)\n",
    "{\n",
    "    cout << i << endl;\n",
    "    i++;\n",
    "}"
   ]
  },
  {
   "cell_type": "markdown",
   "id": "b2a2ed00",
   "metadata": {},
   "source": [
    "## Zadanie 6.3.\n",
    "Wyznacz silnię z wartości liczbowej zapisanej w zmiennej.\n",
    "\n",
    "Po uzupełnieniu kodu przetestuj, czy działa poprawnie dla różnych wartości, np.: 1, 2, 10, 20000, 124322, -2, -200, -4353, również dla 0."
   ]
  },
  {
   "cell_type": "code",
   "execution_count": null,
   "id": "0309e841",
   "metadata": {
    "vscode": {
     "languageId": "c++"
    }
   },
   "outputs": [],
   "source": [
    "int zmienna = 0;\n",
    "int silnia = ?;             // todo jaka wartość powinna być domyślnie?\n",
    "\n",
    "cout << \"Proszę o podanie wartości, z której liczymy silnię:\" << endl;\n",
    "cin >> zmienna;\n",
    "\n",
    "if ( zmienna < 0 )\n",
    "{\n",
    "    // todo co w przypadku podania wartości ujemnej?\n",
    "}\n",
    "\n",
    "while ( ? )                 // todo jaki powinien być warunek ?\n",
    "{\n",
    "                            // todo uzupełnij blok kodu liczący silnię\n",
    "}\n",
    "\n",
    "cout << \"Silnia wynosi:\" << endl;\n",
    "cout << silnia;"
   ]
  },
  {
   "cell_type": "markdown",
   "id": "e920a25c",
   "metadata": {},
   "source": [
    "Rozwiń poniższy fragment kodu, aby zobaczyć rozwiązanie."
   ]
  },
  {
   "cell_type": "code",
   "execution_count": null,
   "id": "63541eb8",
   "metadata": {
    "vscode": {
     "languageId": "c++"
    }
   },
   "outputs": [],
   "source": [
    "//przykład poprawnego rozwiązania:\n",
    "int a = 0;\n",
    "int i = 1;\n",
    "int silnia = 1;\n",
    "\n",
    "cout << \"Proszę o podanie wartości:\" << endl;\n",
    "cin >> a;\n",
    "\n",
    "if ( a < 0 )\n",
    "{\n",
    "cout << \"Silnia nie jest zdefiniowana dla wartości ujemnych!\";\n",
    "return 0;\n",
    "}\n",
    "\n",
    "while ( i <= a )\n",
    "{\n",
    "silnia = silnia * i;\n",
    "i++;\n",
    "}\n",
    "\n",
    "cout << \"Silnia wynosi:\" << endl;\n",
    "cout << silnia;"
   ]
  },
  {
   "cell_type": "markdown",
   "id": "0e63f8fb",
   "metadata": {},
   "source": [
    "## Zadanie 6.4.\n",
    "Rozwiążemy teraz zadanie innego typu. Załóżmy, że zadaniem jest wczytywanie w nieskończoność wartości podawanych w konsoli. Pytanie jaki będzie warunek zakończenia programu? \n",
    "\n",
    "Polecenie jest następujące: wczytuj wartości z konsoli dopóki podawane są w kolejności rosnącej. Poniżej umieszczony jest schemat rozwiązania - uzupełnij brakujące miejsca kierując się tym szablonem. \n",
    "\n",
    "Po uzupełnieniu kodu przetestuj, czy działa poprawnie dla różnych wartości: dodatnich, ujemnych i dla zera."
   ]
  },
  {
   "cell_type": "markdown",
   "id": "160f8f40",
   "metadata": {},
   "source": [
    "### Sposób 1"
   ]
  },
  {
   "cell_type": "code",
   "execution_count": null,
   "id": "e0ac3777",
   "metadata": {
    "vscode": {
     "languageId": "c++"
    }
   },
   "outputs": [],
   "source": [
    "int aktualna, poprzednia;\n",
    "\n",
    "cin >> ?;                       //todo uzupełnij\n",
    "\n",
    "do\n",
    "{\n",
    "    cout << aktualna << \" \";\n",
    "\n",
    "    //todo wpisz tutaj brakującą instrukcję - jaka powinna być wartość zmiennej poprzednia?\n",
    "\n",
    "    cin >> aktualna;\t\t//wczytujemy nową wartość do zmiennej aktualna\n",
    "}\n",
    "while( aktualna > poprzednia );\n",
    "\n",
    "cout<<\"Wartości przestały być podawane w kolejności rosnącej.\"<<endl;\n"
   ]
  },
  {
   "cell_type": "markdown",
   "id": "fc6b83f7",
   "metadata": {},
   "source": [
    "Rozwiń poniższy fragment kodu, aby zobaczyć rozwiązanie."
   ]
  },
  {
   "cell_type": "code",
   "execution_count": null,
   "id": "69ed3846",
   "metadata": {
    "vscode": {
     "languageId": "c++"
    }
   },
   "outputs": [],
   "source": [
    "//przykład poprawnego rozwiązania:\n",
    "int aktualna, poprzednia;\n",
    "\n",
    "cin >> aktualna;\n",
    "\n",
    "do\n",
    "{\n",
    "    cout << aktualna << \" \";\n",
    "    poprzednia = aktualna;\t//zapamiętujemy w zmiennej poprzednia wartość, która była w zmiennej aktualna \n",
    "    cin >> aktualna;\t\t//wczytujemy nową wartość do zmiennej aktualna\n",
    "}\n",
    "while( aktualna > poprzednia );\n",
    "\n",
    "cout<<\"Wartości przestały być podawane w kolejności rosnącej\"<<endl;\n"
   ]
  },
  {
   "cell_type": "markdown",
   "id": "f57dd2a7",
   "metadata": {},
   "source": [
    "### Sposób 2\n",
    "Spróbujmy rozwiązać ten problem w inny sposób. Uzupełnij brakujące polecenia."
   ]
  },
  {
   "cell_type": "code",
   "execution_count": null,
   "id": "4b064dbd",
   "metadata": {
    "vscode": {
     "languageId": "c++"
    }
   },
   "outputs": [],
   "source": [
    "int aktualna, poprzednia;\n",
    "\n",
    "cin >> ?;\n",
    "\n",
    "do\n",
    "{\n",
    "    //todo wpisz tutaj brakującą instrukcję - jaka powinna być wartość zmiennej poprzednia?\n",
    "    cin >> aktualna;\n",
    "    if( ? )                 // todo jaki wpisać tutaj warunek?\n",
    "    {\n",
    "        break;              // użyj polecenia break do zakończenia pętli\n",
    "    }\n",
    "}\n",
    "while(true);\n",
    "\n",
    "cout<<\"Wartości przestały być podawane w kolejności rosnącej\"<<endl;\n"
   ]
  },
  {
   "cell_type": "markdown",
   "id": "709d62ed",
   "metadata": {},
   "source": [
    "Rozwiń poniższy fragment kodu, aby zobaczyć rozwiązanie."
   ]
  },
  {
   "cell_type": "code",
   "execution_count": null,
   "id": "7753d918",
   "metadata": {
    "vscode": {
     "languageId": "c++"
    }
   },
   "outputs": [],
   "source": [
    "//przykład poprawnego rozwiązania:\n",
    "int aktualna, poprzednia;\n",
    "\n",
    "cin >> aktualna;\n",
    "\n",
    "do\n",
    "{\n",
    "    poprzednia = aktualna;\n",
    "    cin >> aktualna;\n",
    "    if( !(aktualna > poprzednia) )\n",
    "    {\n",
    "    break;\n",
    "    }\n",
    "}\n",
    "while(true);\n",
    "\n",
    "cout<<\"Wartości przestały być podawane w kolejności rosnącej\"<<endl;\n"
   ]
  },
  {
   "cell_type": "markdown",
   "id": "8165bca3",
   "metadata": {},
   "source": [
    "## Zadanie 6.4.\n",
    "Rozwiążemy teraz zadanie podobnego rodzaju. Poza wczytywaniem wartości chcemy teraz dodatkowo policzyć ich sumę oraz liczbę.\n",
    "\n",
    "Wczytuj wartości z konsoli dopóki są podawane w kolejności rosnącej. Wyznacz sumę wszystkich podanych liczb. Policz ile liczb zostało podanych."
   ]
  },
  {
   "cell_type": "code",
   "execution_count": null,
   "id": "dc230c7f",
   "metadata": {
    "vscode": {
     "languageId": "c++"
    }
   },
   "outputs": [],
   "source": [
    "int aktualna, poprzednia, suma, licznik;\n",
    "\n",
    "cout << \"Podaj liczbe\" << endl;\n",
    "cin >> aktualna;\n",
    "\n",
    "suma = ?;               //todo jak zainicjalizować sumę?\n",
    "licznik = ?;            //todo jak zainicjalizować liczbę?\n",
    "\n",
    "do\n",
    "{\n",
    "    //todo wpisz tutaj brakującą instrukcję - jaka powinna być wartość zmiennej poprzednia?\n",
    "\n",
    "    cin >> aktualna;\n",
    "    \n",
    "    //todo jak uaktualnić sumę?\n",
    "    //todo jak uaktualnić licznik?\n",
    "} \n",
    "while ( aktualna >= poprzednia );\n",
    "\n",
    "cout << \"Suma podanych liczb = \" << suma << endl;\n",
    "cout << \"Liczba podanych liczb = \" << licznik << endl;"
   ]
  },
  {
   "cell_type": "markdown",
   "id": "1fb13511",
   "metadata": {},
   "source": [
    "Rozwiń poniższy fragment kodu, aby zobaczyć rozwiązanie."
   ]
  },
  {
   "cell_type": "code",
   "execution_count": null,
   "id": "ae31ba33",
   "metadata": {
    "vscode": {
     "languageId": "c++"
    }
   },
   "outputs": [],
   "source": [
    "//przykład poprawnego rozwiązania:\n",
    "int aktualna, poprzednia, suma, i;\n",
    "cout << \"Podaj liczbe\" << endl;\n",
    "cin >> aktualna;\n",
    "suma = aktualna;\n",
    "i = 1;\n",
    "\n",
    "do\n",
    "{\n",
    "    poprzednia = aktualna;\n",
    "\n",
    "    cin >> aktualna;\n",
    "    suma += aktualna;\n",
    "    i++;\n",
    "} \n",
    "while ( aktualna >= poprzednia );\n",
    "\n",
    "cout << \"Suma podanych liczb = \" << suma << endl;\n",
    "cout << \"Liczba podanych liczb = \" << i << endl;"
   ]
  },
  {
   "cell_type": "markdown",
   "id": "d27de884",
   "metadata": {},
   "source": [
    "## Zadanie 6.5.\n",
    "Rozwiążemy teraz kolejne zadanie podobnego rodzaju. Przeczytaj poniższe polecenie.\n",
    "\n",
    "Wczytuj wartości z konsoli dopóki są podawane na przemian parzyste i nieparzyste. Wyznacz średnią ze wszystkich parzystych wartości. Znajdź największą i najmniejszą wczytaną wartość. "
   ]
  },
  {
   "cell_type": "code",
   "execution_count": null,
   "id": "f76d776f",
   "metadata": {
    "vscode": {
     "languageId": "c++"
    }
   },
   "outputs": [],
   "source": [
    "//todo - napisz rozwiązanie zadania \n",
    "//- zastosuj znany schemat rozwiązania, \n",
    "//- jaki powinien być warunek do sprawdzenia?\n",
    "//- jak znaleźć najmniejszą i największą wartość? \n",
    "\n",
    "//przykład poprawnego rozwiązania:\n",
    "int act, prev, sum = 0, cnt = 0, min, max;\n",
    "\n",
    "// inicjalizacja\n",
    "\n",
    "do\n",
    "{\n",
    "    //todo zapamiętanie poprzedniej wartości i wczytanie nowej\n",
    "    \n",
    "    //todo liczenie najmniejszej i największej wszystkich wartości \n",
    "        \n",
    "    //todo liczenie sumy i liczby wartości parzystych\n",
    "}\n",
    "while( ? ); //todo jaki warunek?\n",
    "\n",
    "cout << \"srednia = \" << ? << endl;  //todo jak policzyć średnią?\n",
    "cout<< \"min = \" << min <<endl;\n",
    "cout<< \"max = \" << max <<endl;"
   ]
  },
  {
   "cell_type": "markdown",
   "id": "e94e5527",
   "metadata": {},
   "source": [
    "Rozwiń poniższy fragment kodu, aby zobaczyć rozwiązanie."
   ]
  },
  {
   "cell_type": "code",
   "execution_count": null,
   "id": "efd0babb",
   "metadata": {
    "vscode": {
     "languageId": "c++"
    }
   },
   "outputs": [],
   "source": [
    "//przykład poprawnego rozwiązania:\n",
    "int act, prev, sum = 0, cnt = 0, min, max;\n",
    "\n",
    "cin >> act;\n",
    "\n",
    "min = act;\n",
    "max = act;\n",
    "\n",
    "if(act%2 == 0)\n",
    "{\n",
    "sum += act;\n",
    "cnt++;\n",
    "}\n",
    "\n",
    "do\n",
    "{\n",
    "prev = act;\n",
    "cin >> act;\n",
    "    \n",
    "if(act > max)\n",
    "    max = act;\n",
    "if(act < min)\n",
    "    min = act;\n",
    "    \n",
    "if(act%2 == 0)\n",
    "{\n",
    "    sum += act;\n",
    "    cnt++;\n",
    "}\n",
    "}\n",
    "while( !(act%2 == prev%2) );\n",
    "//ten sam warunek napisany inaczej:\n",
    "//while( act%2 != prev%2 );\n",
    "//lub rospisany nawszystkie możliwości:\n",
    "//while( (prev%2==0 && act%2==1) || (prev%2==1 && act%2==0) );\n",
    "\n",
    "cout << \"srednia = \" << double(sum)/cnt << endl;\n",
    "cout<< \"min = \" << min <<endl;\n",
    "cout<< \"max = \" << max <<endl;"
   ]
  },
  {
   "cell_type": "markdown",
   "id": "4cc6cd26-7841-4a86-849f-0a525f8be689",
   "metadata": {
    "editable": true,
    "slideshow": {
     "slide_type": ""
    },
    "tags": []
   },
   "source": [
    "![logotypy.png](../figures/OMNIS2_logotypy.png)"
   ]
  }
 ],
 "metadata": {
  "kernelspec": {
   "display_name": "C++11",
   "language": "C++11",
   "name": "xcpp11"
  },
  "language_info": {
   "codemirror_mode": "text/x-c++src",
   "file_extension": ".cpp",
   "mimetype": "text/x-c++src",
   "name": "c++",
   "version": "11"
  }
 },
 "nbformat": 4,
 "nbformat_minor": 5
}

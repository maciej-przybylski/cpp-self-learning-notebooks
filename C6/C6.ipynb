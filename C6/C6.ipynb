{
 "cells": [
  {
   "cell_type": "markdown",
   "id": "24218d8b-9b9a-4480-be64-bab9d3562cb0",
   "metadata": {
    "editable": true,
    "slideshow": {
     "slide_type": ""
    },
    "tags": []
   },
   "source": [
    "![OMNIS2_Logo_projektu.png](../figures/OMNIS2_Logo_projektu.png)"
   ]
  },
  {
   "cell_type": "markdown",
   "id": "32578e4d-0818-420c-899c-e578bf69a922",
   "metadata": {
    "editable": true,
    "slideshow": {
     "slide_type": ""
    },
    "tags": []
   },
   "source": [
    "# Ćwiczenie 6: Pętla `while` \n",
    "W tym ćwiczeniu nauczysz się, jak korzystać z pętli `while` w C++.\n",
    "Dzięki temu będziesz potrafił napisać program, w którym niektóre **fragmenty kodu** wykonają się tylko wtedy, gdy spełnione zostaną podane przez Ciebie **warunki**.\n",
    "Pętla `while` przydaje się wtedy, gdy nie wiemy, ile razy program ma się powtórzyć. Wykonuje się tak długo, aż podany **warunek** przestanie być spełniony."
   ]
  },
  {
   "cell_type": "markdown",
   "id": "4d094084",
   "metadata": {},
   "source": [
    "## Pętla `while` w C++\n",
    "Pętla `while` wykonuje **blok kodu** tak długo, jak długo podany **warunek** jest spełniony (true). Sposób użycia pętli `while` poniżej:"
   ]
  },
  {
   "cell_type": "code",
   "execution_count": null,
   "id": "d24143d0",
   "metadata": {
    "vscode": {
     "languageId": "cpp"
    }
   },
   "outputs": [],
   "source": [
    "while (warunek) {\n",
    "  // blok kodu\n",
    "}"
   ]
  },
  {
   "cell_type": "markdown",
   "id": "4cc6cd26-7841-4a86-849f-0a525f8be689",
   "metadata": {
    "editable": true,
    "slideshow": {
     "slide_type": ""
    },
    "tags": []
   },
   "source": [
    "![logotypy.png](../figures/OMNIS2_logotypy.png)"
   ]
  }
 ],
 "metadata": {
  "kernelspec": {
   "display_name": "C++17",
   "language": "C++17",
   "name": "xcpp17"
  },
  "language_info": {
   "codemirror_mode": "text/x-c++src",
   "file_extension": ".cpp",
   "mimetype": "text/x-c++src",
   "name": "c++",
   "version": "17"
  }
 },
 "nbformat": 4,
 "nbformat_minor": 5
}

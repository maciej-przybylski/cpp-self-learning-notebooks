{
 "cells": [
  {
   "cell_type": "markdown",
   "id": "24218d8b-9b9a-4480-be64-bab9d3562cb0",
   "metadata": {
    "editable": true,
    "slideshow": {
     "slide_type": ""
    },
    "tags": []
   },
   "source": [
    "![OMNIS2_Logo_projektu.png](../figures/OMNIS2_Logo_projektu.png)"
   ]
  },
  {
   "cell_type": "markdown",
   "id": "32578e4d-0818-420c-899c-e578bf69a922",
   "metadata": {
    "editable": true,
    "slideshow": {
     "slide_type": ""
    },
    "tags": []
   },
   "source": [
    "# Ćwiczenie 16: Listy jednokierunkowe: tworzenie, wypisanie, usunięcie\n",
    "\n",
    "Lista jednokierunkowa jest dynamiczną strukturą danych pozwalającą na dodawanie i usuwanie pojedynczych elementów w dowolnym momencie, bez konieczności przepisywania wszystkich danych, jak to ma miejsce w przypadku tablic. "
   ]
  },
  {
   "cell_type": "markdown",
   "id": "83273adc-745a-406b-8bb0-b5e54a34b2b6",
   "metadata": {},
   "source": [
    "Na potrzeby tego ćwiczenia, przygotowana została bibliotek pozwalająca na rysowanie stanu listy oraz wskaźników użytych do jej tworzenia.\n",
    "\n",
    "**Uruchom dwie poniższe komórki**, aby załadować bibliotekę i wyświetlić przykładową listę."
   ]
  },
  {
   "cell_type": "code",
   "execution_count": null,
   "id": "8b62b5f5-272e-4c44-87b7-bf7121546075",
   "metadata": {},
   "outputs": [],
   "source": [
    "#include \"../lib/draw_list.h\"\n",
    "#include <iostream>\n",
    "using namespace std;"
   ]
  },
  {
   "cell_type": "code",
   "execution_count": null,
   "id": "264deb39-387b-4f6d-ab67-60e9f7654d9f",
   "metadata": {},
   "outputs": [],
   "source": [
    "DRAW_LIST_DEMO();"
   ]
  },
  {
   "cell_type": "markdown",
   "id": "10373f99-bc91-4f7e-b255-6c70b96bb73c",
   "metadata": {},
   "source": [
    "Na rysunku (powyżej),  wskaźniki rysowane są za pomocą strzałek z nazwą nad strzałką i przechowywanym adresem pamięci pod strzałką. Prostokąty oznaczają obszar pamięci zarezerwowany na pole danych i mają wpisaną aktualne dane przechowywane w elemencie listy. \n",
    "\n",
    "Do obsługi listy dynamicznej wystarczy adres pierwszego elementu nazywany zwyczajowo **głową listy**. \n",
    "Na rysunku adres głowy listy jest zapamiętany w zmiennej `head`.\n",
    "\n",
    "Adres każdego następnego elementu listy jest przechowywany w elemencie poprzednim, co na rysunku jest pokazane jako strzałka wychodząca z każdego bloku, podpisana jako `nast`. \n",
    "\n",
    "Nawet ostatni element ma taką strzałkę (pole z adresem elementu następnego), jednak adres w niej zapisany jest równy zero (`NULL`). "
   ]
  },
  {
   "cell_type": "markdown",
   "id": "edac8469-0475-4ca1-a953-13de6aa5f6db",
   "metadata": {},
   "source": [
    "## Definiowanie elementów listy jednokierunkowej\n",
    "\n",
    "**Lista dynamiczna jednokierunkowa wymaga zdefiniowania struktury** (bądź klasy), która oprócz pól z danymi **ma wskaźnik na kolejny element tego samego typu co ta struktura.**"
   ]
  },
  {
   "cell_type": "markdown",
   "id": "3d4c9c50-b61c-43a8-bd6d-acc8ef3161cd",
   "metadata": {},
   "source": [
    "Poniżej zdefiniowana jest struktura o nazwie `Element` z polem danych `dane` typu `char` i wskaźnikiem na element następny `nast` typu `Element*`."
   ]
  },
  {
   "cell_type": "code",
   "execution_count": null,
   "id": "13f6c992-d46e-4d0f-9667-96876b8e2c90",
   "metadata": {},
   "outputs": [],
   "source": [
    "struct Element{\n",
    "    char dane;\n",
    "    Element* nast;\n",
    "};"
   ]
  },
  {
   "cell_type": "markdown",
   "id": "ef185af6-5842-4b5b-932e-ac25b7cf4013",
   "metadata": {},
   "source": [
    "## Tworzenie listy - wprowadzenie\n",
    "\n",
    "Zawsze należy zdefiniować co najmniej jeden wskaźnik na pierwszy element listy. \n",
    "Lista może być pusta, wtedy wskaźnik na pierwszy element będzie miał adres `NULL`. \n",
    "Dlatego, jeżeli nie wiemy czy lista będzie miała jakieś elementy, przygotowujemy wskaźnik z adresem zerowym."
   ]
  },
  {
   "cell_type": "code",
   "execution_count": null,
   "id": "241d91cd-1e6f-4601-8884-9278fc5f58ed",
   "metadata": {},
   "outputs": [],
   "source": [
    "Element* glowa = nullptr;"
   ]
  },
  {
   "cell_type": "markdown",
   "id": "9513517e-3417-4d3f-bd9a-f5e75b86fbd7",
   "metadata": {},
   "source": [
    "W zrozumieniu list pomoże nam funkcja rysująca listę. \n",
    "\n",
    "Co się wyświetli po uruchomieniu kodu poniżej?\n",
    "* Sama strzałka?\n",
    "* Strzałka i blok, ale z pusty w środku?"
   ]
  },
  {
   "cell_type": "code",
   "execution_count": null,
   "id": "c3bf4cc0-fe41-41c5-adf9-d88a85634b56",
   "metadata": {},
   "outputs": [],
   "source": [
    "DRAW_LIST(glowa);"
   ]
  },
  {
   "cell_type": "markdown",
   "id": "0e099dc6-45b5-4301-942d-cffc00a2c45e",
   "metadata": {},
   "source": [
    "Elementy listy powstają pojedynczo poprzez dynamiczną alokację za pomocu instrukcji `new`."
   ]
  },
  {
   "cell_type": "code",
   "execution_count": null,
   "id": "0d3e20ef-4721-4beb-a1bc-0c4eb537569c",
   "metadata": {},
   "outputs": [],
   "source": [
    "glowa = new Element;"
   ]
  },
  {
   "cell_type": "markdown",
   "id": "21fbb53d-4e74-4b53-a2be-2708373df872",
   "metadata": {},
   "source": [
    "To jest tylko alokacja pamięci na element, ale jeszcze musimy przypisać jakieś dane do pól.\n",
    "**A w szczególności ustawić adres następnego elementu na `NULL`.**"
   ]
  },
  {
   "cell_type": "code",
   "execution_count": null,
   "id": "c6bef4d1-34f9-4005-af35-7ac7df5cff89",
   "metadata": {},
   "outputs": [],
   "source": [
    "glowa->dane = 'A';\n",
    "glowa->nast = nullptr;\n",
    "DRAW_LIST(glowa);"
   ]
  },
  {
   "cell_type": "markdown",
   "id": "defd6f60-6f09-4637-978b-2dc28eb46dc5",
   "metadata": {},
   "source": [
    "Nowy element możemy wstawić zarówno na początku jak i na końcu listy. \n",
    "Najpierw dodamy element na końcu. Jego adres musi się znaleźć w polu `nast` ostatniego elementu w aktualnej liście. \n",
    "Dla listy z jednym elementem (jak powyżej) można to zrobić tak:"
   ]
  },
  {
   "cell_type": "code",
   "execution_count": null,
   "id": "05fd564e-69bb-47c1-bbc2-2f62412910ed",
   "metadata": {},
   "outputs": [],
   "source": [
    "glowa->nast = new Element;\n",
    "glowa->nast->dane = 'B';\n",
    "glowa->nast->nast = nullptr;\n",
    "DRAW_LIST(glowa);"
   ]
  },
  {
   "cell_type": "markdown",
   "id": "952541cb-ee16-4429-aa09-7baeac8393e1",
   "metadata": {},
   "source": [
    "Dodanie kolejnego elementu tym sposobem nie jest praktyczne. \n",
    "Dlatego dobrze jest przygotować pomocniczy wskaźnik przechowujący adres ostatniego elementu. Nazwiemy go `ogon`."
   ]
  },
  {
   "cell_type": "code",
   "execution_count": null,
   "id": "5e5537ba-310e-476c-9447-0b9c80393538",
   "metadata": {},
   "outputs": [],
   "source": [
    "Element* ogon = glowa->nast;\n",
    "DRAW_LIST(glowa, ogon);"
   ]
  },
  {
   "cell_type": "markdown",
   "id": "cee3be92-1123-4a6f-985a-c9a8ab2e1efe",
   "metadata": {},
   "source": [
    "Do dodawania nowego elementu dobrze jest przygotować jeszcze jedną zmienną wskaźnikową, co zwiększa czytelność kodu."
   ]
  },
  {
   "cell_type": "code",
   "execution_count": null,
   "id": "34ffbaff-af4d-44e2-a61c-699ba4f158ba",
   "metadata": {},
   "outputs": [],
   "source": [
    "Element* nowy = new Element;\n",
    "nowy->dane = 'C';\n",
    "nowy->nast = nullptr;\n",
    "DRAW_LIST(glowa, ogon, nowy);"
   ]
  },
  {
   "cell_type": "markdown",
   "id": "664e322a-c26c-4abe-bca6-b0a8bbd28f37",
   "metadata": {},
   "source": [
    "Na powyższym rysunku widzimy, że udało się utworzyć nowy element, ale nie jest on dowiązany do listy.\n",
    "Adres nowego elementu musimy wpisać do pola `nast` ostatniego elementu, do którego możemy się dostać przez `ogon`. "
   ]
  },
  {
   "cell_type": "code",
   "execution_count": null,
   "id": "06c17dd2-67be-477a-b328-82211ea47883",
   "metadata": {},
   "outputs": [],
   "source": [
    "ogon->nast = nowy;\n",
    "DRAW_LIST(glowa, ogon, nowy);"
   ]
  },
  {
   "cell_type": "markdown",
   "id": "c3cf4a9c-a510-45f6-b073-e9d5bebe7d37",
   "metadata": {},
   "source": [
    "`ogon` nie wskazuje już na ostatni element. To można naprawić:"
   ]
  },
  {
   "cell_type": "code",
   "execution_count": null,
   "id": "d4766430-50a2-49ad-99da-c3f36d1b6591",
   "metadata": {},
   "outputs": [],
   "source": [
    "ogon = nowy;\n",
    "DRAW_LIST(glowa, ogon, nowy);"
   ]
  },
  {
   "cell_type": "markdown",
   "id": "e7053fee-bdbf-4414-abe5-74307d5f04f5",
   "metadata": {},
   "source": [
    "Kod z trzech ostatnich komórek można zapętlić. Pętlę przerwie wpisanie znaku `!`"
   ]
  },
  {
   "cell_type": "code",
   "execution_count": null,
   "id": "63d15fca-4f70-4746-83dc-2c8100af30a6",
   "metadata": {},
   "outputs": [],
   "source": [
    "char znak;\n",
    "cin >> znak;\n",
    "while(znak!='!')\n",
    "{\n",
    "    Element* nowy = new Element;\n",
    "    nowy->dane = znak;\n",
    "    nowy->nast = nullptr;\n",
    "    ogon->nast = nowy;\n",
    "    ogon = nowy;\n",
    "    DRAW_LIST(glowa, ogon, nowy);\n",
    "    cin >> znak;\n",
    "}"
   ]
  },
  {
   "cell_type": "markdown",
   "id": "db0cc0db-af54-4663-802f-9daf21ff1282",
   "metadata": {},
   "source": [
    "### Zadanie (do wykonania w notatniku)\n",
    "\n",
    "Poniższy kod zmodyfikować tak aby z trzech niepowiązanych elmentów stworzyć listę `A -> B -> C`. \n",
    "Nie ma potrzeby dodawania nowych wskaźników. \n",
    "> Komórkę można uruchamiać wielokrotnie (Ctrl+Enter)."
   ]
  },
  {
   "cell_type": "code",
   "execution_count": null,
   "id": "1f9ea73f-8e56-4135-ab26-ef557a885ea7",
   "metadata": {},
   "outputs": [],
   "source": [
    "Element* w1 = new Element;\n",
    "w1->dane = 'A';\n",
    "w1->nast = 0;\n",
    "Element* w2 = new Element;\n",
    "w2->dane = 'B';\n",
    "w2->nast = 0;\n",
    "Element* w3 = new Element;\n",
    "w3->dane = 'C';\n",
    "w3->nast = 0;\n",
    "\n",
    "// Tutaj należy umieścić kod, który z trzech\n",
    "// niepowiązanych elmentów stowrzy listę A -> B -> C\n",
    "// ....\n",
    "\n",
    "DRAW_LIST(w1,w2,w3);\n",
    "\n",
    "delete w1; delete w2; delete w3;"
   ]
  },
  {
   "cell_type": "markdown",
   "id": "f4df7a31-fcbb-4169-a781-94d0c25704fb",
   "metadata": {},
   "source": [
    "## Wypisanie listy\n",
    "\n",
    "Wypisanie listy oznacza konieczność \"przejścia\" po wszystkich elementach, co zrealizujemy w pętli. \n",
    "Potrzebny jest do tego wskaźnik roboczy `p`, który na wstępie przyjmie adres głowy listy, a następnie będzie przyjmował adresy kolejnych elementów, aż osiągnie wartość `NULL` zapisaną w polu `nast` ostatniego elementu. \n",
    "\n",
    "**Przejście roboczym wskaźnikiem `p` na następny element odbywa się za pomocą instrukcji `p = p->nast;`**\n",
    "\n",
    "Poniższy kod zakłada, że wcześniejsze komórki tego notatnika zostały wykonane i mamy listę znaków od adresie pierwszego elementu w zmiennej `glowa`. \n",
    "Po uruchomieniu kodu, program rysuje początkowy stan listy i wskaźnika `p`, a następnie czeka na `ENTER`, żeby zacząć wypisnie z animacją. \n",
    "> W tym przykładzie nie chcemy rysowania nowych rysunków po każdym kroku, dlatego użyto funkcji `DRAW_LIST_UPDATED`, która oprócz wskaźników przyjmuje jako parametry czas pauzy po narysowaniu rysunku (w milisekundach) oraz identyfikator rysunku do zaktualizowania (zmienna `img_id`).\n",
    "\n",
    "**Zwróć uwagę na stan wskaźników `glowa` i `p` przed wejściem do pętli oraz po jej zakończeniu.**"
   ]
  },
  {
   "cell_type": "code",
   "execution_count": null,
   "id": "57b53cbc-abff-4cb2-bc79-f9e32e363a8e",
   "metadata": {},
   "outputs": [],
   "source": [
    "Element* p = glowa;\n",
    "\n",
    "string img_id = DRAW_LIST(glowa, p);\n",
    "cout << \"Wcisnij ENTER, zeby uruchomic wypisanie\";\n",
    "cin.get();\n",
    "cout << \"Zawartosc listy: \";\n",
    "\n",
    "while(p!=nullptr)\n",
    "{\n",
    "    cout << p->dane << \" \" << flush;\n",
    "    p = p->nast;\n",
    "\n",
    "    int delay = 1000; // pauza po rysowaniu w [ms]\n",
    "    DRAW_LIST_UPDATED(delay, img_id, glowa, p); // odświeża rysunek zamiast rysować nowy\n",
    "}\n"
   ]
  },
  {
   "cell_type": "markdown",
   "id": "0f735ca9-a84f-42ff-8d81-a1d57a0e82b0",
   "metadata": {},
   "source": [
    "## Usuwanie listy\n",
    "\n",
    "Lista jednokierunkowa wymaga dynamicznej alokacji pamięci za pomocą `new`, zatem wymaga również zwolnienia tej pamięcia za pomocą `delete`. \n",
    "Tutaj również będzie potrzebny pomocniczy wzkaźnik `p`. "
   ]
  },
  {
   "cell_type": "code",
   "execution_count": null,
   "id": "1a0b3c14-7b4a-4ace-8959-711718238500",
   "metadata": {},
   "outputs": [],
   "source": [
    "string img_id = DRAW_LIST(glowa);\n",
    "\n",
    "cout << \"Wcisnij ENTER, zeby uruchomic usuwanie\";\n",
    "cin.get();\n",
    "\n",
    "while(glowa!=nullptr)\n",
    "{\n",
    "    Element* p = glowa;\n",
    "    glowa = glowa->nast;\n",
    "    DRAW_LIST_UPDATED(2000, img_id, glowa, p);\n",
    "    delete p;\n",
    "}\n",
    "\n",
    "DRAW_LIST_UPDATED(0, img_id, glowa);"
   ]
  },
  {
   "cell_type": "markdown",
   "id": "aae71aae-e5b9-4a41-9ff7-a46e400f512a",
   "metadata": {},
   "source": [
    "## Przykład kompletnego programu\n",
    "\n",
    "**Problem:** Napisać program wczytujący z pliku liczby rzeczywiste do listy jednokierunkowej. Wypisać zawartość listy na ekranie. Pamiętać o usunięciu listy na koniec programu. Program napisać z podziałem na funkcje."
   ]
  },
  {
   "cell_type": "code",
   "execution_count": null,
   "id": "2911a39e-28f2-40af-aeaf-1f59f12543c4",
   "metadata": {},
   "outputs": [],
   "source": [
    "#include <fstream>\n",
    "#include <cstdlib>\n",
    "#include \"../lib/draw_list.h\"\n",
    "\n",
    "using namespace std;"
   ]
  },
  {
   "cell_type": "code",
   "execution_count": null,
   "id": "c3587c82-3d7d-41be-ac61-59fabe09bc64",
   "metadata": {},
   "outputs": [],
   "source": [
    "struct Liczby{\n",
    "    // Nazwy pól struktury mogą być dowolne, ale te nazwy pozwalają na użycie funkcji DRAW_LIST\n",
    "    double dane; \n",
    "    Liczby* nast; \n",
    "};"
   ]
  },
  {
   "cell_type": "code",
   "execution_count": null,
   "id": "a823be93-6b1f-4e71-b59c-e7d9d31eeb62",
   "metadata": {},
   "outputs": [],
   "source": [
    "Liczby* wczytajLiczby(string nazwa_pliku)\n",
    "{\n",
    "    Liczby* glowa = nullptr;\n",
    "    Liczby* ogon = nullptr;\n",
    "\n",
    "    string img_id = DRAW_LIST(glowa, ogon);\n",
    "\n",
    "    ifstream plik(nazwa_pliku);\n",
    "\n",
    "    while(plik.good())\n",
    "    {\n",
    "        double x;\n",
    "        if(plik >> x)\n",
    "        {\n",
    "            Liczby* nowy = new Liczby;\n",
    "            nowy->dane = x;\n",
    "            nowy->nast = nullptr;\n",
    "\n",
    "            if(glowa==0) // to samo co glowa==nullptr\n",
    "                glowa = nowy;\n",
    "            else\n",
    "                ogon->nast = nowy;\n",
    "            \n",
    "            ogon = nowy;\n",
    "\n",
    "            int delay = 1000; // pauza po rysowaniu w [ms]\n",
    "            DRAW_LIST_UPDATED(delay, img_id, glowa, ogon, nowy); // odświeża rysunek zamiast rysować nowy\n",
    "        }\n",
    "    }\n",
    "\n",
    "    return glowa;\n",
    "}"
   ]
  },
  {
   "cell_type": "code",
   "execution_count": null,
   "id": "7cefbd0b-7a12-4aee-a721-4e74d24d5666",
   "metadata": {},
   "outputs": [],
   "source": [
    "void wypisz(Liczby* glowa)\n",
    "{\n",
    "    Liczby* w = glowa;\n",
    "    string img_id = DRAW_LIST(glowa, w);\n",
    "    \n",
    "    while(w!=nullptr)\n",
    "    {\n",
    "        cout << w->dane << \" \" << flush;\n",
    "        w = w->nast;\n",
    "    \n",
    "        int delay = 1000; // pauza po rysowaniu w [ms]\n",
    "        DRAW_LIST_UPDATED(delay, img_id, glowa, w); // odświeża rysunek zamiast rysować nowy\n",
    "    }\n",
    "    cout << endl << endl;\n",
    "}"
   ]
  },
  {
   "cell_type": "code",
   "execution_count": null,
   "id": "ca59cfd8-26d3-4721-8c74-aca997401118",
   "metadata": {},
   "outputs": [],
   "source": [
    "void usun(Liczby*& glowa)\n",
    "{\n",
    "    string img_id = DRAW_LIST(glowa);\n",
    "    \n",
    "    while(glowa!=nullptr)\n",
    "    {\n",
    "        Liczby* p = glowa;\n",
    "        glowa = glowa->nast;\n",
    "        DRAW_LIST_UPDATED(1000, img_id, glowa, p);\n",
    "        delete p;\n",
    "    }\n",
    "    \n",
    "    DRAW_LIST_UPDATED(0, img_id, glowa);\n",
    "}"
   ]
  },
  {
   "cell_type": "code",
   "execution_count": null,
   "id": "9830a8dc-55fb-4ec8-8151-1d0bb8105c45",
   "metadata": {},
   "outputs": [],
   "source": [
    "int main()\n",
    "{\n",
    "    Liczby* glowa = 0; // to samo co glowa=nullptr\n",
    "\n",
    "    cout << \"Wczytywanie danych do listy: \" << endl;\n",
    "    glowa = wczytajLiczby(\"liczby.txt\");\n",
    "\n",
    "    cout << \"Wypisanie liczb z listy: \" << endl;\n",
    "    wypisz(glowa);\n",
    "\n",
    "    cout << \"Usuwanie listy\" << endl;\n",
    "    usun(glowa);\n",
    "\n",
    "    cout << \"Zawartosc zmiennej glowa po usuwaniu: \" << glowa << endl;\n",
    "    \n",
    "    return 0;\n",
    "}"
   ]
  },
  {
   "cell_type": "markdown",
   "id": "3805980f-61c7-430a-8030-666c720d7007",
   "metadata": {},
   "source": [
    "**Testujemy program:**"
   ]
  },
  {
   "cell_type": "code",
   "execution_count": null,
   "id": "03f8cd94-b5f8-4c8e-a463-d4f1c84b9aee",
   "metadata": {},
   "outputs": [],
   "source": [
    "main();"
   ]
  },
  {
   "cell_type": "markdown",
   "id": "67bb7872-ee00-418c-899a-935a11a61581",
   "metadata": {},
   "source": [
    "## Zadania do samodzielnego rozwiązania"
   ]
  },
  {
   "cell_type": "markdown",
   "id": "e3c2d21d-3c05-4b29-b533-6e055a1a84db",
   "metadata": {},
   "source": [
    "### Zadanie 1\n",
    "\n",
    "#### Krok 1\n",
    "\n",
    "Zdefiniuj strukturę dla listy jednokierunkowej o nazwie `Napisy` pozwalającą przechowywać napisy (zmienne typu `string`). \n",
    "Będziemy chcieli użyć funkcji `DRAW_LIST`, dlatego pola muszą sie nazywać `dane` i `nast`. \n",
    "\n"
   ]
  },
  {
   "cell_type": "code",
   "execution_count": null,
   "id": "b88b7090-cf79-4264-b02e-cf28f702fb03",
   "metadata": {},
   "outputs": [],
   "source": []
  },
  {
   "cell_type": "markdown",
   "id": "6e2119dc-f1b9-41e4-8a5a-4a5806ecdb3e",
   "metadata": {},
   "source": [
    "#### Krok 2\n",
    "\n",
    "1. Przygotuje 4 zmienne wskaźnikowe typu `Napisy` o nazwach `p1, p2, p3, p4`.\n",
    "2. Zarezerwuj pamięć na te elementy.\n",
    "3. Wczytaj do pola `dane` słowa poden przez użytkownika.\n",
    "4. Do pól `nast` wpisz adres zerowy.\n",
    "5. Wyświetl na ekranie stan wskaźników za pomocą funkcji `DRAW_LIST(p1, p2, p3, p4);`"
   ]
  },
  {
   "cell_type": "code",
   "execution_count": null,
   "id": "b72df854-6deb-47a9-bc4d-23cfe32be2e4",
   "metadata": {},
   "outputs": [],
   "source": []
  },
  {
   "cell_type": "markdown",
   "id": "a7d79931-2754-47a9-91f7-5363980796c0",
   "metadata": {},
   "source": [
    "#### Krok 3\n",
    "\n",
    "1. Powiąż ze sobą elementy w kolejności `p4 -> p3 -> p2 -> p1`.\n",
    "2. Wyświetl na ekranie stan wskaźników za pomocą funkcji `DRAW_LIST(p1, p2, p3, p4);`"
   ]
  },
  {
   "cell_type": "code",
   "execution_count": null,
   "id": "943583cc-4f8f-4cdb-b3a1-0913c86ca7ab",
   "metadata": {},
   "outputs": [],
   "source": []
  },
  {
   "cell_type": "markdown",
   "id": "304d8114-6bc9-4be7-9674-aacd32612b8a",
   "metadata": {},
   "source": [
    "#### Krok 4\n",
    "\n",
    "Zwolnij pamięć po elementach listy korzystając z pętli `while`."
   ]
  },
  {
   "cell_type": "code",
   "execution_count": null,
   "id": "3149551d-b43d-4846-bff3-172e18ad1a07",
   "metadata": {},
   "outputs": [],
   "source": []
  },
  {
   "cell_type": "markdown",
   "id": "ea3af513-5390-4cfc-8c1d-ac42344d34b1",
   "metadata": {},
   "source": [
    "### Zadanie 2\n",
    "Napisać program wczytujący od użytkownika liczby całkowite do listy jednokierunkowej. Przerwać wczytywanie, gdy użytkownik poda liczbę zero, przy czym zero również ma być dodane do listy. Należy wypisać listę na ekranie i pamiętać o zwolnieniu pamięci po liście. Zastosować podział na funkcje."
   ]
  },
  {
   "cell_type": "code",
   "execution_count": null,
   "id": "fdcc6b53-3708-44bd-bcf5-a916010fe9dd",
   "metadata": {},
   "outputs": [],
   "source": []
  },
  {
   "cell_type": "markdown",
   "id": "4cc6cd26-7841-4a86-849f-0a525f8be689",
   "metadata": {
    "editable": true,
    "slideshow": {
     "slide_type": ""
    },
    "tags": []
   },
   "source": [
    "![logotypy.png](../figures/OMNIS2_logotypy.png)"
   ]
  }
 ],
 "metadata": {
  "kernelspec": {
   "display_name": "C++17",
   "language": "C++17",
   "name": "xcpp17"
  },
  "language_info": {
   "codemirror_mode": "text/x-c++src",
   "file_extension": ".cpp",
   "mimetype": "text/x-c++src",
   "name": "c++",
   "version": "17"
  }
 },
 "nbformat": 4,
 "nbformat_minor": 5
}

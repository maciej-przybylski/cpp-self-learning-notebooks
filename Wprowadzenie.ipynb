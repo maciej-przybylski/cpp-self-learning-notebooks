{
 "cells": [
  {
   "cell_type": "markdown",
   "id": "1b912b8e-058c-4833-a9c9-185cdc5bb48e",
   "metadata": {
    "editable": true,
    "slideshow": {
     "slide_type": ""
    },
    "tags": []
   },
   "source": [
    "![OMNIS2_Logo_projektu.png](figures/OMNIS2_Logo_projektu.png)"
   ]
  },
  {
   "cell_type": "markdown",
   "id": "79ed241f-b205-4132-b914-a1c130babeab",
   "metadata": {
    "editable": true,
    "slideshow": {
     "slide_type": ""
    },
    "tags": []
   },
   "source": [
    "# Ćwiczenia z przedmiotu _Programowanie 1: Algorytmy i Struktury Danych w Języku C++_ #\n",
    "\n",
    "autorzy: Maciej Przybylski, Jan Klimaszewski, Maciej Kachniarz"
   ]
  },
  {
   "cell_type": "markdown",
   "id": "18378cf4-5a6b-4dea-8e1c-51af2d12535d",
   "metadata": {},
   "source": [
    "## Wprowadzenie ##\n",
    "\n",
    "Niniejsze repozytorium zawiera materiały do samodzielnej nauki programowania dla studentów przedmiotu _Programowanie 1: Algorytmy i Struktury Danych w Języku C++_ nauczanego na Wydziale Mechatroniki Politechniki Warszawskiej. \n",
    "\n",
    "W zakresie ćwiczeń znajdują się podstawy języka C++, programowanie strukturalno-procedrualne oraz dynamiczne struktury danych. "
   ]
  },
  {
   "cell_type": "markdown",
   "id": "e12dd334-fc88-4b6c-94c2-6448427edf49",
   "metadata": {},
   "source": [
    "## Lista ćwiczeń \n",
    "\n",
    "Materiał został podzielony na osiemnaście ćwiczeń w formie notatników środowiska Jupyter + Xues-Cling. \n",
    "Każde ćwiczenie zawiera wstęp teorytyczny oraz proste interaktywne zadania do wykonania w notatniku. Do uruchomienia notatników wystarczy przeglądarka i dostęp do internetu. "
   ]
  },
  {
   "cell_type": "markdown",
   "id": "d3d475a7-86b3-4297-8ff8-b209c01bd971",
   "metadata": {
    "editable": true,
    "slideshow": {
     "slide_type": ""
    },
    "tags": []
   },
   "source": [
    "[Ćwiczenie 1: Pierwszy program w C++ oraz jak używać Jupyter xeus-cling (autor: MP)](./C1/C1.ipynb)\n",
    "\n",
    "[Ćwiczenie 2: Zmienne, stałe, typy danych, konwersja typów (autor: MK)](./C2/C2.ipynb)\n",
    "\n",
    "[Ćwiczenie 3: Obsługa konsoli (autor: MK)](./C3/C3.ipynb)\n",
    "\n",
    "[Ćwiczenie 4: Operatory arytmetyczne, operatory porównania, operatory logiczne (autor: JK)](./C4/C4.ipynb)\n",
    "\n",
    "[Ćwiczenie 5: Instrukcja warunkowa `if` (autor: JK)](./C5/C5.ipynb)\n",
    "\n",
    "[Ćwiczenie 6: Pętla `while` (autor: JK)](./C6/C6.ipynb)\n",
    "\n",
    "[Ćwiczenie 7: Pętla `for` (autor: JK)](./C7/C7.ipynb)\n",
    "\n",
    "[Ćwiczenie 8: Tablice jednowymiarowe i napisy (autor: JK)](./C8/C8.ipynb)\n",
    "\n",
    "[Ćwiczenie 9: Tablice dwuwymiarowe (autor: MK)](./C9/C9.ipynb)\n",
    "\n",
    "[Ćwiczenie 10: Funkcje i procedury (autor: JK)](./C10/C10.ipynb)\n",
    "\n",
    "[Ćwiczenie 11: Struktury (autor: MK)](./C11/C11.ipynb)\n",
    "\n",
    "[Ćwiczenie 12: Pliki tekstowe (autor: MK)](./C12/C12.ipynb)\n",
    "\n",
    "[Ćwiczenie 13: Referencje, wskaźniki (autor: MP)](./C13/C13.ipynb)\n",
    "\n",
    "[Ćwiczenie 14: Dynamiczna alokacja pamięci, tablice dynamiczne jednowymiarowe (autor: MP)](./C14/C14.ipynb)\n",
    "\n",
    "[Ćwiczenie 15: Tablice dynamiczne dwuwymiarowe (autor: MK)](./C15/C15.ipynb)\n",
    "\n",
    "[Ćwiczenie 16: Listy jednokierunkowe: tworzenie, wypisanie, usunięcie (autor: MP)](./C16/C16.ipynb)\n",
    "\n",
    "[Ćwiczenie 17: Listy jednokierunkowe: przetwarzanie wybranych elementów listy (autor: MP)](./C17/C17.ipynb)\n",
    "\n",
    "[Ćwiczenie 18: Rekurencja (autor: MP)](./C18/C18.ipynb)\n",
    "\n",
    " "
   ]
  },
  {
   "cell_type": "markdown",
   "id": "87577b77-d245-4c7d-bf90-551897f5f2b0",
   "metadata": {
    "editable": true,
    "slideshow": {
     "slide_type": ""
    },
    "tags": []
   },
   "source": [
    "![logotypy.png](figures/OMNIS2_logotypy.png)"
   ]
  }
 ],
 "metadata": {
  "kernelspec": {
   "display_name": "C++17",
   "language": "C++17",
   "name": "xcpp17"
  },
  "language_info": {
   "codemirror_mode": "text/x-c++src",
   "file_extension": ".cpp",
   "mimetype": "text/x-c++src",
   "name": "c++",
   "version": "17"
  }
 },
 "nbformat": 4,
 "nbformat_minor": 5
}

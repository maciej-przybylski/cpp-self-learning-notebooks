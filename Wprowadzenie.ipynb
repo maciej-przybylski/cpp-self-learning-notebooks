{
 "cells": [
  {
   "cell_type": "markdown",
   "id": "79ed241f-b205-4132-b914-a1c130babeab",
   "metadata": {},
   "source": [
    "# Programowanie 1: Algorytmy i Struktury Danych w Języku C++"
   ]
  },
  {
   "cell_type": "markdown",
   "id": "18378cf4-5a6b-4dea-8e1c-51af2d12535d",
   "metadata": {},
   "source": [
    "## Wprowadzenie ##"
   ]
  },
  {
   "cell_type": "markdown",
   "id": "e12dd334-fc88-4b6c-94c2-6448427edf49",
   "metadata": {},
   "source": [
    "## Lista ćwiczeń ##"
   ]
  },
  {
   "cell_type": "markdown",
   "id": "d3d475a7-86b3-4297-8ff8-b209c01bd971",
   "metadata": {},
   "source": [
    "[Ćwiczenie 1: Pierwszy program w C++ oraz jak używać Jupyter xeus-cling](./C1/C1.ipynb)\n",
    "\n",
    "[Ćwiczenie 2: Zmienne, stałe, typy danych, konwersja typów](./C2/C2.ipynb)\n",
    "\n",
    "[Ćwiczenie 3: Obsługa konsoli](./C3/C3.ipynb)\n",
    "\n",
    "[Ćwiczenie 4: Operatory arytmetyczne, operatory porównania, operatory logiczne](./C4/C4.ipynb)\n",
    "\n",
    "[Ćwiczenie 5: Instrukcja warunkowa `if`](./C5/C5.ipynb)\n",
    "\n",
    "[Ćwiczenie 6: Pętla `while`](./C6/C6.ipynb)\n",
    "\n",
    "[Ćwiczenie 7: Pętla `for`](./C7/C7.ipynb)\n",
    "\n",
    "[Ćwiczenie 8: Funkcje i procedury](./C8/C8.ipynb)\n",
    "\n",
    "[Ćwiczenie 9: Tablice jednowymiarowe i napisy](./C9/C9.ipynb)\n",
    "\n",
    "[Ćwiczenie 10: Tablice dwuwymiarowe](./C10/C10.ipynb)\n",
    "\n",
    "[Ćwiczenie 11: Struktury](./C11/C11.ipynb)\n",
    "\n",
    "[Ćwiczenie 12: Pliki tekstowe](./C12/C12.ipynb)\n",
    "\n",
    "[Ćwiczenie 13: Referencje, wskaźniki, tablice dynamiczne jednowymiarowe](./C13/C13.ipynb)\n",
    "\n",
    "[Ćwiczenie 14: Tablice dynamiczne dwuwymiarowe](./C14/C14.ipynb)\n",
    "\n",
    "[Ćwiczenie 15: Funkcje a referencje i wskaźniki](./C15/C15.ipynb)\n",
    "\n",
    "[Ćwiczenie 16: Rekurencja](./C16/C16.ipynb)\n",
    "\n",
    "[Ćwiczenie 17: Listy jednokierunkowe: tworzenie, wypisanie, usunięcie](./C17/C17.ipynb)\n",
    "\n",
    "[Ćwiczenie 18: Listy jednokierunkowe: przetwarzanie wybranych elementów listy](./C18/C18.ipynb)\n",
    "\n",
    " "
   ]
  }
 ],
 "metadata": {
  "kernelspec": {
   "display_name": "C++17",
   "language": "C++17",
   "name": "xcpp17"
  },
  "language_info": {
   "codemirror_mode": "text/x-c++src",
   "file_extension": ".cpp",
   "mimetype": "text/x-c++src",
   "name": "C++17",
   "version": "17"
  }
 },
 "nbformat": 4,
 "nbformat_minor": 5
}

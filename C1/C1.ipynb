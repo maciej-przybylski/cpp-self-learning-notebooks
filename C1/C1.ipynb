{
 "cells": [
  {
   "cell_type": "markdown",
   "id": "63b549f0-c176-4934-ba6d-f4e64bf9e49c",
   "metadata": {
    "editable": true,
    "slideshow": {
     "slide_type": ""
    },
    "tags": []
   },
   "source": [
    "![OMNIS2_Logo_projektu.png](../figures/OMNIS2_Logo_projektu.png)"
   ]
  },
  {
   "cell_type": "markdown",
   "id": "5083bf1a-7d71-496f-a3ed-fe4b60b163b9",
   "metadata": {
    "editable": true,
    "slideshow": {
     "slide_type": ""
    },
    "tags": []
   },
   "source": [
    "# Ćwiczenie 1: Pierwszy program w C++ oraz jak używać Jupyter xeus-cling\n",
    "autor: Maciej Przybylski"
   ]
  },
  {
   "cell_type": "markdown",
   "id": "09496757-e25e-4bea-b213-97be9dfe153c",
   "metadata": {
    "slideshow": {
     "slide_type": ""
    },
    "tags": []
   },
   "source": [
    "## Wprowadzenie\n",
    "\n",
    "Standardowa ścieżka programowania w języku C++ zakłada napisanie kodu źródłowego, kompilację i linkowanie, a na koniec uruchomienie i testowanie. W taki sposób będziemy też programować w środowisku QtCreator używanym na ćwiczeniach w sali komputerowej. Jednak w nauce podstaw języka C++ przyda nam się również możliwość uruchamiania i testowania krótkich fragmentów kodu bez konieczności kompilacji uruchamiania całego programu od początku. Do tego pomocne są właśnie notatniki Jupytera. \n",
    "\n",
    "Środowisko Jupyter zostało stworzone do pracy z językiem Python, ale dzięki bibliotece `Xeus` oraz interpreterowi języka C++ `cling`, można korzystać również z języka C++. \n",
    "Notatniki środowiska Jupyter pozwalają na uruchamianie krótkich fragmentów kodu oraz wyświetlanie wyników i pobieranie danych od użytkownika w trybie tekstowym (konsolowym). \n",
    "Dodatkowo, notatniki mogą zawierać tekst (z ilustracjami i wzorami) w formacie Markdown. \n",
    "\n",
    "Notatniki Jupytera zapisywane są w plikach o rozszerzeniu `*.ipynb`. \n",
    "Dla każdego notatnika uruchamiany jest tak zwany **kernel**, który jest interpreterem kodu w danym języku programowania. W tym skrypcie jest to `C++17`, czyli interpreter języka C++ w standardzie z roku 2017. \n",
    "\n",
    "Interpreter języka programowania to program, który pozwala na uruchamianie pojedynczych instrukcji, a wyniki są natychmiast zapamiętywane w pamięci interpretera. Interpreter, w przeciwieństwie do kompilatora, nie generuje plików binarnych z kodem maszynowym. W taki sposób działają języki Python i Matlab. Od kilku lat istnieje również interpreter dla języka C++ o nazwie Cling. \n",
    "\n",
    "### Co należy wiedzieć o pracy z interpreterem (kernelem) w notatnikach Jupyter:\n",
    "\n",
    "* Notatnik należy traktować jak jeden program (skrypt). \n",
    "* Notatnik podzielony jest na komórki, w których umieszcza się kod źródłowy.\n",
    "* Interpreter wykonuje kod źródłowy danej komórki natychmiast (nie sprawdzając co jest w dalszych komórkach).\n",
    "* Błędy w kodzie są wykrywane w momencie wykonywania komórki (a nie wcześniej).\n",
    "* Zmienne (oraz ich wartości), stałe, struktury i funkcje zdefiniowane we wcześniejszych komórkach pozostają w pamięci interpretera (kernela) i mogą być odczytane również w komórkach wykonywanych później, przy czym obowiązują zasady:\n",
    "  * komórki wcześniejsze zostały uruchomione i wykonały się bez błędów,\n",
    "  * zmienne i stałe we wcześniejszych komórkach nie są lokalne, czyli nie znalazły się wewnątrz nawiasów klamrowych `{...}`.\n",
    "* W kolejnych komórkach można przedefiniować wcześniej zdefiniowane zmienne, stałe i funkcje, a poprzednie zostaną usunięte z kernela. W przypadku kompilatora byłby to błąd.\n",
    "* Komórki notatnika można uruchamiać w dowolnej kolejności oraz uruchamiać je wielokrotnie.\n",
    "\n",
    "**Uwaga:** w notatnikach Jupyter+cling nie ma funkcji `main` tak jak w normalnym programie C++, a więc komórki z instrukcjami wykonywalnymi, załączaniem bibliotek, czy definicjami struktur i funkcji mogą się przeplatać. \n",
    "Jedyne ograniczenie jest takie, że w jednej komórce nie może pojawić się jednocześnie instrukcja `using namespace std;` i definicja funkcji, czyli _nie można wykonać komórki_:\n",
    "```c++ \n",
    "using namespace std;\n",
    "void funkcja(){\n",
    "   cout << \"Witaj!\";\n",
    "}\n",
    "```"
   ]
  },
  {
   "cell_type": "markdown",
   "id": "9a5ec7ba-ebba-4f19-8d43-119bf29a0543",
   "metadata": {},
   "source": [
    "## Pierwsze kroki"
   ]
  },
  {
   "cell_type": "markdown",
   "id": "b41d0ad2-3140-47aa-a22c-3fa42783dfb5",
   "metadata": {},
   "source": [
    "Kod źródłowy programu wyświetlającego powitanie w typowym podejściu (pełna kompilacja, a potem uruchomienie) wygląda tak:\n",
    "```c++\n",
    "#include <iostream>\n",
    "using namespace std;\n",
    "int main()\n",
    "{\n",
    "    cout << \"Witaj!\" << endl;\n",
    "    return 0;\n",
    "}\n",
    "```\n",
    "Ale w notatniku Jupyter nie trzeba definiować funkcji `main`, więc wystarczy napisać tak:\n",
    "```c++\n",
    "#include <iostream>\n",
    "using namespace std;\n",
    "cout << \"Witaj!\" << endl;\n",
    "```"
   ]
  },
  {
   "cell_type": "markdown",
   "id": "fa8a57c6-3c1a-4f18-bacb-cf1ab4975f8f",
   "metadata": {
    "editable": true,
    "slideshow": {
     "slide_type": ""
    },
    "tags": []
   },
   "source": [
    "**Polecenie:** \n",
    "1. Aktywuj komórkę poniżej klikając gdziekolwiek na kod w niej zawarty, lub na margines po lewej stronie.\n",
    "  * Dla aktywnej komórki pojawi się niebieski pasek na lewym marginesie.\n",
    "2. Gdy komórka poniżej jest aktywna wciśnij skrót klawiszowy `Ctrl+Enter`\n",
    "  * Zaraz pod komórką pojawi się napis `Witaj!`.\n",
    "  * W nawiasie kwadratowym (na lewym marginesie) pojawi się numer kolejny wykonania komórki liczony od startu kernela.\n",
    "  * Wykonana komórka pozostaje aktywna.\n"
   ]
  },
  {
   "cell_type": "code",
   "execution_count": null,
   "id": "32af05cc-d733-4ad0-9757-7dca81d9d706",
   "metadata": {
    "vscode": {
     "languageId": "c++"
    }
   },
   "outputs": [],
   "source": [
    "#include <iostream>\n",
    "using namespace std;\n",
    "cout << \"Witaj!\" << endl;"
   ]
  },
  {
   "attachments": {
    "6f40ca6c-9fd8-49ac-860c-8ac070bce724.png": {
     "image/png": "[encoded data removed]"
    }
   },
   "cell_type": "markdown",
   "id": "82e8d743-cd86-436f-8c50-f3bd591b254d",
   "metadata": {},
   "source": [
    "Inne skróty klawiszowe służące do uruchamiania komórek notatnika:\n",
    "* `Shift+Enter` - uruchomienie komórki i aktywowanie komórki następnej (ale bez wejścia do edycji)\n",
    "* `Alt+Enter` - uruchomienie komórki i aktywowanie komórki następnej w trybie edycji kodu (jeżeli następna komórka nie istnieje lub jest komórką typu Markdown, to zostanie utworzona nowa komórka C++)\n",
    "\n",
    "Te same (i inne) funkcje można odnaleźć w menu głównym w sekcji `Run`. \n",
    "\n",
    "W pasku narzędzi notatnika można też znaleźć przycisk ze strzałką ![image.png](attachment:6f40ca6c-9fd8-49ac-860c-8ac070bce724.png) odpowiadający skrótowi `Shift+Enter`.\n",
    "\n",
    "**Wypróbuj te skróty na komórce poniżej.** Zwróć uwagę, że nie ma konieczności ponownego ładowania biblioteki `<iostream>`. "
   ]
  },
  {
   "cell_type": "code",
   "execution_count": null,
   "id": "8fc92038-5fb9-49dd-99f8-d1ebc015825c",
   "metadata": {},
   "outputs": [],
   "source": [
    "cout << \"Witaj ponownie!\" << endl;"
   ]
  },
  {
   "attachments": {
    "0ebcae41-40f6-4a3d-9962-87423bd92613.png": {
     "image/png": "[encoded data removed]"
    },
    "109ccd66-39e6-4771-bde4-9deec47f5986.png": {
     "image/png": "[encoded data removed]"
    },
    "1d08847a-c321-439f-b179-3901320b5c98.png": {
     "image/png": "[encoded data removed]"
    }
   },
   "cell_type": "markdown",
   "id": "22a9cc24-4ffa-4213-b47a-3a390cec5103",
   "metadata": {},
   "source": [
    "## Tworzenie i usuwanie komórek\n",
    "\n",
    "Notatnik Jupyter można swobodnie modyfikować. Oprócz modyfikacji treści komórek można dodawać własne i usuwać niepotrzebne komórki. \n",
    "\n",
    "**Aktywuj tę komórkę klikając na lewym marginesie, a następnie dodaj nową komórkę:**\n",
    "* powyżej aktualne wciskając klawisz 'A', lub klikając przycisk ![image.png](attachment:1d08847a-c321-439f-b179-3901320b5c98.png) w pasku narzędzi pojawiającym się w górnym prawy rogu aktywnej komórki,\n",
    "* poniżej aktualne wciskając klawisz 'B', lub klikając przycisk ![image.png](attachment:0ebcae41-40f6-4a3d-9962-87423bd92613.png) w pasku narzędzi pojawiającym się w górnym prawy rogu aktywnej komórki.\n",
    "\n",
    "**Usuń stworzone komórki:** aktywuj komórkę do usunięcia, a następnie wciśnij dwukrotnie klawisz `D`, lub kliknij przycisk ![image.png](attachment:109ccd66-39e6-4771-bde4-9deec47f5986.png) w pasku narzędzi pojawiającym się w górnym prawy rogu aktywnej komórki."
   ]
  },
  {
   "attachments": {
    "5f346a50-f1e6-45fd-a2e4-77d542287af3.png": {
     "image/png": "[encoded data removed]"
    }
   },
   "cell_type": "markdown",
   "id": "fe5f8386-6314-445b-81f5-a10d659cef1a",
   "metadata": {},
   "source": [
    "Warto poświęcić chwilę na zapoznanie się z innymi funkcji z podręcznego paska narzędzi ![image.png](attachment:5f346a50-f1e6-45fd-a2e4-77d542287af3.png) oraz funkcjami z menu `Edit`. "
   ]
  },
  {
   "cell_type": "markdown",
   "id": "2c7db5f0-b971-4bdc-a06f-f0df16f9eae2",
   "metadata": {},
   "source": [
    "## Obsługa błędów\n",
    "\n",
    "W kolejnych krokach zaprezentowane jest działanie Jupytera w sytuacjach generujących błędy, o które łatwo w trakcie nauki programowania. "
   ]
  },
  {
   "attachments": {
    "ac9f1240-0012-4fbe-8622-4aed8b60e5c6.png": {
     "image/png": "[encoded data removed]"
    }
   },
   "cell_type": "markdown",
   "id": "3e5e827f-34a1-4b41-92a2-5ca8fb2e5d72",
   "metadata": {},
   "source": [
    "### Niezadeklarowana zmienna\n",
    "\n",
    "Kod w komórce poniżej odwołuje się do nieistniejącej zmiennej `x`. Próba wykonania tej komórki spowoduje błąd. \n",
    "\n",
    "**Użyj funkcji** `Restart Kernel and Run All Cells...` z menu `Kernel` dostępnej również jako przycisk w pasku narzędzi ![image.png](attachment:ac9f1240-0012-4fbe-8622-4aed8b60e5c6.png).\n",
    "\n",
    "Pojawi się okno z ostrzeżeniem, że wszystkie wcześniej zapamiętane wyniki zostaną utracone: `Do you want to restart the kernel of C1.ipynb? All variables will be lost.`, co potwierdzamy. \n",
    "\n",
    "Użyta funkcja restartu kernela uruchamia od początku cały notatnik i wykonuje po kolei wszystkie komórki, aż do napotkania błędu, co powinno nastąpić dla komórki poniżej. "
   ]
  },
  {
   "cell_type": "code",
   "execution_count": null,
   "id": "0f057705-114a-4230-bab8-efed320c5f5e",
   "metadata": {},
   "outputs": [],
   "source": [
    "cout << x;"
   ]
  },
  {
   "cell_type": "markdown",
   "id": "cc4180ab-ac6c-49ea-9a08-ab2c508d4328",
   "metadata": {},
   "source": [
    "Powyższy błąd można naprawić poprzez zmianę kodu na:\n",
    "```c++\n",
    "double x = 4.5;\n",
    "cout << x;\n",
    "```\n",
    "\n",
    "**Zmodyfikuj kod w komórce powyżej i ponownie ją wykonaj używając `Shift+Enter`.**"
   ]
  },
  {
   "cell_type": "markdown",
   "id": "dbaa40d9-d991-4a14-a08b-fa1b4cb7e8be",
   "metadata": {},
   "source": [
    "### Błąd składni\n",
    "\n",
    "**Wykonaj komórki poniżej.** Zapoznaj się z komentarzami w kodzie. "
   ]
  },
  {
   "cell_type": "code",
   "execution_count": null,
   "id": "883a2b4d-1c98-41d4-b18b-022ce6bc55bc",
   "metadata": {},
   "outputs": [],
   "source": [
    "// Tutaj brakuje nawiasu wokół x>4.0\n",
    "if x>4.0 cout << x; "
   ]
  },
  {
   "cell_type": "markdown",
   "id": "6edc030d-83cf-4f9a-8e76-1f9fae6fa8c3",
   "metadata": {},
   "source": [
    "### Ostrzeżenie interpretera"
   ]
  },
  {
   "cell_type": "code",
   "execution_count": null,
   "id": "d7ac57e4-2af5-4fcb-9ac5-1a5067996112",
   "metadata": {},
   "outputs": [],
   "source": [
    "// Tutaj ostrzeżenie o dzieleniu przez zero wyłapany na etapie kompilacji\n",
    "cout << 2/0; "
   ]
  },
  {
   "cell_type": "markdown",
   "id": "64e39a4c-0e82-4c54-bc06-354f5a4eb96d",
   "metadata": {},
   "source": [
    "Błąd dzielenia przez zero w komórce powyżej został wychwycony na etapie interpretacji i zaowocował ostrzeżeniem. Ostrzeżenia interpretera są cennym źródłem informacji dla programisty, ale nie przerywają wykonania kodu. Jednak wynik może być nieprzewidywalny, jak powyżej."
   ]
  },
  {
   "cell_type": "markdown",
   "id": "931f259e-443d-4eef-ac6e-175174387fb2",
   "metadata": {},
   "source": [
    "### Wyjątki w trakcie wykonania kodu\n",
    "\n",
    "W komórce poniżej błąd dzielenia przez zero nie jest widoczny dla interpretera, więc interpreter nie zgłosi ostrzeżeń, ale uruchomienie spowoduje wyrzucenie wyjątku, który zatrzyma działanie kernela i jego restart (bez wykonania notatnika od początku). **Sprawdźmy to zachowanie: wykonaj komórkę poniżej.**"
   ]
  },
  {
   "cell_type": "code",
   "execution_count": null,
   "id": "be5ad0b3-f7ff-4b15-8db3-eaa36e9d2b0a",
   "metadata": {},
   "outputs": [],
   "source": [
    "// Tutaj błąd dzielenia przez zero wyłapany na etapie wykonania kodu\n",
    "int a = 0;\n",
    "cout << 2/a; "
   ]
  },
  {
   "cell_type": "markdown",
   "id": "40e03cde-fb1d-4691-88cf-c02730d52e81",
   "metadata": {},
   "source": [
    "Po wykonaniu powyższej komórki powinien pojawić się błąd o treści `The kernel for C1/C1.ipynb appears to have died. It will restart automatically.`\n",
    "\n"
   ]
  },
  {
   "cell_type": "markdown",
   "id": "b6bb7b42-da7c-4f67-a746-840c98225b61",
   "metadata": {},
   "source": [
    "### Brak załadowanych bibliotek\n",
    "\n",
    "Restart kernela powoduje utratę wszystkich informacji, m.in. zmiennych i ich wartości, czy załadowanych bilbiotek. \n",
    "\n",
    "W komórce poniżej nie uda się wypisać nic na ekranie, bo nie jest znany obiekt `cout` zdefiniowany w bibliotece `<iostream>`."
   ]
  },
  {
   "cell_type": "code",
   "execution_count": null,
   "id": "6b875a45-d3cd-4851-9624-c721f3b5cfd0",
   "metadata": {},
   "outputs": [],
   "source": [
    "cout << \"Witaj!\";"
   ]
  },
  {
   "cell_type": "markdown",
   "id": "01354bb7-cdb5-4803-b26a-6278928d808c",
   "metadata": {},
   "source": [
    "### Brakujące `using namespace std;`\n",
    "\n",
    "Kod poniżej ładuje bibliotekę `<iostream>`, ale też nie wykona się poprawnie. "
   ]
  },
  {
   "cell_type": "code",
   "execution_count": null,
   "id": "3f495a93-9f9c-4c3c-af1b-192599114d55",
   "metadata": {},
   "outputs": [],
   "source": [
    "#include <iostream>\n",
    "cout << \"Witaj!\";"
   ]
  },
  {
   "cell_type": "markdown",
   "id": "c7e17db2-64e6-4f29-93dc-8332f1b51cf2",
   "metadata": {},
   "source": [
    "Tym razem zabrakło `using namespace std;`. "
   ]
  },
  {
   "cell_type": "markdown",
   "id": "2d116a7f-41ef-46da-ad23-542049b351bc",
   "metadata": {},
   "source": [
    "### Kiedy poprawny kod nie daje się uruchomić\n",
    "\n",
    "Kod poniżej jest poprawny, ale przy próbie jego wykonania znów pojawią się błędy. "
   ]
  },
  {
   "cell_type": "code",
   "execution_count": null,
   "id": "c607ed84-f3c6-469d-8aa1-79411d6dbdcd",
   "metadata": {},
   "outputs": [],
   "source": [
    "#include <iostream>\n",
    "using namespace std;\n",
    "cout << \"Witaj!\";"
   ]
  },
  {
   "attachments": {
    "2796ffd5-1a0b-4a51-a15d-486ab796015b.png": {
     "image/png": "[encoded data removed]"
    }
   },
   "cell_type": "markdown",
   "id": "1b362d2c-9e6c-48c4-95b1-063d5b1a5c98",
   "metadata": {
    "editable": true,
    "slideshow": {
     "slide_type": ""
    },
    "tags": []
   },
   "source": [
    "Niestety czasami błędy kompilacji wprowadzają kernel w stan, w którym poprawne rozwiązanie również się nie kompiluje. Wtedy konieczne jest, oprócz naprawy błędu, zrestartowanie kernela.\n",
    "\n",
    "**Wykonaj** restart kernela wybierając funkcję `Restart Kernel...` z menu `Kernel`, lub dwukrotnie wciśnij klawisz `0` na klawiaturze, lub użyj przycisku ![image.png](attachment:2796ffd5-1a0b-4a51-a15d-486ab796015b.png) z paska narzędzi. \n",
    "\n",
    "Następnie wykonaj komórkę poniżej."
   ]
  },
  {
   "cell_type": "code",
   "execution_count": null,
   "id": "a565d1c1-7a33-4740-859c-61789164ee85",
   "metadata": {},
   "outputs": [],
   "source": [
    "#include <iostream>\n",
    "using namespace std;\n",
    "cout << \"Witaj!\";"
   ]
  },
  {
   "attachments": {
    "db0df0cb-e1a3-4641-b448-eb678977dfa0.png": {
     "image/png": "[encoded data removed]"
    }
   },
   "cell_type": "markdown",
   "id": "eb7f97a7-5382-4dbd-a3e2-9a0c860568fc",
   "metadata": {},
   "source": [
    "### Przerwanie działania komórki\n",
    "\n",
    "Kolejna sytuacja jaką możemy napotkać to komórka, której wykonanie nie chce się zakończyć. Dla takiej komórki w nawiasie kwadratowym na lewym marginesie pojawi się gwiazdka `[*]`, oznaczająca, że wykonanie komórki trwa. \n",
    "\n",
    "Jeżeli chcemy przerwać wykonanie danej komórki, to należy wybrać funkcję `Interrupt Kernel` z menu `Kernel`, lub wcisnąć dwukrotnie klawisz 'I', lub wcisnąć przycisk ![image.png](attachment:db0df0cb-e1a3-4641-b448-eb678977dfa0.png) na pasku narzędzi.\n",
    "\n",
    "**Uruchom poniższą komórkę z kodem nieskończonej pętli `while`, a następnie przerwij działanie kernela.**"
   ]
  },
  {
   "cell_type": "code",
   "execution_count": null,
   "id": "e7054afe-2905-4534-b156-b47ba5e167ad",
   "metadata": {},
   "outputs": [],
   "source": [
    "while(true);"
   ]
  },
  {
   "cell_type": "markdown",
   "id": "d5a8678f-1efc-42c3-a730-39538e113e10",
   "metadata": {},
   "source": [
    "Przerwanie kernela powoduje jego restart (bez ponownego wykonania komórek), dlatego na potrzeby kolejnych punktów **ponownie wykonaj przydatne instrukcje z komórki poniżej**."
   ]
  },
  {
   "cell_type": "code",
   "execution_count": null,
   "id": "47e36369-e65b-4cfb-8cc4-5f6a8eb1be79",
   "metadata": {},
   "outputs": [],
   "source": [
    "#include <iostream>\n",
    "using namespace std;"
   ]
  },
  {
   "cell_type": "markdown",
   "id": "195adc79-423d-412d-9b6f-19245d587484",
   "metadata": {
    "vscode": {
     "languageId": "c++"
    }
   },
   "source": [
    "## Komunikacja z użytkownikiem\n",
    "\n",
    "Program może wczytywać dane od użytkownika w postaci tekstowej, co odbywa się z użyciem instrukcji `cin` z biblioteki `<iostream>`. Pole edycyjne pojawia się pod komórką. Wprowadzanie tekstu kończymy wciskając `Enter`. \n",
    "\n",
    "**Wykonaj poniższą komórkę.** "
   ]
  },
  {
   "cell_type": "code",
   "execution_count": null,
   "id": "13c8364f-8507-4d89-8286-dc0ca8798223",
   "metadata": {
    "vscode": {
     "languageId": "c++"
    }
   },
   "outputs": [],
   "source": [
    "cout << \"Podaj imię: \";\n",
    "string imie;\n",
    "cin >> imie;\n",
    "cout << \"Witaj \" << imie << \"!\";"
   ]
  },
  {
   "attachments": {
    "135b0cdf-5ac1-45c1-beb8-0f6de1268133.png": {
     "image/png": "[encoded data removed]"
    },
    "407e5ef0-4e19-4705-89fd-f313c56b97aa.png": {
     "image/png": "[encoded data removed]"
    },
    "4ebc89a3-5b41-41eb-8186-5d03ee2580a4.png": {
     "image/png": "[encoded data removed]"
    },
    "823eda3d-a6e9-411e-bc8f-ae04a72bcf23.png": {
     "image/png": "[encoded data removed]"
    },
    "c1fbf25b-551e-4af8-8e1d-df260e734385.png": {
     "image/png": "[encoded data removed]"
    },
    "c494ccba-0f77-4f39-a702-00b59259d8a8.png": {
     "image/png": "[encoded data removed]"
    }
   },
   "cell_type": "markdown",
   "id": "c236b76e-4daa-40c3-a1e5-4b5f91ec50ba",
   "metadata": {},
   "source": [
    "## Zapisywanie i ładowanie treści notatnika\n",
    "\n",
    "Wyniki pracy z notatnikiem można zapisać. Należy jednak pamiętać, że w przypadku pracy ze środowiskiem Jupyter uruchomionym na zewnętrznym serwerze takim jak Binder, gdzie notatniki są uruchamiane anonimowo, wciśnięcie ikony ![image.png](attachment:c1fbf25b-551e-4af8-8e1d-df260e734385.png) nie pozwoli na odzyskanie treści po otwarciu nowej sesji (okna lub zakładki) w przeglądarce. \n",
    "\n",
    "Najbezpieczniejszym sposobem **zapisania treści notatnika** jest pobranie notatnika i zapisanie go na dysku własnego komputera, co można zrobić przez menu `File` i funkcję `Download`. Dla notatników uruchomionych w chmurze Binder jest również dostępny przycisk ![image.png](attachment:407e5ef0-4e19-4705-89fd-f313c56b97aa.png) w pasku narzędzi notatnika. \n",
    "\n",
    "**Wgranie własnego notatnika** z dysku komputera (jak i wgranie innych plików) jest dostępne tylko pod ikoną ![image.png](attachment:823eda3d-a6e9-411e-bc8f-ae04a72bcf23.png) widoczną w pasku narzędzi w lewym panelu w widoku `File Browser` (ikona ![image.png](attachment:c494ccba-0f77-4f39-a702-00b59259d8a8.png)). Pliki zostaną wgrane do aktualnie otwartego katalogu w `File Browser`. \n",
    "\n",
    "Inna opcja, _dostępna tylko w Binder_, to zapis treści notatnika w pamięci przeglądarki (w ciasteczkach) dostępny pod przyciskiem ![image.png](attachment:135b0cdf-5ac1-45c1-beb8-0f6de1268133.png) widoczną w pasku narzędzi notatnika. Ta opcja pozwala na łatwe odtworzenie swojej kopii notatnika poprzez wciśnięcie przycisku ![image.png](attachment:4ebc89a3-5b41-41eb-8186-5d03ee2580a4.png)."
   ]
  },
  {
   "attachments": {
    "1e627617-cb35-46b5-bbcf-29f332e4999d.png": {
     "image/png": "[encoded data removed]"
    },
    "91518fab-4a77-460e-9744-3ed205b7899d.png": {
     "image/png": "[encoded data removed]"
    },
    "c76b6709-4947-420c-8dda-a0b001f411ed.png": {
     "image/png": "[encoded data removed]"
    }
   },
   "cell_type": "markdown",
   "id": "182fb384-6a00-442e-8d9b-e5223ccb700d",
   "metadata": {
    "editable": true,
    "slideshow": {
     "slide_type": ""
    },
    "tags": []
   },
   "source": [
    "## Ćwiczenie do wykonania\n",
    "\n",
    "W podkatalogu `C1` utwórz nowy notatnik z kernelem `C++17` i (bazując na kodzie z tego notatnika) zaimplementuj i przetestuj kod wyświetlający spersonalizowane powitanie po wcześniejszym zapytaniu o imię. \n",
    "\n",
    "1. W `File Browser` wejdź do katalogu `C1`.\n",
    "2. W centralnym panelu otwórz zakładkę ![image.png](attachment:1e627617-cb35-46b5-bbcf-29f332e4999d.png), a jeżeli jej nie ma to kliknij przycisk ![image.png](attachment:91518fab-4a77-460e-9744-3ed205b7899d.png) z paska narzędzi w lewym panelu.\n",
    "3. Kliknij kafelek ![image.png](attachment:c76b6709-4947-420c-8dda-a0b001f411ed.png)\n",
    "4. Zmien nazwę nowoutworzonego notatnika z `Untitled.ipynb` na `zadanie1.ipynb`\n",
    "5. Wykonaj zadanie zgodnie z treścią powyżej.\n",
    "6. Przetestuj implementację w jednej komórce oraz w wersji z podziałem na kilka komórek. "
   ]
  },
  {
   "cell_type": "markdown",
   "id": "39f7014b-f0bb-4449-86d7-19482c1ec6bd",
   "metadata": {
    "editable": true,
    "slideshow": {
     "slide_type": ""
    },
    "tags": []
   },
   "source": [
    "![logotypy.png](../figures/OMNIS2_logotypy.png)"
   ]
  }
 ],
 "metadata": {
  "kernelspec": {
   "display_name": "C++17",
   "language": "C++17",
   "name": "xcpp17"
  },
  "language_info": {
   "codemirror_mode": "text/x-c++src",
   "file_extension": ".cpp",
   "mimetype": "text/x-c++src",
   "name": "c++",
   "version": "17"
  }
 },
 "nbformat": 4,
 "nbformat_minor": 5
}

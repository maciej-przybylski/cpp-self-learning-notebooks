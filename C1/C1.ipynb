{
 "cells": [
  {
   "cell_type": "markdown",
   "id": "5083bf1a-7d71-496f-a3ed-fe4b60b163b9",
   "metadata": {},
   "source": [
    "# Ćwiczenie 1: Pierwszy program w C++ oraz jak używać Jupyter xeus-cling #"
   ]
  },
  {
   "cell_type": "code",
   "execution_count": null,
   "id": "32af05cc-d733-4ad0-9757-7dca81d9d706",
   "metadata": {
    "trusted": true,
    "vscode": {
     "languageId": "c++"
    }
   },
   "outputs": [],
   "source": [
    "#include <iostream>"
   ]
  },
  {
   "cell_type": "code",
   "execution_count": null,
   "id": "4bb8bc5c-ea42-413c-b8c9-5afbd97f8226",
   "metadata": {
    "trusted": true,
    "vscode": {
     "languageId": "c++"
    }
   },
   "outputs": [],
   "source": [
    "using namespace std;"
   ]
  },
  {
   "cell_type": "code",
   "execution_count": null,
   "id": "13c8364f-8507-4d89-8286-dc0ca8798223",
   "metadata": {
    "trusted": true,
    "vscode": {
     "languageId": "c++"
    }
   },
   "outputs": [],
   "source": [
    "cout << \"Hello!\" << endl;"
   ]
  },
  {
   "cell_type": "code",
   "execution_count": null,
   "id": "f6ef7ff5-147b-44b4-8d5e-56273dde53a6",
   "metadata": {
    "trusted": true,
    "vscode": {
     "languageId": "c++"
    }
   },
   "outputs": [],
   "source": []
  }
 ],
 "metadata": {
  "kernelspec": {
   "display_name": "C++17",
   "language": "C++17",
   "name": "xcpp17"
  },
  "language_info": {
   "codemirror_mode": "text/x-c++src",
   "file_extension": ".cpp",
   "mimetype": "text/x-c++src",
   "name": "C++17",
   "version": "17"
  }
 },
 "nbformat": 4,
 "nbformat_minor": 5
}

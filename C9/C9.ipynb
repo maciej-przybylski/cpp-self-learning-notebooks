{
 "cells": [
  {
   "cell_type": "markdown",
   "id": "24218d8b-9b9a-4480-be64-bab9d3562cb0",
   "metadata": {
    "editable": true,
    "slideshow": {
     "slide_type": ""
    },
    "tags": []
   },
   "source": [
    "![OMNIS2_Logo_projektu.png](../figures/OMNIS2_Logo_projektu.png)"
   ]
  },
  {
   "cell_type": "markdown",
   "id": "32578e4d-0818-420c-899c-e578bf69a922",
   "metadata": {
    "editable": true,
    "slideshow": {
     "slide_type": ""
    },
    "tags": []
   },
   "source": [
    "# Ćwiczenie 9: Tablice jednowymiarowe i napisy\n",
    "Wprowadzenie do ćwiczenia.\n",
    "Krótkie przypomnienie teorii.\n",
    "todo przerobić na funkcje.\n",
    "todo dodać więcej prostych napisów"
   ]
  },
  {
   "cell_type": "markdown",
   "id": "fa173a14",
   "metadata": {},
   "source": [
    "## Zadanie 9.0. \n",
    "Zanim przejdziemy dalej uruchomimy dwa polecenia pomocnicze - zadeklarujemy korzystanie z biblioteki `iostream` oraz określimy, że będziemy domyślnie korzystali z przestrzeni nazw `std`. Dzieki temu w dalszej części ćwiczenia ... todo"
   ]
  },
  {
   "cell_type": "code",
   "execution_count": null,
   "id": "58bf5572",
   "metadata": {
    "vscode": {
     "languageId": "plaintext"
    }
   },
   "outputs": [],
   "source": [
    "#include <iostream>\n",
    "\n",
    "using namespace std;"
   ]
  },
  {
   "cell_type": "markdown",
   "id": "3049219f",
   "metadata": {},
   "source": [
    "## Zadanie 9.1.\n",
    "Zadeklarować tablicę statyczną jednowymiarową o rozmiarze podanym w stałej. Wypełnić ją wartościami liczbowymi od 0 do N-1, gdzie N - rozmiar tablicy. Wydrukować wartości z komórek tablicy na konsoli."
   ]
  },
  {
   "cell_type": "code",
   "execution_count": null,
   "id": "737ac271",
   "metadata": {
    "vscode": {
     "languageId": "plaintext"
    }
   },
   "outputs": [],
   "source": [
    "//todo rozwiąż zadanie"
   ]
  },
  {
   "cell_type": "code",
   "execution_count": null,
   "id": "e3408e1f",
   "metadata": {
    "vscode": {
     "languageId": "plaintext"
    }
   },
   "outputs": [],
   "source": [
    "//przykład poprawnego rozwiązania:\n",
    "const int N=4;\n",
    "int tab[N];\n",
    "\n",
    "for(int i=0;i<N;i++)\n",
    "{\n",
    "    tab[i]=i;\n",
    "}\n",
    "\n",
    "for(int i=0;i<N;i++)\n",
    "{\n",
    "    cout << tab[i] << \"\\t\";\n",
    "}\n",
    "cout << endl;"
   ]
  },
  {
   "cell_type": "markdown",
   "id": "f2664f91",
   "metadata": {},
   "source": [
    "## Zadanie 9.2.\n",
    "Do statycznej tablicy jednowymiarowej o rozmiarze N (stała) wpisz losowe wartości całkowite z przedziału pobranego z konsoli. Wyznacz średnią ze wszystkich wartości w tablicy. Wydrukuj tablicę na konsoli. "
   ]
  },
  {
   "cell_type": "code",
   "execution_count": null,
   "id": "b7d59b05",
   "metadata": {
    "vscode": {
     "languageId": "plaintext"
    }
   },
   "outputs": [],
   "source": [
    "//todo rozwiąż zadanie"
   ]
  },
  {
   "cell_type": "code",
   "execution_count": null,
   "id": "dced849e",
   "metadata": {
    "vscode": {
     "languageId": "plaintext"
    }
   },
   "outputs": [],
   "source": [
    "//przykład poprawnego rozwiązania:\n",
    "srand(time(0));\n",
    "const int N = 10;\n",
    "\n",
    "int min, max;\n",
    "cin >> min >> max; \n",
    "\n",
    "//zamień miejscami jeśli są w nieodpowiedniej kolejności\n",
    "if( min > max )\n",
    "{\n",
    "    int tmp = min;\n",
    "    min = max;\n",
    "    max = tmp;\n",
    "}\n",
    "\n",
    "//losowanie\n",
    "int tab[N];\n",
    "for(int i = 0; i < N; i++)\n",
    "{\n",
    "    tab[i] = min + rand()%(max - min + 1);\n",
    "}\n",
    "\n",
    "//drukowanie\n",
    "for(int i = 0; i < N; i++)\n",
    "{\n",
    "    cout << tab[i] << \"\\t\";\n",
    "}\n",
    "cout << endl;\n",
    "\n",
    "//srednia\n",
    "int suma = 0;\n",
    "for(int i = 0; i < N; i++)\n",
    "{\n",
    "    suma += tab[i];\n",
    "}\n",
    "cout << float(suma)/N << endl;"
   ]
  },
  {
   "cell_type": "markdown",
   "id": "2dafb915",
   "metadata": {},
   "source": [
    "## Zadanie 9.3.\n",
    "Do statycznej tablicy jednowymiarowej o rozmiarze N (stała) wpisz losowe wartości zmiennoprzecinkowe z przedziału pobranego z konsoli. Wyznacz średnią z wartości w tablicy. Przesuń tablicę cyklicznie o jedno miejsce w lewo. Elementy tablicy zamień miejscami symetrycznie względem jej środka. Wydrukuj tablicę na konsoli po każdej operacji. "
   ]
  },
  {
   "cell_type": "code",
   "execution_count": null,
   "id": "a4f36c98",
   "metadata": {
    "vscode": {
     "languageId": "plaintext"
    }
   },
   "outputs": [],
   "source": [
    "//todo rozwiąż zadanie"
   ]
  },
  {
   "cell_type": "code",
   "execution_count": null,
   "id": "d8ffec0f",
   "metadata": {
    "vscode": {
     "languageId": "plaintext"
    }
   },
   "outputs": [],
   "source": [
    "//przykład poprawnego rozwiązania:\n",
    "srand(time(0));\n",
    "const int N = 6;\n",
    "\n",
    "//wymuszenie poprawnych wartosci\n",
    "float min, max;\n",
    "do\n",
    "{\n",
    "    cin >> min >> max;\n",
    "}while(max <= min);\n",
    "\n",
    "//losowanie\n",
    "float tab[N];\n",
    "for(int i = 0; i < N; i++)\n",
    "{\n",
    "    tab[i] = min + (max-min)*rand()/float(RAND_MAX);\n",
    "}\n",
    "\n",
    "//drukowanie\n",
    "for(int i = 0; i < N; i++)\n",
    "{\n",
    "    cout << tab[i] << \"\\t\";\n",
    "}\n",
    "cout << endl;\n",
    "\n",
    "//srednia\n",
    "float suma = 0;\n",
    "for(int i = 0; i < N; i++)\n",
    "{\n",
    "    suma += tab[i];\n",
    "}\n",
    "cout << \"Średnia = \" << suma/N << endl;\n",
    "\n",
    "//przesuniecie cykliczne w lewo\n",
    "float pom = tab[0];\n",
    "for(int i = 0; i < N-1; i++)\n",
    "{\n",
    "    tab[i] = tab[i+1];\n",
    "}\n",
    "tab[N-1] = pom;\n",
    "\n",
    "/* \n",
    "//przesuniecie cykliczne w prawo\n",
    "float pom = tab[N-1];\n",
    "for(int i = N-1; i > 0; i--)\n",
    "{\n",
    "    tab[i] = tab[i-1];\n",
    "}\n",
    "tab[0] = pom;\n",
    "*/\n",
    "\n",
    "//drukowanie\n",
    "for(int i = 0; i < N; i++)\n",
    "{\n",
    "    cout << tab[i] << \"\\t\";\n",
    "}\n",
    "cout << endl;\n",
    "\n",
    "//zamiana symetryczna\n",
    "for(int i = 0; i < N/2; i++)\n",
    "{\n",
    "    float tmp = tab[i];\n",
    "    tab[i] = tab[N-1-i];\n",
    "    tab[N-1-i] = tmp;\n",
    "}\n",
    "\n",
    "//drukowanie\n",
    "for(int i = 0; i < N; i++)\n",
    "{\n",
    "    cout << tab[i] << \"\\t\";\n",
    "}\n",
    "cout << endl;"
   ]
  },
  {
   "cell_type": "markdown",
   "id": "552087ed",
   "metadata": {},
   "source": [
    "## Zadanie 9.4.\n",
    "Wczytywać z konsoli słowa dopóki rozpoczynają się małą literą. Dla każdego słowa wypisać co drugą jego literę."
   ]
  },
  {
   "cell_type": "code",
   "execution_count": null,
   "id": "5d74c751",
   "metadata": {
    "vscode": {
     "languageId": "plaintext"
    }
   },
   "outputs": [],
   "source": [
    "//todo rozwiąż zadanie"
   ]
  },
  {
   "cell_type": "code",
   "execution_count": null,
   "id": "e438c207",
   "metadata": {
    "vscode": {
     "languageId": "plaintext"
    }
   },
   "outputs": [],
   "source": [
    "//przykład poprawnego rozwiązania:\n",
    "\n",
    "string slowo;\n",
    "do\n",
    "{\n",
    "    cout << \"podaj slowo\" << endl;\n",
    "    \n",
    "    cin >> slowo;\n",
    "    int a = slowo.length();\n",
    "    \n",
    "    for(int i=0;i<a;i+=2)\n",
    "    {\n",
    "        cout << slowo[i]<< \" \";\n",
    "    }\n",
    "    \n",
    "    cout << endl;\n",
    "}while(slowo[0] <= 'z' && slowo[0] >= 'a');"
   ]
  },
  {
   "cell_type": "markdown",
   "id": "6a62a4bc",
   "metadata": {},
   "source": [
    "## Zadanie 9.5.\n",
    "Wczytywać z konsoli zdania (wykorzystać polecenie 'getline'), na konsoli wypisywać z nich jedynie znaki będące literami oraz spacjami."
   ]
  },
  {
   "cell_type": "code",
   "execution_count": null,
   "id": "baf1fc54",
   "metadata": {
    "vscode": {
     "languageId": "plaintext"
    }
   },
   "outputs": [],
   "source": [
    "//todo rozwiąż zadanie"
   ]
  },
  {
   "cell_type": "code",
   "execution_count": null,
   "id": "e17e4be3",
   "metadata": {
    "vscode": {
     "languageId": "plaintext"
    }
   },
   "outputs": [],
   "source": [
    "//przykład poprawnego rozwiązania:\n",
    "\n",
    "while (true)\n",
    "{\n",
    "    cout << \"wpisz zdanie\" << endl;\n",
    "    \n",
    "    string zdanie;\n",
    "    getline ( cin , zdanie);\n",
    "    \n",
    "    int pom1= zdanie.length();\n",
    "    for(int i=0;i<pom1;i++)\n",
    "    {\n",
    "        if( (zdanie[i]>='a' && zdanie[i]<='z') ||\n",
    "            (zdanie[i]>='A' && zdanie[i]<='Z') || \n",
    "            zdanie[i]==' ' || zdanie[i]=='\\t' )\n",
    "        {\n",
    "            cout << zdanie[i];\n",
    "        }\n",
    "    }\n",
    "    cout << endl;\n",
    "}"
   ]
  },
  {
   "cell_type": "markdown",
   "id": "4cc6cd26-7841-4a86-849f-0a525f8be689",
   "metadata": {
    "editable": true,
    "slideshow": {
     "slide_type": ""
    },
    "tags": []
   },
   "source": [
    "![logotypy.png](../figures/OMNIS2_logotypy.png)"
   ]
  }
 ],
 "metadata": {
  "kernelspec": {
   "display_name": "C++17",
   "language": "C++17",
   "name": "xcpp17"
  },
  "language_info": {
   "codemirror_mode": "text/x-c++src",
   "file_extension": ".cpp",
   "mimetype": "text/x-c++src",
   "name": "c++",
   "version": "17"
  }
 },
 "nbformat": 4,
 "nbformat_minor": 5
}

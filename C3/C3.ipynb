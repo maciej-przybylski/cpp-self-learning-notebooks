{
  "metadata": {
    "kernelspec": {
      "name": "xcpp17",
      "display_name": "C++17",
      "language": "cpp"
    },
    "language_info": {
      "codemirror_mode": "text/x-c++src",
      "file_extension": ".cpp",
      "mimetype": "text/x-c++src",
      "name": "C++",
      "version": "17"
    }
  },
  "nbformat_minor": 5,
  "nbformat": 4,
  "cells": [
    {
      "id": "24218d8b-9b9a-4480-be64-bab9d3562cb0",
      "cell_type": "markdown",
      "source": "![OMNIS2_Logo_projektu.png](../figures/OMNIS2_Logo_projektu.png)",
      "metadata": {
        "editable": true,
        "slideshow": {
          "slide_type": ""
        },
        "tags": []
      }
    },
    {
      "id": "32578e4d-0818-420c-899c-e578bf69a922",
      "cell_type": "markdown",
      "source": "# Ćwiczenie 3: Obsługa konsoli",
      "metadata": {
        "editable": true,
        "slideshow": {
          "slide_type": ""
        },
        "tags": []
      }
    },
    {
      "id": "5cef8094-fc24-4161-b9cd-f7c223ab42b3",
      "cell_type": "markdown",
      "source": "## Wprowadzenie\nProgramy pisane w ramach tego kursu będą programami konsolowymi. Oznacza to, że będą pozbawione interfejsu graficznego, czyli okienek zawierających przyciski, pola tekstowe itp. Program będzie się komunikował z użytkownikiem za pośrednictwem konsoli tekstowej, w której użytkownik może z klawiatury wprowadzać dane wejściowe dla programu i obserwować wypisywane przez niego wartości wyjściowe. W tym ćwiczeniu zapoznasz się z podstawami obsługi konsoli – metodami wypisywania i wprowadzania danych.",
      "metadata": {}
    },
    {
      "id": "50addea0-4f1e-422a-8bba-f927f0d9f132",
      "cell_type": "markdown",
      "source": "## Przygotowanie notatnika\nWykonaj poniższą komórkę, aby przygotować niniejszy notatnik do pracy.",
      "metadata": {}
    },
    {
      "id": "68e71f65-2c29-49aa-a6d5-de05a69a7d66",
      "cell_type": "code",
      "source": "#include <iostream>\nusing namespace std;",
      "metadata": {
        "trusted": true
      },
      "outputs": [],
      "execution_count": null
    },
    {
      "id": "f9816e88-26ca-469c-8b8a-620fcb604956",
      "cell_type": "markdown",
      "source": "## Strumienie wyjściowy i wejściowy\n\nW C++ najwygodniejszą metodą obsługi konsoli jest korzystanie z tzw. strumieni wyjściowego i wejściowego, zdefiniowanych w module *iostream* biblioteki standardowej. Dlatego wszystkie nasze programy do tej pory załączały ten moduł dyrektywą *#include*. **Strumienie** są ciągami bajtów o nieokreślonej długości, które przepływają od źródła do celu. Nasz program może być zarówno źródłem, jak i celem, w zależności od tego, czy wyprowadzamy z niego jakieś dane, czy też jakieś dane wprowadzamy. Moduł *iostream* oferuje kilka predefiniowanych strumieni, które są gotowe do użycia. Odwołujemy się do nich poprzez ich nazwy. Najważniejsze to **strumień wyjściowy *cout*** i **strumień wejściowy *cin***.  \n",
      "metadata": {}
    },
    {
      "id": "b59b0212-6423-4550-b051-9bc588960257",
      "cell_type": "markdown",
      "source": "## Wypisywanie danych w konsoli\n\n### Strumień wyjściowy *cout*\nPowróćmy do pierwszego programu z ćwiczenia 1:\n```c++\n#include <iostream>\nusing namespace std;\ncout << \"Witaj!\" << endl;\n```\nOstatnia instrukcja w powyższym kodzie odpowiada za wypisanie w konsoli napisu „Witaj!”. Operacja ta jest zrealizowana za pomocą strumienia *cout*. W poprzednim ćwiczeniu używaliśmy tego strumienia dosyć często, nie zagłębiając się jednak w znaczenie poszczególnych symboli w instrukcji.\n\n**Strumień wyjściowy *cout*** (skrót od ang. *Console OUTput*) jest strumieniem służącym do wyprowadzenia danych z programu do standardowego urządzenia wyjściowego, czyli wyświetlanego na ekranie okna konsoli. Dla uproszczenia ograniczmy powyższy kod do poniższej linijki:\n```c++\ncout << \"Witaj!\" ;\n```\nJest to najprostsza możliwa instrukcja wypisania jakichś danych w konsoli. Po lewej stronie powyższej instrukcji umieszczona jest nazwa strumienia *cout*. Po prawej stronie znajdują się pewne dane, mianowicie ustalony z góry łańcuch znakowy „Witaj!”. Pomiędzy nimi znajduje się operator przesunięcia w lewo, oznaczony jako „<<”. Sam strumień nie może pobrać danych, muszą być one do niego przekierowane odpowiednim operatorem. Powyższy zapis można więc rozumieć jako: wprowadź stały łańcuch znakowy „Witaj!” do strumienia wyjściowego *cout*. Można powiedzieć, że kierunek strzałek operatora obrazuje kierunek przepływu danych.\nWracając do pełnej instrukcji wypisania z pierwszego programu:\n```c++\ncout << \"Witaj!\" << endl;\n```\nmożna zauważyć, że operator << może zostać użyty wielokrotnie w ramach jednej instrukcji. Można więc na raz wypisać więcej niż jedną wartość. Drugie użycie operatora wprowadza do strumienia symbol *endl* (skrót od ang. *end of line*). Jest to nic innego, jak wymuszenie przejścia do nowej linii. Jeśli wykonasz poniższą komórkę, zobaczysz efekt jego działania:",
      "metadata": {}
    },
    {
      "id": "38e378d9-665b-4e01-9073-7d9b53025e0c",
      "cell_type": "code",
      "source": "cout << \"Poczatek napisu\" << endl << \"ciag dalszy napisu w nowej linii\" << endl;",
      "metadata": {
        "trusted": true
      },
      "outputs": [],
      "execution_count": null
    },
    {
      "id": "584fb8ae-1fb7-42d0-98ee-750f21230c89",
      "cell_type": "markdown",
      "source": "Podobny efekt można uzyskać, wprowadzając do strumienia znany z poprzedniego ćwiczenia kod sterujący ‘\\n’:",
      "metadata": {}
    },
    {
      "id": "024484e3-391d-41f9-bd2c-45c441748cad",
      "cell_type": "code",
      "source": "cout << \"Poczatek napisu\" << '\\n' << \"ciag dalszy napisu w nowej linii\" << endl;",
      "metadata": {
        "trusted": true
      },
      "outputs": [],
      "execution_count": null
    },
    {
      "id": "bcca65e1-d5ff-4880-bdec-7956fe2ddb1f",
      "cell_type": "markdown",
      "source": "Widzimy więc, że do strumienia *cout* możemy kierować pewne ustalone wartości, jak choćby łańcuch znakowy „Witaj!”. Nie jest to jednak kres jego możliwości. W poprzednim ćwiczeniu używaliśmy go też do wypisywania wartości zmiennych, a nawet wartości zwracanej przez operator *sizeof*(). W poniższym przykładzie zostaje wypisana wartość zdefiniowanej uprzednio zmiennej *liczba*, wraz z pewnym tekstem:",
      "metadata": {}
    },
    {
      "id": "bfd92269-0c86-4929-b6d9-7a9fd8215c7e",
      "cell_type": "code",
      "source": "int liczba = 175;\ncout << \"Wartosc zmiennej liczba wynosi: \" << liczba << endl;",
      "metadata": {
        "trusted": true
      },
      "outputs": [],
      "execution_count": null
    },
    {
      "id": "c734fda0-0835-4b03-a6f4-6a4485887c3d",
      "cell_type": "markdown",
      "source": "Tak więc do strumienia wyjściowego *cout* możemy skierować zarówno pewną z góry zdefiniowaną w kodzie programu wartość, jak i bieżącą wartość jakiejś zmiennej. Możemy również wypisać wartość będącą wynikiem działania np. operatorów arytmetycznych:",
      "metadata": {}
    },
    {
      "id": "fd3f737e-90f8-4f1f-8cb5-d59f9253acab",
      "cell_type": "code",
      "source": "cout << 2*(liczba - 100) << endl;",
      "metadata": {
        "trusted": true
      },
      "outputs": [],
      "execution_count": null
    },
    {
      "id": "42e6ddf7-2263-4e7a-b171-c185de7eb28b",
      "cell_type": "markdown",
      "source": "### Manipulatory wydruku\nDane przekierowane do strumienia *cout* są wypisywane w pewien z góry ustalony sposób. Możliwe jest jednak wprowadzenie zmian w jego domyślnym zachowaniu za pomocą tzw. **manipulatorów wydruku**. Są to pewne funkcje, które po umieszczeniu w strumieniu za pomocą operatora << pozwalają wpływać na układ tekstu w konsoli.\n\nManipulatory wydruku zdefiniowane są w module *iomanip* biblioteki standardowej – bez jego załączenia do programu nie będą dostępne. Załączmy więc ten moduł dyrektywą *#include*:",
      "metadata": {}
    },
    {
      "id": "75290512-6c08-4f9c-8f10-4239e4bc864a",
      "cell_type": "code",
      "source": "#include <iomanip>",
      "metadata": {
        "trusted": true
      },
      "outputs": [],
      "execution_count": null
    },
    {
      "id": "1533c5fc-1855-4852-8f51-b7338fdd7200",
      "cell_type": "markdown",
      "source": "Na potrzeby poniższych przykładów wygenerujmy też liczbę rzeczywistą o nieskończonym rozwinięciu dziesiętnym:",
      "metadata": {}
    },
    {
      "id": "814236e9-3f0b-41d6-a3d5-636caba69108",
      "cell_type": "code",
      "source": "double rzeczywista = 5.0/3;\ncout << rzeczywista << endl;",
      "metadata": {
        "trusted": true
      },
      "outputs": [],
      "execution_count": null
    },
    {
      "id": "9ba60c76-ce54-414b-bf1e-406f59c29ce0",
      "cell_type": "markdown",
      "source": "Zauważ, że liczba ta została wypisana z ograniczoną dokładnością – zazwyczaj wyświetlanych jest ok. 5 cyfr części ułamkowej, przy czym ostatnia jest zaokrągleniem dalszej części rozwinięcia. Istnieją manipulatory wydruku, które pozwalają to zmienić.\n\n**Manipulator *setw*()** służy do ustalenia szerokości pola wydruku, czyli liczby miejsc na znaki podczas pojedynczego wypisania. Domyślnie pole wydruku jest dostosowane do liczby znaków wypisywanej wartości. Jeśli wypiszemy dwukrotnie naszą liczbę rzeczywistą bez żadnej separacji, to zauważysz, że oba wypisania zlewają się w jeden ciąg cyfr – pole wydruku jest ściśle dopasowane do liczby wypisanych znaków:\n",
      "metadata": {}
    },
    {
      "id": "c9b8c863-b1dd-456f-8f67-f801c7f1bdc9",
      "cell_type": "code",
      "source": "cout << rzeczywista << rzeczywista << endl;",
      "metadata": {
        "trusted": true
      },
      "outputs": [],
      "execution_count": null
    },
    {
      "id": "eed826fe-915c-44df-8881-06b8d0135378",
      "cell_type": "markdown",
      "source": "Możemy jednak użyć manipulatora *setw*(), by to zmienić. Manipulator *setw*() jest manipulatorem argumentowym – oznacza to, że w okrągłym nawiasie musimy podać jakąś wartość wpływającą na efekt jego działania. W tym przypadku jest to liczba całkowita dodatnia określająca żądaną szerokość pola wydruku. Manipulator *setw*() umieszczamy w strumieniu *cout* jak każdą inną wartość, za pomocą operatora <<. Należy jednak pamiętać, że jego działanie dotyczy tylko pierwszej wypisywanej po nim wartości:",
      "metadata": {}
    },
    {
      "id": "0b08a6cf-c249-4748-b514-d6187e48f85c",
      "cell_type": "code",
      "source": "cout << setw(8) << rzeczywista << rzeczywista << endl;",
      "metadata": {
        "trusted": true
      },
      "outputs": [],
      "execution_count": null
    },
    {
      "id": "0adb6fa7-ca5b-4389-81ac-c83d3583ca64",
      "cell_type": "markdown",
      "source": "Przed pierwszą liczbą pojawiło się dodatkowe pole, ponieważ jest wypisywana jako 7 znaków, a ustawiona liczba pól wydruku wynosi 8. Ale druga nadal jest wypisywana bezpośrednio po niej. Jeśli dodamy manipulator również przed drugim wypisaniem:",
      "metadata": {}
    },
    {
      "id": "a1db5d25-d846-4f74-ab2c-eac1db6abe01",
      "cell_type": "code",
      "source": "cout << setw(8) << rzeczywista << setw(8) << rzeczywista << endl;",
      "metadata": {
        "trusted": true
      },
      "outputs": [],
      "execution_count": null
    },
    {
      "id": "ae1b2faf-2f0e-486e-98a2-a13bbc4ffbbb",
      "cell_type": "markdown",
      "source": "obie liczby są już rozdzielone. Zwiększmy szerokość pola wydruku do 10, aby lepiej móc obserwować efekty:",
      "metadata": {}
    },
    {
      "id": "99801ce1-2726-4f2e-95db-0f7e954e34b9",
      "cell_type": "code",
      "source": "cout << setw(10) << rzeczywista << setw(10) << rzeczywista << endl;",
      "metadata": {
        "trusted": true
      },
      "outputs": [],
      "execution_count": null
    },
    {
      "id": "3bddfaa4-40dd-42ae-8b34-920092ff3729",
      "cell_type": "markdown",
      "source": "Widzimy, że obie liczby są w swoich polach wydruku wyrównane do prawej strony – puste miejsca poprzedzają wypisywaną wartość. Możemy jednak to zmienić, wykorzystując bezargumentowy manipulator ***left***:",
      "metadata": {}
    },
    {
      "id": "439b5643-4d2f-4c8b-b13b-672f9755c18e",
      "cell_type": "code",
      "source": "cout << left << setw(10) << rzeczywista << setw(10) << rzeczywista << endl;",
      "metadata": {
        "trusted": true
      },
      "outputs": [],
      "execution_count": null
    },
    {
      "id": "329f6419-1328-4be1-8435-4aa5a761f0cb",
      "cell_type": "markdown",
      "source": "Teraz w polu wydruku najpierw znajduje się wypisywana wartość, a pozostałe miejsca są puste. Zauważ, że zmiana wprowadzana przez manipulator *left* jest trwała – mimo umieszczenia go jedynie raz w strumieniu *cout*, wpływa na oba pola wydruku. Ustawienie wyrównania do lewej będzie obowiązywać również we wszystkich kolejnych instrukcjach wypisania, chyba że to zmienimy., Jeśli chcemy powrócić do poprzedniego układu z wyrównaniem do prawej, możemy użyć manipulatora ***right***:",
      "metadata": {}
    },
    {
      "id": "7fc6db0d-d13f-45f9-80b8-0351a983cb97",
      "cell_type": "code",
      "source": "cout << right << setw(10) << rzeczywista << setw(10) << rzeczywista << endl;",
      "metadata": {
        "trusted": true
      },
      "outputs": [],
      "execution_count": null
    },
    {
      "id": "d61b66c9-31c9-40b9-8d74-b027ce70f538",
      "cell_type": "markdown",
      "source": "Możemy też wymuszać zmiany przy każdym wypisaniu, poprzedzając je odpowiednim manipulatorem:",
      "metadata": {}
    },
    {
      "id": "222b6516-3696-4401-8e22-d1f9aa66eab6",
      "cell_type": "code",
      "source": "cout << left << setw(10) << rzeczywista << right << setw(10) << rzeczywista << endl;",
      "metadata": {
        "trusted": true
      },
      "outputs": [],
      "execution_count": null
    },
    {
      "id": "e9f12c36-22f1-4d3e-8aa4-d33eac72146a",
      "cell_type": "markdown",
      "source": "Istotne znaczenie mają również manipulatory związane ze sposobem wypisywania liczb rzeczywistych. Wpływają one jedynie na wypisywanie wartości typu *float* i *double*. Manipulator ***setprecision*()** pozwala określić precyzję wypisywania liczby rzeczywistych – ile cyfr znaczących chcemy zobaczyć. Jest, podobnie jak *setw*(), manipulatorem argumentowym. Argumentem jest liczba całkowita dodatnia określająca liczbę wyświetlanych cyfr znaczących. Jeśli podamy wartość 1:",
      "metadata": {}
    },
    {
      "id": "3c8ba262-e3b5-4c53-8cdc-64ea40e99357",
      "cell_type": "code",
      "source": "cout << setprecision(1) << rzeczywista << endl;",
      "metadata": {
        "trusted": true
      },
      "outputs": [],
      "execution_count": null
    },
    {
      "id": "4afc4063-9d23-4bbb-85af-422aaa0b251d",
      "cell_type": "markdown",
      "source": "zobaczymy jedynie liczbę całkowitą. Zauważ, że została prawidłowo zaokrąglona – wartość 1.66667 zaokrąglono w górę do 2. Zwiększmy teraz precyzję do 10:",
      "metadata": {}
    },
    {
      "id": "81759228-ed50-44e1-8ae4-2dbd3199ed5b",
      "cell_type": "code",
      "source": "cout << setprecision(10) << rzeczywista << endl;",
      "metadata": {
        "trusted": true
      },
      "outputs": [],
      "execution_count": null
    },
    {
      "id": "2d09bbac-c75b-4d49-ba8b-d2b94a352f6d",
      "cell_type": "markdown",
      "source": "Widzimy jedną cyfrę części całkowitej oraz 9 cyfr rozwinięcia dziesiętnego – w sumie 10 cyfr naszej liczby. Aby zobaczyć, jak manipulator *setprecision*() wpływa na liczby o większej części dziesiętnej, wygenerujmy odpowiednio dużą liczbę:",
      "metadata": {}
    },
    {
      "id": "3628b4ad-e839-4f43-8bd5-0641674f10ea",
      "cell_type": "code",
      "source": "double rzeczywista2 = 10000.0/3;\ncout << rzeczywista2 << endl;",
      "metadata": {
        "trusted": true
      },
      "outputs": [],
      "execution_count": null
    },
    {
      "id": "35dcd708-6bcc-4d41-853f-b7c6edd53243",
      "cell_type": "markdown",
      "source": "Wciąż widzimy 10 cyfr znaczących – ustawienie wprowadzone manipulatorem *setprecision*() obowiązuje cały czas od momentu jego użycia. Zmieńmy teraz precyzję na 4:",
      "metadata": {}
    },
    {
      "id": "84746cb8-2b29-4a33-a86a-e7b40fa38703",
      "cell_type": "code",
      "source": "cout << setprecision(4) << rzeczywista2 << endl;",
      "metadata": {
        "trusted": true
      },
      "outputs": [],
      "execution_count": null
    },
    {
      "id": "e9ff6eaa-5257-4d8d-8c9e-988a528c5add",
      "cell_type": "markdown",
      "source": "Pozostały jedynie 4 cyfry części całkowitej, zgodnie z wprowadzonym ustawieniem. Zmniejszmy precyzję jeszcze bardziej:",
      "metadata": {}
    },
    {
      "id": "af5e3414-fda4-4c03-a8a6-3e7a4ad489ae",
      "cell_type": "code",
      "source": "cout << setprecision(2) << rzeczywista2 << endl;",
      "metadata": {
        "trusted": true
      },
      "outputs": [],
      "execution_count": null
    },
    {
      "id": "660d0a49-aa73-4367-9b13-fa38ec5238c7",
      "cell_type": "markdown",
      "source": "Aby wypisać jedynie dwie cyfry znaczące, automatycznie zmienił się sposób wyświetlania liczby – przyjęto notację wykładniczą. Jeśli przeliczymy wyświetloną wartość 3.3e+03 (czyli $3.3\\cdot10^{3}$) na postać dziesiętną, otrzymamy 3300. Liczba odbiega więc od wcześniejszej wartości. Utrata danych jest jednak tylko pozorna – zaszła jedynie w wypisaniu, ale w zmiennej *rzeczywista1* nadal przechowywana jest poprawna wartość, co zobaczysz, ponownie zwiększając precyzję wypisania:",
      "metadata": {}
    },
    {
      "id": "2b90ff93-7d19-46b2-b57d-bca62f19af48",
      "cell_type": "code",
      "source": "cout << setprecision(8) << rzeczywista2 << endl;",
      "metadata": {
        "trusted": true
      },
      "outputs": [],
      "execution_count": null
    },
    {
      "id": "e4737724-4c7f-4e60-9668-fb1fabf3a4d5",
      "cell_type": "markdown",
      "source": "Ostatnie dwa omawiane manipulatory dotyczą sposobu reprezentacji liczb rzeczywistych – dziesiętnego lub wykładniczego. Bezargumentowy manipulator ***fixed*** wymusza zapis w postaci dziesiętnej:",
      "metadata": {}
    },
    {
      "id": "4afd475e-815f-45b3-9152-65f695c8b1a2",
      "cell_type": "code",
      "source": "cout << setprecision(2) << fixed << rzeczywista2 << endl;",
      "metadata": {
        "trusted": true
      },
      "outputs": [],
      "execution_count": null
    },
    {
      "id": "17584a50-9bfc-4e6c-8fa4-610b01624fd0",
      "cell_type": "markdown",
      "source": "Mimo ustawienia precyzji ponownie na 2 cyfry, liczba została wypisana w notacji dziesiętnej, z dwoma miejscami części ułamkowej. W połączeniu z *fixed*, *setprecision*() określa liczbę cyfr części ułamkowej, a nie ogólną liczbę cyfr znaczących. Część całkowita będzie więc zawsze wypisana w całości, a ustawienie liczby cyfr dotyczy tylko części ułamkowej:",
      "metadata": {}
    },
    {
      "id": "c84b5062-5341-459d-82b2-d0349b028937",
      "cell_type": "code",
      "source": "cout << setprecision(3) << rzeczywista << endl;\ncout << setprecision(5) << rzeczywista2 << endl;",
      "metadata": {
        "trusted": true
      },
      "outputs": [],
      "execution_count": null
    },
    {
      "id": "49d093d5-e8d4-424b-9bd7-791d29ffbdd7",
      "cell_type": "markdown",
      "source": "W pierwszym wypisaniu mamy 3 cyfry po kropce, w drugim 5 cyfr. Części całkowite są wypisywane w całości. Jeśli mamy potrzebę wypisania liczby rzeczywistej w notacji wykładniczej, możemy skorzystać z bezargumentowego manipulatora ***scientific***.  W tym przypadku manipulator *setprecision*() wpływa na liczbę cyfr po kropce wyświetlanych w notacji wykładniczej:",
      "metadata": {}
    },
    {
      "id": "024a1e4c-fbe1-43c4-a619-1f60d07d6c19",
      "cell_type": "code",
      "source": "cout << setprecision(0) << scientific << rzeczywista << endl << rzeczywista2 << endl;",
      "metadata": {
        "trusted": true
      },
      "outputs": [],
      "execution_count": null
    },
    {
      "id": "314664e6-97c6-4c0c-a019-ae89a1b8946f",
      "cell_type": "markdown",
      "source": "W powyższym przykładzie wymuszono pominięcie cyfr części ułamkowej (argument *setprecision*() wynosi 0). Zwróć uwagę, że zarówno *setprecision*(), jak i *scientific* wpływają na wszystkie kolejne wypisania, nie tylko na pierwsze. Tyczy się to również manipulatora *fixed*. Jeśli zwiększymy precyzję, zobaczymy, że liczba cyfr wyświetlanych po kropce odpowiada argumentowi operatora *setprecision*():",
      "metadata": {}
    },
    {
      "id": "eeb8e84e-d9b2-4b12-8c3b-73d9827f30f9",
      "cell_type": "code",
      "source": "cout << setprecision(10) << scientific << rzeczywista << endl << rzeczywista2 << endl;",
      "metadata": {
        "trusted": true
      },
      "outputs": [],
      "execution_count": null
    },
    {
      "id": "f26da514-52e7-4e87-8638-5ddaec69c478",
      "cell_type": "markdown",
      "source": "Podsumowując:\n- *setw*() – ustala szerokość pola wydruku, wpływa tylko na pierwszą wartość wypisywaną po jego umieszczeniu w strumieniu *cout*;\n- *left* i *right* – ustalają wyrównanie tekstu w polu wydruku, wpływają na wszystkie wypisania po ich umieszczeniu w strumieniu *cout*;\n- *fixed* i *scientific* – ustalają format zapisu liczby rzeczywistej, odpowiednio dziesiętny lub wykładniczy,  wpływają na wszystkie wypisania po ich umieszczeniu w strumieniu *cout*;\n- *setprecision*() – ustala liczbę cyfr znaczących (jeśli nie użyto *fixed* lub *sientific* – automatyczny dobór notacji), albo liczbę cyfr części ułamkowej (jeżeli użyto *fixed* lub *scientifc* do wymuszenia konkretnej notacji), wpływa na wszystkie wypisania po jego umieszczeniu w strumieniu *cout*.",
      "metadata": {}
    },
    {
      "id": "2f724235-2a50-4312-95cd-9f4efc7dce6c",
      "cell_type": "markdown",
      "source": "### Zadanie 3.1\nWykonaj poniższą komórkę, aby wygenerować liczbę rzeczywistą o nieskończonym okresowym rozwinięciu przypisaną do zmiennej *x*.",
      "metadata": {}
    },
    {
      "id": "49916ba0-29c4-49eb-b1a0-de4eb0bffbce",
      "cell_type": "code",
      "source": "double x = 50000.0/7;\ncout << x << endl;",
      "metadata": {
        "trusted": true
      },
      "outputs": [],
      "execution_count": null
    },
    {
      "id": "3e8cd1e7-e31c-42be-a868-7cb15f6c039e",
      "cell_type": "markdown",
      "source": "Następnie, korzystając z odpowiednich manipulatorów wydruku, dodaj w poniższych komórkach instrukcję wypisującą zmienną *x*:\n\na) w postaci dziesiętnej z precyzją 12 cyfr w polu wydruku o szerokości 20 z wyrównaniem do prawej,",
      "metadata": {}
    },
    {
      "id": "49519c8e-a533-46e9-b621-037b89f26bda",
      "cell_type": "code",
      "source": "",
      "metadata": {
        "trusted": true
      },
      "outputs": [],
      "execution_count": null
    },
    {
      "id": "af75f16c-a380-4841-8b71-b2143005a812",
      "cell_type": "markdown",
      "source": "b) w postaci wykładniczej z precyzją 8 cyfr w polu wydruku o szerokości 15 z wyrównaniem do lewej.",
      "metadata": {}
    },
    {
      "id": "3c6c2041-97d1-4fbd-88f9-27c4944a1be7",
      "cell_type": "code",
      "source": "",
      "metadata": {
        "trusted": true
      },
      "outputs": [],
      "execution_count": null
    },
    {
      "id": "b68eeecc-0b76-4607-8e9a-04d47a0c8436",
      "cell_type": "markdown",
      "source": "## Wprowadzanie danych z konsoli\n\nNasze dotychczasowe programy były w stanie jedynie wypisywać dane. Najczęściej chcemy jednak dać użytkownikowi możliwość wprowadzenia jakichś danych wejściowych za pomocą klawiatury. Druga część ćwiczenia dotyczyć będzie właśnie metod wczytywania danych wejściowych.\n\n### Strumień wejściowy *cin*\nWczytywanie danych od użytkownika odbywa się z klawiatury za pośrednictwem konsoli. Użytkownik wpisuje jakąś wartość w konsoli i zatwierdza klawiszem ENTER, zaś rolą programu jest zachowanie tej wartości w jakiejś zmiennej. Najprostszym narzędziem do realizacji takiej operacji jest **strumień wejściowy *cin*** (skrót od ang. *Console INput*). Ogólna składnia użycia strumienia, zakładając, że mamy wcześniej zdefiniowaną jakąś zmienną, wygląda następująco:\n```c++\ncin >> jakas_zmienna;\n```\nInstrukcja rozpoczyna się ponownie odwołaniem do nazwy strumienia, w tym przypadku *cin*, który jest źródłem. Przed średnikiem znajduje się nazwa zmiennej, która jest celem. Dane przepływają od źródła do celu, co obrazuje kierunek strzałek w operatorze przesunięcia w prawo „>>”. UWAGA: O ile do strumienia *cout* mogliśmy kierować zarówno ustalone wartości (liczby, znaki, napisy) jak i wartości zmiennych, to użycie strumienia *cin* ma sens jedynie ze zmiennymi, do których można przypisać pobraną ze strumienia wartość. W takim razie zapis:\n```c++\ncin >> 10;\t// źle!\n```\nnie ma żadnego sensu – nie można przecież przypisać pobranej ze strumienia wartości do liczby 10. Tak samo należy pamiętać, że ze strumieniem *cin* nigdy nie wystąpi *endl* - jak można próbować przypisać coś do symbolu przejścia do nowej linii. Można przypisywać tylko do zmiennych.\n\nUżyjmy więc strumienia *cin* do wczytania liczby całkowitej do zmiennej *liczba* typu *int*. Wykonanie poniższej komórki spowoduje, że pojawi się pole, w którym możesz coś wpisać (najlepiej liczbę całkowitą) i potwierdzić klawiszem ENTER: ",
      "metadata": {}
    },
    {
      "id": "bea69865-7c40-43ce-ab68-ad0f74472e63",
      "cell_type": "code",
      "source": "int liczba;\ncin >> liczba;\ncout << liczba << endl;",
      "metadata": {
        "trusted": true
      },
      "outputs": [],
      "execution_count": null
    },
    {
      "id": "ba644234-fc3d-475c-b569-a3cdf5a1396f",
      "cell_type": "markdown",
      "source": "W odpowiedzi program wypisze wartość wczytaną do zmiennej *liczba*. Można dodać elementy tekstowego interfejsu użytkownika, które powiedzą mu, co ma zrobić:",
      "metadata": {}
    },
    {
      "id": "3ab20778-58d4-45e8-ad66-19537e540702",
      "cell_type": "code",
      "source": "cout << \"Podaj liczbę całkowitą: \";\ncin >> liczba;\ncout << \"Twoja liczba to :\" << liczba << endl;",
      "metadata": {
        "trusted": true
      },
      "outputs": [],
      "execution_count": null
    },
    {
      "id": "212ddf07-87b0-49ff-87c7-91689e654214",
      "cell_type": "markdown",
      "source": "Oczywiście użytkownik może wpisać dowolną wartość, która niekoniecznie będzie liczbą całkowitą. Może to doprowadzić do niejawnej konwersji (patrz Ćwiczenie 2) lub do sytuacji, w której przypisanie wprowadzonej w ogóle nie będzie możliwe. Może to doprowadzić do błędów programu i zakłócenia jego pracy. Notatniki Jupyter wyposażono w pewne zabezpieczenie – jeśli spróbujesz wczytać w powyższej komórce np. napis, wynikiem będzie 0. Metody zabezpieczania programu przed nieoczekiwanymi  akcjami użytkownika są istotne, jednak nie będziemy się nimi zajmować w tym kursie – wymagają trochę więcej wiedzy. Przyjmijmy więc założenie, że użytkownik będzie zawsze podawał dane odpowiedniego typu.\n\nPodobnie, jak przy wypisywaniu, również przy wczytywaniu można zawrzeć wiele operacji w jednej instrukcji, stosując wielokrotnie operator >>:",
      "metadata": {}
    },
    {
      "id": "08433310-cef1-44b0-be27-7a72c6136f0a",
      "cell_type": "code",
      "source": "int x1, x2, x3;\ncin >> x1 >> x2 >> x3;\ncout << x1 << ' ' << x2 << ' ' << x3 << endl;",
      "metadata": {
        "trusted": true
      },
      "outputs": [],
      "execution_count": null
    },
    {
      "id": "412b7ef9-7ad4-4198-83f7-117ab1992a0b",
      "cell_type": "markdown",
      "source": "Efektem jest wypisanie trzech wczytanych liczb, które zapewne wprowadziłeś potwierdzając każdą klawiszem ENTER. Spróbuj teraz ponownie wykonać komórkę, wpisz od razu trzy liczby całkowite rozdzielone spacjami i wciśnij ENTER. Ponownie wczytałeś trzy osobne wartości, mimo wciśnięcia ENTER-a tylko raz. Ujawnia to ważną własność strumienia *cin*: **dane są wczytywane tylko do pierwszego białego znaku**. W powyższym przykładzie, gdzie liczby były rozdzielone spacjami, wczytałeś więc faktycznie trzy wartości. Własność ta niekiedy jest korzystna, jedna może stanowić również problem.",
      "metadata": {}
    },
    {
      "id": "2d0d24ad-6569-49c8-9a39-af911c72dfad",
      "cell_type": "markdown",
      "source": "### Zadanie 3.2\n\nNapisać program wczytujący imię użytkownika i wypisujący powitanie „Witaj wczytane_imie!”.",
      "metadata": {}
    },
    {
      "id": "56d66c56-b509-4274-85a2-be5bdab1e474",
      "cell_type": "markdown",
      "source": "### Odpowiedź",
      "metadata": {
        "jp-MarkdownHeadingCollapsed": true
      }
    },
    {
      "id": "47fd7585-27a5-4e03-9515-cc15c8ec2718",
      "cell_type": "code",
      "source": "string imie;\t// zmienna do wczytania napisu\ncin >> imie;\ncout << \"Witaj \" << imie << '!' << endl;",
      "metadata": {
        "trusted": true
      },
      "outputs": [],
      "execution_count": null
    },
    {
      "id": "724062a1-0522-44d3-8501-2a61dc997391",
      "cell_type": "markdown",
      "source": "### Funkcja *getline*()\nJak ustaliliśmy w poprzednim rozdziale, operator >> wczytuje dane ze strumienia *cin* do pierwszego białego znaku (spacja, tabulator, przejście do nowej linii). W wielu zastosowaniach jest to wystraczające. Są jednak sytuacje, w szczególności wczytywanie wielowyrazowych łańcuchów znaków, gdzie takie rozwiązanie się nie sprawdzi. Spróbuje wkleić napis: „Programowanie 1: Algorytmy i struktury danych w C++” w pole wczytania, które pojawi się po wykonaniu poniższej komórki:",
      "metadata": {}
    },
    {
      "id": "b885b2a8-4703-437b-afbb-528bf8595275",
      "cell_type": "code",
      "source": "string napis;\ncin >> napis;\ncout << napis << endl;",
      "metadata": {
        "trusted": true
      },
      "outputs": [],
      "execution_count": null
    },
    {
      "id": "c0ef2bb1-5a95-4702-ad31-31be7420b0f5",
      "cell_type": "markdown",
      "source": "Jak widzisz, wczytane zostało jedynie pierwsze słowo. Pozostałe słowa nie zostały wczytane, i co gorsza, nadal znajdują się w strumieniu *cin*. Tu ujawni się pewne zabezpieczenie stosowane w notatnikach Jupyter – strumień *cin* po próbie odczytu jest czyszczony z nieodczytanych znaków. W prawdziwym kompilatorze dane pozostałyby w strumieniu i kolejna próba odczytu operatorem  >> zakończyłaby się odczytaniem kolejnego wyrazu „1:” bez udziału użytkownika.\n\nJeśli chcemy wczytać napis wielowyrazowy, pomocna okazuje się funkcja *getline*() zdefiniowana w module *string* biblioteki standardowej, której wywołanie wygląda następująco:\n```c++\ngetline(zrodlo,cel,znak_konca_linii);\n```\nFunkcja przyjmuje trzy argumenty, które przy jej wywołaniu należy podać w nawiasach okrągłych, rozdzielona przecinkami. Źródłem jest strumień, z którego chcemy odczytać dane. W naszym przypadku będzie to strumień *cin*, choć w ćwiczeniach dotyczących obsługi plików tekstowych może to być również wejściowy strumień plikowy. Ale na to przyjdzie czas. Celem będzie jakiś obiekt klasy *string*, choćby nasza zmienna „napis”. Trzeci argument, *znak_konca_linii* jest argumentem domyślnym – w definicji funkcji ma ustaloną wartość,  która zostanie przyjęta, jeśli w wywołaniu programista nie zdecyduje inaczej. W *getline*() domyślną wartością jest znak przejścia do nowej linii, co w konsoli jest tożsame z wciśnięciem klawisza ENTER. Wykonaj poniższą komórkę, wklejając w pole wczytania napis  „Programowanie 1: Algorytmy i struktury danych w C++” i wciskając ENTER:",
      "metadata": {}
    },
    {
      "id": "8dce258f-e1cb-45cf-820c-c4195e3f3c42",
      "cell_type": "code",
      "source": "getline(cin,napis);\ncout << napis << endl;",
      "metadata": {
        "trusted": true
      },
      "outputs": [],
      "execution_count": null
    },
    {
      "id": "bcf07b69-7165-4909-9ce5-b380cfdb343f",
      "cell_type": "markdown",
      "source": "Jak widzisz, teraz cały napis został wczytany do zmiennej „napis”. Skoro nie zmieniliśmy wartości argumentu *znak_konca_linii*, to domyślnie jest nim ENTER.\nSpróbuj wykonać następnie tę komórkę, wklejając ponownie powyższy napis testowy:",
      "metadata": {}
    },
    {
      "id": "06a837b0-b4ff-461c-8f0c-66fd33f1c7ad",
      "cell_type": "code",
      "source": "getline(cin,napis,'*');\ncout << napis << endl;",
      "metadata": {
        "trusted": true
      },
      "outputs": [],
      "execution_count": null
    },
    {
      "id": "8efd107e-ddd0-4663-967e-86481bf715f3",
      "cell_type": "markdown",
      "source": "Pewnie zdziwi Cię, że po wciśnięciu ENTER-a program nadal działa, a Ty możesz wciąż pisać w polu wczytywania. Dopisz jeszcze jakiś tekst i wciśnij na klawiaturze gwiazdkę, dopisz coś jeszcze, a następnie wciśnij ENTER. W wypisanym tekście zauważysz, że wczytano wszystko, włącznie z przejściem do nowej linii, aż do napotkania symbolu ‘*’, który ustaliliśmy jako znak końca linii w wywołaniu funkcji *getline*(). Zmieniliśmy więc domyślną wartość trzeciego argumentu. Rozwiązanie to jest dość przydatne, jeśli chcemy wczytywać wielosilnikowe napisy – możemy jako znak końca wczytywania ustalić jakiś mało typowy znak, który raczej nie wystąpi w tekście.",
      "metadata": {}
    },
    {
      "id": "501d2626-28b8-42a5-8f35-7bad9632ab63",
      "cell_type": "markdown",
      "source": "### Zadanie 3.3\nNapisz program, który wczyta od użytkownika wielowyrazowy tekst do zmiennej typu *string*. Następnie wypisz ten tekst oraz użyj na tej zmiennej funkcji wbudowanej *length*() (patrz Ćwiczenie 2), aby policzyć i wypisać liczbę znaków we wprowadzonym tekście.",
      "metadata": {}
    },
    {
      "id": "6882cb81-d158-4f2f-aecd-e93f9e8b02d6",
      "cell_type": "markdown",
      "source": "### Odpowiedź",
      "metadata": {
        "jp-MarkdownHeadingCollapsed": true
      }
    },
    {
      "id": "fd5cb4f2-557e-44c4-aca1-619c8eda5765",
      "cell_type": "code",
      "source": "string tekst;\ngetline(cin,tekst);\ncout << tekst << endl;\ncout << tekst.length() << endl;",
      "metadata": {
        "trusted": true
      },
      "outputs": [],
      "execution_count": null
    },
    {
      "id": "4cc6cd26-7841-4a86-849f-0a525f8be689",
      "cell_type": "markdown",
      "source": "![logotypy.png](../figures/OMNIS2_logotypy.png)",
      "metadata": {
        "editable": true,
        "slideshow": {
          "slide_type": ""
        },
        "tags": []
      }
    }
  ]
}
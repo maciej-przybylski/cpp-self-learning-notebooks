{
 "cells": [
  {
   "cell_type": "markdown",
   "id": "24218d8b-9b9a-4480-be64-bab9d3562cb0",
   "metadata": {
    "editable": true,
    "slideshow": {
     "slide_type": ""
    },
    "tags": []
   },
   "source": [
    "![OMNIS2_Logo_projektu.png](../figures/OMNIS2_Logo_projektu.png)"
   ]
  },
  {
   "cell_type": "markdown",
   "id": "32578e4d-0818-420c-899c-e578bf69a922",
   "metadata": {
    "editable": true,
    "slideshow": {
     "slide_type": ""
    },
    "tags": []
   },
   "source": [
    "# Ćwiczenie 3: Obsługa konsoli\n",
    "\n",
    "autor: Maciej Kachniarz"
   ]
  },
  {
   "cell_type": "markdown",
   "id": "5cef8094-fc24-4161-b9cd-f7c223ab42b3",
   "metadata": {},
   "source": [
    "## Wprowadzenie\n",
    "Programy pisane w ramach tego kursu będą programami konsolowymi. Oznacza to, że będą pozbawione interfejsu graficznego, czyli okienek zawierających przyciski, pola tekstowe itp. Program będzie się komunikował z użytkownikiem za pośrednictwem konsoli tekstowej, w której użytkownik może z klawiatury wprowadzać dane wejściowe dla programu i obserwować wypisywane przez niego wartości wyjściowe. W tym ćwiczeniu zapoznasz się z podstawami obsługi konsoli – metodami wypisywania i wprowadzania danych."
   ]
  },
  {
   "cell_type": "markdown",
   "id": "50addea0-4f1e-422a-8bba-f927f0d9f132",
   "metadata": {},
   "source": [
    "## Przygotowanie notatnika\n",
    "Wykonaj poniższą komórkę, aby przygotować niniejszy notatnik do pracy."
   ]
  },
  {
   "cell_type": "code",
   "execution_count": null,
   "id": "68e71f65-2c29-49aa-a6d5-de05a69a7d66",
   "metadata": {},
   "outputs": [],
   "source": [
    "#include <iostream>\n",
    "using namespace std;"
   ]
  },
  {
   "cell_type": "markdown",
   "id": "f9816e88-26ca-469c-8b8a-620fcb604956",
   "metadata": {},
   "source": [
    "## Strumienie wyjściowy i wejściowy\n",
    "\n",
    "W C++ najwygodniejszą metodą obsługi konsoli jest korzystanie z tzw. strumieni wyjściowego i wejściowego, zdefiniowanych w module *iostream* biblioteki standardowej. Dlatego wszystkie nasze programy do tej pory załączały ten moduł dyrektywą *#include*. **Strumienie** są ciągami bajtów o nieokreślonej długości, które przepływają od źródła do celu. Nasz program może być zarówno źródłem, jak i celem, w zależności od tego, czy wyprowadzamy z niego jakieś dane, czy też jakieś dane wprowadzamy. Moduł *iostream* oferuje kilka predefiniowanych strumieni, które są gotowe do użycia. Odwołujemy się do nich poprzez ich nazwy. Najważniejsze to **strumień wyjściowy *cout*** i **strumień wejściowy *cin***.  \n"
   ]
  },
  {
   "cell_type": "markdown",
   "id": "b59b0212-6423-4550-b051-9bc588960257",
   "metadata": {},
   "source": [
    "## Wypisywanie danych w konsoli\n",
    "\n",
    "### Strumień wyjściowy *cout*\n",
    "Powróćmy do pierwszego programu z ćwiczenia 1:\n",
    "```c++\n",
    "#include <iostream>\n",
    "using namespace std;\n",
    "cout << \"Witaj!\" << endl;\n",
    "```\n",
    "Ostatnia instrukcja w powyższym kodzie odpowiada za wypisanie w konsoli napisu „Witaj!”. Operacja ta jest zrealizowana za pomocą strumienia *cout*. W poprzednim ćwiczeniu używaliśmy tego strumienia dosyć często, nie zagłębiając się jednak w znaczenie poszczególnych symboli w instrukcji.\n",
    "\n",
    "**Strumień wyjściowy *cout*** (skrót od ang. *Console OUTput*) jest strumieniem służącym do wyprowadzenia danych z programu do standardowego urządzenia wyjściowego, czyli wyświetlanego na ekranie okna konsoli. Dla uproszczenia ograniczmy powyższy kod do poniższej linijki:\n",
    "```c++\n",
    "cout << \"Witaj!\" ;\n",
    "```\n",
    "Jest to najprostsza możliwa instrukcja wypisania jakichś danych w konsoli. Po lewej stronie powyższej instrukcji umieszczona jest nazwa strumienia *cout*. Po prawej stronie znajdują się pewne dane, mianowicie ustalony z góry łańcuch znakowy „Witaj!”. Pomiędzy nimi znajduje się operator przesunięcia w lewo, oznaczony jako „<<”. Powyższy zapis można więc rozumieć jako: wprowadź stały łańcuch znakowy „Witaj!” do strumienia wyjściowego *cout*. Można powiedzieć, że kierunek strzałek operatora obrazuje kierunek przepływu danych.\n",
    "Wracając do pełnej instrukcji wypisania z pierwszego programu:\n",
    "```c++\n",
    "cout << \"Witaj!\" << endl;\n",
    "```\n",
    "można zauważyć, że operator << może zostać użyty wielokrotnie w ramach jednej instrukcji. Można więc na raz wypisać więcej niż jedną wartość. Drugie użycie operatora wprowadza do strumienia symbol *endl* (skrót od ang. *end of line*). Jest to nic innego, jak wymuszenie przejścia do nowej linii. Jeśli wykonasz poniższą komórkę, zobaczysz efekt jego działania:"
   ]
  },
  {
   "cell_type": "code",
   "execution_count": null,
   "id": "38e378d9-665b-4e01-9073-7d9b53025e0c",
   "metadata": {},
   "outputs": [],
   "source": [
    "cout << \"Poczatek napisu\" << endl << \"ciag dalszy napisu w nowej linii\" << endl;"
   ]
  },
  {
   "cell_type": "markdown",
   "id": "584fb8ae-1fb7-42d0-98ee-750f21230c89",
   "metadata": {},
   "source": [
    "Podobny efekt można uzyskać, wprowadzając do strumienia znany z poprzedniego ćwiczenia kod sterujący ‘\\n’:"
   ]
  },
  {
   "cell_type": "code",
   "execution_count": null,
   "id": "024484e3-391d-41f9-bd2c-45c441748cad",
   "metadata": {},
   "outputs": [],
   "source": [
    "cout << \"Poczatek napisu\" << '\\n' << \"ciag dalszy napisu w nowej linii\" << endl;"
   ]
  },
  {
   "cell_type": "markdown",
   "id": "bcca65e1-d5ff-4880-bdec-7956fe2ddb1f",
   "metadata": {},
   "source": [
    "Widzimy więc, że do strumienia *cout* możemy kierować pewne ustalone wartości, jak choćby łańcuch znakowy „Witaj!”. Nie jest to jednak kres jego możliwości. W poprzednim ćwiczeniu używaliśmy go też do wypisywania wartości zmiennych, a nawet wartości zwracanej przez operator *sizeof*(). W poniższym przykładzie zostaje wypisana wartość zdefiniowanej uprzednio zmiennej *liczba*, wraz z pewnym tekstem:"
   ]
  },
  {
   "cell_type": "code",
   "execution_count": null,
   "id": "bfd92269-0c86-4929-b6d9-7a9fd8215c7e",
   "metadata": {},
   "outputs": [],
   "source": [
    "int liczba = 175;\n",
    "cout << \"Wartosc zmiennej liczba wynosi: \" << liczba << endl;"
   ]
  },
  {
   "cell_type": "markdown",
   "id": "c734fda0-0835-4b03-a6f4-6a4485887c3d",
   "metadata": {},
   "source": [
    "Tak więc do strumienia wyjściowego *cout* możemy skierować zarówno pewną z góry zdefiniowaną w kodzie programu wartość, jak i bieżącą wartość jakiejś zmiennej. Możemy również wypisać wartość będącą wynikiem działania np. operatorów arytmetycznych:"
   ]
  },
  {
   "cell_type": "code",
   "execution_count": null,
   "id": "fd3f737e-90f8-4f1f-8cb5-d59f9253acab",
   "metadata": {},
   "outputs": [],
   "source": [
    "cout << 2*(liczba - 100) << endl;"
   ]
  },
  {
   "cell_type": "markdown",
   "id": "42e6ddf7-2263-4e7a-b171-c185de7eb28b",
   "metadata": {},
   "source": [
    "### Manipulatory wydruku\n",
    "Dane przekierowane do strumienia *cout* są wypisywane w pewien z góry ustalony sposób. Możliwe jest jednak wprowadzenie zmian w jego domyślnym zachowaniu za pomocą tzw. **manipulatorów wydruku**. Są to pewne funkcje, które po umieszczeniu w strumieniu za pomocą operatora << pozwalają wpływać na układ tekstu w konsoli.\n",
    "\n",
    "Manipulatory wydruku zdefiniowane są w module *iomanip* biblioteki standardowej – bez jego załączenia do programu nie będą dostępne. Załączmy więc ten moduł dyrektywą *#include*:"
   ]
  },
  {
   "cell_type": "code",
   "execution_count": null,
   "id": "75290512-6c08-4f9c-8f10-4239e4bc864a",
   "metadata": {},
   "outputs": [],
   "source": [
    "#include <iomanip>"
   ]
  },
  {
   "cell_type": "markdown",
   "id": "1533c5fc-1855-4852-8f51-b7338fdd7200",
   "metadata": {},
   "source": [
    "Na potrzeby poniższych przykładów wygenerujmy też liczbę rzeczywistą o nieskończonym rozwinięciu dziesiętnym:"
   ]
  },
  {
   "cell_type": "code",
   "execution_count": null,
   "id": "814236e9-3f0b-41d6-a3d5-636caba69108",
   "metadata": {},
   "outputs": [],
   "source": [
    "double rzeczywista = 5.0/3;\n",
    "cout << rzeczywista << endl;"
   ]
  },
  {
   "cell_type": "markdown",
   "id": "9ba60c76-ce54-414b-bf1e-406f59c29ce0",
   "metadata": {},
   "source": [
    "Zauważ, że liczba ta została wypisana z ograniczoną dokładnością – zazwyczaj wyświetlanych jest ok. 5 cyfr części ułamkowej, przy czym ostatnia jest zaokrągleniem dalszej części rozwinięcia. Istnieją manipulatory wydruku, które pozwalają to zmienić.\n",
    "\n",
    "**Manipulator *setw*()** służy do ustalenia szerokości pola wydruku, czyli liczby miejsc na znaki podczas pojedynczego wypisania. Domyślnie pole wydruku jest dostosowane do liczby znaków wypisywanej wartości. Jeśli wypiszemy dwukrotnie naszą liczbę rzeczywistą bez żadnej separacji, to zauważysz, że oba wypisania zlewają się w jeden ciąg cyfr – pole wydruku jest ściśle dopasowane do liczby wypisanych znaków:\n"
   ]
  },
  {
   "cell_type": "code",
   "execution_count": null,
   "id": "c9b8c863-b1dd-456f-8f67-f801c7f1bdc9",
   "metadata": {},
   "outputs": [],
   "source": [
    "cout << rzeczywista << rzeczywista << endl;"
   ]
  },
  {
   "cell_type": "markdown",
   "id": "eed826fe-915c-44df-8881-06b8d0135378",
   "metadata": {},
   "source": [
    "Możemy jednak użyć manipulatora *setw*(), by to zmienić. Manipulator *setw*() jest manipulatorem argumentowym – oznacza to, że w okrągłym nawiasie musimy podać jakąś wartość wpływającą na efekt jego działania. W tym przypadku jest to liczba całkowita dodatnia określająca żądaną szerokość pola wydruku. Manipulator *setw*() umieszczamy w strumieniu *cout* jak każdą inną wartość, za pomocą operatora <<. Należy jednak pamiętać, że jego działanie dotyczy tylko pierwszej wypisywanej po nim wartości:"
   ]
  },
  {
   "cell_type": "code",
   "execution_count": null,
   "id": "0b08a6cf-c249-4748-b514-d6187e48f85c",
   "metadata": {},
   "outputs": [],
   "source": [
    "cout << setw(8) << rzeczywista << rzeczywista << endl;"
   ]
  },
  {
   "cell_type": "markdown",
   "id": "0adb6fa7-ca5b-4389-81ac-c83d3583ca64",
   "metadata": {},
   "source": [
    "Przed pierwszą liczbą pojawiło się dodatkowe pole, ponieważ jest wypisywana jako 7 znaków, a ustawiona liczba pól wydruku wynosi 8. Ale druga nadal jest wypisywana bezpośrednio po niej. Jeśli dodamy manipulator również przed drugim wypisaniem:"
   ]
  },
  {
   "cell_type": "code",
   "execution_count": null,
   "id": "a1db5d25-d846-4f74-ab2c-eac1db6abe01",
   "metadata": {},
   "outputs": [],
   "source": [
    "cout << setw(8) << rzeczywista << setw(8) << rzeczywista << endl;"
   ]
  },
  {
   "cell_type": "markdown",
   "id": "ae1b2faf-2f0e-486e-98a2-a13bbc4ffbbb",
   "metadata": {},
   "source": [
    "obie liczby są już rozdzielone. Zwiększmy szerokość pola wydruku do 10, aby lepiej móc obserwować efekty:"
   ]
  },
  {
   "cell_type": "code",
   "execution_count": null,
   "id": "99801ce1-2726-4f2e-95db-0f7e954e34b9",
   "metadata": {},
   "outputs": [],
   "source": [
    "cout << setw(10) << rzeczywista << setw(10) << rzeczywista << endl;"
   ]
  },
  {
   "cell_type": "markdown",
   "id": "3bddfaa4-40dd-42ae-8b34-920092ff3729",
   "metadata": {},
   "source": [
    "Widzimy, że obie liczby są w swoich polach wydruku wyrównane do prawej strony – puste miejsca poprzedzają wypisywaną wartość. Możemy jednak to zmienić, wykorzystując bezargumentowy manipulator ***left***:"
   ]
  },
  {
   "cell_type": "code",
   "execution_count": null,
   "id": "439b5643-4d2f-4c8b-b13b-672f9755c18e",
   "metadata": {},
   "outputs": [],
   "source": [
    "cout << left << setw(10) << rzeczywista << setw(10) << rzeczywista << endl;"
   ]
  },
  {
   "cell_type": "markdown",
   "id": "329f6419-1328-4be1-8435-4aa5a761f0cb",
   "metadata": {},
   "source": [
    "Teraz w polu wydruku najpierw znajduje się wypisywana wartość, a pozostałe miejsca są puste. Zauważ, że zmiana wprowadzana przez manipulator *left* jest trwała – mimo umieszczenia go jedynie raz w strumieniu *cout*, wpływa na oba pola wydruku. Ustawienie wyrównania do lewej będzie obowiązywać również we wszystkich kolejnych instrukcjach wypisania, chyba że to zmienimy., Jeśli chcemy powrócić do poprzedniego układu z wyrównaniem do prawej, możemy użyć manipulatora ***right***:"
   ]
  },
  {
   "cell_type": "code",
   "execution_count": null,
   "id": "7fc6db0d-d13f-45f9-80b8-0351a983cb97",
   "metadata": {},
   "outputs": [],
   "source": [
    "cout << right << setw(10) << rzeczywista << setw(10) << rzeczywista << endl;"
   ]
  },
  {
   "cell_type": "markdown",
   "id": "d61b66c9-31c9-40b9-8d74-b027ce70f538",
   "metadata": {},
   "source": [
    "Możemy też wymuszać zmiany przy każdym wypisaniu, poprzedzając je odpowiednim manipulatorem:"
   ]
  },
  {
   "cell_type": "code",
   "execution_count": null,
   "id": "222b6516-3696-4401-8e22-d1f9aa66eab6",
   "metadata": {},
   "outputs": [],
   "source": [
    "cout << left << setw(10) << rzeczywista << right << setw(10) << rzeczywista << endl;"
   ]
  },
  {
   "cell_type": "markdown",
   "id": "e9f12c36-22f1-4d3e-8aa4-d33eac72146a",
   "metadata": {},
   "source": [
    "Istotne znaczenie mają również manipulatory związane ze sposobem wypisywania liczb rzeczywistych. Wpływają one jedynie na wypisywanie wartości typu *float* i *double*. Manipulator ***setprecision*()** pozwala określić precyzję wypisywania liczby rzeczywistych – ile cyfr znaczących chcemy zobaczyć. Jest, podobnie jak *setw*(), manipulatorem argumentowym. Argumentem jest liczba całkowita dodatnia określająca liczbę wyświetlanych cyfr znaczących. Jeśli podamy wartość 1:"
   ]
  },
  {
   "cell_type": "code",
   "execution_count": null,
   "id": "3c8ba262-e3b5-4c53-8cdc-64ea40e99357",
   "metadata": {},
   "outputs": [],
   "source": [
    "cout << setprecision(1) << rzeczywista << endl;"
   ]
  },
  {
   "cell_type": "markdown",
   "id": "4afc4063-9d23-4bbb-85af-422aaa0b251d",
   "metadata": {},
   "source": [
    "zobaczymy jedynie liczbę całkowitą. Zauważ, że została prawidłowo zaokrąglona – wartość 1.66667 zaokrąglono w górę do 2. Zwiększmy teraz precyzję do 10:"
   ]
  },
  {
   "cell_type": "code",
   "execution_count": null,
   "id": "81759228-ed50-44e1-8ae4-2dbd3199ed5b",
   "metadata": {},
   "outputs": [],
   "source": [
    "cout << setprecision(10) << rzeczywista << endl;"
   ]
  },
  {
   "cell_type": "markdown",
   "id": "2d09bbac-c75b-4d49-ba8b-d2b94a352f6d",
   "metadata": {},
   "source": [
    "Widzimy jedną cyfrę części całkowitej oraz 9 cyfr rozwinięcia dziesiętnego – w sumie 10 cyfr naszej liczby. Aby zobaczyć, jak manipulator *setprecision*() wpływa na liczby o większej części dziesiętnej, wygenerujmy odpowiednio dużą liczbę:"
   ]
  },
  {
   "cell_type": "code",
   "execution_count": null,
   "id": "3628b4ad-e839-4f43-8bd5-0641674f10ea",
   "metadata": {},
   "outputs": [],
   "source": [
    "double rzeczywista2 = 10000.0/3;\n",
    "cout << rzeczywista2 << endl;"
   ]
  },
  {
   "cell_type": "markdown",
   "id": "35dcd708-6bcc-4d41-853f-b7c6edd53243",
   "metadata": {},
   "source": [
    "Wciąż widzimy 10 cyfr znaczących – ustawienie wprowadzone manipulatorem *setprecision*() obowiązuje cały czas od momentu jego użycia. Zmieńmy teraz precyzję na 4:"
   ]
  },
  {
   "cell_type": "code",
   "execution_count": null,
   "id": "84746cb8-2b29-4a33-a86a-e7b40fa38703",
   "metadata": {},
   "outputs": [],
   "source": [
    "cout << setprecision(4) << rzeczywista2 << endl;"
   ]
  },
  {
   "cell_type": "markdown",
   "id": "e9ff6eaa-5257-4d8d-8c9e-988a528c5add",
   "metadata": {},
   "source": [
    "Pozostały jedynie 4 cyfry części całkowitej, zgodnie z wprowadzonym ustawieniem. Zmniejszmy precyzję jeszcze bardziej:"
   ]
  },
  {
   "cell_type": "code",
   "execution_count": null,
   "id": "af5e3414-fda4-4c03-a8a6-3e7a4ad489ae",
   "metadata": {},
   "outputs": [],
   "source": [
    "cout << setprecision(2) << rzeczywista2 << endl;"
   ]
  },
  {
   "cell_type": "markdown",
   "id": "660d0a49-aa73-4367-9b13-fa38ec5238c7",
   "metadata": {},
   "source": [
    "Aby wypisać jedynie dwie cyfry znaczące, automatycznie zmienił się sposób wyświetlania liczby – przyjęto notację wykładniczą. Jeśli przeliczymy wyświetloną wartość 3.3e+03 (czyli $3.3\\cdot10^{3}$) na postać dziesiętną, otrzymamy 3300. Liczba odbiega więc od wcześniejszej wartości. Utrata danych jest jednak tylko pozorna – zaszła jedynie w wypisaniu, ale w zmiennej *rzeczywista1* nadal przechowywana jest poprawna wartość, co zobaczysz, ponownie zwiększając precyzję wypisania:"
   ]
  },
  {
   "cell_type": "code",
   "execution_count": null,
   "id": "2b90ff93-7d19-46b2-b57d-bca62f19af48",
   "metadata": {},
   "outputs": [],
   "source": [
    "cout << setprecision(8) << rzeczywista2 << endl;"
   ]
  },
  {
   "cell_type": "markdown",
   "id": "e4737724-4c7f-4e60-9668-fb1fabf3a4d5",
   "metadata": {},
   "source": [
    "Ostatnie dwa omawiane manipulatory dotyczą sposobu reprezentacji liczb rzeczywistych – dziesiętnego lub wykładniczego. Bezargumentowy manipulator ***fixed*** wymusza zapis w postaci dziesiętnej:"
   ]
  },
  {
   "cell_type": "code",
   "execution_count": null,
   "id": "4afd475e-815f-45b3-9152-65f695c8b1a2",
   "metadata": {},
   "outputs": [],
   "source": [
    "cout << setprecision(2) << fixed << rzeczywista2 << endl;"
   ]
  },
  {
   "cell_type": "markdown",
   "id": "17584a50-9bfc-4e6c-8fa4-610b01624fd0",
   "metadata": {},
   "source": [
    "Mimo ustawienia precyzji ponownie na 2 cyfry, liczba została wypisana w notacji dziesiętnej, z dwoma miejscami części ułamkowej. W połączeniu z *fixed*, *setprecision*() określa liczbę cyfr części ułamkowej, a nie ogólną liczbę cyfr znaczących. Część całkowita będzie więc zawsze wypisana w całości, a ustawienie liczby cyfr dotyczy tylko części ułamkowej:"
   ]
  },
  {
   "cell_type": "code",
   "execution_count": null,
   "id": "c84b5062-5341-459d-82b2-d0349b028937",
   "metadata": {},
   "outputs": [],
   "source": [
    "cout << setprecision(3) << rzeczywista << endl;\n",
    "cout << setprecision(5) << rzeczywista2 << endl;"
   ]
  },
  {
   "cell_type": "markdown",
   "id": "49d093d5-e8d4-424b-9bd7-791d29ffbdd7",
   "metadata": {},
   "source": [
    "W pierwszym wypisaniu mamy 3 cyfry po kropce, w drugim 5 cyfr. Części całkowite są wypisywane w całości. Jeśli mamy potrzebę wypisania liczby rzeczywistej w notacji wykładniczej, możemy skorzystać z bezargumentowego manipulatora ***scientific***.  W tym przypadku manipulator *setprecision*() wpływa na liczbę cyfr po kropce wyświetlanych w notacji wykładniczej:"
   ]
  },
  {
   "cell_type": "code",
   "execution_count": null,
   "id": "024a1e4c-fbe1-43c4-a619-1f60d07d6c19",
   "metadata": {},
   "outputs": [],
   "source": [
    "cout << setprecision(0) << scientific << rzeczywista << endl << rzeczywista2 << endl;"
   ]
  },
  {
   "cell_type": "markdown",
   "id": "314664e6-97c6-4c0c-a019-ae89a1b8946f",
   "metadata": {},
   "source": [
    "W powyższym przykładzie wymuszono pominięcie cyfr części ułamkowej (argument *setprecision*() wynosi 0). Zwróć uwagę, że zarówno *setprecision*(), jak i *scientific* wpływają na wszystkie kolejne wypisania, nie tylko na pierwsze. Tyczy się to również manipulatora *fixed*. Jeśli zwiększymy precyzję, zobaczymy, że liczba cyfr wyświetlanych po kropce odpowiada argumentowi operatora *setprecision*():"
   ]
  },
  {
   "cell_type": "code",
   "execution_count": null,
   "id": "eeb8e84e-d9b2-4b12-8c3b-73d9827f30f9",
   "metadata": {},
   "outputs": [],
   "source": [
    "cout << setprecision(10) << scientific << rzeczywista << endl << rzeczywista2 << endl;"
   ]
  },
  {
   "cell_type": "markdown",
   "id": "f26da514-52e7-4e87-8638-5ddaec69c478",
   "metadata": {},
   "source": [
    "Podsumowując:\n",
    "- *setw*() – ustala szerokość pola wydruku, wpływa tylko na pierwszą wartość wypisywaną po jego umieszczeniu w strumieniu *cout*;\n",
    "- *left* i *right* – ustalają wyrównanie tekstu w polu wydruku, wpływają na wszystkie wypisania po ich umieszczeniu w strumieniu *cout*;\n",
    "- *fixed* i *scientific* – ustalają format zapisu liczby rzeczywistej, odpowiednio dziesiętny lub wykładniczy,  wpływają na wszystkie wypisania po ich umieszczeniu w strumieniu *cout*;\n",
    "- *setprecision*() – ustala liczbę cyfr znaczących (jeśli nie użyto *fixed* lub *sientific* – automatyczny dobór notacji), albo liczbę cyfr części ułamkowej (jeżeli użyto *fixed* lub *scientifc* do wymuszenia konkretnej notacji), wpływa na wszystkie wypisania po jego umieszczeniu w strumieniu *cout*."
   ]
  },
  {
   "cell_type": "markdown",
   "id": "2f724235-2a50-4312-95cd-9f4efc7dce6c",
   "metadata": {},
   "source": [
    "### Zadanie 3.1\n",
    "Wykonaj poniższą komórkę, aby wygenerować liczbę rzeczywistą o nieskończonym okresowym rozwinięciu przypisaną do zmiennej *x*."
   ]
  },
  {
   "cell_type": "code",
   "execution_count": null,
   "id": "49916ba0-29c4-49eb-b1a0-de4eb0bffbce",
   "metadata": {},
   "outputs": [],
   "source": [
    "double x = 50000.0/7;\n",
    "cout << x << endl;"
   ]
  },
  {
   "cell_type": "markdown",
   "id": "3e8cd1e7-e31c-42be-a868-7cb15f6c039e",
   "metadata": {},
   "source": [
    "Następnie, korzystając z odpowiednich manipulatorów wydruku, dodaj w poniższych komórkach instrukcję wypisującą zmienną *x*:\n",
    "\n",
    "a) w postaci dziesiętnej z precyzją 12 cyfr w polu wydruku o szerokości 20 z wyrównaniem do prawej,"
   ]
  },
  {
   "cell_type": "code",
   "execution_count": null,
   "id": "49519c8e-a533-46e9-b621-037b89f26bda",
   "metadata": {},
   "outputs": [],
   "source": []
  },
  {
   "cell_type": "markdown",
   "id": "af75f16c-a380-4841-8b71-b2143005a812",
   "metadata": {},
   "source": [
    "b) w postaci wykładniczej z precyzją 8 cyfr w polu wydruku o szerokości 15 z wyrównaniem do lewej."
   ]
  },
  {
   "cell_type": "code",
   "execution_count": null,
   "id": "3c6c2041-97d1-4fbd-88f9-27c4944a1be7",
   "metadata": {},
   "outputs": [],
   "source": []
  },
  {
   "cell_type": "markdown",
   "id": "b68eeecc-0b76-4607-8e9a-04d47a0c8436",
   "metadata": {},
   "source": [
    "## Wprowadzanie danych z konsoli\n",
    "\n",
    "Nasze dotychczasowe programy były w stanie jedynie wypisywać dane. Najczęściej chcemy jednak dać użytkownikowi możliwość wprowadzenia jakichś danych wejściowych za pomocą klawiatury. Druga część ćwiczenia dotyczyć będzie właśnie metod wczytywania danych wejściowych.\n",
    "\n",
    "### Strumień wejściowy *cin*\n",
    "Wczytywanie danych od użytkownika odbywa się z klawiatury za pośrednictwem konsoli. Użytkownik wpisuje jakąś wartość w konsoli i zatwierdza klawiszem ENTER, zaś rolą programu jest zachowanie tej wartości w jakiejś zmiennej. Najprostszym narzędziem do realizacji takiej operacji jest **strumień wejściowy *cin*** (skrót od ang. *Console INput*). Ogólna składnia użycia strumienia, zakładając, że mamy wcześniej zdefiniowaną jakąś zmienną, wygląda następująco:\n",
    "```c++\n",
    "cin >> jakas_zmienna;\n",
    "```\n",
    "Instrukcja rozpoczyna się ponownie odwołaniem do nazwy strumienia, w tym przypadku *cin*, który jest źródłem. Przed średnikiem znajduje się nazwa zmiennej, która jest celem. Dane przepływają od źródła do celu, co obrazuje kierunek strzałek w operatorze przesunięcia w prawo „>>”. UWAGA: O ile do strumienia *cout* mogliśmy kierować zarówno ustalone wartości (liczby, znaki, napisy) jak i wartości zmiennych, to użycie strumienia *cin* ma sens jedynie ze zmiennymi, do których można przypisać pobraną ze strumienia wartość. W takim razie zapis:\n",
    "```c++\n",
    "cin >> 10;\t// źle!\n",
    "```\n",
    "nie ma żadnego sensu – nie można przecież przypisać pobranej ze strumienia wartości do liczby 10. Tak samo należy pamiętać, że ze strumieniem *cin* nigdy nie wystąpi *endl* - jak można próbować przypisać coś do symbolu przejścia do nowej linii. Można przypisywać tylko do zmiennych.\n",
    "\n",
    "Użyjmy więc strumienia *cin* do wczytania liczby całkowitej do zmiennej *liczba* typu *int*. Wykonanie poniższej komórki spowoduje, że pojawi się pole, w którym możesz coś wpisać (najlepiej liczbę całkowitą) i potwierdzić klawiszem ENTER: "
   ]
  },
  {
   "cell_type": "code",
   "execution_count": null,
   "id": "bea69865-7c40-43ce-ab68-ad0f74472e63",
   "metadata": {},
   "outputs": [],
   "source": [
    "int liczba;\n",
    "cin >> liczba;\n",
    "cout << liczba << endl;"
   ]
  },
  {
   "cell_type": "markdown",
   "id": "ba644234-fc3d-475c-b569-a3cdf5a1396f",
   "metadata": {},
   "source": [
    "W odpowiedzi program wypisze wartość wczytaną do zmiennej *liczba*. Można dodać elementy tekstowego interfejsu użytkownika, które powiedzą mu, co ma zrobić:"
   ]
  },
  {
   "cell_type": "code",
   "execution_count": null,
   "id": "3ab20778-58d4-45e8-ad66-19537e540702",
   "metadata": {},
   "outputs": [],
   "source": [
    "cout << \"Podaj liczbę całkowitą: \";\n",
    "cin >> liczba;\n",
    "cout << \"Twoja liczba to :\" << liczba << endl;"
   ]
  },
  {
   "cell_type": "markdown",
   "id": "212ddf07-87b0-49ff-87c7-91689e654214",
   "metadata": {},
   "source": [
    "Oczywiście użytkownik może wpisać dowolną wartość, która niekoniecznie będzie liczbą całkowitą. Może to doprowadzić do niejawnej konwersji (patrz Ćwiczenie 2) lub do sytuacji, w której przypisanie wprowadzonej w ogóle nie będzie możliwe. Może to doprowadzić do błędów programu i zakłócenia jego pracy. Notatniki Jupyter wyposażono w pewne zabezpieczenie – jeśli spróbujesz wczytać w powyższej komórce np. napis, wynikiem będzie 0. Metody zabezpieczania programu przed nieoczekiwanymi  akcjami użytkownika są istotne, jednak nie będziemy się nimi zajmować w tym kursie – wymagają trochę więcej wiedzy. Przyjmijmy więc założenie, że użytkownik będzie zawsze podawał dane odpowiedniego typu.\n",
    "\n",
    "Podobnie, jak przy wypisywaniu, również przy wczytywaniu można zawrzeć wiele operacji w jednej instrukcji, stosując wielokrotnie operator >>:"
   ]
  },
  {
   "cell_type": "code",
   "execution_count": null,
   "id": "08433310-cef1-44b0-be27-7a72c6136f0a",
   "metadata": {},
   "outputs": [],
   "source": [
    "int x1, x2, x3;\n",
    "cin >> x1 >> x2 >> x3;\n",
    "cout << x1 << ' ' << x2 << ' ' << x3 << endl;"
   ]
  },
  {
   "cell_type": "markdown",
   "id": "412b7ef9-7ad4-4198-83f7-117ab1992a0b",
   "metadata": {},
   "source": [
    "Efektem jest wypisanie trzech wczytanych liczb, które zapewne wprowadziłeś potwierdzając każdą klawiszem ENTER. Spróbuj teraz ponownie wykonać komórkę, wpisz od razu trzy liczby całkowite rozdzielone spacjami i wciśnij ENTER. Ponownie wczytałeś trzy osobne wartości, mimo wciśnięcia ENTER-a tylko raz. Ujawnia to ważną własność strumienia *cin*: **dane są wczytywane tylko do pierwszego białego znaku**. W powyższym przykładzie, gdzie liczby były rozdzielone spacjami, wczytałeś więc faktycznie trzy wartości. Własność ta niekiedy jest korzystna, jedna może stanowić również problem."
   ]
  },
  {
   "cell_type": "markdown",
   "id": "2d0d24ad-6569-49c8-9a39-af911c72dfad",
   "metadata": {},
   "source": [
    "### Zadanie 3.2\n",
    "\n",
    "Napisać program wczytujący imię użytkownika i wypisujący powitanie „Witaj wczytane_imie!”."
   ]
  },
  {
   "cell_type": "code",
   "execution_count": null,
   "id": "da36fd9e-acac-408c-be69-a79c279936a2",
   "metadata": {},
   "outputs": [],
   "source": []
  },
  {
   "cell_type": "markdown",
   "id": "56d66c56-b509-4274-85a2-be5bdab1e474",
   "metadata": {},
   "source": [
    "<details>\n",
    "    <summary>Odpowiedź</summary>\n",
    "    \n",
    "```c++\n",
    "string imie;\t// zmienna do wczytania napisu\n",
    "cin >> imie;\n",
    "cout << \"Witaj \" << imie << '!' << endl;\n",
    "```\n",
    "</details>\n",
    " "
   ]
  },
  {
   "cell_type": "markdown",
   "id": "724062a1-0522-44d3-8501-2a61dc997391",
   "metadata": {},
   "source": [
    "### Funkcja *getline*()\n",
    "Jak ustaliliśmy w poprzednim rozdziale, operator >> wczytuje dane ze strumienia *cin* do pierwszego białego znaku (spacja, tabulator, przejście do nowej linii). W wielu zastosowaniach jest to wystarczające. Są jednak sytuacje, w szczególności wczytywanie wielowyrazowych łańcuchów znaków, gdzie takie rozwiązanie się nie sprawdzi. Spróbuje wkleić napis: „Programowanie 1: Algorytmy i struktury danych w C++” w pole wczytania, które pojawi się po wykonaniu poniższej komórki:"
   ]
  },
  {
   "cell_type": "code",
   "execution_count": null,
   "id": "b885b2a8-4703-437b-afbb-528bf8595275",
   "metadata": {},
   "outputs": [],
   "source": [
    "string napis;\n",
    "cin >> napis;\n",
    "cout << napis << endl;"
   ]
  },
  {
   "cell_type": "markdown",
   "id": "c0ef2bb1-5a95-4702-ad31-31be7420b0f5",
   "metadata": {},
   "source": [
    "Jak widzisz, wczytane zostało jedynie pierwsze słowo. Pozostałe słowa nie zostały wczytane, i co gorsza, nadal znajdują się w strumieniu *cin*. Tu ujawni się pewne zabezpieczenie stosowane w notatnikach Jupyter – strumień *cin* po próbie odczytu jest czyszczony z nieodczytanych znaków. W prawdziwym kompilatorze dane pozostałyby w strumieniu i kolejna próba odczytu operatorem  >> zakończyłaby się odczytaniem kolejnego wyrazu „1:” bez udziału użytkownika.\n",
    "\n",
    "Jeśli chcemy wczytać napis wielowyrazowy, pomocna okazuje się funkcja *getline*() zdefiniowana w module *string* biblioteki standardowej, której wywołanie wygląda następująco:\n",
    "```c++\n",
    "getline(zrodlo,cel,znak_konca_linii);\n",
    "```\n",
    "Funkcja przyjmuje trzy argumenty, które przy jej wywołaniu należy podać w nawiasach okrągłych, rozdzielona przecinkami. Źródłem jest strumień, z którego chcemy odczytać dane. W naszym przypadku będzie to strumień *cin*, choć w ćwiczeniach dotyczących obsługi plików tekstowych może to być również wejściowy strumień plikowy. Ale na to przyjdzie czas. Celem będzie jakiś obiekt klasy *string*, choćby nasza zmienna „napis”. Trzeci argument, *znak_konca_linii* jest argumentem domyślnym – w definicji funkcji ma ustaloną wartość,  która zostanie przyjęta, jeśli w wywołaniu programista nie zdecyduje inaczej. W *getline*() domyślną wartością jest znak przejścia do nowej linii, co w konsoli jest tożsame z wciśnięciem klawisza ENTER. Wykonaj poniższą komórkę, wklejając w pole wczytania napis  „Programowanie 1: Algorytmy i struktury danych w C++” i wciskając ENTER:"
   ]
  },
  {
   "cell_type": "code",
   "execution_count": null,
   "id": "8dce258f-e1cb-45cf-820c-c4195e3f3c42",
   "metadata": {},
   "outputs": [],
   "source": [
    "getline(cin,napis);\n",
    "cout << napis << endl;"
   ]
  },
  {
   "cell_type": "markdown",
   "id": "bcf07b69-7165-4909-9ce5-b380cfdb343f",
   "metadata": {},
   "source": [
    "Jak widzisz, teraz cały napis został wczytany do zmiennej „napis”. Skoro nie zmieniliśmy wartości argumentu *znak_konca_linii*, to domyślnie jest nim ENTER.\n",
    "Spróbuj wykonać następnie tę komórkę, wklejając ponownie powyższy napis testowy:"
   ]
  },
  {
   "cell_type": "code",
   "execution_count": null,
   "id": "06a837b0-b4ff-461c-8f0c-66fd33f1c7ad",
   "metadata": {},
   "outputs": [],
   "source": [
    "getline(cin,napis,':');\n",
    "cout << napis << endl;"
   ]
  },
  {
   "cell_type": "markdown",
   "id": "39cb9cde-8f92-4eb0-b578-a68f70f24028",
   "metadata": {},
   "source": [
    "W wypisanym tekście zauważysz, że wczytano również spację, aż do napotkania symbolu ‘:’, który ustaliliśmy jako znak końca linii w wywołaniu funkcji *getline*(). Zmieniliśmy więc domyślną wartość trzeciego argumentu. Rozwiązanie to jest dość przydatne, do parsowania danych tekstowych rozdzielonych jakimś znakiem, np. ',' lub ';' jak ma to miejsce w formacie CSV. "
   ]
  },
  {
   "cell_type": "markdown",
   "id": "501d2626-28b8-42a5-8f35-7bad9632ab63",
   "metadata": {},
   "source": [
    "### Zadanie 3.3\n",
    "Napisz program, który wczyta od użytkownika wielowyrazowy tekst do zmiennej typu *string*. Następnie wypisz ten tekst oraz użyj na tej zmiennej funkcji wbudowanej *length*() (patrz Ćwiczenie 2), aby policzyć i wypisać liczbę znaków we wprowadzonym tekście."
   ]
  },
  {
   "cell_type": "code",
   "execution_count": null,
   "id": "698a952a-d58e-4404-97a5-9b1ede46f214",
   "metadata": {},
   "outputs": [],
   "source": []
  },
  {
   "cell_type": "markdown",
   "id": "47e43e7e-4fa4-4bce-a4c4-b3c7cbf4ebc5",
   "metadata": {},
   "source": [
    "<details>\n",
    "    <summary>Rozwiązanie</summary>\n",
    "    \n",
    "```c++\n",
    "string tekst;\n",
    "getline(cin,tekst);\n",
    "cout << tekst << endl;\n",
    "cout << tekst.length() << endl;\n",
    "```\n",
    "</details>\n"
   ]
  },
  {
   "cell_type": "markdown",
   "id": "4cc6cd26-7841-4a86-849f-0a525f8be689",
   "metadata": {
    "editable": true,
    "slideshow": {
     "slide_type": ""
    },
    "tags": []
   },
   "source": [
    "![logotypy.png](../figures/OMNIS2_logotypy.png)"
   ]
  }
 ],
 "metadata": {
  "kernelspec": {
   "display_name": "C++17",
   "language": "C++17",
   "name": "xcpp17"
  },
  "language_info": {
   "codemirror_mode": "text/x-c++src",
   "file_extension": ".cpp",
   "mimetype": "text/x-c++src",
   "name": "c++",
   "version": "17"
  }
 },
 "nbformat": 4,
 "nbformat_minor": 5
}

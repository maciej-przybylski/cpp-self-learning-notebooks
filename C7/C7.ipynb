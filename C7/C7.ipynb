{
 "cells": [
  {
   "cell_type": "markdown",
   "id": "24218d8b-9b9a-4480-be64-bab9d3562cb0",
   "metadata": {
    "editable": true,
    "slideshow": {
     "slide_type": ""
    },
    "tags": []
   },
   "source": [
    "![OMNIS2_Logo_projektu.png](../figures/OMNIS2_Logo_projektu.png)"
   ]
  },
  {
   "cell_type": "markdown",
   "id": "32578e4d-0818-420c-899c-e578bf69a922",
   "metadata": {
    "editable": true,
    "slideshow": {
     "slide_type": ""
    },
    "tags": []
   },
   "source": [
    "# Ćwiczenie 7: Pętla `for`\n",
    "W tym ćwiczeniu nauczysz się, jak korzystać z pętli `for` w C++.\n",
    "Dzięki temu będziesz potrafił napisać program, w którym wybrane **fragmenty kodu** powtórzą się **określoną liczbę razy**, zgodnie z podanym przez Ciebie **warunkiem**.\n",
    "Tak samo jak w przypadku pętli `while` jedno powtórzenie, czyli wykonanie **fragmentu kodu**, nazywamy **iteracją** pętli.\n",
    "Pętla `for` wykonuje blok kodu **określoną liczbę razy**. Najczęściej używamy jej wtedy, gdy z góry wiemy, ile powtórzeń ma się wykonać."
   ]
  },
  {
   "cell_type": "markdown",
   "id": "9a4e0e54",
   "metadata": {},
   "source": [
    "## Pętla `for` w C++\n",
    "Pętla `for` wykonuje **fragment kodu** tak długo, jak długo podany **warunek** jest spełniony (true). Sposób użycia pętli `while` poniżej:"
   ]
  },
  {
   "cell_type": "code",
   "execution_count": null,
   "id": "111f4dbc",
   "metadata": {
    "vscode": {
     "languageId": "plaintext"
    }
   },
   "outputs": [],
   "source": [
    "for (instrukcja początkowa; warunek; instrukcja końcowa) {\n",
    "  // fragment kodu\n",
    "}"
   ]
  },
  {
   "cell_type": "markdown",
   "id": "3a71e06a",
   "metadata": {},
   "source": [
    "- **Instrukcja początkowa** - jest wykonywana **raz** przed pierwszą **iteracją**, czyli przed pierwszym wykonaniem **fragmentu kodu**.  \n",
    "- **Warunek** - decyduje o wykonaniu **fragmentu kodu**.  \n",
    "- **Instrukcja końcowa** - jest wykonywana **za każdym razem** po zakończeniu **iteracji**, czyli po zakończeniu wykonania **fragmentu kodu**.  "
   ]
  },
  {
   "cell_type": "markdown",
   "id": "ab172e3a",
   "metadata": {},
   "source": [
    "## Zadanie 7.0. \n",
    "Zanim przejdziemy dalej uruchomimy dwa polecenia pomocnicze - zadeklarujemy korzystanie z biblioteki `iostream` oraz określimy, że będziemy domyślnie korzystali z przestrzeni nazw `std`. Dzieki temu w dalszej części ćwiczenia ... todo"
   ]
  },
  {
   "cell_type": "code",
   "execution_count": null,
   "id": "a87b2b7e",
   "metadata": {
    "vscode": {
     "languageId": "plaintext"
    }
   },
   "outputs": [],
   "source": [
    "#include <iostream>\n",
    "\n",
    "using namespace std;"
   ]
  },
  {
   "cell_type": "markdown",
   "id": "19117e4d",
   "metadata": {},
   "source": [
    "## Zadanie 7.1.\n",
    "Na początek napiszemy prosty program wypisujący wartości od 0 do x, gdzie x będzie wartością wczytaną z konsoli. Do rozwiązania tego przykładu użyj pętli for. Zadeklaruj odpowiednie zmienne typu całkowitego, uzupełnij poniższy fragment kodu."
   ]
  },
  {
   "cell_type": "code",
   "execution_count": null,
   "id": "761d02f9",
   "metadata": {
    "vscode": {
     "languageId": "plaintext"
    }
   },
   "outputs": [],
   "source": [
    "                                //todo zadeklaruj odpowiednio zmienną x\n",
    "                                //todo wczytaj wartość zmiennej x z konsoli\n",
    "for( int i = 1; i <= ?; i++ )   //todo uzupełnij warunek - jak długo pętla ma się wykonywać?\n",
    "{\n",
    "                                //todo wypisz odpowiednie wartości\n",
    "}"
   ]
  },
  {
   "cell_type": "markdown",
   "id": "cb45e2ff",
   "metadata": {},
   "source": [
    "💡 **Wskazówka:** W powyższym kodzie widać standardowe i powszechnie stosowane użycie pętli `for`. **Instrukcja początkowa** do deklaracja nowej zmiennej pomocniczej `i` oraz przypisanie jej poczatkowej wartości. Dalej znajduje się **warunek** wykonania **iteracji** pętli, a później **instrukcja końcowa** mówiąca o tym, że na koniec **każdej** iteracji wartość `i` będzie zwiększana o `1`. `i++` znaczy `i = i + 1`, czyli do zmiennej `i` wpisz aktualną wartość zmiennej `i` zwiększoną o `1`.  \n",
    "\n",
    "Rozwiń poniższy fragment kodu, aby zobaczyć rozwiązanie."
   ]
  },
  {
   "cell_type": "code",
   "execution_count": null,
   "id": "7d333645",
   "metadata": {
    "vscode": {
     "languageId": "plaintext"
    }
   },
   "outputs": [],
   "source": [
    "//przykład poprawnego rozwiązania:\n",
    "\n",
    "int x;\n",
    "cin >> x;\n",
    "for( int i = 1; i <= x; i++ )\n",
    "{\n",
    "    cout << i << \", \";\n",
    "}"
   ]
  },
  {
   "cell_type": "markdown",
   "id": "177c0a71",
   "metadata": {},
   "source": [
    "## Zadanie 7.2.\n",
    "W kolejnym zadaniu policzymy średnią ze wszystkich wartości od `1` do `x`. Na początek wczytaj z konsoli pewną wartość całkowitą `x`. Uzupełnij poniższy kod."
   ]
  },
  {
   "cell_type": "code",
   "execution_count": null,
   "id": "2692672b",
   "metadata": {
    "vscode": {
     "languageId": "plaintext"
    }
   },
   "outputs": [],
   "source": [
    "                                //todo zadeklaruj odpowiednio zmienną x\n",
    "                                //todo wczytaj wartość zmiennej x z konsoli\n",
    "\n",
    "int suma = 0;                   //na początek suma jest równa 0\n",
    "for( ?; ?; ?)                   //todo uzupełnij standardowe instrukcje \n",
    "{\n",
    "    suma = suma + ?;            //todo za każdym razem zwiększ sumę o aktualną wartość\n",
    "}\n",
    "\n",
    "float srednia = ?;              //todo wpisz odpowiednie działanie, pamiętaj o dzieleniu rzeczywistym!\n",
    "                                //todo wypisz wynik na konsoli"
   ]
  },
  {
   "cell_type": "markdown",
   "id": "ff98bab1",
   "metadata": {},
   "source": [
    "Rozwiń poniższy fragment kodu, aby zobaczyć rozwiązanie."
   ]
  },
  {
   "cell_type": "code",
   "execution_count": null,
   "id": "a9259a61",
   "metadata": {
    "vscode": {
     "languageId": "plaintext"
    }
   },
   "outputs": [],
   "source": [
    "//przykład poprawnego rozwiązania:\n",
    "\n",
    "int x;\n",
    "cin >> x;\n",
    "\n",
    "int suma = 0;                   //na początek suma jest równa 0\n",
    "for( int i = 1; i <= x; i++)\n",
    "{\n",
    "    suma = suma + i;\n",
    "}\n",
    "\n",
    "float srednia = (float)suma/x;\n",
    "cout << \"Średnia wszystkich liczb od 1 do wpisanej wartości wynosi \" << srednia << endl;"
   ]
  },
  {
   "cell_type": "markdown",
   "id": "e84bce08",
   "metadata": {},
   "source": [
    "## Zadanie 7.3.\n",
    "W kolejnym zadaniu zrobimy coś trudniejszego. Wczytaj z konsoli pewną wartość `x`, a następnie wypisz silnię ze wszystkich wartości od `0` do `x`. \n",
    "\n",
    "💡 **Wskazówka:** Na początek zacznij od napisania kodu, który po prostu będzie liczył wartość silni jako mnożenie przez siebie kolejnych wartości od `1` do `x`. Można to zrobić podobnie do sumowania, ale z operatorem mnożenia `*` zamiast `+`. Dalej zmodyfikuj program tak, aby przy każdej iteracji pętli wypisywał aktualną wartość silni. Na koniec uwzględnij co program ma robić przy wpisaniu wartości `x == 0` lub `x < 0`."
   ]
  },
  {
   "cell_type": "markdown",
   "id": "1a3e7471",
   "metadata": {},
   "source": [
    "### Sposób 1"
   ]
  },
  {
   "cell_type": "code",
   "execution_count": null,
   "id": "3cd25e9f",
   "metadata": {
    "vscode": {
     "languageId": "plaintext"
    }
   },
   "outputs": [],
   "source": [
    "\n",
    "                            //todo zadeklaruj zmienną x, wczytaj jej wartość z konsoli \n",
    "                            //todo zadeklaruj zmienna silnia\n",
    "for(int i=?; i<=?; i++)     //todo uzupełnij instrukcje\n",
    "{\n",
    "    silnia=?;               //todo uaktualnij wartość zmiennej silnia\n",
    "                            //wypisz wartość silni, z jakiej wartości wyznaczona jest silnia w każdej iteracji?\n",
    "}"
   ]
  },
  {
   "cell_type": "markdown",
   "id": "e8d4f6a9",
   "metadata": {},
   "source": [
    "Rozwiń poniższy fragment kodu, aby zobaczyć rozwiązanie."
   ]
  },
  {
   "cell_type": "code",
   "execution_count": null,
   "id": "7a72ae33",
   "metadata": {
    "vscode": {
     "languageId": "plaintext"
    }
   },
   "outputs": [],
   "source": [
    "//przykład poprawnego rozwiązania:\n",
    "\n",
    "int silnia=1,x;\n",
    "cin>>x;\n",
    "for(int i=1; i<=x;i++)\n",
    "{\n",
    "    silnia=silnia*i;\n",
    "    cout << i << \"! = \" << silnia << endl;\n",
    "}"
   ]
  },
  {
   "cell_type": "markdown",
   "id": "09b331bd",
   "metadata": {},
   "source": [
    "### Sposób 2\n",
    "Zadanie można rozwiązać też w trochę bardziej naiwny sposób. Jest on jednak bardziej skomplikowany programistycznie.  \n",
    "Zacznij od napisania pętli pierwszje liczącej silnię - analogicznie jak w sposobie 1.  \n",
    "Dalej, umieść ten fragment kodu (pętlę pierwszą) wewnątrz drugiej pętli `for`.  \n",
    "Zadaniem pętli pierwszej jest wyznaczenie silni z dowolnej wartości `i`, zadaniem pętli drugiej (zewnętrznej) będzie zwiększanie kolejno wartości `i` od `0` do `x`.\n",
    "\n",
    "💡 **Wskazówka:** Mówi się, że pętla wewnętrzna jest **zagnieżdżona** w zewnętrznej."
   ]
  },
  {
   "cell_type": "code",
   "execution_count": null,
   "id": "d75880b6",
   "metadata": {
    "vscode": {
     "languageId": "plaintext"
    }
   },
   "outputs": [],
   "source": [
    "                                        //todo zadeklaruj zmienną x, wczytaj jej wartość z konsoli \n",
    "                                        //todo zadeklaruj zmienna silnia\n",
    "for( int i = 1; i <= x; i++ ) {\n",
    "                                        //todo tutaj umieść kod pętli pierwszej - liczącej silnię\n",
    "    for(int j=?; j<=?; j++)             \n",
    "    {\n",
    "\n",
    "    }\n",
    "    cout << ? << endl;\n",
    "}"
   ]
  },
  {
   "cell_type": "markdown",
   "id": "2aca3705",
   "metadata": {},
   "source": [
    "Rozwiń poniższy fragment kodu, aby zobaczyć rozwiązanie."
   ]
  },
  {
   "cell_type": "code",
   "execution_count": null,
   "id": "bf184c62",
   "metadata": {
    "vscode": {
     "languageId": "plaintext"
    }
   },
   "outputs": [],
   "source": [
    "//przykład poprawnego rozwiązania:\n",
    "\n",
    "int x;\n",
    "cin >> x;\n",
    "for( int i = 1; i <= x; i++ ) {\n",
    "    int s = 1;\n",
    "    for (int j = 1; j <= i; j++) {\n",
    "        s *= j;\n",
    "    }\n",
    "    cout << i << \"! = \" << s << endl;\n",
    "}"
   ]
  },
  {
   "cell_type": "markdown",
   "id": "82888c38",
   "metadata": {},
   "source": [
    "## Zadanie 7.4.\n",
    "Skoro umiemy już pisać pętle zagnieżdżone, napisz program drukujący na ekranie choinkę ze znaków `*`: \n",
    "```cpp\n",
    "   *\n",
    "  ***\n",
    " *****\n",
    "*******\n",
    "```\n",
    "Wysokość choinki wczytaj z konsoli."
   ]
  },
  {
   "cell_type": "markdown",
   "id": "1a472449",
   "metadata": {},
   "source": [
    "### Sposób 1\n",
    "Możesz podzielić choinkę na wiersze. Każdy wiersz będzie miał swój numer i przypisaną zmienną w pętli for.  \n",
    "Każdy wiersz też możesz podzielić na części - część od lewej zwierająca spacje ` `, oraz cześć kolejna zawierająca gwiazdki `*`.  \n",
    "Liczba spacji i gwiazdek zmienia się w każdym wierszu. Trzeba tylko dobrze wyznaczyć te liczby i odpowiednio napisać pętle zagnieżdżone drukujące każdy wiersz."
   ]
  },
  {
   "cell_type": "code",
   "execution_count": null,
   "id": "9d6fa3a1",
   "metadata": {
    "vscode": {
     "languageId": "c++"
    }
   },
   "outputs": [],
   "source": [
    "char gwiazdka = '*';\n",
    "char spacja = ' ';\n",
    "\n",
    "for (?)                             //todo skonfiguruj pętlę zewnętrzną - liczącą wiersze od góry do dołu\n",
    "{   \n",
    "                                    //todo wewnątrz umieść kod drukujący jeden aktualny wiersz \n",
    "    for (?)                         //todo na początek pętla drukująca spacje ' '\n",
    "    {\n",
    "        \n",
    "    }\n",
    "    for (?)                         //todo później pętla drukująca gwiazdki `*`\n",
    "    {\n",
    "        \n",
    "    }\n",
    "    cout << endl;                   //na koniec wiersza przejdź do nowej linii (niższego wiersza choinki)\n",
    "}"
   ]
  },
  {
   "cell_type": "markdown",
   "id": "13b1bdd7",
   "metadata": {},
   "source": [
    "Rozwiń poniższy fragment kodu, aby zobaczyć rozwiązanie."
   ]
  },
  {
   "cell_type": "code",
   "execution_count": null,
   "id": "463a0b29",
   "metadata": {
    "vscode": {
     "languageId": "c++"
    }
   },
   "outputs": [],
   "source": [
    "//przykład poprawnego rozwiązania:\n",
    "\n",
    "for (int i=1; i<=h; i++)\n",
    "{\n",
    "    for (int k=1 ; k<=h-i; k++)\n",
    "    {\n",
    "    cout << \" \";\n",
    "    }\n",
    "    for (int j=1; j<= 2*i-1; j++)\n",
    "    {\n",
    "    cout << \"*\";\n",
    "    }\n",
    "    cout << endl;\n",
    "}"
   ]
  },
  {
   "cell_type": "markdown",
   "id": "070ce03f",
   "metadata": {},
   "source": [
    "### Sposób 2\n",
    "Zadanie można rozwiązać również w trochę inny sposób. Załóżmy, że ekran to macierz o indeksach `i` oraz `j`:  \n",
    "```cpp\n",
    "i\\j 0123456\n",
    "0      *\n",
    "1     ***\n",
    "2    *****\n",
    "3   *******\n",
    "```\n",
    "\n",
    "Napiszmy dwie pętle - jedna zagnieżdżona w drugiej.  \n",
    "Ta zewnętrzna będzie przechodziła kolejno po wierszach choinki i będzie liczyła od `i` równego `0` do wartości będącej wysokością choinki.  \n",
    "Ta wewnętrzena - zagnieżdżona - będzie przechodziła kolejno po elementach aktualnego wiersza wybranego przez pętlę zewnętrzną.  "
   ]
  },
  {
   "cell_type": "code",
   "execution_count": null,
   "id": "066f3a2a",
   "metadata": {
    "vscode": {
     "languageId": "c++"
    }
   },
   "outputs": [],
   "source": [
    "char gwiazdka = '*';\n",
    "char spacja = ' ';\n",
    "\n",
    "//potraktuj ekran jak macierz o indeksach i\\j\n",
    "for(int i=0;i<?;i++)            //todo pętla zewnętrzna przechodząca kolejno po wierszach od górnego do dolnego\n",
    "{\n",
    "    for(int j=0;j<?;j++)        //todo pętla wewnętrzna przechodząca po kolumnach od lewej do prawej\n",
    "    {\n",
    "                                //todo jeśli odpowiedni warunek jest spełniony, wypisz gwiazdke, w przeciwnym przypadku wypisz spację \n",
    "    }\n",
    "}"
   ]
  },
  {
   "cell_type": "markdown",
   "id": "68332aa7",
   "metadata": {},
   "source": [
    "Rozwiń poniższy fragment kodu, aby zobaczyć rozwiązanie."
   ]
  },
  {
   "cell_type": "code",
   "execution_count": null,
   "id": "582b8dda",
   "metadata": {
    "vscode": {
     "languageId": "c++"
    }
   },
   "outputs": [],
   "source": [
    "//przykład poprawnego rozwiązania:\n",
    "\n",
    "char z ='*';\n",
    "//potraktuj ekran jak tablice dwuwymiarowa\n",
    "for(int i=0;i<h*2+1;i++)\n",
    "{\n",
    "    cout<<endl;\n",
    "    for(int j=0;j<h*2+1;j++)\n",
    "    {\n",
    "    if(i>j && j>h*2-i)\n",
    "    {\n",
    "        cout<<z;\n",
    "    }\n",
    "    else\n",
    "    {\n",
    "        cout<<\" \";\n",
    "    }\n",
    "    }\n",
    "}\n",
    "cout<<endl;"
   ]
  },
  {
   "cell_type": "markdown",
   "id": "13bc5033",
   "metadata": {},
   "source": [
    "## Zadanie 7.5.\n",
    "Napiszemy teraz kolejny program wykorzystujący pętlę zagnieżdżoną w drugiej pętli. Wydrukuj na ekranie tabliczkę mnożenia do `n` dla dowolnego `n`, przykład dla `n` równego `5`:  \n",
    "```cpp\n",
    "  | 1   2   3   4   5\n",
    "======================\n",
    "1 | 1   2   3   4   5\n",
    "2 | 2   4   6   8   10\n",
    "3 | 3   6   9   12  15\n",
    "4 | 4   8   12  16  20\n",
    "5 | 5   10  15  20  25\n",
    "```\n",
    "💡 **Wskazówka:** Zadanie stosunkowo łatwo rozwiązać stosując sposób 1 zadania z choinką. "
   ]
  },
  {
   "cell_type": "code",
   "execution_count": null,
   "id": "dc6d15cf",
   "metadata": {
    "vscode": {
     "languageId": "c++"
    }
   },
   "outputs": [],
   "source": [
    "//todo rozwiąż zadanie"
   ]
  },
  {
   "cell_type": "markdown",
   "id": "76bd668b",
   "metadata": {},
   "source": [
    "Rozwiń poniższy fragment kodu, aby zobaczyć rozwiązanie."
   ]
  },
  {
   "cell_type": "code",
   "execution_count": null,
   "id": "a48281b8",
   "metadata": {
    "vscode": {
     "languageId": "c++"
    }
   },
   "outputs": [],
   "source": [
    "//przykład poprawnego rozwiązania:\n",
    "\n",
    "int n;\n",
    "cin >> n;\n",
    "cout << \"1 | \";\n",
    "for (int i = 1; i <= n; i++) \n",
    "{\n",
    "    cout << i << \"\\t\";\n",
    "}\n",
    "cout << endl << \"==\";\n",
    "\n",
    "for (int i = 1; i <= n; i++) \n",
    "{\n",
    "    cout << \"====\";\n",
    "}\n",
    "cout << endl;\n",
    "\n",
    "for (int i = 1; i <= n; i++) \n",
    "{\n",
    "    cout << i << \" | \";\n",
    "    for (int j = 1; j <= n; j++) \n",
    "    {\n",
    "        cout << j*i << \"\\t\";\n",
    "    }\n",
    "    cout << endl;\n",
    "}"
   ]
  },
  {
   "cell_type": "markdown",
   "id": "bfcbb125",
   "metadata": {},
   "source": [
    "Na koniec rozwiążmy dwa zadania, które pomogą zrozumieć jak wykorzystywać znaki i typ danych `char` w C++.  \n",
    "\n",
    "## Zadanie 7.6.\n",
    "Za pomocą pętli for wypisz wszystkie małe litery, wszystkie wielkie litery alfabetu, a następnie wszystkie cyfry.   \n",
    "\n",
    "Wydrukuj na konsoli wszystkie wyniki działania programu."
   ]
  },
  {
   "cell_type": "markdown",
   "id": "75d5ce28",
   "metadata": {},
   "source": [
    "To zadanie ma Cię skłonić do zrozumienia jak korzystać z tablicy kodów ASCII w C++. \\\\todo wrzucić tutaj opis kodów ASCII "
   ]
  },
  {
   "cell_type": "markdown",
   "id": "04a44771",
   "metadata": {},
   "source": [
    "### Sposób 1"
   ]
  },
  {
   "cell_type": "code",
   "execution_count": null,
   "id": "8463701e",
   "metadata": {
    "vscode": {
     "languageId": "c++"
    }
   },
   "outputs": [],
   "source": [
    "for (char m='a';m<=?;m++)   //todo uzupełnij \n",
    "{\n",
    "    cout<<\" \"<<m;\n",
    "}\n",
    "cout<<endl;\n",
    "\n",
    "                            //todo napisz podobne pętle dla wielkich liter i cyfr \n"
   ]
  },
  {
   "cell_type": "markdown",
   "id": "bb045b4b",
   "metadata": {},
   "source": [
    "Rozwiń poniższy fragment kodu, aby zobaczyć rozwiązanie."
   ]
  },
  {
   "cell_type": "code",
   "execution_count": null,
   "id": "614fddeb",
   "metadata": {
    "vscode": {
     "languageId": "c++"
    }
   },
   "outputs": [],
   "source": [
    "//przykład poprawnego rozwiązania:\n",
    "\n",
    "for (char m='a';m<='z';m++)\n",
    "{\n",
    "    cout<<\" \"<<m;\n",
    "}\n",
    "cout<<endl;\n",
    "\n",
    "for (char d='A';d<='Z';d++)\n",
    "{\n",
    "    cout<<\" \"<<d;\n",
    "}\n",
    "cout<<endl;\n",
    "\n",
    "for (char c='0';c<='9';c++)\n",
    "{\n",
    "    cout<<\" \"<<c;\n",
    "}\n",
    "cout<<endl;"
   ]
  },
  {
   "cell_type": "markdown",
   "id": "81c80e23",
   "metadata": {},
   "source": [
    "### Sposób 2\n",
    "Wartosć zmiennej znakowej typu `char` można traktować jak liczbę całkowitą. Ta liczba całkowita to **kod ASCII** odpowiadający pewnemu znakowi. Wypiszemy na konsoli zmienną znakową typu `char` otrzymamy odpowiadający jej znak, a nie **kod ASCII**. Jednakże w pętli możemy posługiwać się bezpośrednio kodami - pod warunkiem, że je znamy."
   ]
  },
  {
   "cell_type": "code",
   "execution_count": null,
   "id": "7fc2da08",
   "metadata": {
    "vscode": {
     "languageId": "c++"
    }
   },
   "outputs": [],
   "source": [
    "//przykład poprawnego rozwiązania:\n",
    "for(int i=?;i<=?;i++)               //todo wpisz kody ASCII odpowiadającej pierwszej i ostatniej małej literze w tablicy kodów ASCII\n",
    "{\n",
    "    cout << (char)i << \" \";         //wypisujemy znak odpowiadający kodowi ASCII - zmienną całkowitą typu int rzutujemy na typ char\n",
    "}\n",
    "cout << \"\\n\";\n",
    "                                    //todo napisz podobne pętle dla wielkich liter i cyfr "
   ]
  },
  {
   "cell_type": "markdown",
   "id": "05d55677",
   "metadata": {},
   "source": [
    "Rozwiń poniższy fragment kodu, aby zobaczyć rozwiązanie."
   ]
  },
  {
   "cell_type": "code",
   "execution_count": null,
   "id": "ecb9c3a2",
   "metadata": {
    "vscode": {
     "languageId": "c++"
    }
   },
   "outputs": [],
   "source": [
    "//przykład poprawnego rozwiązania:\n",
    "for(int i=97;i<=122;i++)\n",
    "{\n",
    "    cout << (char)i << \" \";\n",
    "}\n",
    "cout << \"\\n\";\n",
    "\n",
    "for(int i=65;i<=90;i++)\n",
    "{\n",
    "    cout << (char)i << \" \";\n",
    "}\n",
    "cout<<endl<<endl;"
   ]
  },
  {
   "cell_type": "markdown",
   "id": "41f8b549",
   "metadata": {},
   "source": [
    "### Sposób 3"
   ]
  },
  {
   "cell_type": "code",
   "execution_count": null,
   "id": "a577a00b",
   "metadata": {
    "vscode": {
     "languageId": "c++"
    }
   },
   "outputs": [],
   "source": [
    "//todo rozwiąż zadanie"
   ]
  },
  {
   "cell_type": "markdown",
   "id": "42e005a5",
   "metadata": {},
   "source": [
    "Rozwiń poniższy fragment kodu, aby zobaczyć rozwiązanie."
   ]
  },
  {
   "cell_type": "code",
   "execution_count": null,
   "id": "b823421e",
   "metadata": {
    "vscode": {
     "languageId": "c++"
    }
   },
   "outputs": [],
   "source": [
    "//przykład poprawnego rozwiązania:\n",
    "for( int i = '0'; i <= (int)'z'; i++){\n",
    "    cout << (char)i << \" \";\n",
    "    if(i == (int)'9')\n",
    "    {\n",
    "        i = (int)'A'-1;\n",
    "        cout << endl;\n",
    "    }\n",
    "    if(i == (int)'Z')\n",
    "    {\n",
    "        i = (int)'a'-1;\n",
    "        cout << endl;\n",
    "    }\n",
    "}"
   ]
  },
  {
   "cell_type": "markdown",
   "id": "a6bdf6e7",
   "metadata": {},
   "source": [
    "## Zadanie 7.5.\n",
    "Na koniec zrobimy krótkie zadanie dotyczące znaków i tablicy kodów ASCII. Pobierz jeden znak z konsoli. Jeśli jest to mała litera zamień ją na wielką, jeśli jest to wielka litera zamień ją na małą. "
   ]
  },
  {
   "cell_type": "code",
   "execution_count": null,
   "id": "9c0e5bb4",
   "metadata": {
    "vscode": {
     "languageId": "plaintext"
    }
   },
   "outputs": [],
   "source": [
    "//todo uzupełnij poniższy kod\n",
    "  \n",
    "cout<<\"Podaj dowolną literę: \";\n",
    "char z;\n",
    "cin>>z;\n"
   ]
  },
  {
   "cell_type": "markdown",
   "id": "5a706575",
   "metadata": {},
   "source": [
    "💡 **Wskazówka:** \n",
    "Zwróć uwagę, że różnica w kodzie ASCII pomiędzy odpowiadającymi sobie wielkimi i małymi literami zawsze jest taka sama.  \n",
    "Operatory porównania działają również dla zmiennych typu `char`. Stosując je sprawdź, czy podany znak jest małą, czy wielką literą."
   ]
  },
  {
   "cell_type": "code",
   "execution_count": null,
   "id": "df3ec27a",
   "metadata": {
    "vscode": {
     "languageId": "c++"
    }
   },
   "outputs": [],
   "source": [
    "//przykład poprawnego rozwiązania:\n",
    "cout<<endl<<endl;\n",
    "  \n",
    "cout<<\"Podaj dowolną literę: \";\n",
    "char z,x;\n",
    "cin>>z;\n",
    "\n",
    "if(z>='a' && z<='z')\n",
    "{\n",
    "  x=z-32;\n",
    "  cout<<z<<\" \"<<x;\n",
    "}\n",
    "else\n",
    "{\n",
    "  x=z+32;\n",
    "  cout<<z<<\" \"<<x;\n",
    "}"
   ]
  },
  {
   "cell_type": "markdown",
   "id": "4cc6cd26-7841-4a86-849f-0a525f8be689",
   "metadata": {
    "editable": true,
    "slideshow": {
     "slide_type": ""
    },
    "tags": []
   },
   "source": [
    "![logotypy.png](../figures/OMNIS2_logotypy.png)"
   ]
  }
 ],
 "metadata": {
  "kernelspec": {
   "display_name": "C++11",
   "language": "C++11",
   "name": "xcpp11"
  },
  "language_info": {
   "codemirror_mode": "text/x-c++src",
   "file_extension": ".cpp",
   "mimetype": "text/x-c++src",
   "name": "c++",
   "version": "11"
  }
 },
 "nbformat": 4,
 "nbformat_minor": 5
}

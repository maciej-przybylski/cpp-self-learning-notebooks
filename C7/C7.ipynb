{
 "cells": [
  {
   "cell_type": "markdown",
   "id": "24218d8b-9b9a-4480-be64-bab9d3562cb0",
   "metadata": {
    "editable": true,
    "slideshow": {
     "slide_type": ""
    },
    "tags": []
   },
   "source": [
    "![OMNIS2_Logo_projektu.png](../figures/OMNIS2_Logo_projektu.png)"
   ]
  },
  {
   "cell_type": "markdown",
   "id": "32578e4d-0818-420c-899c-e578bf69a922",
   "metadata": {
    "editable": true,
    "slideshow": {
     "slide_type": ""
    },
    "tags": []
   },
   "source": [
    "# Ćwiczenie 7: Pętla `for`\n"
   ]
  },
  {
   "cell_type": "markdown",
   "id": "9a4e0e54",
   "metadata": {},
   "source": [
    "## Pętla `for` w C++\n"
   ]
  },
  {
   "cell_type": "markdown",
   "id": "ab172e3a",
   "metadata": {},
   "source": [
    "## Zadanie 7.0. \n",
    "Zanim przejdziemy dalej uruchomimy dwa polecenia pomocnicze - zadeklarujemy korzystanie z biblioteki `iostream` oraz określimy, że będziemy domyślnie korzystali z przestrzeni nazw `std`. Dzieki temu w dalszej części ćwiczenia ... todo"
   ]
  },
  {
   "cell_type": "code",
   "execution_count": null,
   "id": "a87b2b7e",
   "metadata": {
    "vscode": {
     "languageId": "plaintext"
    }
   },
   "outputs": [],
   "source": [
    "#include <iostream>\n",
    "\n",
    "using namespace std;"
   ]
  },
  {
   "cell_type": "markdown",
   "id": "19117e4d",
   "metadata": {},
   "source": [
    "## Zadanie 7.1.\n",
    "Napisz program wypisujący wartości od 0 do x, gdzie x pobrane z konsoli. Do rozwiązania użyj pętli for."
   ]
  },
  {
   "cell_type": "code",
   "execution_count": null,
   "id": "761d02f9",
   "metadata": {
    "vscode": {
     "languageId": "plaintext"
    }
   },
   "outputs": [],
   "source": [
    "//todo rozwiąż zadanie"
   ]
  },
  {
   "cell_type": "code",
   "execution_count": null,
   "id": "7d333645",
   "metadata": {
    "vscode": {
     "languageId": "plaintext"
    }
   },
   "outputs": [],
   "source": [
    "//przykład poprawnego rozwiązania:\n",
    "\n",
    "int x;\n",
    "cin >> x;\n",
    "for( int i = 1; i <= x; i++ )\n",
    "{\n",
    "    cout << i << \", \";\n",
    "}"
   ]
  },
  {
   "cell_type": "markdown",
   "id": "e84bce08",
   "metadata": {},
   "source": [
    "## Zadanie 7.2.\n",
    "Wczytać od użytkownika pewną wartość x, a następnie wypisać silnię ze wszystkich wartości od 0 do x."
   ]
  },
  {
   "cell_type": "markdown",
   "id": "1a3e7471",
   "metadata": {},
   "source": [
    "### Sposób 1"
   ]
  },
  {
   "cell_type": "code",
   "execution_count": null,
   "id": "3cd25e9f",
   "metadata": {
    "vscode": {
     "languageId": "plaintext"
    }
   },
   "outputs": [],
   "source": [
    "//todo rozwiąż zadanie"
   ]
  },
  {
   "cell_type": "code",
   "execution_count": null,
   "id": "7a72ae33",
   "metadata": {
    "vscode": {
     "languageId": "plaintext"
    }
   },
   "outputs": [],
   "source": [
    "//przykład poprawnego rozwiązania:\n",
    "\n",
    "int x;\n",
    "cin >> x;\n",
    "for( int i = 1; i <= x; i++ ) {\n",
    "    int s = 1;\n",
    "    for (int j = 1; j <= i; j++) {\n",
    "        s *= j;\n",
    "    }\n",
    "    cout << i << \"! = \" << s << endl;\n",
    "}"
   ]
  },
  {
   "cell_type": "markdown",
   "id": "09b331bd",
   "metadata": {},
   "source": [
    "### Sposób 2"
   ]
  },
  {
   "cell_type": "code",
   "execution_count": null,
   "id": "d75880b6",
   "metadata": {
    "vscode": {
     "languageId": "plaintext"
    }
   },
   "outputs": [],
   "source": [
    "//todo rozwiąż zadanie"
   ]
  },
  {
   "cell_type": "code",
   "execution_count": null,
   "id": "bf184c62",
   "metadata": {
    "vscode": {
     "languageId": "plaintext"
    }
   },
   "outputs": [],
   "source": [
    "//przykład poprawnego rozwiązania:\n",
    "\n",
    "int x=1,n;\n",
    "cin>>n;\n",
    "for(int i=1; i<=n;i++)\n",
    "{\n",
    "    x=x*i;\n",
    "    cout << i << \"! = \" << x << endl;\n",
    "}"
   ]
  },
  {
   "cell_type": "markdown",
   "id": "82888c38",
   "metadata": {},
   "source": [
    "## Zadanie 7.3.\n",
    "Napisz program drukujący na ekranie choinkę ze znaków *: \n",
    "   *\n",
    "  ***\n",
    " *****\n",
    "*******\n",
    "Wysokość choinki wczytaj z konsoli."
   ]
  },
  {
   "cell_type": "markdown",
   "id": "1a472449",
   "metadata": {},
   "source": [
    "### Sposób 1"
   ]
  },
  {
   "cell_type": "code",
   "execution_count": null,
   "id": "9d6fa3a1",
   "metadata": {
    "vscode": {
     "languageId": "c++"
    }
   },
   "outputs": [],
   "source": [
    "//todo rozwiąż zadanie"
   ]
  },
  {
   "cell_type": "code",
   "execution_count": null,
   "id": "463a0b29",
   "metadata": {
    "vscode": {
     "languageId": "c++"
    }
   },
   "outputs": [],
   "source": [
    "//przykład poprawnego rozwiązania:\n",
    "\n",
    "for (int i=1; i<=h; i++)\n",
    "{\n",
    "    for (int k=1 ; k<=h-i; k++)\n",
    "    {\n",
    "    cout << \" \";\n",
    "    }\n",
    "    for (int j=1; j<= 2*i-1; j++)\n",
    "    {\n",
    "    cout << \"*\";\n",
    "    }\n",
    "    cout << endl;\n",
    "}"
   ]
  },
  {
   "cell_type": "markdown",
   "id": "070ce03f",
   "metadata": {},
   "source": [
    "### Sposób 2"
   ]
  },
  {
   "cell_type": "code",
   "execution_count": null,
   "id": "066f3a2a",
   "metadata": {
    "vscode": {
     "languageId": "c++"
    }
   },
   "outputs": [],
   "source": [
    "//todo rozwiąż zadanie"
   ]
  },
  {
   "cell_type": "code",
   "execution_count": null,
   "id": "582b8dda",
   "metadata": {
    "vscode": {
     "languageId": "c++"
    }
   },
   "outputs": [],
   "source": [
    "//przykład poprawnego rozwiązania:\n",
    "\n",
    "char z ='*';\n",
    "//potraktuj ekran jak tablice dwuwymiarowa\n",
    "for(int i=0;i<h*2+1;i++)\n",
    "{\n",
    "    cout<<endl;\n",
    "    for(int j=0;j<h*2+1;j++)\n",
    "    {\n",
    "    if(i>j && j>h*2-i)\n",
    "    {\n",
    "        cout<<z;\n",
    "    }\n",
    "    else\n",
    "    {\n",
    "        cout<<\" \";\n",
    "    }\n",
    "    }\n",
    "}\n",
    "cout<<endl;"
   ]
  },
  {
   "cell_type": "markdown",
   "id": "daa6d18b",
   "metadata": {},
   "source": [
    "## Zadanie 7.3.\n",
    "Napisz program drukujący na ekranie tabliczkę mnożenia do n, przykład dla n=5: \n",
    "1 | 1   2   3   4   5\n",
    "======================\n",
    "1 | 1   2   3   4   5\n",
    "2 | 2   4   6   8   10\n",
    "3 | 3   6   9   12  15\n",
    "4 | 4   8   12  16  20\n",
    "5 | 5   10  15  20  25"
   ]
  },
  {
   "cell_type": "code",
   "execution_count": null,
   "id": "2e381412",
   "metadata": {
    "vscode": {
     "languageId": "c++"
    }
   },
   "outputs": [],
   "source": [
    "//todo rozwiąż zadanie"
   ]
  },
  {
   "cell_type": "code",
   "execution_count": null,
   "id": "0ee26072",
   "metadata": {
    "vscode": {
     "languageId": "c++"
    }
   },
   "outputs": [],
   "source": [
    "//przykład poprawnego rozwiązania:\n",
    "\n",
    "int n;\n",
    "cin >> n;\n",
    "cout << \"1 | \";\n",
    "for (int i = 1; i <= n; i++) \n",
    "{\n",
    "    cout << i << \"\\t\";\n",
    "}\n",
    "cout << endl << \"==\";\n",
    "\n",
    "for (int i = 1; i <= n; i++) \n",
    "{\n",
    "    cout << \"====\";\n",
    "}\n",
    "cout << endl;\n",
    "\n",
    "for (int i = 1; i <= n; i++) \n",
    "{\n",
    "    cout << i << \" | \";\n",
    "    for (int j = 1; j <= n; j++) \n",
    "    {\n",
    "        cout << j*i << \"\\t\";\n",
    "    }\n",
    "    cout << endl;\n",
    "}"
   ]
  },
  {
   "cell_type": "markdown",
   "id": "bfcbb125",
   "metadata": {},
   "source": [
    "## Zadanie 7.4.\n",
    "Wypisać za pomocą pętli for wszystkie małe litery, następnie wszystkie wielkie litery, a na koniec wszystkie cyfry. Następnie pobrać jeden znak z konsoli. Jeśli jest to mała litera zamienić ją na wielką, jeśli jest to wielka litera zamienić ją na małą (w obydwu przypadkach ją wydrukować na konsoli)."
   ]
  },
  {
   "cell_type": "markdown",
   "id": "04a44771",
   "metadata": {},
   "source": [
    "### Sposób 1"
   ]
  },
  {
   "cell_type": "code",
   "execution_count": null,
   "id": "8463701e",
   "metadata": {
    "vscode": {
     "languageId": "c++"
    }
   },
   "outputs": [],
   "source": [
    "//todo rozwiąż zadanie"
   ]
  },
  {
   "cell_type": "code",
   "execution_count": null,
   "id": "614fddeb",
   "metadata": {
    "vscode": {
     "languageId": "c++"
    }
   },
   "outputs": [],
   "source": [
    "//przykład poprawnego rozwiązania:\n",
    "\n",
    "for (char m='a';m<='z';m++)\n",
    "{\n",
    "    cout<<\" \"<<m;\n",
    "}\n",
    "cout<<endl;\n",
    "\n",
    "for (char d='A';d<='Z';d++)\n",
    "{\n",
    "    cout<<\" \"<<d;\n",
    "}\n",
    "cout<<endl;\n",
    "\n",
    "for (char c='0';c<='9';c++)\n",
    "{\n",
    "    cout<<\" \"<<c;\n",
    "}\n",
    "cout<<endl;"
   ]
  },
  {
   "cell_type": "markdown",
   "id": "81c80e23",
   "metadata": {},
   "source": [
    "### Sposób 2"
   ]
  },
  {
   "cell_type": "code",
   "execution_count": null,
   "id": "7fc2da08",
   "metadata": {
    "vscode": {
     "languageId": "c++"
    }
   },
   "outputs": [],
   "source": [
    "//todo rozwiąż zadanie"
   ]
  },
  {
   "cell_type": "code",
   "execution_count": null,
   "id": "ecb9c3a2",
   "metadata": {
    "vscode": {
     "languageId": "c++"
    }
   },
   "outputs": [],
   "source": [
    "//przykład poprawnego rozwiązania:\n",
    "for(int i=97;i<=122;i++)\n",
    "{\n",
    "    cout << (char)i << \" \";\n",
    "}\n",
    "cout << \"\\n\";\n",
    "\n",
    "for(int i=65;i<=90;i++)\n",
    "{\n",
    "    cout << (char)i << \" \";\n",
    "}\n",
    "cout<<endl<<endl;"
   ]
  },
  {
   "cell_type": "markdown",
   "id": "41f8b549",
   "metadata": {},
   "source": [
    "### Sposób 3"
   ]
  },
  {
   "cell_type": "code",
   "execution_count": null,
   "id": "a577a00b",
   "metadata": {
    "vscode": {
     "languageId": "c++"
    }
   },
   "outputs": [],
   "source": [
    "//todo rozwiąż zadanie"
   ]
  },
  {
   "cell_type": "code",
   "execution_count": null,
   "id": "b823421e",
   "metadata": {
    "vscode": {
     "languageId": "c++"
    }
   },
   "outputs": [],
   "source": [
    "//przykład poprawnego rozwiązania:\n",
    "for( int i = '0'; i <= (int)'z'; i++){\n",
    "    cout << (char)i << \" \";\n",
    "    if(i == (int)'9')\n",
    "    {\n",
    "        i = (int)'A'-1;\n",
    "        cout << endl;\n",
    "    }\n",
    "    if(i == (int)'Z')\n",
    "    {\n",
    "        i = (int)'a'-1;\n",
    "        cout << endl;\n",
    "    }\n",
    "}"
   ]
  },
  {
   "cell_type": "markdown",
   "id": "a6bdf6e7",
   "metadata": {},
   "source": [
    "## Zadanie 7.5.\n",
    "Zadanie bonusowe/przypomnienie."
   ]
  },
  {
   "cell_type": "code",
   "execution_count": null,
   "id": "df3ec27a",
   "metadata": {
    "vscode": {
     "languageId": "c++"
    }
   },
   "outputs": [],
   "source": [
    "//przykład poprawnego rozwiązania:\n",
    "cout<<endl<<endl;\n",
    "  \n",
    "cout<<\"Podaj dowolną literę: \";\n",
    "char z,x;\n",
    "cin>>z;\n",
    "\n",
    "if(z>='a' && z<='z')\n",
    "{\n",
    "  x=z-32;\n",
    "  cout<<z<<\" \"<<x;\n",
    "}\n",
    "else\n",
    "{\n",
    "  x=z+32;\n",
    "  cout<<z<<\" \"<<x;\n",
    "}"
   ]
  },
  {
   "cell_type": "markdown",
   "id": "4cc6cd26-7841-4a86-849f-0a525f8be689",
   "metadata": {
    "editable": true,
    "slideshow": {
     "slide_type": ""
    },
    "tags": []
   },
   "source": [
    "![logotypy.png](../figures/OMNIS2_logotypy.png)"
   ]
  }
 ],
 "metadata": {
  "kernelspec": {
   "display_name": "C++11",
   "language": "C++11",
   "name": "xcpp11"
  },
  "language_info": {
   "codemirror_mode": "text/x-c++src",
   "file_extension": ".cpp",
   "mimetype": "text/x-c++src",
   "name": "C++11",
   "version": "17"
  }
 },
 "nbformat": 4,
 "nbformat_minor": 5
}

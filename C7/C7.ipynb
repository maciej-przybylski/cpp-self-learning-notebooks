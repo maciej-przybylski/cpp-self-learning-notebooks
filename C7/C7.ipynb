{
 "cells": [
  {
   "cell_type": "markdown",
   "id": "24218d8b-9b9a-4480-be64-bab9d3562cb0",
   "metadata": {
    "editable": true,
    "slideshow": {
     "slide_type": ""
    },
    "tags": []
   },
   "source": [
    "![OMNIS2_Logo_projektu.png](../figures/OMNIS2_Logo_projektu.png)"
   ]
  },
  {
   "cell_type": "markdown",
   "id": "29731562-dc09-4338-9b0e-85f40ed10a09",
   "metadata": {
    "editable": true,
    "slideshow": {
     "slide_type": ""
    },
    "tags": []
   },
   "source": [
    "# Ćwiczenie 7: Pętla `for`\n",
    "\n",
    "autor: Jan Klimaszewski"
   ]
  },
  {
   "cell_type": "markdown",
   "id": "32578e4d-0818-420c-899c-e578bf69a922",
   "metadata": {
    "editable": true,
    "slideshow": {
     "slide_type": ""
    },
    "tags": []
   },
   "source": [
    "W tym ćwiczeniu nauczysz się, jak korzystać z pętli `for` w C++.\n",
    "Dzięki temu będziesz potrafił napisać program, w którym wybrane **fragmenty kodu** powtórzą się **określoną liczbę razy**, zgodnie z podanym przez Ciebie **warunkiem**.\n",
    "Tak samo jak w przypadku pętli `while` jedno powtórzenie, czyli wykonanie **fragmentu kodu**, nazywamy **iteracją** pętli.\n",
    "Pętla `for` wykonuje blok kodu **określoną liczbę razy**. Najczęściej używamy jej wtedy, gdy z góry wiemy, ile powtórzeń ma się wykonać."
   ]
  },
  {
   "cell_type": "markdown",
   "id": "9a4e0e54",
   "metadata": {},
   "source": [
    "## Pętla `for` w C++\n",
    "Pętla `for` wykonuje **fragment kodu** tak długo, jak długo podany **warunek** jest spełniony. Składnia pętli `for`:\n",
    "\n",
    "```c++\n",
    "for (instrukcja początkowa; warunek; instrukcja końcowa) {\n",
    "  // fragment kodu\n",
    "}\n",
    "```"
   ]
  },
  {
   "cell_type": "markdown",
   "id": "3a71e06a",
   "metadata": {},
   "source": [
    "- **Instrukcja początkowa** - jest wykonywana **raz** przed pierwszą **iteracją**, czyli przed pierwszym wykonaniem **fragmentu kodu**.  \n",
    "- **Warunek** - decyduje o wykonaniu **fragmentu kodu**.  \n",
    "- **Instrukcja końcowa** - jest wykonywana **za każdym razem** po zakończeniu **iteracji**, czyli po zakończeniu wykonania **fragmentu kodu**.  "
   ]
  },
  {
   "cell_type": "markdown",
   "id": "ab172e3a",
   "metadata": {},
   "source": [
    "## Przygotowanie notatnika\n",
    "Zanim przejdziemy dalej uruchomimy dwa polecenia pomocnicze - zadeklarujemy korzystanie z biblioteki `iostream` oraz określimy, że będziemy domyślnie korzystali z przestrzeni nazw `std`. "
   ]
  },
  {
   "cell_type": "code",
   "execution_count": null,
   "id": "a87b2b7e",
   "metadata": {
    "vscode": {
     "languageId": "cpp"
    }
   },
   "outputs": [],
   "source": [
    "#include <iostream>\n",
    "\n",
    "using namespace std;"
   ]
  },
  {
   "cell_type": "markdown",
   "id": "19117e4d",
   "metadata": {},
   "source": [
    "## Zadanie 7.1.\n",
    "Na początek napiszemy prosty program wypisujący wartości od 0 do `x` włącznie, gdzie `x` będzie wartością wczytaną z konsoli. Do rozwiązania tego przykładu użyj pętli `for`. Zadeklaruj odpowiednie zmienne typu całkowitego, uzupełnij poniższy fragment kodu."
   ]
  },
  {
   "cell_type": "code",
   "execution_count": null,
   "id": "761d02f9",
   "metadata": {
    "vscode": {
     "languageId": "cpp"
    }
   },
   "outputs": [],
   "source": [
    "                                //todo zadeklaruj odpowiednio zmienną x\n",
    "                                //todo wczytaj wartość zmiennej x z konsoli\n",
    "for( int i = 1; i <= ?; i++ )   //todo uzupełnij warunek - jak długo pętla ma się wykonywać?\n",
    "{\n",
    "                                //todo wypisz odpowiednie wartości\n",
    "}"
   ]
  },
  {
   "cell_type": "markdown",
   "id": "cb45e2ff",
   "metadata": {},
   "source": [
    "💡 **Wskazówka:** W powyższym kodzie widać standardowe i powszechnie stosowane użycie pętli `for`. **Instrukcja początkowa** to deklaracja nowej zmiennej pomocniczej `i` oraz przypisanie jej początkowej wartości. Dalej znajduje się **warunek** wykonania **iteracji** (kroku) pętli, a później **instrukcja końcowa** mówiąca o tym, że na koniec **każdej** iteracji wartość `i` będzie zwiększana o `1`. `i++` znaczy `i = i + 1`, czyli do zmiennej `i` wpisz aktualną wartość zmiennej `i` zwiększoną o `1`.  \n",
    "\n",
    "Rozwiń poniższy fragment kodu, aby zobaczyć rozwiązanie.\n",
    "\n",
    "<details>\n",
    "    <summary>Rozwiązanie</summary>\n",
    "\n",
    "```c++\n",
    "//przykład poprawnego rozwiązania:\n",
    "\n",
    "int x;\n",
    "cin >> x;\n",
    "for( int i = 1; i <= x; i++ )\n",
    "{\n",
    "    cout << i << \", \";\n",
    "}\n",
    "```\n",
    "</details>"
   ]
  },
  {
   "cell_type": "markdown",
   "id": "177c0a71",
   "metadata": {},
   "source": [
    "## Zadanie 7.2.\n",
    "W kolejnym zadaniu policzymy średnią ze wszystkich liczb całkowitych od `x` do `y` włącznie. Na początek wczytaj z konsoli wartości `x` i `y`. Uzupełnij poniższy kod."
   ]
  },
  {
   "cell_type": "code",
   "execution_count": null,
   "id": "2692672b",
   "metadata": {
    "vscode": {
     "languageId": "cpp"
    }
   },
   "outputs": [],
   "source": [
    "                                //todo zadeklaruj odpowiednio zmienną x\n",
    "                                //todo wczytaj wartość zmiennej x z konsoli\n",
    "\n",
    "int suma = 0;                   //na początek suma jest równa 0\n",
    "for( ?; ?; ?)                   //todo uzupełnij standardowe instrukcje \n",
    "{\n",
    "    suma = suma + ?;            //todo za każdym razem zwiększ sumę o aktualną wartość\n",
    "}\n",
    "\n",
    "float srednia = ?;              //todo wpisz odpowiednie działanie, pamiętaj o dzieleniu rzeczywistym!\n",
    "                                //todo wypisz wynik na konsoli"
   ]
  },
  {
   "cell_type": "markdown",
   "id": "ff98bab1",
   "metadata": {},
   "source": [
    "Rozwiń poniższy fragment kodu, aby zobaczyć rozwiązanie.\n",
    "\n",
    "<details>\n",
    "    <summary>Rozwiązanie</summary>\n",
    "\n",
    "```c++\n",
    "//przykład poprawnego rozwiązania:\n",
    "\n",
    "int x, y;\n",
    "cin >> x >> y;\n",
    "\n",
    "int suma = 0;                   //na początek suma jest równa 0\n",
    "for( int i = x; i <= y; i++)\n",
    "{\n",
    "    suma = suma + i;\n",
    "}\n",
    "\n",
    "float srednia = float(suma)/(y-x+1);\n",
    "cout << \"Średnia wszystkich liczb od x do y wynosi \" << srednia << endl;\n",
    "```\n",
    "</details>"
   ]
  },
  {
   "cell_type": "markdown",
   "id": "bfcbb125",
   "metadata": {},
   "source": [
    "Teraz rozwiążmy zadanie, które pomoże zrozumieć jak wykorzystywać znaki i typ danych `char` w C++.  \n",
    "\n",
    "## Zadanie 7.3.\n",
    "Za pomocą pętli `for` wypisz wszystkie małe litery, wszystkie wielkie litery alfabetu, a następnie wszystkie cyfry.   \n",
    "\n",
    "Wydrukuj na konsoli wszystkie wyniki działania programu."
   ]
  },
  {
   "cell_type": "markdown",
   "id": "75d5ce28",
   "metadata": {},
   "source": [
    "To zadanie ma Cię skłonić do zrozumienia jak korzystać z **tablicy kodów ASCII** w C++. Przypomnij Sobie opis **tablicy kodów ASCII** zrobiomy przy okazji opisu typu `char` w [Ćwiczenie 2: Zmienne, stałe, typy danych, konwersja typów](../C2/C2.ipynb). "
   ]
  },
  {
   "cell_type": "markdown",
   "id": "04a44771",
   "metadata": {},
   "source": [
    "### Sposób 1\n",
    "\n",
    "Sposób 1 nie wymaga znajomości kodów ASCII."
   ]
  },
  {
   "cell_type": "code",
   "execution_count": null,
   "id": "8463701e",
   "metadata": {
    "vscode": {
     "languageId": "cpp"
    }
   },
   "outputs": [],
   "source": [
    "for (char m='a';m<=?;m++)   //todo uzupełnij \n",
    "{\n",
    "    cout<<\" \"<<m;\n",
    "}\n",
    "cout<<endl;\n",
    "\n",
    "                            //todo napisz podobne pętle dla wielkich liter i cyfr "
   ]
  },
  {
   "cell_type": "markdown",
   "id": "bb045b4b",
   "metadata": {},
   "source": [
    "Rozwiń poniższy fragment kodu, aby zobaczyć rozwiązanie.\n",
    "\n",
    "<details>\n",
    "    <summary>Rozwiązanie</summary>\n",
    "\n",
    "```c++\n",
    "//przykład poprawnego rozwiązania:\n",
    "\n",
    "for (char m='a';m<='z';m++)\n",
    "{\n",
    "    cout<<\" \"<<m;\n",
    "}\n",
    "cout<<endl;\n",
    "\n",
    "for (char d='A';d<='Z';d++)\n",
    "{\n",
    "    cout<<\" \"<<d;\n",
    "}\n",
    "cout<<endl;\n",
    "\n",
    "for (char c='0';c<='9';c++)\n",
    "{\n",
    "    cout<<\" \"<<c;\n",
    "}\n",
    "cout<<endl;\n",
    "```\n",
    "</details>"
   ]
  },
  {
   "cell_type": "markdown",
   "id": "81c80e23",
   "metadata": {},
   "source": [
    "### Sposób 2\n",
    "Wartosć zmiennej znakowej typu `char` można traktować jak liczbę całkowitą. Ta liczba całkowita to **kod ASCII** odpowiadający pewnemu znakowi. Wypiszemy na konsoli zmienną znakową typu `char` otrzymamy odpowiadający jej znak, a nie **kod ASCII**. Jednakże w pętli możemy posługiwać się bezpośrednio kodami - a te znajdziemy w [Ćwiczenie 2: Zmienne, stałe, typy danych, konwersja typów](../C2/C2.ipynb), wartość **DEC** w tabeli."
   ]
  },
  {
   "cell_type": "code",
   "execution_count": null,
   "id": "7fc2da08",
   "metadata": {
    "vscode": {
     "languageId": "cpp"
    }
   },
   "outputs": [],
   "source": [
    "for(int i=?;i<=?;i++)               //todo wpisz kody ASCII odpowiadającej pierwszej i ostatniej małej literze w tablicy kodów ASCII\n",
    "{\n",
    "    cout << char(i) << \" \";         //wypisujemy znak odpowiadający kodowi ASCII - zmienną całkowitą typu int rzutujemy na typ char\n",
    "}\n",
    "cout << \"\\n\";\n",
    "                                    //todo napisz podobne pętle dla wielkich liter i cyfr "
   ]
  },
  {
   "cell_type": "markdown",
   "id": "05d55677",
   "metadata": {},
   "source": [
    "Rozwiń poniższy fragment kodu, aby zobaczyć rozwiązanie.\n",
    "\n",
    "<details>\n",
    "    <summary>Rozwiązanie</summary>\n",
    "\n",
    "```c++\n",
    "//przykład poprawnego rozwiązania:\n",
    "for(int i=97;i<=122;i++)\n",
    "{\n",
    "    cout << char(i) << \" \";\n",
    "}\n",
    "cout << \"\\n\";\n",
    "\n",
    "for(int i=65;i<=90;i++)\n",
    "{\n",
    "    cout << char(i) << \" \";\n",
    "}\n",
    "cout<<endl<<endl;\n",
    "```\n",
    "</details>"
   ]
  },
  {
   "cell_type": "markdown",
   "id": "09b331bd",
   "metadata": {},
   "source": [
    "## Zadanie 7.4.\n",
    "Napisz teraz program drukujący na ekranie prostokąt ze znaków `*`: \n",
    "```cpp\n",
    "*******\n",
    "*******\n",
    "*******\n",
    "*******\n",
    "```\n",
    "Wysokość i szerokość prostokąta wczytaj z konsoli. Uzupełnij poniższy kod.\n",
    "\n",
    "💡 **Wskazówka:** Zadanie rozwiążemy z zastosowaniem pętli `for` **zagnieżdżonej** w innej pętli `for`. Oznacza to, że pętla `for` (wewnętrzna) będzie znajdować się wewnątrz innej pętli `for` (zewnętrznej). Dlaczego w ten sposób? Spójrz na proponowany poniżej schemat programu. Wyobraź Sobie, że pętla wewnętrzna odpowiada za wydrukowanie jednego wiersza. Pętla zewnętrzna odpowiada za wydrukowanie wszystkich wierszy. To znaczy, że każda iteracja pętli zewnętrznej zajmuje się wydrukowaniem jednej linijki - jednego wiersza. Każda iteracja pętli wewnętrznej drukuje jedną gwiazdkę. "
   ]
  },
  {
   "cell_type": "code",
   "execution_count": null,
   "id": "d75880b6",
   "metadata": {
    "vscode": {
     "languageId": "cpp"
    }
   },
   "outputs": [],
   "source": [
    "char gwiazdka = '*';\n",
    "\n",
    "                                    //todo zadeklaruj zmienne szerokosc i wysokosc, wczytaj ich wartości z konsoli \n",
    "\n",
    "for ( int i = ?; i <= ?; i++ )      //todo skonfiguruj pętlę zewnętrzną - liczącą wiersze od góry do dołu, ile wierszy musi wydrukować?\n",
    "{   \n",
    "                                    //todo wewnątrz umieść kod drukujący jeden aktualny wiersz \n",
    "    for ( int j = ?; j <= ?; j++ )  //todo skonfiguruj pętlę wewnętrzną - ile gwiazdek musi wydrukować w jednym wierszu?\n",
    "    {\n",
    "        \n",
    "    }\n",
    "    cout << endl;                   //na koniec wiersza przejdź do nowej linii (niższego wiersza choinki)\n",
    "}\n"
   ]
  },
  {
   "cell_type": "markdown",
   "id": "2aca3705",
   "metadata": {},
   "source": [
    "Rozwiń poniższy fragment kodu, aby zobaczyć rozwiązanie.\n",
    "\n",
    "<details>\n",
    "    <summary>Rozwiązanie</summary>\n",
    "\n",
    "```c++\n",
    "//przykład poprawnego rozwiązania:\n",
    "\n",
    "char gwiazdka = '*';\n",
    "\n",
    "int szerokosc, wysokosc;\n",
    "cout << \"Podaj szerokość i wysokość prostokąta:\" << endl;\n",
    "cin >> szerokosc;\n",
    "cin >> wysokosc;\n",
    "\n",
    "for ( int i = 0; i < wysokosc; i++ )\n",
    "{   \n",
    "    for ( int j = 0; j < szerokosc; j++ )\n",
    "    {\n",
    "        cout << gwiazdka;\n",
    "    }\n",
    "    cout << endl;                  \n",
    "}\n",
    "```\n",
    "</details>"
   ]
  },
  {
   "cell_type": "markdown",
   "id": "82888c38",
   "metadata": {},
   "source": [
    "## Zadanie 7.5.\n",
    "Skoro umiemy już pisać pętle zagnieżdżone, napisz program drukujący na ekranie choinkę ze znaków `*`: \n",
    "```cpp\n",
    "   *\n",
    "  ***\n",
    " *****\n",
    "*******\n",
    "```\n",
    "Wysokość choinki wczytaj z konsoli."
   ]
  },
  {
   "cell_type": "markdown",
   "id": "1a472449",
   "metadata": {},
   "source": [
    "### Sposób 1\n",
    "Zdanie rozwiążemy podobnie jak 7.4. Trzeba tylko zmienić sposób wypisania jednego wiersza - będzie on się zmieniał w zależności od wysokości 'nad ziemią' (zmienna `h`). \n",
    "Możesz podzielić choinkę na wiersze. Każdy wiersz będzie miał swój numer i przechowującą tą wartość zmienną w pętli `for`.  \n",
    "Każdy wiersz też możesz podzielić na części - część od lewej zwierająca spacje ` `, oraz cześć kolejna zawierająca gwiazdki `*`.  \n",
    "Liczba spacji i gwiazdek zmienia się w każdym wierszu. Trzeba tylko dobrze wyznaczyć te liczby i odpowiednio napisać pętle zagnieżdżone drukujące każdy wiersz."
   ]
  },
  {
   "cell_type": "code",
   "execution_count": null,
   "id": "9d6fa3a1",
   "metadata": {
    "vscode": {
     "languageId": "cpp"
    }
   },
   "outputs": [],
   "source": [
    "char gwiazdka = '*';\n",
    "char spacja = ' ';\n",
    "int h = 4;                          //wysokość choinki\n",
    "\n",
    "for (?)                             //todo skonfiguruj pętlę zewnętrzną - liczącą wiersze od góry do dołu\n",
    "{   \n",
    "                                    //todo wewnątrz umieść kod drukujący jeden aktualny wiersz \n",
    "    for (?)                         //todo na początek pętla drukująca spacje ' '\n",
    "    {\n",
    "        \n",
    "    }\n",
    "    for (?)                         //todo później pętla drukująca gwiazdki `*`\n",
    "    {\n",
    "        \n",
    "    }\n",
    "    cout << endl;                   //na koniec wiersza przejdź do nowej linii (niższego wiersza choinki)\n",
    "}"
   ]
  },
  {
   "cell_type": "markdown",
   "id": "13b1bdd7",
   "metadata": {},
   "source": [
    "Rozwiń poniższy fragment kodu, aby zobaczyć rozwiązanie.\n",
    "\n",
    "<details>\n",
    "    <summary>Rozwiązanie</summary>\n",
    "\n",
    "```c++\n",
    "//przykład poprawnego rozwiązania:\n",
    "\n",
    "char gwiazdka = '*';\n",
    "char spacja = ' ';\n",
    "int h = 4;\n",
    "\n",
    "for (int i=1; i<=h; i++)\n",
    "{\n",
    "    for (int k=1 ; k<=h-i; k++)\n",
    "    {\n",
    "    cout << \" \";\n",
    "    }\n",
    "    for (int j=1; j<= 2*i-1; j++)\n",
    "    {\n",
    "    cout << \"*\";\n",
    "    }\n",
    "    cout << endl;\n",
    "}\n",
    "```\n",
    "</details>"
   ]
  },
  {
   "cell_type": "markdown",
   "id": "070ce03f",
   "metadata": {},
   "source": [
    "### Sposób 2\n",
    "Zadanie można rozwiązać również w trochę inny sposób. Załóżmy, że ekran to macierz o indeksach `i` oraz `j`:  \n",
    "```cpp\n",
    "i\\j 0123456\n",
    "0      *\n",
    "1     ***\n",
    "2    *****\n",
    "3   *******\n",
    "```\n",
    "\n",
    "Napiszmy dwie pętle - jedna zagnieżdżona w drugiej.  \n",
    "Ta zewnętrzna będzie przechodziła kolejno po wierszach choinki i będzie liczyła od `i` równego `0` do wartości będącej wysokością choinki.  \n",
    "Ta wewnętrzena - zagnieżdżona - będzie przechodziła kolejno po elementach aktualnego wiersza wybranego przez pętlę zewnętrzną.  "
   ]
  },
  {
   "cell_type": "code",
   "execution_count": null,
   "id": "066f3a2a",
   "metadata": {
    "vscode": {
     "languageId": "cpp"
    }
   },
   "outputs": [],
   "source": [
    "char gwiazdka = '*';\n",
    "char spacja = ' ';\n",
    "int h = 4;                       //wysokość choinki\n",
    "\n",
    "//potraktuj ekran jak macierz o indeksach i\\j\n",
    "for(int i=0;i<?;i++)            //todo pętla zewnętrzna przechodząca kolejno po wierszach od górnego do dolnego\n",
    "{\n",
    "    for(int j=0;j<?;j++)        //todo pętla wewnętrzna przechodząca po kolumnach od lewej do prawej\n",
    "    {\n",
    "                                //todo jeśli odpowiedni warunek jest spełniony, wypisz gwiazdke, w przeciwnym przypadku wypisz spację \n",
    "    }\n",
    "}"
   ]
  },
  {
   "cell_type": "markdown",
   "id": "68332aa7",
   "metadata": {},
   "source": [
    "Rozwiń poniższy fragment kodu, aby zobaczyć rozwiązanie.\n",
    "\n",
    "<details>\n",
    "    <summary>Rozwiązanie</summary>\n",
    "\n",
    "```c++\n",
    "//przykład poprawnego rozwiązania:\n",
    "\n",
    "char gwiazdka = '*';\n",
    "char spacja = ' ';\n",
    "int h = 4;\n",
    "\n",
    "//potraktuj ekran jak tablice dwuwymiarowa\n",
    "for(int i=0;i<h*2+1;i++)\n",
    "{\n",
    "    cout<<endl;\n",
    "    for(int j=0;j<h*2+1;j++)\n",
    "    {\n",
    "        if(i>j && j>h*2-i)\n",
    "        {\n",
    "            cout<<gwiazdka;\n",
    "        }\n",
    "        else\n",
    "        {\n",
    "            cout<<spacja;\n",
    "        }\n",
    "    }\n",
    "}\n",
    "cout<<endl;\n",
    "```\n",
    "</details>"
   ]
  },
  {
   "cell_type": "markdown",
   "id": "13bc5033",
   "metadata": {},
   "source": [
    "## Zadanie 7.6.\n",
    "Napiszemy teraz kolejny program wykorzystujący pętlę zagnieżdżoną w drugiej pętli. Wydrukuj na ekranie tabliczkę mnożenia do `n` dla dowolnego `n`, przykład dla `n` równego `5`:  \n",
    "```cpp\n",
    "  | 1   2   3   4   5\n",
    "======================\n",
    "1 | 1   2   3   4   5\n",
    "2 | 2   4   6   8   10\n",
    "3 | 3   6   9   12  15\n",
    "4 | 4   8   12  16  20\n",
    "5 | 5   10  15  20  25\n",
    "```\n",
    "💡 **Wskazówka:** Zadanie stosunkowo łatwo rozwiązać stosując sposób 1 zadania z choinką. "
   ]
  },
  {
   "cell_type": "code",
   "execution_count": null,
   "id": "dc6d15cf",
   "metadata": {
    "vscode": {
     "languageId": "cpp"
    }
   },
   "outputs": [],
   "source": [
    "//todo rozwiąż zadanie"
   ]
  },
  {
   "cell_type": "markdown",
   "id": "76bd668b",
   "metadata": {},
   "source": [
    "Rozwiń poniższy fragment kodu, aby zobaczyć rozwiązanie.\n",
    "\n",
    "<details>\n",
    "    <summary>Rozwiązanie</summary>\n",
    "\n",
    "```c++\n",
    "//przykład poprawnego rozwiązania:\n",
    "\n",
    "int n;\n",
    "cin >> n;\n",
    "cout << \"1 | \";\n",
    "for (int i = 1; i <= n; i++) \n",
    "{\n",
    "    cout << i << \"\\t\";\n",
    "}\n",
    "cout << endl << \"==\";\n",
    "\n",
    "for (int i = 1; i <= n; i++) \n",
    "{\n",
    "    cout << \"====\";\n",
    "}\n",
    "cout << endl;\n",
    "\n",
    "for (int i = 1; i <= n; i++) \n",
    "{\n",
    "    cout << i << \" | \";\n",
    "    for (int j = 1; j <= n; j++) \n",
    "    {\n",
    "        cout << j*i << \"\\t\";\n",
    "    }\n",
    "    cout << endl;\n",
    "}\n",
    "```\n",
    "</details>"
   ]
  },
  {
   "cell_type": "markdown",
   "id": "e84bce08",
   "metadata": {},
   "source": [
    "## Zadanie 7.7.\n",
    "\n",
    "Dla danego ''x'' drukować kolejne przybliżenia ''sin(x)'', aż wyznaczany wyraz szeregu co do modułu będzie mniejszy od danej dokładności ''eps''.\n",
    "\n",
    "$\\sin(x) = x - \\frac{x^3}{3!} + \\frac{x^5}{5!} - \\ldots = \\sum_{i=0}^{\\infty} (-1)^i \\frac{x^{2i+1}}{(2i+1)!}\n",
    "$\n",
    " \n",
    "Algorytm działa dla ''x'' podanego w radianach.\n",
    " Zmienna przechowująca wynik silni powinna być typu ''long long int'', czyli 64-bitowa, ponieważ wartości silni bardzo szybko rosną i wykraczają poza zakres zwykłego ''int'a''."
   ]
  },
  {
   "cell_type": "code",
   "execution_count": null,
   "id": "a10c2548-c459-42a4-a6e0-24afea03b53a",
   "metadata": {
    "vscode": {
     "languageId": "cpp"
    }
   },
   "outputs": [],
   "source": [
    "#include <iostream>\n",
    "#include <cmath>  // funkcja pow oraz sin (dla sprawdzenia poprawności)\n",
    "using namespace std;"
   ]
  },
  {
   "cell_type": "code",
   "execution_count": null,
   "id": "3cd25e9f",
   "metadata": {
    "vscode": {
     "languageId": "cpp"
    }
   },
   "outputs": [],
   "source": [
    "double x;\n",
    "cout << \"Podaj x (w radianach): \";\n",
    "cin >> x;\n",
    "\n",
    "const double eps = 0.001; // Dokładność\n",
    "\n",
    "double a;                // wyraz szeregu\n",
    "double sinx = ?;         // suma początkowa\n",
    "int i = ?;               // indeks wyrazu\n",
    "\n",
    "// obliczanie kolejnych wyrazów aż moduł wyrazu < eps\n",
    "do{\n",
    "    long long int silnia = 1;\n",
    "    // todo: policzyć silnię !(2i+1) za pomocą pętli for\n",
    "    \n",
    "    a = ? // obliczyć wyrażenie dla danego i (wzór pod sumą)\n",
    "    sinx += ? // todo zwiększyć sumę przybliżenia\n",
    "    cout << \"i = \" << i << \", przyblizenie = \" << sinx << endl;\n",
    "    i++;\n",
    "}while (abs(a) >= eps);\n",
    "\n",
    "cout << \"Wartosc przyblizona sin(\" << x << \") = \" << sinx << endl;\n",
    "cout << \"Wartosc z biblioteki sin(x) = \" << sin(x) << endl;"
   ]
  },
  {
   "cell_type": "markdown",
   "id": "d5aafb31-88e2-4ae8-bdc2-ea5c7c947900",
   "metadata": {},
   "source": [
    "Rozwiń poniższy fragment kodu, aby zobaczyć rozwiązanie.\n",
    "\n",
    "<details>\n",
    "    <summary>Rozwiązanie</summary>\n",
    "\n",
    "```c++\n",
    "double x;\n",
    "cout << \"Podaj x (w radianach): \";\n",
    "cin >> x;\n",
    "\n",
    "const double eps = 0.001; // Dokładność\n",
    "\n",
    "double a;                // wyraz szeregu\n",
    "double sinx = 0.0;      // suma początkowa\n",
    "int i = 0;              // indeks wyrazu\n",
    "\n",
    "// obliczanie kolejnych wyrazów aż moduł wyrazu < eps\n",
    "do{\n",
    "    int b = 2 * i + 1;\n",
    "    long long int silnia = 1;\n",
    "    for(int j=2; j<=b; j++)\n",
    "        silnia *= j;\n",
    "    \n",
    "    a = pow(-1,i) * pow(x,b) / silnia;\n",
    "    sinx += a;\n",
    "    cout << \"i = \" << i << \", przyblizenie = \" << sinx << endl;\n",
    "    i++;\n",
    "}while (abs(a) >= eps);\n",
    "\n",
    "cout << \"Wartosc przyblizona sin(\" << x << \") = \" << sinx << endl;\n",
    "cout << \"Wartosc z biblioteki sin(x) = \" << sin(x) << endl;\n",
    "```\n",
    "</details>"
   ]
  },
  {
   "cell_type": "markdown",
   "id": "4cc6cd26-7841-4a86-849f-0a525f8be689",
   "metadata": {
    "editable": true,
    "slideshow": {
     "slide_type": ""
    },
    "tags": []
   },
   "source": [
    "![logotypy.png](../figures/OMNIS2_logotypy.png)"
   ]
  }
 ],
 "metadata": {
  "kernelspec": {
   "display_name": "C++11",
   "language": "C++11",
   "name": "xcpp11"
  },
  "language_info": {
   "codemirror_mode": "text/x-c++src",
   "file_extension": ".cpp",
   "mimetype": "text/x-c++src",
   "name": "c++",
   "version": "11"
  }
 },
 "nbformat": 4,
 "nbformat_minor": 5
}

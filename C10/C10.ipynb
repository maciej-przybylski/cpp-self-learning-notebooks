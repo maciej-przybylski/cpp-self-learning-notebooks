{
 "cells": [
  {
   "cell_type": "markdown",
   "id": "24218d8b-9b9a-4480-be64-bab9d3562cb0",
   "metadata": {
    "editable": true,
    "slideshow": {
     "slide_type": ""
    },
    "tags": []
   },
   "source": [
    "![OMNIS2_Logo_projektu.png](../figures/OMNIS2_Logo_projektu.png)"
   ]
  },
  {
   "cell_type": "markdown",
   "id": "32578e4d-0818-420c-899c-e578bf69a922",
   "metadata": {
    "editable": true,
    "slideshow": {
     "slide_type": ""
    },
    "tags": []
   },
   "source": [
    "# Ćwiczenie 10: Tablice dwuwymiarowe\n",
    "Wprowadzenie do ćwiczenia.\n",
    "Krótkie przypomnienie teorii.\n",
    "todo przerobić na formę notatnika\n",
    "todo przerobić na funkcje"
   ]
  },
  {
   "cell_type": "markdown",
   "id": "fa173a14",
   "metadata": {},
   "source": [
    "## Zadanie 10.0. \n",
    "Zanim przejdziemy dalej uruchomimy dwa polecenia pomocnicze - zadeklarujemy korzystanie z biblioteki `iostream` oraz określimy, że będziemy domyślnie korzystali z przestrzeni nazw `std`. Dzieki temu w dalszej części ćwiczenia ... todo"
   ]
  },
  {
   "cell_type": "code",
   "execution_count": null,
   "id": "58bf5572",
   "metadata": {
    "vscode": {
     "languageId": "plaintext"
    }
   },
   "outputs": [],
   "source": [
    "#include <iostream>\n",
    "\n",
    "using namespace std;"
   ]
  },
  {
   "cell_type": "markdown",
   "id": "3049219f",
   "metadata": {},
   "source": [
    "## Zadanie 10.1.\n",
    "Zadeklarować tablicę statyczną dwuwymiarową o rozmiarze NxN, gdzie N - wartość stała. Tablicę wypełnić losowymi małymi alfabetu. Wydrukować tablicę wierszami (każdy wiersz w nowej linii)."
   ]
  },
  {
   "cell_type": "code",
   "execution_count": null,
   "id": "737ac271",
   "metadata": {
    "vscode": {
     "languageId": "plaintext"
    }
   },
   "outputs": [],
   "source": [
    "//todo rozwiąż zadanie"
   ]
  },
  {
   "cell_type": "code",
   "execution_count": null,
   "id": "e3408e1f",
   "metadata": {
    "vscode": {
     "languageId": "plaintext"
    }
   },
   "outputs": [],
   "source": [
    "//przykład poprawnego rozwiązania:\n",
    "\n",
    "srand( time( NULL ) );\n",
    "const int N = 5;\n",
    "\n",
    "char tab[N][N];\n",
    "\n",
    "for(int y = 0; y < N; y++) \n",
    "{\n",
    "for(int x = 0; x < N; x++) \n",
    "{\n",
    "    tab[x][y] = ('a' + rand()%('z'-'a'));\n",
    "    cout << tab[x][y] << \"\\t\";\n",
    "}\n",
    "cout << endl;\n",
    "}"
   ]
  },
  {
   "cell_type": "markdown",
   "id": "f2664f91",
   "metadata": {},
   "source": [
    "## Zadanie 10.2.\n",
    "Zadeklarować tablicę statyczną dwuwymiarową o rozmiarze NxN, gdzie N - wartość stała.\n",
    "\n",
    "a. Tablicę wypełnić losowymi liczbami całkowitymi z przedziału pobranego z konsoli. Wymusić prawidłowe granice losowania.\n",
    "b. Wydrukować tablicę wierszami (każdy wiersz w nowej linii).\n",
    "c. Wyznaczyć średnią z wartości na obwodzie tablicy.\n",
    "d. Przesunąć cyklicznie w prawo o 1 miejsce wszystkie parzyste wiersze.\n",
    "e. Wydrukować tablicę wierszami (każdy wiersz w nowej linii)."
   ]
  },
  {
   "cell_type": "code",
   "execution_count": null,
   "id": "b7d59b05",
   "metadata": {
    "vscode": {
     "languageId": "plaintext"
    }
   },
   "outputs": [],
   "source": [
    "//todo rozwiąż zadanie"
   ]
  },
  {
   "cell_type": "code",
   "execution_count": null,
   "id": "dced849e",
   "metadata": {
    "vscode": {
     "languageId": "plaintext"
    }
   },
   "outputs": [],
   "source": [
    "//przykład poprawnego rozwiązania:\n",
    "\n",
    "srand(time(nullptr));\n",
    "    \n",
    "const int N=4;\n",
    "int tab[N][N];\n",
    "\n",
    "//Ad. a:\n",
    "int a1, a2;\n",
    "do{\n",
    "    cout << \"podaj przedzial lczb do losowania:\" << endl;\n",
    "    cin >> a1 >> a2;\n",
    "}while(a2 < a1);\n",
    "\n",
    "for(int i=0;i<N;i++){\n",
    "    for(int j=0;j<N;j++){\n",
    "        tab[i][j] = a1 + rand()%(a2-a1+1);\n",
    "    }\n",
    "}\n",
    "\n",
    "//Ad. b:\n",
    "cout << \"tablica:\" << endl;\n",
    "for(int i=0;i<N;i++){\n",
    "    for(int j=0;j<N;j++){\n",
    "        cout << tab[i][j] << \"\\t\";\n",
    "    }\n",
    "    cout << endl;\n",
    "}\n",
    "\n",
    "//Ad. c:\n",
    "int suma=0, licznik=0;\n",
    "for(int i=0;i<N;i++){\n",
    "    for(int j=0;j<N;j++){\n",
    "        if(i==0 ||j==0 || i==N-1 || j==N-1){\n",
    "            suma+=tab[i][j];\n",
    "            licznik++;\n",
    "        }\n",
    "    }\n",
    "}\n",
    "cout << \"średnia liczb na obwodzie: \" << float(suma)/licznik << endl;\n",
    "\n",
    "//Ad. d:\n",
    "for(int i=0;i<N;i++){\n",
    "    if(i%2!=0){\n",
    "        int pom = tab[i][N-1];\n",
    "        for(int j=N-1;j>0;j--){\n",
    "            tab[i][j]=tab[i][j-1];\n",
    "        }\n",
    "        tab[i][0]= pom;\n",
    "    }\n",
    "}\n",
    "\n",
    "//Ad. e:\n",
    "cout << \"tablica z przesunietymi wierszami parzystymi o 1 w prawo:\" << endl;\n",
    "for(int i=0;i<N;i++){\n",
    "    for(int j=0;j<N;j++){\n",
    "        cout << tab [i][j]<< \"\\t\";\n",
    "    }\n",
    "    cout << endl;\n",
    "}"
   ]
  },
  {
   "cell_type": "markdown",
   "id": "2dafb915",
   "metadata": {},
   "source": [
    "## Zadanie 10.3.\n",
    "Zadeklarować tablicę statyczną dwuwymiarową o rozmiarze NxN, gdzie N - wartość stała.\n",
    "\n",
    "a. Tablicę wypełnić losowymi liczbami rzeczywistymi z przedziału pobranego z konsoli. Wymusić prawidłowe granice losowania.\n",
    "b. Wydrukować tablicę wierszami (każdy wiersz w nowej linii).\n",
    "c. Wyznaczyć największą i najmniejszą wartość na głównej przekątnej tablicy.\n",
    "d. Wyznaczyć średnią wartość na II przekątnej tablicy.\n",
    "e. Wydrukować tablicę wierszami (każdy wiersz w nowej linii)."
   ]
  },
  {
   "cell_type": "code",
   "execution_count": null,
   "id": "a4f36c98",
   "metadata": {
    "vscode": {
     "languageId": "plaintext"
    }
   },
   "outputs": [],
   "source": [
    "//todo rozwiąż zadanie"
   ]
  },
  {
   "cell_type": "code",
   "execution_count": null,
   "id": "d8ffec0f",
   "metadata": {
    "vscode": {
     "languageId": "plaintext"
    }
   },
   "outputs": [],
   "source": [
    "//przykład poprawnego rozwiązania:\n",
    "\n",
    "float m, k;\n",
    "const int N = 4;\n",
    "float tab[N][N];\n",
    "double suma = 0;\n",
    "int ilosc = 0;\n",
    "double srednia = 0;\n",
    "double najmniejsza,  najwieksza;\n",
    "\n",
    "\n",
    "while(m>k){\n",
    "    cout << \"podaj zakres liczb\" << endl;\n",
    "    cin >> m >> k;\n",
    "}\n",
    "\n",
    "cout<<\"tablica\"<<endl;\n",
    "\n",
    "srand(time(NULL));\n",
    "\n",
    "for(int i = 0; i<N; i++){\n",
    "\n",
    "    for(int j = 0; j < N; j++){\n",
    "\n",
    "        tab[i][j]= m + (k - m )*rand()/float(RAND_MAX);\n",
    "\n",
    "    }\n",
    "\n",
    "}\n",
    "\n",
    "for(int i = 0; i < N; i++){\n",
    "\n",
    "    for(int j = 0; j < N; j++){\n",
    "\n",
    "        cout<< tab[i][j]<<\"\\t\";\n",
    "    }\n",
    "    cout<<endl;\n",
    "}\n",
    "\n",
    "cout << endl;\n",
    "cout << \"przejscie po przekatnej\" << endl;\n",
    "\n",
    "// sposób 1\n",
    "\n",
    "najmniejsza = tab[0][0];\n",
    "najwieksza = tab[0][0];\n",
    "\n",
    "    for(int i = 0; i < N; i++){\n",
    "\n",
    "    for(int j = 0; j < N; j++){\n",
    "\n",
    "        if(i == j){\n",
    "\n",
    "            if(tab[i][j] < najmniejsza){\n",
    "                najmniejsza = tab[i][j];\n",
    "            }\n",
    "            if(tab[i][j] > najwieksza){\n",
    "                najwieksza = tab[i][j];\n",
    "            }\n",
    "\n",
    "        }\n",
    "    }\n",
    "}\n",
    "\n",
    "// // sposób 2\n",
    "// for(int i=0;i<n;i++)\n",
    "// {\n",
    "//     if(i==0)\n",
    "//     {\n",
    "//         najwieksza=tab[i][i];\n",
    "//         najmniejsza=tab[i][i];\n",
    "//     }\n",
    "//     if(tab[i][i]>najwieksza)\n",
    "//     {\n",
    "//         najwieksza=tab[i][i];\n",
    "//     }\n",
    "//     if(tab[i][i]<najmniejsza)\n",
    "//     {\n",
    "//         najmniejsza=tab[i][i];\n",
    "//     }\n",
    "// }\n",
    "\n",
    "for(int i = 0; i < N; i++){\n",
    "\n",
    "    for(int j = 0; j < N; j++){\n",
    "\n",
    "        if(i == j){\n",
    "\n",
    "        cout<< tab[i][j]<<\"\\t\";\n",
    "        }\n",
    "        else{\n",
    "            cout << \"\\t\";\n",
    "        }\n",
    "    }\n",
    "    cout<<endl;\n",
    "}\n",
    "\n",
    "cout << endl;\n",
    "cout << \"najmniejsza wartosc po przekatnej \" << najmniejsza << endl;\n",
    "cout << \"najwieksza wartosc po przekatnej \" << najwieksza << endl;\n",
    "cout << endl;\n",
    "cout << \"przejscie po drugiej przekatnej\" << endl;\n",
    "\n",
    "//sposób 1\n",
    "for(int i = 0; i < N; i++){\n",
    "\n",
    "    for(int j = 0; j < N; j++){\n",
    "\n",
    "        if(N - 1 - i == j) {\n",
    "\n",
    "            suma +=  tab[i][j];\n",
    "            ilosc ++;\n",
    "        }\n",
    "    }\n",
    "}\n",
    "\n",
    "srednia = suma/ ilosc;\n",
    "cout << \"srednia po drugiej przekatnej \" << srednia << endl;\n",
    "\n",
    "// //sposób 2\n",
    "// for(int i=0;i<n;i++)\n",
    "// {\n",
    "//         suma=tab[i][N-i-1]+suma;\n",
    "// }\n",
    "\n",
    "// cout << \"srednia po drugiej przekatnej \" << suma/N << endl;\n",
    "\n",
    "for(int i = 0; i < N; i++){\n",
    "\n",
    "    for(int j = 0; j < N; j++){\n",
    "\n",
    "        if(N - 1 - i == j){\n",
    "\n",
    "            cout <<  tab[i][j]<< \"\\t\";\n",
    "        }\n",
    "        else{\n",
    "            cout << \"\\t\";\n",
    "        }\n",
    "    }\n",
    "    cout << endl;\n",
    "}\n",
    "\n",
    "cout << endl;"
   ]
  },
  {
   "cell_type": "markdown",
   "id": "552087ed",
   "metadata": {},
   "source": [
    "## Zadanie 8.4.\n",
    "Zadeklarować tablicę statyczną dwuwymiarową o rozmiarze NxN, gdzie N - wartość stała.\n",
    "\n",
    "a. Tablicę wypełnić losowymi liczbami z przedziału pobranego z konsoli. Wymusić prawidłowe granice losowania.\n",
    "b. Wydrukować tablicę wierszami (każdy wiersz w nowej linii).\n",
    "c. Przesunąć cyklicznie w dół o 3 miejsca kolumny w prawej połowie tablicy.\n",
    "d. Zamienić miejscami wartości z komórek tablicy umieszczonych symetrycznie względem środka tablicy.\n",
    "e. Wydrukować tablicę wierszami (każdy wiersz w nowej linii)."
   ]
  },
  {
   "cell_type": "code",
   "execution_count": null,
   "id": "5d74c751",
   "metadata": {
    "vscode": {
     "languageId": "plaintext"
    }
   },
   "outputs": [],
   "source": [
    "//todo rozwiąż zadanie"
   ]
  },
  {
   "cell_type": "code",
   "execution_count": null,
   "id": "e438c207",
   "metadata": {
    "vscode": {
     "languageId": "plaintext"
    }
   },
   "outputs": [],
   "source": [
    "//przykład poprawnego rozwiązania:\n",
    "\n",
    "//todo"
   ]
  },
  {
   "cell_type": "markdown",
   "id": "6a62a4bc",
   "metadata": {},
   "source": [
    "## Zadanie 10.5.\n",
    "Zadeklarować tablicę statyczną dwuwymiarową o rozmiarze NxN, gdzie N - wartość stała.\n",
    "\n",
    "a. Tablicę wypełnić losowymi literami (losować z wielki i małych liter).\n",
    "b. Wydrukować tablicę wierszami (każdy wiersz w nowej linii).\n",
    "c. Zamienić miejscami wartości z komórek tablicy umieszczonych symetrycznie względem głównej przekątnej.\n",
    "d. Zamienić miejscami wartości z komórek tablicy umieszczonych symetrycznie względem II przekątnej.\n",
    "e. Zamienić miejscami wartości z komórek tablicy umieszczonych symetrycznie względem pionowej linii przechodzącej przez środek tablicy.\n",
    "f. Zamienić miejscami wartości z komórek tablicy umieszczonych symetrycznie względem poziomej linii przechodzącej przez środek tablicy.\n",
    "g. Wydrukować tablicę wierszami po każdej operacji."
   ]
  },
  {
   "cell_type": "code",
   "execution_count": null,
   "id": "baf1fc54",
   "metadata": {
    "vscode": {
     "languageId": "plaintext"
    }
   },
   "outputs": [],
   "source": [
    "//todo rozwiąż zadanie"
   ]
  },
  {
   "cell_type": "code",
   "execution_count": null,
   "id": "e17e4be3",
   "metadata": {
    "vscode": {
     "languageId": "plaintext"
    }
   },
   "outputs": [],
   "source": [
    "//przykład poprawnego rozwiązania:\n",
    "\n",
    "const int N=6;\n",
    "\n",
    "void wypelnij(char tab[N][N])\n",
    "{\n",
    "    for (int i=0; i<N; i++)\n",
    "    {\n",
    "        for (int j=0; j<N; j++)\n",
    "        {\n",
    "            int jaka = rand()%2;\n",
    "\n",
    "            if (jaka==0)\n",
    "            {\n",
    "                char x = 'A'+(rand()%('Z'-'A'+1));\n",
    "                tab[i][j] = x;\n",
    "            }\n",
    "            else\n",
    "            {\n",
    "                char x = 'a'+(rand()%('z'-'a'+1));\n",
    "                tab[i][j] = x;\n",
    "            }\n",
    "        }\n",
    "    }\n",
    "}\n",
    "\n",
    "void wypisz(char tab[N][N])\n",
    "{\n",
    "    for (int i=0; i<N; i++)\n",
    "    {\n",
    "        for (int j=0; j<N; j++)\n",
    "        {\n",
    "            cout << setw(2) << fixed << tab[i][j] << \" \";\n",
    "        }\n",
    "        cout << endl;\n",
    "    }\n",
    "    cout << endl;\n",
    "}\n",
    "\n",
    "void punkt_c(char tab[N][N])\n",
    "{\n",
    "    for(int i = 0; i < N; i++)\n",
    "    {\n",
    "        for(int j = 0; j < N; j++)\n",
    "        {\n",
    "            if(i > j)\n",
    "            {\n",
    "                int tmp = tab[i][j];\n",
    "                tab[i][j] = tab[j][i];\n",
    "                tab[j][i] = tmp;\n",
    "            }\n",
    "        }\n",
    "    }\n",
    "}\n",
    "\n",
    "void punkt_d(char tab[N][N])\n",
    "{\n",
    "    for(int i = 0; i < N; i++)\n",
    "    {\n",
    "        for(int j = 0; j < N; j++)\n",
    "        {\n",
    "            if(i > N-1-j)\n",
    "            {\n",
    "                int tmp = tab[i][j];\n",
    "                tab[i][j] = tab[N-1-j][N-1-i];\n",
    "                tab[N-1-j][N-1-i] = tmp;\n",
    "            }\n",
    "        }\n",
    "    }\n",
    "}\n",
    "\n",
    "void punkt_e(char tab[N][N])\n",
    "{\n",
    "    for(int i = 0; i < N; i++)\n",
    "    {\n",
    "        for(int j = 0; j < N/2; j++)\n",
    "        {\n",
    "            int tmp = tab[i][j];\n",
    "            tab[i][j] = tab[i][N-1-j];\n",
    "            tab[i][N-1-j] = tmp;\n",
    "        }\n",
    "    }\n",
    "}\n",
    "\n",
    "void punkt_f(char tab[N][N])\n",
    "{\n",
    "    for(int i = 0; i < N/2; i++)\n",
    "    {\n",
    "        for(int j = 0; j < N; j++)\n",
    "        {\n",
    "            int tmp = tab[i][j];\n",
    "            tab[i][j] = tab[N-1-i][j];\n",
    "            tab[N-1-i][j] = tmp;\n",
    "        }\n",
    "    }\n",
    "}\n",
    "\n",
    "int main()\n",
    "{\n",
    "    srand(time(0));\n",
    "\n",
    "    char tab[N][N];\n",
    "\n",
    "    //b. wypelnienie\n",
    "    wypelnij(tab);\n",
    "\n",
    "    //a.\n",
    "    cout << \"wypelniona tablica:\" << endl;\n",
    "    wypisz(tab);\n",
    "\n",
    "    //c.\n",
    "    punkt_c(tab);\n",
    "\n",
    "    //a.\n",
    "    cout << \"Symetria wzgledem glownej przekatnej\" << endl;\n",
    "    wypisz(tab);\n",
    "\n",
    "    //d.\n",
    "    punkt_d(tab);\n",
    "\n",
    "    //a.\n",
    "    cout << \"Symetria wzgledem drugiej przekatnej\" << endl;\n",
    "    wypisz(tab);\n",
    "\n",
    "    //e.\n",
    "    punkt_e(tab);\n",
    "\n",
    "    //a.\n",
    "    cout << \"Symetria wzgledem osi pionowej\" << endl;\n",
    "    wypisz(tab);\n",
    "\n",
    "    //f.\n",
    "    punkt_f(tab);\n",
    "\n",
    "    //a.\n",
    "    cout << \"Symetria wzgledem osi poziomej\" << endl;\n",
    "    wypisz(tab);\n",
    "\n",
    "    return 0;\n",
    "}"
   ]
  },
  {
   "cell_type": "markdown",
   "id": "4cc6cd26-7841-4a86-849f-0a525f8be689",
   "metadata": {
    "editable": true,
    "slideshow": {
     "slide_type": ""
    },
    "tags": []
   },
   "source": [
    "![logotypy.png](../figures/OMNIS2_logotypy.png)"
   ]
  }
 ],
 "metadata": {
  "kernelspec": {
   "display_name": "C++17",
   "language": "C++17",
   "name": "xcpp17"
  },
  "language_info": {
   "codemirror_mode": "text/x-c++src",
   "file_extension": ".cpp",
   "mimetype": "text/x-c++src",
   "name": "c++",
   "version": "17"
  }
 },
 "nbformat": 4,
 "nbformat_minor": 5
}

{
 "cells": [
  {
   "cell_type": "markdown",
   "id": "24218d8b-9b9a-4480-be64-bab9d3562cb0",
   "metadata": {
    "editable": true,
    "slideshow": {
     "slide_type": ""
    },
    "tags": []
   },
   "source": [
    "![OMNIS2_Logo_projektu.png](../figures/OMNIS2_Logo_projektu.png)"
   ]
  },
  {
   "cell_type": "markdown",
   "id": "afe415f8-478e-4f62-8e47-893b9cf87b5e",
   "metadata": {},
   "source": [
    "# Ćwiczenie 5: Instrukcja warunkowa `if`\n",
    "\n",
    "autor: Jan Klimaszewski"
   ]
  },
  {
   "cell_type": "markdown",
   "id": "d8f32910-2948-4027-87c4-611c58d0b2d1",
   "metadata": {},
   "source": [
    "W tym ćwiczeniu nauczysz się, jak korzystać z instrukcji warunkowych w C++.\n",
    "Dzięki temu będziesz potrafił napisać program, w którym wybrane fragmenty kodu wykonają się tylko wtedy, gdy spełnione zostaną podane przez Ciebie warunki."
   ]
  },
  {
   "cell_type": "markdown",
   "id": "f541305d-fa39-4299-8a3e-123b4eb0fcdd",
   "metadata": {},
   "source": [
    "## Instrukcja warunkowa `if` w C++\n",
    "\n",
    "Wiesz już, że za pomocą operatorów porównania i operatorów logicznych można konstruować złożone wyrażenia logiczne, których wynikiem jest prawda (`true`) lub fałsz (`false`).\n",
    "\n",
    "Możesz używać tych wyników, aby wykonywać warunkowo fragmenty kodu. W C++ służy do tego instrukcja warunkowa `if` o składni w najprostszej wersji:\n",
    "```c++\n",
    "if(wartosc_logiczna)\n",
    "    instrukcja;\n",
    "```\n",
    "gdzie `wartosc_logiczna` musi mieć wartość `true` aby instrukcja za `if`-em się wykonała.\n",
    "\n",
    "Instrukcja `if` ma również opcjonalne dopełnienie w postaci `else`:\n",
    "```c++\n",
    "if(wartosc_logiczna)\n",
    "    instrukcja1;\n",
    "else\n",
    "    instrukcja2;\n",
    "```\n",
    "gdzie instrukcja po `else` wykona się gdy `wartosc_logiczna` ma wartość `false`.\n",
    "\n",
    "Jeżeli chcemy aby warunkiem (lub `else`-em) objęte było więcej instrukcji to należy je zgrupować w bloki za pomocą nawiasu klamrowego:\n",
    "```c++\n",
    "if(wartosc_logiczna)\n",
    "{\n",
    "    instrukcja1;\n",
    "    instrukcja2;\n",
    "}\n",
    "else\n",
    "{\n",
    "    instrukcja3;\n",
    "    instrukcja4;\n",
    "}\n",
    "```\n",
    "\n",
    "💡 **Przykład użycia:**\n",
    "\n",
    "```c++\n",
    "if (wiek >= 18 && wiek < 65) {\n",
    "    cout << \"Bilet normalny\";\n",
    "}\n",
    "```\n",
    "\n",
    "Rozwiązując kolejne zadania nauczysz się jak używać tych poleceń."
   ]
  },
  {
   "cell_type": "markdown",
   "id": "56d27662-a66e-4fd7-87b3-c67617fb52ca",
   "metadata": {},
   "source": [
    "## Przygotowanie notatnika\n",
    "Zanim przejdziemy dalej uruchomimy dwa polecenia pomocnicze - zadeklarujemy korzystanie z biblioteki `iostream` oraz określimy, że będziemy domyślnie korzystali z przestrzeni nazw `std`. "
   ]
  },
  {
   "cell_type": "code",
   "execution_count": null,
   "id": "51207f68-ec72-41eb-a9f2-d08e1c33553e",
   "metadata": {},
   "outputs": [],
   "source": [
    "#include <iostream>\n",
    "\n",
    "using namespace std;"
   ]
  },
  {
   "cell_type": "markdown",
   "id": "8723396e",
   "metadata": {},
   "source": [
    "## Zadanie 5.1\n",
    "Teraz możemy wykonać prostą instrukcję warunkową. W tym celu zadeklaruj zmienną typu całkowitego oraz przypisz jej dowolną wartość. Następnie uzupełnij instrukcję warunkową tak, aby sprawdzić, czy wartość zmiennej jest większa od zera. Jeśli tak, wypisz na ekranie konsoli dowolny komunikat.  \n",
    "\n",
    "Po uzupełnieniu kodu przetestuj, czy działa poprawnie dla różnych wartości, np.: 1, 2, 10, 20000, 124322, -2, -200, -4353."
   ]
  },
  {
   "cell_type": "code",
   "execution_count": null,
   "id": "00c540c2",
   "metadata": {},
   "outputs": [],
   "source": [
    "int zmienna;\n",
    "zmienna = ?;            //todo uzupełnij wartość\n",
    "cout << \"Czy zmienna o wartości \" << zmienna << \" jest większa od 0?\" << endl;\n",
    "if(?)                   //todo wpisz warunek sprawdzający, czy zmienna jest większa od 0\n",
    "{\n",
    "    cout << ? << endl;  //todo wypisz na konsoli dowolny komunikat \n",
    "}\n"
   ]
  },
  {
   "cell_type": "markdown",
   "id": "85b1ddd4",
   "metadata": {},
   "source": [
    "<details>\n",
    "    <summary>Rozwiń poniższy fragment kodu, aby zobaczyć rozwiązanie. </summary>\n",
    "\n",
    "```c++\n",
    "int zmienna;\n",
    "zmienna = 4;           \n",
    "cout << \"Czy zmienna o wartości \" << zmienna << \" jest większa od 0?\" << endl;\n",
    "if(zmienna > 0)                   \n",
    "{\n",
    "    cout << \"jest\" << endl;  \n",
    "}\n",
    "```\n",
    "</details>\n"
   ]
  },
  {
   "cell_type": "markdown",
   "id": "61db6b86-8740-4f54-9545-b72420cab713",
   "metadata": {},
   "source": [
    "## Zadanie 5.2. \n",
    "W taki sam sposób można użyć instrukcji warunkowych do ustalenia, która z dwóch zmiennych ma większą wartość.\n",
    "\n",
    "Po uzupełnieniu kodu przetestuj, czy działa poprawnie dla różnych wartości, np.: 1, 124322, 0, -2, -4353. Czy działa poprawnie, gdy wpisane wartości zmiennych są takie same?"
   ]
  },
  {
   "cell_type": "code",
   "execution_count": null,
   "id": "199b723d-7069-4d58-899e-e127211b3d80",
   "metadata": {},
   "outputs": [],
   "source": [
    "\n",
    "int zmienna1, zmienna2;\n",
    "zmienna1 = ?;           //todo uzupełnij wpisywanie wartości dwóch zmiennych\n",
    "?\n",
    "\n",
    "if(?)                   //todo wpisz warunek sprawdzający, czy zmienna1 jest większa od zmienna2\n",
    "{\n",
    "  cout << \"wartość zmiennej \" << zmienna1 << \" jest większa od wartości zmiennej \" << zmienna2 << endl; \n",
    "}\n",
    "else                    //poniżej znajduje się fragment kodu, który wykona się jeśli wpisany warunek nie będzie prawdziwy\n",
    "{\n",
    "  cout << ? << endl;    //todo wypisz na konsoli odpowiedni komunikat \n",
    "}"
   ]
  },
  {
   "cell_type": "markdown",
   "id": "5ab69155",
   "metadata": {},
   "source": [
    "Pamiętaj, że nauczysz się programować jeśli będziesz samodzielnie rozwiązywał zadania. Jeśli jednak trudno Ci napisać działający poprawnie kod - rozwiń poniższy fragment kodu, aby zobaczyć rozwiązanie.\n",
    "<details>\n",
    "    <summary>Rozwiązanie</summary>\n",
    "\n",
    "```c++\n",
    "// przykład poprawnego rozwiązania:\n",
    "int zmienna1, zmienna2;\n",
    "zmienna1 = 3;\n",
    "zmienna2 = 3;\n",
    "\n",
    "if(zmienna1 > zmienna2)\n",
    "{\n",
    "  cout << \"wartość zmiennej \" << zmienna1 << \" jest większa od wartości zmiennej \" << zmienna2 << endl; \n",
    "}\n",
    "else                   \n",
    "{\n",
    "  cout << \"wartość zmiennej \" << zmienna2 << \" jest większa od wartości zmiennej \" << zmienna1 << endl; \n",
    "}\n",
    "```\n",
    "</details>"
   ]
  },
  {
   "cell_type": "markdown",
   "id": "084a0164-6433-4305-8274-fa47d9efe215",
   "metadata": {},
   "source": [
    "Można zauważyć, że napisany w ten sposób kod nie działa dobrze jeśli obydwie zmienne są takie same. Możemy to poprawić dodając jeszcze jedną instrukcję warunkową. Uzupełnij poniższy kod."
   ]
  },
  {
   "cell_type": "code",
   "execution_count": null,
   "id": "35ac7778-bb86-4418-bfae-e81e455fc339",
   "metadata": {},
   "outputs": [],
   "source": [
    "\n",
    "if(zmienna1 > zmienna2)\n",
    "{\n",
    "  cout << \"wartość zmiennej \" << zmienna1 << \" jest większa od wartości zmiennej \" << zmienna2 << endl; \n",
    "}\n",
    "else if(zmienna1 < zmienna2)                  \n",
    "{\n",
    "  cout << \"wartość zmiennej \" << zmienna2 << \" jest większa od wartości zmiennej \" << zmienna1 << endl; \n",
    "}\n",
    "else\n",
    "{\n",
    "  cout << ? << endl;      //todo wypisz na konsoli odpowiedni komunikat \n",
    "}\n"
   ]
  },
  {
   "cell_type": "markdown",
   "id": "60f4535c",
   "metadata": {},
   "source": [
    "Rozwiń poniższy fragment kodu, aby zobaczyć rozwiązanie.\n",
    "<details>\n",
    "    <summary>Rozwiązanie</summary>\n",
    "\n",
    "```c++\n",
    "// przykład poprawnego rozwiązania:\n",
    "if(zmienna1 > zmienna2)\n",
    "{\n",
    "  cout << \"wartość zmiennej \" << zmienna1 << \" jest większa od wartości zmiennej \" << zmienna2 << endl; \n",
    "}\n",
    "else if(zmienna1 < zmienna2)                  \n",
    "{\n",
    "  cout << \"wartość zmiennej \" << zmienna2 << \" jest większa od wartości zmiennej \" << zmienna1 << endl; \n",
    "}\n",
    "else\n",
    "{\n",
    "  cout << \"wartość zmiennej \" << zmienna1 << \" jest równa wartości zmiennej \" << zmienna1 << endl; \n",
    "}\n",
    "```\n",
    "</details>"
   ]
  },
  {
   "cell_type": "markdown",
   "id": "a51d64fe",
   "metadata": {},
   "source": [
    "## Zadanie 5.3. \n",
    "Napisz fragment kodu, który wypisze trzy dowolne wartości zmiennoprzecinkowe w kolejności rosnącej. Wpisz wartości odpowiednich zmiennych. Zadanie spróbujemy rozwiązać na różne sposoby tak, aby nauczyć się jak najwięcej."
   ]
  },
  {
   "cell_type": "code",
   "execution_count": null,
   "id": "dd80c020",
   "metadata": {},
   "outputs": [],
   "source": [
    "float a, b, c;\n",
    "\n",
    "//todo uzupełnij brakujące wartości\n",
    "a = 1.5;\n",
    "b = 0;\n",
    "c = -55.3;\n"
   ]
  },
  {
   "cell_type": "markdown",
   "id": "dc3b70cc",
   "metadata": {},
   "source": [
    "### Sposób 1\n",
    "\n",
    "Najprostrzym rozwiązaniem problemu jest wypisanie w postaci instrukcji warunkowych wszystkich możliwych kombinacji wartości. Uzupełnij rozwiązanie stosując ten schemat. Przetestuj, czy działa dobrze dla wartości dodatnich, ujemych i 0. "
   ]
  },
  {
   "cell_type": "code",
   "execution_count": null,
   "id": "5bf4081f",
   "metadata": {},
   "outputs": [],
   "source": [
    "cout << \"Wartości w kolejności rosnącej to: \" << endl;\n",
    "\n",
    "//sposób 1 - todo napisz warunki sprawdzające po kolei wszystkie możliwe kombinacje wartości \n",
    "if( a <= b && b <= c )                          // jeśli a <= b i jednocześnie b <= c, to oznacza, że kolejność rosnąca wartości to: a, b, c\n",
    "    cout << a << \" \" << b << \" \" << c << endl;  //wypisz w kolejności a, b, c\n",
    "else if(?)\n",
    "    cout << b << \" \" << a << \" \" << c << endl;  //wypisz w kolejności b, a, c\n",
    "else if(?)\n",
    "    cout << a << \" \" << c << \" \" << b << endl;\n",
    "else if(?)\n",
    "    cout << c << \" \" << a << \" \" << b << endl;\n",
    "else if(?)\n",
    "    cout << c << \" \" << b << \" \" << a << endl;\n",
    "else //if( b <= c && c <= a )\n",
    "    cout << b << \" \" << c << \" \" << a << endl;"
   ]
  },
  {
   "cell_type": "markdown",
   "id": "66673a97",
   "metadata": {},
   "source": [
    "Rozwiń poniższy fragment kodu, aby zobaczyć rozwiązanie.\n",
    "<details>\n",
    "    <summary>Rozwiązanie</summary>\n",
    "\n",
    "```c++\n",
    "//przykład poprawnego rozwiązania:\n",
    "if( a <= b && b <= c )                         \n",
    "    cout << a << \" \" << b << \" \" << c << endl;\n",
    "else if( b <= a && a <= c )\n",
    "    cout << b << \" \" << a << \" \" << c << endl;\n",
    "else if( a <= c && c <= b )\n",
    "    cout << a << \" \" << c << \" \" << b << endl;\n",
    "else if( c <= a && a <= b )\n",
    "    cout << c << \" \" << a << \" \" << b << endl;\n",
    "else if( c <= b && b <= a )\n",
    "    cout << c << \" \" << b << \" \" << a << endl;\n",
    "else //if( b <= c && c <= a )\n",
    "    cout << b << \" \" << c << \" \" << a << endl;\n",
    "```\n",
    "</details>"
   ]
  },
  {
   "cell_type": "markdown",
   "id": "90f79d3b",
   "metadata": {},
   "source": [
    "### Sposób 2\n",
    "\n",
    "Instrukcje warunkowe można jednak uporządkować inaczej. Wyobraźmy sobie, że najpiejrw ustalimy, która wartość jest największa, a dopiero potem ustalimy kolejność pozostałych. Uzupełnij rozwiązanie stosując ten schemat. Przetestuj, czy działa dobrze dla wartości dodatnich, ujemych i 0. Jak zachowuje się kod, gdzy podamy takie same wartości? "
   ]
  },
  {
   "cell_type": "code",
   "execution_count": null,
   "id": "5c39379a",
   "metadata": {},
   "outputs": [],
   "source": [
    "cout << \"Wartości w kolejności rosnącej to: \" << endl;\n",
    "\n",
    "if( c > a && c > b )                        // jeśli c > a i jednocześnie c > b, to oznacza, że c jest największa\n",
    "{\n",
    "    if(?)                                   //todo ustal, która wartość: a, czy b jest większa i wypisz wartości w odpowiedniej kolejności \n",
    "        cout << ?;\n",
    "    else\n",
    "        cout << ?;\n",
    "    cout << c << endl;                      // wiemy już, że c będzie na końcu ponieważ jest największa\n",
    "}\n",
    "else if(?)                                  //todo uzupełnij pozostałe przypadki, gdy a i b okaże się największa\n",
    "{\n",
    "    if(?)\n",
    "        cout << ?;\n",
    "    else\n",
    "        cout << ?;\n",
    "    cout << b << endl;\n",
    "}\n",
    "else\n",
    "{\n",
    "    if(?)\n",
    "        cout << ?;\n",
    "    else\n",
    "        cout << ?;\n",
    "    cout << a << endl;\n",
    "}"
   ]
  },
  {
   "cell_type": "markdown",
   "id": "fb0ebcc8",
   "metadata": {},
   "source": [
    "Rozwiń poniższy fragment kodu, aby zobaczyć rozwiązanie.\n",
    "<details>\n",
    "    <summary>Rozwiązanie</summary>\n",
    "\n",
    "```c++\n",
    "//przykład poprawnego rozwiązania:\n",
    "if( c > a && c > b )\n",
    "{\n",
    "    if( b > a )\n",
    "        cout << a << \" \" << b << \" \";\n",
    "    else\n",
    "        cout << b << \" \" << a << \" \";\n",
    "    cout << c << endl;\n",
    "}\n",
    "else if( b > a && b > c )\n",
    "{\n",
    "    if( c > a )\n",
    "        cout << a << \" \" << c << \" \";\n",
    "    else\n",
    "        cout << c << \" \" << a << \" \";\n",
    "    cout << b << endl;\n",
    "}\n",
    "else// if( a > c && a > b )\n",
    "{\n",
    "    if( b > c )\n",
    "        cout << c << \" \" << b << \" \";\n",
    "    else\n",
    "        cout << b << \" \" << c << \" \";\n",
    "    cout << a << endl;\n",
    "}\n",
    "```\n",
    "</details>"
   ]
  },
  {
   "cell_type": "markdown",
   "id": "8928b955",
   "metadata": {},
   "source": [
    "### Sposób 3\n",
    "\n",
    "Przetestujmy jeszcze jeden sposób. Zamiast sprawdzać kolejność wartości, spóbujmy je posortować. Przyjmijmy, że wypiszemy wartości w ustalonej kolejności (np. `cout<< a << b << c;`). Trzeba tylko tak pozamieniać ich wartości, aby w `a` znalazła się najmniejsza wartość, w `b` kolejna, a w `c` największa. \n",
    "\n",
    "Poniżej zastosowano schemat sortowania bąbelkowego. Idea działania tego algorytmu jest dość prosta:  \n",
    "1. zakładamy, że liczby, które chcemy uporządkować są na miejscach `a`, `b`, `c` (w tej kolejności wypisujemy je na końcu),\n",
    "2. zakładamy, że trzeba poprzesuwać wartości w zmiennych `a`, `b`, `c` tak, aby kolejność była rosnąca,\n",
    "3. żeby to zrobić sprawdzamy po kolei, czy kolejność sąsiadujących wartości jest prawidłowa - jeśli nie jest, zamieniamy je miejscami\n",
    "4. w ten sposób sprawdzamy po kolei `a` i `b`, potem `b` i `c`, a na koniec jeszcze raz `a` i `b` - taka procedura zapewni posortowanie trzech wartości! Zaraz to sprawdzimy!"
   ]
  },
  {
   "cell_type": "markdown",
   "id": "caf5cdac",
   "metadata": {},
   "source": [
    "#### Zamiana miejscami wartości dwóch zmiennych\n",
    "Zanim zaczniemy pisać kod musimy jednak nauczyć się jak zamieniać ze sobą wartości dwóch zmiennych. Okazuje się, że nie jest to prosta sprawa.  \n",
    "Spróbujmy z dwiema zmiennymi `a` i `b`. Przypiszmy im dowolne wartości."
   ]
  },
  {
   "cell_type": "code",
   "execution_count": null,
   "id": "cfccc533",
   "metadata": {
    "vscode": {
     "languageId": "plaintext"
    }
   },
   "outputs": [],
   "source": [
    "int a = 10;\n",
    "int b = 4;"
   ]
  },
  {
   "cell_type": "markdown",
   "id": "9da2abac",
   "metadata": {},
   "source": [
    "Sprawdźmy teraz co się stanie, jeśli jedną z wartości zmiennej przypiszemy do drugiej."
   ]
  },
  {
   "cell_type": "code",
   "execution_count": null,
   "id": "5127cc03",
   "metadata": {
    "vscode": {
     "languageId": "plaintext"
    }
   },
   "outputs": [],
   "source": [
    "cout << \"Przed przypisaniem:\" << endl;\n",
    "cout << \"Wartości zmiennych: a = \" << a << \", b = \" << b << endl;  \n",
    "\n",
    "a = b;\n",
    "\n",
    "cout << \"Po przypisaniu:\" << endl;\n",
    "cout << \"Wartości zmiennych: a = \" << a << \", b = \" << b << endl;  "
   ]
  },
  {
   "cell_type": "markdown",
   "id": "24df4007",
   "metadata": {},
   "source": [
    "W takiej sytuacji nie da się już odtworzyć nadpisanej wartości zmiennej `a`. Aby temu zapobiec trzeba (1) jeszcze przed przypisaniem zapamiętać wartość zmiennej `a` w innej zmiennej pomocniczej. Nazwijmy ją `tmp` - w skrócie od ang. słowa *temporary*. Następnie (2) można wykonać przepisanie wartości z `b` do `a`, a na koniec (3) przepisanie wartości zapamiętanej w `tmp` do `b`. Napisz poniżej kod, który zrealizuje te trzy kroki."
   ]
  },
  {
   "cell_type": "code",
   "execution_count": null,
   "id": "7097f82a",
   "metadata": {
    "vscode": {
     "languageId": "plaintext"
    }
   },
   "outputs": [],
   "source": [
    "cout << \"Przed przypisaniem:\" << endl;\n",
    "cout << \"Wartości zmiennych: a = \" << a << \", b = \" << b << endl;  \n",
    "\n",
    "            // (1) todo: zapamiętać wartość zmiennej `a` w innej zmiennej pomocniczej\n",
    "a = b;      // (2) przepisanie wartości z `b` do `a`\n",
    "            // (3) todo: przepisanie wartości zapamiętanej w `tmp` do `b`\n",
    "\n",
    "cout << \"Po przypisaniu:\" << endl;\n",
    "cout << \"Wartości zmiennych: a = \" << a << \", b = \" << b << endl;  "
   ]
  },
  {
   "cell_type": "markdown",
   "id": "dda86a2c",
   "metadata": {},
   "source": [
    "Rozwiń poniższy fragment kodu, aby zobaczyć rozwiązanie. Animację demonstrującą zamianę dwóch wartości można zobaczyć np. na stronie https://www.sitesbay.com/cpp-program/cpp-swap-two-numbers"
   ]
  },
  {
   "cell_type": "markdown",
   "id": "4fa60811-8b4e-4e85-82bb-112db0bf9639",
   "metadata": {},
   "source": [
    "<details>\n",
    "    <summary>Rozwiązanie</summary>\n",
    "\n",
    "```c++\n",
    "//przykład poprawnego rozwiązania:\n",
    "cout << \"Przed przypisaniem:\" << endl;\n",
    "cout << \"Wartości zmiennych: a = \" << a << \", b = \" << b << endl;  \n",
    "\n",
    "int tmp = a;    // (1) zapamiętanie wartości zmiennej `a` w innej zmiennej pomocniczej\n",
    "a = b;          // (2) przepisanie wartości z `b` do `a`\n",
    "b = tmp;        // (3) przepisanie wartości zapamiętanej w `tmp` do `b`\n",
    "\n",
    "cout << \"Po przypisaniu:\" << endl;\n",
    "cout << \"Wartości zmiennych: a = \" << a << \", b = \" << b << endl;  \n",
    "```\n",
    "</details>"
   ]
  },
  {
   "cell_type": "markdown",
   "id": "e4241ee4",
   "metadata": {},
   "source": [
    "Wiedząc jak zamieniać miejscami wartości dwóch zmiennych uzupełnij rozwiązanie stosując schemat opisany na początku **Sposobu 3**. Przetestuj, czy działa dobrze dla wartości dodatnich, ujemych i 0. Jak zachowuje się kod, gdy podamy takie same wartości? "
   ]
  },
  {
   "cell_type": "code",
   "execution_count": null,
   "id": "1a022ed6",
   "metadata": {},
   "outputs": [],
   "source": [
    "cout << \"Wartości w kolejności rosnącej to: \" << endl;\n",
    "\n",
    "if( ? )             // todo sprawdzenie, czy wartości a i b są w odpowiedniej kolejności\n",
    "{\n",
    "    // todo jeśli wartości w a i b nie są w odpowiedniej koleności - należy zamienić je miejscami\n",
    "}\n",
    "if( ? )             // todo sprawdzenie, czy wartości b i c są w odpowiedniej kolejności\n",
    "{\n",
    "    // todo zamiana wartości b i c\n",
    "}\n",
    "if( ? )             // todo ponowne sprawdzenie, czy wartości a i b są w odpowiedniej kolejności - wartości wewnątrz zmiennych mogły się zmienić!\n",
    "{\n",
    "    // todo zamiana wartości a i b\n",
    "}\n",
    "cout << a << \" \" << b << \" \" << c;                    // na koniec zawsze wypisujemy w kolejności a, b, c"
   ]
  },
  {
   "cell_type": "markdown",
   "id": "b17e2076",
   "metadata": {},
   "source": [
    "Rozwiń poniższy fragment kodu, aby zobaczyć rozwiązanie. \n",
    "<details>\n",
    "    <summary>Rozwiązanie</summary>\n",
    "\n",
    "```c++\n",
    "//przykład poprawnego rozwiązania:\n",
    "\n",
    "if( a > b )\n",
    "{\n",
    "    //zamiana wartości - animację można zobaczyć na https://www.sitesbay.com/cpp-program/cpp-swap-two-numbers\n",
    "    float tmp = a;\n",
    "    a = b;\n",
    "    b = tmp;\n",
    "}\n",
    "if( b > c )\n",
    "{\n",
    "    float tmp = b;\n",
    "    b = c;\n",
    "    c = tmp;\n",
    "}\n",
    "if( a > b )\n",
    "{\n",
    "    float tmp = a;\n",
    "    a = b;\n",
    "    b = tmp;\n",
    "}\n",
    "cout << a << \" \" << b << \" \" << c; \n",
    "```\n",
    "</details>"
   ]
  },
  {
   "cell_type": "markdown",
   "id": "d1b1df70",
   "metadata": {},
   "source": [
    "## Zadanie 5.4.\n",
    "Na koniec rozwiążemy klasyczne zadanie dotyczące prostego problemu matematycznego.\n",
    "\n",
    "Wyznacz pierwiastki rownania kwadratowego `ax^2+bx+c = 0`. Wczytaj a, b i c z konsoli. Uwaga: proszę rozpatrzyć możliwe rozwiązania dla wszystkich wartości przypisania a, b i c."
   ]
  },
  {
   "cell_type": "code",
   "execution_count": null,
   "id": "75a3d5bc",
   "metadata": {},
   "outputs": [],
   "source": [
    "float a, b, c;\n",
    "cin >> a >> b >> c;\n",
    "\n",
    "//todo rozwiąż zadanie"
   ]
  },
  {
   "cell_type": "markdown",
   "id": "325e44fc",
   "metadata": {},
   "source": [
    "\n",
    "\n",
    "<details>\n",
    "    <summary>Rozwiń poniższy fragment kodu, aby zobaczyć rozwiązanie.  </summary>\n",
    "\n",
    "```c++\n",
    "float a, b, c;\n",
    "cin >> a >> b >> c;\n",
    "    \n",
    "if( a == 0 )\n",
    "{\n",
    "    if( b == 0 )\n",
    "    {\n",
    "        if( c == 0 )\n",
    "            cout << \"Równanie tożsamościowe.\\n\";\n",
    "        else\n",
    "            cout << \"Rówanie sprzeczne.\\n\";\n",
    "    }\n",
    "    else\n",
    "    {\n",
    "        cout << \"Rozwiązanie: \" << -c/b << endl;\n",
    "    }\n",
    "}\n",
    "else\n",
    "{\n",
    "    float delta = b*b-4*a*c;\n",
    "    if( delta >= 0 )\n",
    "    {\n",
    "        float x1, x2;\n",
    "        x1 = (-b-sqrt(delta))/(2*a);\n",
    "        x2 = (-b+sqrt(delta))/(2*a);\n",
    "        cout << \"Rozwiązania: \" << x1 << \" \" << x2 << endl;\n",
    "    }\n",
    "    else\n",
    "        cout << \"Równanie nie ma rozwiązań.\\n\";\n",
    "}\n",
    "```\n",
    "</details>"
   ]
  },
  {
   "cell_type": "markdown",
   "id": "4cc6cd26-7841-4a86-849f-0a525f8be689",
   "metadata": {
    "editable": true,
    "slideshow": {
     "slide_type": ""
    },
    "tags": []
   },
   "source": [
    "![logotypy.png](../figures/OMNIS2_logotypy.png)"
   ]
  }
 ],
 "metadata": {
  "kernelspec": {
   "display_name": "C++11",
   "language": "C++11",
   "name": "xcpp11"
  },
  "language_info": {
   "codemirror_mode": "text/x-c++src",
   "file_extension": ".cpp",
   "mimetype": "text/x-c++src",
   "name": "c++",
   "version": "11"
  }
 },
 "nbformat": 4,
 "nbformat_minor": 5
}

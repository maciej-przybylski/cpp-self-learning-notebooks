{
 "cells": [
  {
   "cell_type": "markdown",
   "id": "d8f32910-2948-4027-87c4-611c58d0b2d1",
   "metadata": {},
   "source": [
    "# Nazwa ćwiczenia\n",
    "opis ćwiczenia"
   ]
  },
  {
   "cell_type": "markdown",
   "id": "f541305d-fa39-4299-8a3e-123b4eb0fcdd",
   "metadata": {},
   "source": [
    "wprowadzenie do instrukcji warunkowych"
   ]
  },
  {
   "cell_type": "markdown",
   "id": "56d27662-a66e-4fd7-87b3-c67617fb52ca",
   "metadata": {},
   "source": [
    "Na początku należy dodać standardowy początkowy fragment kodu - odpowiednie biblioteki i dla ułatwienia wpisać z jakiej przestrzeni nazw będziemy korzystać domyślnie w kodzie."
   ]
  },
  {
   "cell_type": "code",
   "execution_count": 1,
   "id": "51207f68-ec72-41eb-a9f2-d08e1c33553e",
   "metadata": {},
   "outputs": [],
   "source": [
    "#include <iostream>\n",
    "\n",
    "using namespace std;\n"
   ]
  },
  {
   "cell_type": "markdown",
   "id": "61db6b86-8740-4f54-9545-b72420cab713",
   "metadata": {},
   "source": [
    "## Zadanie 5.1. \n",
    "Pobrać od użytkownika dwie wartości liczbowe i wydrukować informację, która z nich jest większa.\n"
   ]
  },
  {
   "cell_type": "markdown",
   "id": "f680e7c5-47be-49dd-9761-5fe6538358b7",
   "metadata": {},
   "source": [
    "Na początek pobierzemy dwie wartości, załóżmy, że są typu całkowitego."
   ]
  },
  {
   "cell_type": "code",
   "execution_count": 2,
   "id": "199b723d-7069-4d58-899e-e127211b3d80",
   "metadata": {},
   "outputs": [
    {
     "name": "stdout",
     "output_type": "stream",
     "text": [
      "Proszę podać dwie wartości:\n"
     ]
    },
    {
     "name": "stdin",
     "output_type": "stream",
     "text": [
      " 5\n",
      " 4\n"
     ]
    }
   ],
   "source": [
    "\n",
    "  cout << \"Proszę podać dwie wartości:\" << endl; \n",
    "\n",
    "  int a, b;\n",
    "  cin >> a;\n",
    "  cin >> b;\n"
   ]
  },
  {
   "cell_type": "markdown",
   "id": "084a0164-6433-4305-8274-fa47d9efe215",
   "metadata": {},
   "source": [
    "Następnie możemy już zrealizować instukcję warunkową:"
   ]
  },
  {
   "cell_type": "code",
   "execution_count": 3,
   "id": "35ac7778-bb86-4418-bfae-e81e455fc339",
   "metadata": {},
   "outputs": [
    {
     "name": "stdout",
     "output_type": "stream",
     "text": [
      "Większa jest: 5"
     ]
    }
   ],
   "source": [
    "\n",
    "  if ( a > b )\n",
    "  {\n",
    "    cout << \"Większa jest: \" << a;\n",
    "  }\n",
    "  else if ( b > a )\n",
    "  {\n",
    "    cout << \"Większa jest: \" << b;\n",
    "  }\n",
    "  else\n",
    "  {\n",
    "    cout << \"Wartości są równe.\";\n",
    "  }\n",
    "\n"
   ]
  }
 ],
 "metadata": {
  "kernelspec": {
   "display_name": "C++11",
   "language": "C++11",
   "name": "xcpp11"
  },
  "language_info": {
   "codemirror_mode": "text/x-c++src",
   "file_extension": ".cpp",
   "mimetype": "text/x-c++src",
   "name": "c++",
   "version": "11"
  }
 },
 "nbformat": 4,
 "nbformat_minor": 5
}

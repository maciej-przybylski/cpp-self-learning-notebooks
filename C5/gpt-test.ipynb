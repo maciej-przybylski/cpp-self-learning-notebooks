{
"cells": [
{
"cell_type": "markdown",
"metadata": {},
"source": [
"# Ćwiczenie: Instrukcje warunkowe w C++\\n",
"## Politechnika Warszawska - Wydział Elektroniki i Technik Informacyjnych\\n",
"\\n",
"W tym ćwiczeniu nauczysz się stosować instrukcje warunkowe w języku C++.\\n",
"Będziemy korzystać z notatnika Jupyter z kernelem **C++ (cling)**.\\n"
]
},
{
"cell_type": "markdown",
"metadata": {},
"source": [
"## Instrukcje warunkowe - przypomnienie\\n",
"W C++ mamy kilka podstawowych konstrukcji warunkowych:\\n",
"- `if` - sprawdzenie warunku\\n",
"- `if ... else` - wybór jednej z dwóch ścieżek\\n",
"- `else if` - rozbudowana sekwencja warunków\\n",
"- `switch` - instrukcja wyboru wielokrotnego\\n"
]
},
{
"cell_type": "code",
"execution_count": null,
"metadata": {},
"outputs": [],
"source": [
"#include <iostream>\\n",
"using namespace std;\\n",
"\\n",
"int main() {\\n",
" int x;\\n",
" cout << \"Podaj liczbę: \";\\n",
" cin >> x;\\n",
"\\n",
" if (x > 0) {\\n",
" cout << \"Liczba dodatnia\\n\";\\n",
" } else if (x == 0) {\\n",
" cout << \"Zero\\n\";\\n",
" } else {\\n",
" cout << \"Liczba ujemna\\n\";\\n",
" }\\n",
" return 0;\\n",
"}"
]
},
{
"cell_type": "markdown",
"metadata": {},
"source": [
"### Zadanie 1\\n",
"Napisz program, który pobiera od użytkownika jego wiek i wypisuje jedną z informacji:\\n",
"- \"Niepełnoletni\" (wiek < 18)\\n",
"- \"Pełnoletni\" (18 ≤ wiek < 65)\\n",
"- \"Senior\" (wiek ≥ 65)"
]
},
{
"cell_type": "code",
"execution_count": null,
"metadata": {},
"outputs": [],
"source": [
"#include <iostream>\\n",
"using namespace std;\\n",
"\\n",
"int main() {\\n",
" int wiek;\\n",
" cout << \"Podaj swój wiek: \";\\n",
" cin >> wiek;\\n",
" \\n \" // TODO: Dopisz instrukcje warunkowe zgodnie z poleceniem\\n",
" \\n \" return 0;\\n",
"}"
]
},
{
"cell_type": "markdown",
"metadata": {},
"source": [
"### Zadanie 2\\n",
"Napisz program, który pobiera ocenę (1–5) i wypisuje słowną ocenę:\\n",
"- 5 → \"bardzo dobry\"\\n",
"- 4 → \"dobry\"\\n",
"- 3 → \"dostateczny\"\\n",
"- 2 → \"dopuszczający\"\\n",
"- 1 → \"niedostateczny\"\\n",
"Użyj instrukcji `switch`."
]
},
{
"cell_type": "code",
"execution_count": null,
"metadata": {},
"outputs": [],
"source": [
"#include <iostream>\\n",
"using namespace std;\\n",
"\\n",
"int main() {\\n",
" int ocena;\\n",
" cout << \"Podaj ocenę (1-5): \";\\n",
" cin >> ocena;\\n",
"\\n",
" // TODO: Zaimplementuj switch\\n",
" \\n \" return 0;\\n",
"}"
]
},
{
"cell_type": "markdown",
"metadata": {},
"source": [
"### Zadanie 3\\n",
"Rozbuduj program z Zadania 1 tak, aby dodatkowo sprawdzał:\\n",
"- jeśli użytkownik ma mniej niż 7 lat → wypisz \"Przedszkolak\"\\n",
"- jeśli użytkownik ma 18 lat → wypisz dodatkowo \"Świeżo pełnoletni!\"\\n"
]
}
],
"metadata": {
"kernelspec": {
"display_name": "C++17",
"language": "C++",
"name": "xeus-cling-cpp17"
},
"language_info": {
"file_extension": ".cpp",
"mimetype": "text/x-c++src",
"name": "C++",
"version": "17"
}
},
"nbformat": 4,
"nbformat_minor": 5
}
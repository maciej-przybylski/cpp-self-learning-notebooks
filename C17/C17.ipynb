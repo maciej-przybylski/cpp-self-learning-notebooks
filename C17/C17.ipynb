{
 "cells": [
  {
   "cell_type": "markdown",
   "id": "24218d8b-9b9a-4480-be64-bab9d3562cb0",
   "metadata": {
    "editable": true,
    "slideshow": {
     "slide_type": ""
    },
    "tags": []
   },
   "source": [
    "![OMNIS2_Logo_projektu.png](../figures/OMNIS2_Logo_projektu.png)"
   ]
  },
  {
   "cell_type": "markdown",
   "id": "32578e4d-0818-420c-899c-e578bf69a922",
   "metadata": {
    "editable": true,
    "slideshow": {
     "slide_type": ""
    },
    "tags": []
   },
   "source": [
    "# Ćwiczenie 17: Listy jednokierunkowe: przetwarzanie wybranych elementów listy\n",
    "\n",
    "W ćwiczeniu 16 poznaliśmy podstawy tworzenia list jednokierunkowych. W tym ćwiczeniu nauczymy się różnych sposobów modyfikowania zawartości listy. "
   ]
  },
  {
   "cell_type": "markdown",
   "id": "507ec67f-d6fd-4a51-98f6-eff4aec93c7a",
   "metadata": {},
   "source": [
    "## Przygotowanie notatnika\n",
    "\n",
    "Kod w poniższej komórce ładuje biblioteki używane w tym ćwiczeniu"
   ]
  },
  {
   "cell_type": "code",
   "execution_count": 1,
   "id": "581a8d62-1700-4d0f-a03c-a80cb2cff62e",
   "metadata": {},
   "outputs": [],
   "source": [
    "#include \"../lib/draw_list.h\"\n",
    "#include <iostream>\n",
    "#include <fstream>\n",
    "#include <ctime>\n",
    "using namespace std;"
   ]
  },
  {
   "cell_type": "markdown",
   "id": "8ea2087c-710f-4d11-9304-3d58852108ed",
   "metadata": {},
   "source": [
    "Przez większość ćwiczenia będziemy korzystali z listy jednokierunkowej zawierającej losowe liczby całkowite. Którą zdefiniujemy i stworzymy w poniższej komórce."
   ]
  },
  {
   "cell_type": "code",
   "execution_count": 2,
   "id": "3f00da6b-dd0b-4b88-8d5e-1393cd4ce34b",
   "metadata": {},
   "outputs": [],
   "source": [
    "struct Liczby{\n",
    "    int dane;\n",
    "    Liczby* nast;\n",
    "};"
   ]
  },
  {
   "cell_type": "code",
   "execution_count": 3,
   "id": "c6d39ed0-a4ad-48f8-934a-3962ac75e78a",
   "metadata": {},
   "outputs": [
    {
     "data": {
      "text/html": [
       "<svg xmlns='http://www.w3.org/2000/svg' width='749' height='120'>\n",
       "  <defs>\n",
       "    <marker id='sll_arrow' viewBox='0 0 10 10' refX='9' refY='5' markerWidth='6' markerHeight='6' orient='auto-start-reverse'>\n",
       "      <path d='M 0 0 L 10 5 L 0 10 z' fill='black'/>\n",
       "    </marker>\n",
       "  </defs>\n",
       "\n",
       "  <rect x='498' y='10' width='37' height='40' fill='white' stroke='black'/>\n",
       "  <text x='516' y='35' text-anchor='middle'>4</text>\n",
       "  <text x='463' y='45' text-anchor='middle' font-size='10'>0x5..2f90</text>\n",
       "  <line x1='428' y1='30' x2='498' y2='30' stroke='black' marker-end='url(#sll_arrow)'/>\n",
       "  <text x='463' y='20' text-anchor='middle'>nast</text>\n",
       "  <rect x='605' y='10' width='37' height='40' fill='white' stroke='black'/>\n",
       "  <text x='623' y='35' text-anchor='middle'>3</text>\n",
       "  <text x='677' y='45' text-anchor='middle' font-size='10'>NULL</text>\n",
       "  <line x1='642' y1='30' x2='712' y2='30' stroke='black' marker-end='url(#sll_arrow)'/>\n",
       "  <text x='677' y='20' text-anchor='middle'>nast</text>\n",
       "  <text x='570' y='45' text-anchor='middle' font-size='10'>0x5..c8a0</text>\n",
       "  <line x1='535' y1='30' x2='605' y2='30' stroke='black' marker-end='url(#sll_arrow)'/>\n",
       "  <text x='570' y='20' text-anchor='middle'>nast</text>\n",
       "  <text x='579' y='105' text-anchor='middle' font-size='10'>0x5..c8a0</text>\n",
       "  <line x1='535' y1='90' x2='623' y2='90' stroke='black' />\n",
       "  <line x1='623' y1='90' x2='623' y2='50' stroke='black' marker-end='url(#sll_arrow)'/>\n",
       "  <text x='579' y='80' text-anchor='middle'>ogon</text>\n",
       "  <rect x='177' y='10' width='37' height='40' fill='white' stroke='black'/>\n",
       "  <text x='195' y='35' text-anchor='middle'>8</text>\n",
       "  <text x='142' y='45' text-anchor='middle' font-size='10'>0x5..2770</text>\n",
       "  <line x1='107' y1='30' x2='177' y2='30' stroke='black' marker-end='url(#sll_arrow)'/>\n",
       "  <text x='142' y='20' text-anchor='middle'>nast</text>\n",
       "  <rect x='70' y='10' width='37' height='40' fill='white' stroke='black'/>\n",
       "  <text x='88' y='35' text-anchor='middle'>3</text>\n",
       "  <text x='35' y='45' text-anchor='middle' font-size='10'>0x5..35d0</text>\n",
       "  <line x1='0' y1='30' x2='70' y2='30' stroke='black' marker-end='url(#sll_arrow)'/>\n",
       "  <text x='35' y='20' text-anchor='middle'>glowa</text>\n",
       "  <rect x='391' y='10' width='37' height='40' fill='white' stroke='black'/>\n",
       "  <text x='409' y='35' text-anchor='middle'>7</text>\n",
       "  <text x='356' y='45' text-anchor='middle' font-size='10'>0x5..2f90</text>\n",
       "  <line x1='321' y1='30' x2='391' y2='30' stroke='black' marker-end='url(#sll_arrow)'/>\n",
       "  <text x='356' y='20' text-anchor='middle'>nast</text>\n",
       "  <rect x='284' y='10' width='37' height='40' fill='white' stroke='black'/>\n",
       "  <text x='302' y='35' text-anchor='middle'>2</text>\n",
       "  <text x='249' y='45' text-anchor='middle' font-size='10'>0x5..2540</text>\n",
       "  <line x1='214' y1='30' x2='284' y2='30' stroke='black' marker-end='url(#sll_arrow)'/>\n",
       "  <text x='249' y='20' text-anchor='middle'>nast</text>\n"
      ]
     },
     "metadata": {},
     "output_type": "display_data"
    }
   ],
   "source": [
    "/// srand(time(0)); // Odkomentuj, jeżeli chcesz otrzymać inny zestaw liczb za każdym razem.\n",
    "Liczby* glowa = 0, * ogon = 0;\n",
    "for(int i=0; i<6; ++i)\n",
    "{\n",
    "    Liczby* nowy = new Liczby;\n",
    "    nowy->dane = rand()%10;\n",
    "    nowy->nast = 0;\n",
    "    if(!glowa)\n",
    "        glowa = nowy;\n",
    "    else\n",
    "        ogon->nast = nowy;\n",
    "    ogon = nowy;\n",
    "}\n",
    "DRAW_LIST(glowa, ogon);"
   ]
  },
  {
   "cell_type": "markdown",
   "id": "d0b90437-d37a-404d-aa7b-da01cb6d02f8",
   "metadata": {},
   "source": [
    "## Odnajdywanie elementów w liście"
   ]
  },
  {
   "cell_type": "markdown",
   "id": "fbc979ea-258e-4832-a3d2-99eaae57546c",
   "metadata": {},
   "source": [
    "## Wstawianie elementu na początku"
   ]
  },
  {
   "cell_type": "markdown",
   "id": "674559db-fc36-4410-ba50-528d889146fc",
   "metadata": {},
   "source": [
    "## Wstawianie elementu w środku listy"
   ]
  },
  {
   "cell_type": "markdown",
   "id": "fa5b27ae-239e-4c0e-801d-dcd1619dea1d",
   "metadata": {},
   "source": [
    "## Usuwanie elementu z początku listy"
   ]
  },
  {
   "cell_type": "markdown",
   "id": "036d15c6-be24-41cb-aec1-755298149bbd",
   "metadata": {},
   "source": [
    "## Usuwanie elementu ze środka listy"
   ]
  },
  {
   "cell_type": "markdown",
   "id": "4cc6cd26-7841-4a86-849f-0a525f8be689",
   "metadata": {
    "editable": true,
    "slideshow": {
     "slide_type": ""
    },
    "tags": []
   },
   "source": [
    "![logotypy.png](../figures/OMNIS2_logotypy.png)"
   ]
  }
 ],
 "metadata": {
  "kernelspec": {
   "display_name": "C++17",
   "language": "C++17",
   "name": "xcpp17"
  },
  "language_info": {
   "codemirror_mode": "text/x-c++src",
   "file_extension": ".cpp",
   "mimetype": "text/x-c++src",
   "name": "c++",
   "version": "17"
  }
 },
 "nbformat": 4,
 "nbformat_minor": 5
}

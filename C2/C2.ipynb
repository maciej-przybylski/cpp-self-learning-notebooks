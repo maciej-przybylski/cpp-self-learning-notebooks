{
 "cells": [
  {
   "cell_type": "markdown",
   "id": "24218d8b-9b9a-4480-be64-bab9d3562cb0",
   "metadata": {
    "editable": true,
    "slideshow": {
     "slide_type": ""
    },
    "tags": []
   },
   "source": [
    "![OMNIS2_Logo_projektu.png](../figures/OMNIS2_Logo_projektu.png)"
   ]
  },
  {
   "cell_type": "markdown",
   "id": "32578e4d-0818-420c-899c-e578bf69a922",
   "metadata": {
    "editable": true,
    "slideshow": {
     "slide_type": ""
    },
    "tags": []
   },
   "source": [
    "# Ćwiczenie 2: Zmienne, stałe, typy danych, konwersja typów\n",
    "\n",
    "autor: Maciej Kachniarz"
   ]
  },
  {
   "cell_type": "markdown",
   "id": "f7f56d10-e417-4aeb-bb11-69f669927714",
   "metadata": {},
   "source": [
    "## Wprowadzenie\n",
    "\n",
    "W tym ćwiczeniu zapoznasz się z pojęciem stałej i zmiennej oraz poznasz podstawowe typy danych w języku C++ i sposób przechowywania ich wartości w pamięci operacyjnej. Przedstawione zostaną również możliwości konwersji pomiędzy poszczególnymi typami danych. Początkowa część notatnika poświęcona jest przybliżeniu systemów liczbowych spotykanych w informatyce oraz organizacji pamięci operacyjnej komputera. Jeśli te zagadnienia są Ci już znane, po sekcji „Przygotowanie notatnika” przejdź do „Zmienne i stałe w C++”."
   ]
  },
  {
   "cell_type": "markdown",
   "id": "9c506939-66da-48b7-904b-9125d7c98f50",
   "metadata": {
    "editable": true,
    "slideshow": {
     "slide_type": ""
    },
    "tags": []
   },
   "source": [
    "## Przygotowanie notatnika\n",
    "\n",
    "Z poprzedniego ćwiczenia wiesz już, że właściwy kod programu w języku C++ musi być poprzedzony dodatkowymi instrukcjami: załączeniem niezbędnych modułów biblioteki standardowej, np. \n",
    "```c++\n",
    "#include <iostream>\n",
    "```\n",
    "oraz dyrektywą globalnego użycia przestrzeni nazw *std*\n",
    "```c++\n",
    "using namespace std;\n",
    "```\n",
    "W środowisku Jupyter każdy notatnik należy traktować jako osobny program, wobec czego owe instrukcje muszą się w nim znaleźć przed komórkami z kodem źródłowym przykładów i zadań. Dlatego na początku notatnika do każdego ćwiczenia znajdziesz zawierającą je komórkę. Wykonaj poniższą komórkę, aby przygotować niniejszy notatnik do pracy."
   ]
  },
  {
   "cell_type": "code",
   "execution_count": null,
   "id": "fc634cce-8217-45fd-9820-c15ed3697ab2",
   "metadata": {},
   "outputs": [],
   "source": [
    "#include <iostream>\n",
    "using namespace std;"
   ]
  },
  {
   "cell_type": "markdown",
   "id": "7ff28235-e0bd-4fb2-b5b3-c0e9a5be8042",
   "metadata": {
    "editable": true,
    "slideshow": {
     "slide_type": ""
    },
    "tags": []
   },
   "source": [
    "## Systemy liczbowe w informatyce"
   ]
  },
  {
   "cell_type": "markdown",
   "id": "8f3fda4d-0c0e-490c-94ae-79a2041862e1",
   "metadata": {
    "editable": true,
    "slideshow": {
     "slide_type": ""
    },
    "tags": []
   },
   "source": [
    "Przed omówieniem typów danych w języku C++ oraz sposobu przechowywania danych w pamięci operacyjnej, warto poświęcić kilka słów systemom liczbowym stosowanym w informatyce i programowaniu.\n",
    "**System liczbowy** jest pewną ustaloną konwencją zapisu liczb wedle określonych reguł. Współcześnie spotyka się głównie **systemy pozycyjne** (w odróżnieniu od np. systemu rzymskiego), w których wartość liczbowa jest zapisywana w formie ciągu cyfr. **Cyfrą** nazywamy symbol opisujący pewną wartość liczbową. Wobec tego '1' można nazwać zarówno cyfrą – symbolem, jak i liczbą. Natomiast '10' jest wyłącznie liczbą, aczkolwiek zapisaną za pomocą dwóch cyfr. W systemie pozycyjnym o wadze poszczególnych cyfr (ich wpływie na zapisaną wartość) decydują ich pozycje w ciągu, zazwyczaj od prawej do lewej. Cyfra najbardziej na prawo ma najmniejszą wagę, cyfra najbardziej na lewo największą. Sposób odczytu tak zapisanej wartości określa liczba zwana **podstawą systemu liczbowego**.\n",
    "\n",
    "Dla człowieka naturalnym systemem liczbowym jest **system dziesiętny**. Jest to system pozycyjny, którego podstawę stanowi liczba 10. Oznacza to, że w liczbie zapisanej w tym systemie na każdej pozycji w ciągu może wystąpić jedna z dziesięciu cyfr ('0','1','2',...,'8','9'). Wagę każdej cyfry określa potęga, której podstawą jest liczba 10, zaś wykładnikiem pozycja cyfry w ciągu liczona od prawej strony (zaczynając od 0 jako numeru skrajnie prawej pozycji). Przykładowo liczbę 2025 można wyrazić jako:\n",
    "$$\n",
    "2025 = 5\\cdot10^0 + 2\\cdot10^1 + 0\\cdot10^2 + 2\\cdot10^3 = 5 + 20 + 0 + 2000\n",
    "$$\n",
    "Oczywiście my, widząc zapisaną w ten sposób liczbę, nie musimy dokonywać takiego rozkładu, jednak obrazuje on ideę funkcjonowania systemu pozycyjnego o określonej podstawie. Z wartości podstawy wynika więc zarówno liczba cyfr potrzebnych w danym systemie, jak i sposób obliczania wag poszczególnych pozycji.\n",
    "W naukach informatycznych występują dwa inne systemy liczbowe: binarny (dwójkowy) oraz heksadecymalny (szesnastkowy). Są to również systemy pozycyjne, jednak o innych podstawach.\n",
    "\n",
    "W przypadku **systemu binarnego**, naturalnego dla maszyn cyfrowych pracujących w logice dwustanowej, podstawą systemu jest liczba 2. Występują więc jedynie dwie cyfry: '0' (stan niski) oraz '1' (stan wysoki), które można utożsamiać z wartościami logicznymi: fałsz i prawda. Wagi poszczególnych pozycji w ciągu binarnym oblicza się na postawie potęg liczby 2. Przykładowo reprezentacją binarną liczby 2025 będzie:\n",
    "$$\n",
    "0111 \\;1110 \\;1001 = 1\\cdot2^0 + 0\\cdot2^1 + 0\\cdot2^2 + 1\\cdot2^3 + 0\\cdot2^4 + 1\\cdot2^5 + 1\\cdot2^6 + 1\\cdot2^7 + 1\\cdot2^8 + 1\\cdot2^9 + 1\\cdot2^10 + 0\\cdot2^11 = 1 + 0 + 0 + 8 + 0 + 32 + 64 + 128 + 256 + 512 + 1024 + 0 = 2025\n",
    "$$\n",
    "W **systemie heksadecymalnym** podstawą jest liczba 16. Można więc oczekiwać, że na danej pozycji w ciągu może wystąpić jedna z szesnastu wartości. Do zapisu potrzeba więc zbioru szesnastu cyfr. Na potrzeby tego systemu zaadaptowano 10 cyfr arabskich znanych z sytemu dziesiętnego, uzupełniając je sześcioma początkowymi literami standardowego alfabetu łacińskiego: 'A', 'B', 'C', 'D', 'E', oraz 'F'. Cyfrą symbolizującą wartość 10 jest 'A', 11 – 'B', 12 – 'C', 13 – 'D', 14 – 'E', zaś 15 – 'F'. W ten sposób uzyskuje się zbiór symboli potrzebnych do zapisu liczb w systemie heksadecymalnym. Analogicznie do dwóch poprzednich systemów, podstawa systemu jest jednocześnie podstawą potęgi określającej wagę cyfry na danej pozycji. Wobec tego przykładowa liczba 2025 w systemie szesnastkowym jest wyrażona jako:\n",
    "$$\n",
    "\\mathrm{7E9} = 9\\cdot16^0 + 14\\cdot16^1 + 7\\cdot16^2 = 9 + 224 + 1792 = 2025\n",
    "$$\n",
    "System binarny jest kluczowy dla przechowywania wartość liczbowych w pamięciach cyfrowych za pomocą dwustanowych elementów pamięci zwanych **bitami**. Z systemem heksadecymalnym spotkasz się zapewne przy okazji sprawdzania adresów komórek pamięci komputera, zapisywanych właśnie liczbami szesnastkowymi."
   ]
  },
  {
   "cell_type": "markdown",
   "id": "c61cfb13-d3fa-4598-9781-2934c67096e2",
   "metadata": {},
   "source": [
    "## Organizacja pamięci operacyjnej"
   ]
  },
  {
   "cell_type": "markdown",
   "id": "e560c1a6-19a1-4510-86aa-790cf4e4b3ad",
   "metadata": {},
   "source": [
    "W ramach niniejszego kursu zapewne wielokrotnie spotkasz się z pojęciem **pamięci komputera**. Jest to jednak pewien skrót myślowy – pojęcie to odnosi się do pamięci operacyjnej komputera. Nie należy utożsamiać go z trwałymi nośnikami pamięci, takimi jaki dyski SSD i HDD, nośniki USB czy nośniki optyczne CD/DVD.\n",
    "**Pamięć operacyjna** stanowi całość pamięci dostępnej dla procesora komputera, na którą składa się pamięć fizyczna i wirtualna. Współcześnie pamięć fizyczna wytwarzana jest najczęściej w technologii pamięci o dostępie swobodnym RAM (ang. *Random-Access Memory*), której moduły montowane są w gniazdach na płycie głównej komputera (lub lutowane do płyty głównej). Pomijając zbędne na tym etapie szczegóły techniczne, pamięć taką można wyobrazić sobie jako matrycę elementów bitowych, z których każdy może przyjąć jeden z dwóch stanów logicznych: niski (0) lub wysoki (1), przechowując w ten sposób pojedynczy bit informacji. Do fizycznej realizacji pojedynczego bitu wykorzystuje się kondensator, który może być rozładowany (stan niski) lub naładowany (stan wysoki). Elementy bitowe zgrupowane są w ośmiobitowe komórki podstawowe, przechowujące pojedynczy **bajt** informacji (1 B). Łatwo więc zauważyć, że w odniesieniu do informacji (jak również pojemności pamięci) funkcjonują dwie jednostki: bit i bajt, przy czym:\n",
    "$$\n",
    "1 \\;\\mathrm{B} = 8 \\;\\mathrm{bit}\n",
    "$$\n",
    "\n",
    "Współczesne pamięci komputerowe mają pojemności miliardów bajtów, więc do ich opisu stosuje się krotności znane z układu jednostek SI: kilo-, mega-, giga-. Należy jednak pamiętać, że w tym przypadku krotności oparte są na potęgach liczby 2, a nie 10. Tak więc:\n",
    "$$\\begin{align}\n",
    "&1 \\;\\mathrm{kB} = 2^{10} \\;\\mathrm{B} = 1 \\;024 \\;\\mathrm{B}\\\\\n",
    "&1 \\;\\mathrm{MB} = 2^{20} \\;\\mathrm{B} = 1 \\;024 \\;\\mathrm{kB} = 1 \\;048 \\;576 \\;\\mathrm{B}\\\\\n",
    "&1 \\;\\mathrm{GB} = 2^{30} \\;\\mathrm{B} = 1 \\;024 \\;\\mathrm{MB} = 1 \\;073 \\;741 \\;824 \\;\\mathrm{B}\n",
    "\\end{align}\n",
    "$$\n",
    "\n",
    "Jedną z podstawowych funkcji systemu operacyjnego jest zarządzanie pamięcią operacyjną, w tym przydzielanie jej uruchamianym programom wedle zapotrzebowania. Aby było to możliwe, pamięć operacyjna musi być adresowana – każda komórka podstawowa ma swój unikatowy identyfikator liczbowy zwany **adresem**. Programy przechowują więc swoje dane w komórkach o ściśle określonych adresach przydzielonych im przez system operacyjny. W takim podejściu pamięć można traktować jako jednowymiarową tablicę ośmiobitowych komórek podstawowych ponumerowanych kolejno od 0 do maksymalnej liczby wynikającej z rozmiaru pamięci. Przykładowo można policzyć, że pamięć operacyjna o pojemności 16 GB jest podzielona na $16\\cdot1024\\cdot1024\\cdot1024$ = 17 179 869 184 jednobajtowych komórek podstawowych, czyli maksymalnym adresem jest 17 179 869 183. Znajomość adresu danej komórki pozwala uzyskać dostęp do jej zawartości."
   ]
  },
  {
   "cell_type": "markdown",
   "id": "1326f352-9099-49de-bc89-1db78fc23565",
   "metadata": {},
   "source": [
    "## Zmienne i stałe w C++\n",
    "\n",
    "Wróćmy na chwilę do pierwszego programu z poprzedniego ćwiczenia, który miał postać:\n",
    "```c++\n",
    "#include <iostream>\n",
    "using namespace std;\n",
    "cout << \"Witaj!\" << endl;\n",
    "```\n",
    "Jego jedyną rolą było wypisanie napisu „Witaj!”. Operował więc na pewnej ściśle określonej, z góry ustalonej wartości, która nie ulegała żadnym zmianom w trakcie wykonywania programu. Zazwyczaj chcemy jednak, by nasze programy mogły operować na wartościach zmieniających się w trakcie działania i niekoniecznie ustalonych z góry, np. przechowywać wyniki operacji matematycznych realizowanych przez program. Do tego celu służą zmienne. **Zmienna** jest pewnym obszarem pamięci przydzielonym programowi, w którym może on przechowywać jakieś dane. Aby móc korzystać ze zmiennych, należy je najpierw zdefiniować. Ogólny schemat definicji zmiennej w C++ wygląda następująco (zwróć uwagę na obecność średnika, będącego w C++ znakiem końca instrukcji – każda instrukcja musi być zakończona średnikiem):\n",
    "```c++\n",
    "typ_danych nazwa_zmiennej;\n",
    "``` \n",
    "**Typ danych** określa, jaki rozmiar pamięci jest potrzebny do przechowania wartości danego typu oraz w jaki sposób go interpretować (jako liczbę, znak, wartość logiczną). Przykładowo liczby całkowite przechowujemy w zmiennych typu *int* (skrót od ang. *integer* - liczba całkowita). Inne dostępne typy zostaną omówione w dalszej części ćwiczenia. **Nazwa zmiennej** jest jej unikatowym identyfikatorem w kodzie źródłowym programu. Przy nadawaniu nazw zmiennym, obowiązują pewne reguły:\n",
    "1. Nazwa zmiennej może zawierać wielkie i małe litery standardowego alfabetu łacińskiego, cyfry arabskie oraz znak ’_’. Nie może zawierać spacji.\n",
    "2. Cyfra nie może być pierwszym znakiem w nazwie zmiennej.\n",
    "3. Nazwa zmiennej musi być unikatowa w danym bloku instrukcji (bloki instrukcji wydziela się nawiasami klamrowymi {}). W danym bloku nie mogą istnieć dwie zmienne o jednakowej nazwie.\n",
    "4. Nazwa zmiennej nie może być identyczna z jakimkolwiek słowem składni języka, np. *if*, *while*, *for*, itd.\n",
    "\n",
    "Poprawne nazwy zmiennych to np. *a*, *zmienna1*, *_wartosc24*, *Rozmiar_tablicy*, *TAB*. Niepoprawną nazwą będzie np. *1zmienna* (cyfra na początku), *nowa zmienna* (zawiera spację), *while* (słowo jest elementem składni języka C++), *wartość* (zawiera znaki spoza standardowego alfabetu łacińskiego ‘ś’ i ‘ć’). Nadanie zmiennej niepoprawnej nazwy skutkuje błędem kompilacji programu. Spróbuj wykonać poniższą komórkę:"
   ]
  },
  {
   "cell_type": "code",
   "execution_count": null,
   "id": "ec63c01e-d456-41bc-affb-c4f3f587f421",
   "metadata": {},
   "outputs": [],
   "source": [
    "int 1a;"
   ]
  },
  {
   "cell_type": "markdown",
   "id": "a17c280c-0054-4bf7-b751-689ba4a8226b",
   "metadata": {},
   "source": [
    "W wyniku podania niepoprawnej nazwy zmiennej rezultatem jest błąd. \n",
    "\n",
    "Spróbujmy teraz utworzyć zmienną typu całkowitego o poprawnej nazwie – wykonaj poniższą komórkę:"
   ]
  },
  {
   "cell_type": "code",
   "execution_count": null,
   "id": "f1414810-73ff-4e2d-8e63-85f16d77d1cd",
   "metadata": {},
   "outputs": [],
   "source": [
    "int a1;\n",
    "cout << &a1 << endl;"
   ]
  },
  {
   "cell_type": "markdown",
   "id": "e49401a3-22c3-4dd2-9caa-5b49b4e6ca61",
   "metadata": {},
   "source": [
    "Użycie symbolu ‘&’ przed nazwą zmiennej pozwala pozyskać jej adres w pamięci (będzie to dokładniej omówione w dalszej części kursu przy okazji wskaźników i zmiennych dynamicznych). Wobec tego rezultatem wykonania powyższej komórki jest wypisanie adresu zmiennej *a1* w pamięci, zapisanego w systemie heksadecymalnym. Widzimy więc, że pod nazwą nadaną zmiennej kryje się tak naprawdę adres obszaru pamięci przydzielonego dla naszej zmiennej. Możliwe jest, że zmienna danego typu zajmuje więcej niż jedną podstawową komórkę pamięci (np. wspomniany typ *int* zajmuje 4 komórki – 4 B). Z nazwą związany jest zawsze adres pierwszej komórki zajmowanego obszaru. Definiując zmienną określamy, jakiego typu wartość przechowuje, jak duży obszar pamięci będzie potrzebny do przechowywania tej wartość oraz pod jaką nazwą w kodzie programu będziemy się odwoływać do tego obszaru.\n",
    "\n",
    "Spróbujmy teraz utworzyć zmienną typu całkowitego i wypisać jej wartość. Wykonaj w tym celu poniższą komórkę:"
   ]
  },
  {
   "cell_type": "code",
   "execution_count": null,
   "id": "87966239-e033-41e8-8334-75700fa787c4",
   "metadata": {},
   "outputs": [],
   "source": [
    "int a;\n",
    "cout << a << endl;"
   ]
  },
  {
   "cell_type": "markdown",
   "id": "0e821dfe-b86b-4cca-b83b-d5eecc1c593b",
   "metadata": {},
   "source": [
    "W tym przypadku wypisujemy już nie adres obszaru pamięci, a zawartość tego obszaru, czyli aktualną wartość zmiennej (brak symbolu ‘&’ przed nazwą zmiennej). Jest duże prawdopodobieństwo, że wynikiem wykonania powyższej komórki jest 0. Nie jest to jednak gwarantowane – przydzielenie obszaru pamięci dla zmiennej nie oznacza, że obszar ten zostanie zresetowany do stanu zerowego. Jeśli wcześniej jakiś program korzystał z tego obszaru, mogły pozostać w nim jakieś dane (nie wszystkie bity są w stanie 0). Wtedy powyższa komórka zwróci jakąś niezerową wartość. Dlatego należy pamiętać, że zdefiniowana zmienna nie ma ustalonej wartość, dopóki nie dokonamy jej inicjalizacji. **Inicjalizacja** jest pierwszym nadaniem wartości zmiennej w programie, np. poprzez przypisanie jakiejś wartości, co zauważysz, wykonując poniższą komórkę."
   ]
  },
  {
   "cell_type": "code",
   "execution_count": null,
   "id": "2be7ec5b-90ab-49e2-a343-b6a6d1f7b2b2",
   "metadata": {},
   "outputs": [],
   "source": [
    "a = 5;\n",
    "cout << a << endl;"
   ]
  },
  {
   "cell_type": "markdown",
   "id": "4bf77963-eecb-497a-bf83-52a0aa035563",
   "metadata": {},
   "source": [
    "Teraz mamy gwarancję, że zmienna przechowuje wartość 5, choć w dowolnym momencie możemy przypisać jej nową wartość, jak w poniższym przykładzie:"
   ]
  },
  {
   "cell_type": "code",
   "execution_count": null,
   "id": "a48fb854-896c-44cf-b25a-72372d43b735",
   "metadata": {},
   "outputs": [],
   "source": [
    "a = 10;\n",
    "cout << a << endl;\n",
    "a = 15;\n",
    "cout << a << endl;"
   ]
  },
  {
   "cell_type": "markdown",
   "id": "cfcb0c1f-432b-4b9f-a61c-cf23e57d5b80",
   "metadata": {},
   "source": [
    "Możliwe jest też zainicjalizowanie zmiennej od razu po jej zdefiniowaniu w ramach jednej instrukcji:"
   ]
  },
  {
   "cell_type": "code",
   "execution_count": null,
   "id": "91f11f27-3d49-48e9-8d93-0571c61ec18e",
   "metadata": {},
   "outputs": [],
   "source": [
    "int b = 50;\n",
    "cout << b << endl;"
   ]
  },
  {
   "cell_type": "markdown",
   "id": "6fe7685f-8645-497a-b9ab-d77328d9b643",
   "metadata": {},
   "source": [
    "Warto również pamiętać, że w ramach jednej instrukcji możemy zdefiniować i zainicjalizować kilka zmiennych tego samego typu, rozdzielając je przecinkami – typ danych określamy wtedy tylko raz na początku instrukcji. W poniższym przykładzie zmienne *x* i *z* są zdefiniowane i zainicjalizowane, natomiast zmienna *y* jest tylko zdefiniowana i nie ma ustalonej wartości (prawdopodobnie, ale nie na pewno przyjmie wartość 0):"
   ]
  },
  {
   "cell_type": "code",
   "execution_count": null,
   "id": "dd6cc77a-967d-4791-a185-0db3f0b86e03",
   "metadata": {},
   "outputs": [],
   "source": [
    "int x = 5, y, z = 15;\n",
    "cout << x << ',' << y << ',' << z << endl;"
   ]
  },
  {
   "cell_type": "markdown",
   "id": "692eddd0-34e9-4d3d-be97-b19eb743e693",
   "metadata": {},
   "source": [
    "Wszystkie zdefiniowane zmienne są typu *int*. Formalnie ta potrójna definicja jest jedną instrukcją – średnik występuje dopiero na końcu listy definiowanych zmiennych."
   ]
  },
  {
   "cell_type": "markdown",
   "id": "43f01b77-6b8e-457f-bd18-d87402d09e99",
   "metadata": {},
   "source": [
    "Oprócz zmiennych, w języku C++ występują również **stałe**. Definiuje się je w sposób bardzo podobny do zmiennych, jednak poprzedzając definicję specyfikatorem *const*. Różnica polega jednak na tym, że stała musi być od razu zainicjalizowana – musimy nadać jej wartość w momencie jej utworzenia, tak jak w poniższej komórce:"
   ]
  },
  {
   "cell_type": "code",
   "execution_count": null,
   "id": "4219ccd8-453d-4b95-9ec1-fb2d36db3d78",
   "metadata": {},
   "outputs": [],
   "source": [
    "const int stala = 100;\n",
    "cout << stala << endl;"
   ]
  },
  {
   "cell_type": "markdown",
   "id": "ae203386-ac9f-45ab-8488-2c0a85957944",
   "metadata": {},
   "source": [
    "Po zdefiniowaniu i zainicjalizowaniu stałej, nie można już zmienić jej wartości – wykonanie poniżej komórki powinno zakończyć się błędem:"
   ]
  },
  {
   "cell_type": "code",
   "execution_count": null,
   "id": "c96910b3-a178-48b3-8495-a74f147c34b8",
   "metadata": {},
   "outputs": [],
   "source": [
    "stala = 200;"
   ]
  },
  {
   "cell_type": "markdown",
   "id": "0fe5c1cd-c332-4896-9125-37485fbfe807",
   "metadata": {},
   "source": [
    "W języku C++ występują pewne sytuacje wymagające posługiwania się stałymi, np. rozmiar tablicy statycznej musi być określony za pomocą stałej. \n",
    "\n",
    "Na zakończenie warto jeszcze dodać, że przedstawione w tym rozdziale zmienne są zmiennymi statycznymi – istnieją w pamięci przez cały czas wykonywania zawierającego je bloku instrukcji (jeśli znajdują się w bloku funkcji *main*, to przez cały czas działania programu). Istnieją również zmienne dynamiczne, w przypadku których programista sam decyduje o momencie ich utworzenia i usunięcia. Będą one przedmiotem ćwiczeń w dalszej części kursu."
   ]
  },
  {
   "cell_type": "markdown",
   "id": "1ea545f6-2498-4bbe-9bf1-15cfdc657995",
   "metadata": {},
   "source": [
    "## Typy danych w języku C++\n",
    "\n",
    "Obok składni (zbioru słów i symboli tworzących dany język), jednym z podstawowych elementów języka programowania są dostępne w nim **typy danych**. Język C++ zawiera 5 typów fundamentalnych, których nazwy należą do składni języka:\n",
    "- *int* – liczba całkowita, np. 25\n",
    "- *float* – liczba rzeczywista (zmiennoprzecinkowa), np. 12.53\n",
    "- *double* – liczba rzeczywista (zmiennoprzecinkowa) o podwójnej precyzji, np. 12.53\n",
    "- *char* – znak, np. ‘A’\n",
    "- *bool* – wartość logiczna, możliwe tylko *false* (0) lub *true* (1)\n",
    "\n",
    "Każdy typ może przechowywać określony rodzaj danych i zajmuje obszar pamięci o określonym rozmiarze.\n",
    "\n",
    "### Typ *int*\n",
    "\n",
    "Wspomniany wcześniej **typ *int*** (ang. *integer* – liczba całkowita) służy do przechowywania wartości całkowitych dodatnich i ujemnych. Aby sprawdzić rozmiar zmiennej typu *int* w pamięci, możemy posłużyć się wbudowanym w C++ operatorem *sizeof*(). Operator ten zwraca wrażony w bajtach rozmiar pamięci zajmowanej przez obiekt podany jako argument. Wykonanie poniższej komórki poskutkuje wypisaniem rozmiaru pamięci zajmowanej przez zdefiniowaną zmienną *liczba*:"
   ]
  },
  {
   "cell_type": "code",
   "execution_count": null,
   "id": "eef012de-08eb-49ca-baa7-819767112d18",
   "metadata": {},
   "outputs": [],
   "source": [
    "int liczba = 10;\n",
    "cout << sizeof(liczba) << endl;"
   ]
  },
  {
   "cell_type": "markdown",
   "id": "719c1cfb-ccc2-4955-8af2-49e46ffd9dfd",
   "metadata": {},
   "source": [
    "Jak widzimy, zmienna typu *int* zajmuje w pamięci obszar o rozmiarze 4 B. Argumentem operatora *sizeof*() może być również sama nazwa typu, którego rozmiar nas interesuje:"
   ]
  },
  {
   "cell_type": "code",
   "execution_count": null,
   "id": "141d8e0e-1cc8-43cb-ac59-8398bcc1c742",
   "metadata": {},
   "outputs": [],
   "source": [
    "cout << sizeof(int) << endl;"
   ]
  },
  {
   "cell_type": "markdown",
   "id": "7d94f378-3109-4203-a657-a34a0fb3f1c0",
   "metadata": {},
   "source": [
    "Tu również wynikiem są 4 B. Nietrudno policzyć, że pojedyncza zmienna typu *int* jest w takim razie przechowywana z wykorzystaniem 32 bitów (4 komórki podstawowe po 8 bitów każda). Skoro każdy bit może przyjąć jedną z dwóch wartości (0 lub 1), to w ciągu 32 bitów można uzyskać $2^{32} = 4 \\;294 \\;967 \\;296$ różnych kombinacji. Jest to tzw. **pojemność typu**, która określa, ile różnych wartości można przechować w zmiennej danego typu. Nie oznacza to jednak, że w zmiennej typu *int* można przechować liczbę 4 294 967 295 (teoretycznie maksymalna wartość). Wykonując poniższą komórkę zaobserwujesz, jaki efekt przynosi próba przypisania takiej wartości do zmiennej *liczba*:"
   ]
  },
  {
   "cell_type": "code",
   "execution_count": null,
   "id": "38f53ad1-f635-43da-90bd-9f21d3c37baf",
   "metadata": {},
   "outputs": [],
   "source": [
    "liczba = 4294967295;\n",
    "cout << liczba << endl;"
   ]
  },
  {
   "cell_type": "markdown",
   "id": "78bf60dd-7bd1-47a0-9227-c8cd1cbc8390",
   "metadata": {},
   "source": [
    "Uzyskany rezultat -1 zapewne mocno odbiega od oczekiwań. Wynika on z tego, że w zmiennej typu *int* możemy przechowywać wartości zarówno dodatnie, jak i ujemne. Część obszaru pamięci zajmowana przez zmienną typu *int* jest więc potrzebna do przechowanie informacji o znaku liczby. W praktyce wygląda to tak, że najstarszy bit (na najwyższej pozycji licząc od prawej) koduje znak liczby (0 – liczba dodatnia, 1 – liczba ujemna). Sama wartość bezwzględna liczby jest przechowywana w dalszych 31 bitach w formie ciągu binarnego, którego wartość można wyrazić w systemie dziesiętnym w sposób omówiony na początku ćwiczenia. Oznacza to, że wartość bezwzględna liczby może przyjąć jedną z $2^{31} = 2 \\;147 \\;483 \\;648$ możliwych wartość, co przekłada się na zakres liczb całkowitych możliwych do przechowania w zmiennej typu *int* wynoszący od -2 147 483 648 do 2 147 483 647 (górna wartość jest o 1 niższa, bo w zbiorze wartości znajduje się też 0). W razie potrzeby zakres wartości *int* można odczytać korzystając ze stałych `INT_MIN` oraz `INT_MAX` zdefiniowanych w bibliotece `climits`:"
   ]
  },
  {
   "cell_type": "code",
   "execution_count": null,
   "id": "2773d52e-dde8-42bb-b037-b3d75c3d8ed3",
   "metadata": {},
   "outputs": [],
   "source": [
    "#include <climits>\n",
    "cout << INT_MIN << endl;\n",
    "cout << INT_MAX << endl;"
   ]
  },
  {
   "cell_type": "markdown",
   "id": "ed210204-02ea-4715-a173-16eb429d8e1b",
   "metadata": {},
   "source": [
    "Zatem nie powinno być zaskoczeniem, że przypisanie do zmiennej *liczba* wartości spoza tego zakresu prowadzi do absurdalnych rezultatów. Ponieważ ciąg binarny odpowiadający liczbie 4 294 967 295 ma postać 1000 0000 0000 0000 0000 0000 0000 0001, to przy zapisaniu go w zmiennej typu *int* jest on mylnie interpretowany jako -1 (najstarszy bit ma wartość 1 – liczba ujemna, pozostała część daje wartość bezwzględną 1). Przypisanie do zmiennej *liczba* wartości z poprawnego zakresu powinno już dawać prawidłowe rezultaty:"
   ]
  },
  {
   "cell_type": "code",
   "execution_count": null,
   "id": "02ed387c-2949-480c-a95d-c2ca6a2ab3bd",
   "metadata": {},
   "outputs": [],
   "source": [
    "liczba = 2000000000;\n",
    "cout << liczba << endl;\n",
    "liczba = -2000000000;\n",
    "cout << liczba << endl;"
   ]
  },
  {
   "cell_type": "markdown",
   "id": "94166ac1-2b2f-4c72-82b2-7d4ebb2cb8eb",
   "metadata": {},
   "source": [
    "Liczby całkowite są najlepiej przechowywalne w dwustanowych pamięciach cyfrowych – ich wartość mogą być reprezentowane wprost przez ciągi binarne."
   ]
  },
  {
   "cell_type": "markdown",
   "id": "05f1970f-98b6-4ac9-bcc1-fcc7fbade6f1",
   "metadata": {},
   "source": [
    "### Typ *float*\n",
    "\n",
    "Operowanie na liczbach całkowitych nie zawsze jest wystarczające. Często musimy w naszych programach sięgać po liczby rzeczywiste, zwane w informatyce liczbami zmiennoprzecinkowymi. Do ich przechowywania początkowo służył **typ *float*** (skrót od ang. *floating point* – ruchoma kropka). Spróbujmy zdefiniować zmienną typu *float*, przypisać do niej wartość oraz zobaczyć, jaki rozmiar pamięci ona zajmuje:"
   ]
  },
  {
   "cell_type": "code",
   "execution_count": null,
   "id": "64d98680-254e-4f60-91c0-447cc03ba007",
   "metadata": {},
   "outputs": [],
   "source": [
    "float rzeczywista = 12.25;\n",
    "cout << rzeczywista << endl;\n",
    "cout << sizeof(float) << endl;"
   ]
  },
  {
   "cell_type": "markdown",
   "id": "59bea8e8-b75f-44e2-96c5-893ba4afbcde",
   "metadata": {},
   "source": [
    "Pierwszą zwracającą uwagę rzeczą jest sposób zapisu wartości rzeczywistej – separatorem dziesiętnym jest kropka, a nie przecinek. Podobnie jak większość języków programowania, C++ rozwijany był w anglosaskim kręgu kulturowym, w którym za separator części dziesiętnej liczby rzeczywistej przyjmowana jest kropka. Trzeba się do tego przyzwyczaić. Drugą rzeczą jest rozmiar pamięci zajmowany przez typ *float*, który wynosi 4 B, tak samo, jak dla typu *int*. Rozmiar pamięci dla obu typów jest więc jednakowy, natomiast różni się sposób jego interpretacji. Liczba rzeczywista jest przechowywana w postaci wykładniczej, gdzie podstawą potęgi jest liczba 2, natomiast część znacząca i wykładnik są zapisane w formie binarnej. 32 bity tworzące zmienną typu *float* są więc zagospodarowane następująco:\n",
    "- najstarszy bit koduje znak liczby (jak w typie *int*),\n",
    "- kolejne 8 bitów przechowuje wykładnik liczby w formie ciągu binarnego,\n",
    "- pozostałe 23 bity przechowują część znaczącą liczby, również w formie ciągu binarnego.\n",
    "\n",
    "Sposób przeliczania liczb zmiennoprzecinkowy na binarną postać wykładniczą jest dość skomplikowany, więc nie będziemy się zajmować tą kwestią – nie jest niezbędna do dalszej pracy. Przedstawiony rozkład bitów w zmiennej typu *float* pozwala przechowywać liczby rzeczywiste z dokładnością do ok. 7 miejsc znaczących. Jest to precyzja wystarczająca do większości zastosowań technicznych."
   ]
  },
  {
   "cell_type": "markdown",
   "id": "d6a88684-fcf6-4264-8959-953d02a5ab5d",
   "metadata": {},
   "source": [
    "### Typ *double*\n",
    "\n",
    "Przy bardzo precyzyjnych obliczeniach naukowych lub obliczeniach finansowych na wysokich kwotach, precyzja typu *float* okazuje się niewystarczająca. Wobec tego do reprezentacji liczb zmiennoprzecinkowych wprowadzono również **typ *double*** (skrót od ang. *double precision* – podwójna dokładność). Zdefiniujmy zmienną typu *double* i sprawdźmy jej rozmiar:"
   ]
  },
  {
   "cell_type": "code",
   "execution_count": null,
   "id": "8fae7935-afb1-4422-8498-89fbc31ca80d",
   "metadata": {},
   "outputs": [],
   "source": [
    "double podwojna_precyzja = 12.25;\n",
    "cout << podwojna_precyzja << endl;\n",
    "cout << sizeof(double) << endl;"
   ]
  },
  {
   "cell_type": "markdown",
   "id": "372d7052-4467-4998-9647-539747b393af",
   "metadata": {},
   "source": [
    "Wykonanie powyższej komórki ujawnia, że podwojenie precyzji względem typu *float* osiągnięto poprzez podwojenie rozmiaru zmiennej w pamięci. Typ *double* zajmuje 8 B, co przekłada się na 64 bity zagospodarowane w następujący sposób:\n",
    "- najstarszy bit koduje znak liczby (jak w typie *int* i *float*),\n",
    "- kolejne 11 bitów przechowuje wykładnik liczby w formie ciągu binarnego,\n",
    "- pozostałe 52 bity przechowują część znaczącą liczby, również w formie ciągu binarnego.\n",
    "\n",
    "Takie wykorzystanie bitów pozawala na przechowywanie liczb rzeczywistych z dokładnością do ok. 15 pozycji znaczących.\n",
    "\n",
    "Nasuwa się więc pytanie, którego typu używać w swoich programach do przechowywania liczb zmiennoprzecinkowych? Typ *double* zapewnia większą precyzję, ale kosztem większego zużycia pamięci. Jeśli więc nie zależy nam aż tak bardzo na dokładności odwzorowania w pamięci liczby zmiennoprzecinkowej, typ *float* jest racjonalnym wyborem. Jednak przy rozmiarach pamięci współczesnych komputerów osiągających dziesiątki GB, oszczędność pamięci oferowana przez typ *float* traci na znaczeniu i wielu programistów korzysta wyłącznie z typu *double* (niektóre języki, np. Matlab, mają wbudowany wyłącznie typ *double*). Jedynie przy pracy z ogromnymi zbiorami danych zmiennoprzecinkowych typ *float* może okazać się konieczny celem racjonalnego wykorzystania dostępnej pamięci operacyjnej."
   ]
  },
  {
   "cell_type": "markdown",
   "id": "8c6e48d4-d5a5-4f4e-bdaf-4d940bb05fa4",
   "metadata": {},
   "source": [
    "### Typ *char*\n",
    "\n",
    "Oprócz pracy z wartościami liczbowymi, język C++ oferuje również możliwość pracy ze znakami alfanumerycznymi (litery, cyfry, znaki specjalne). Służy do tego **typ *char*** (skrót od ang. *character* - znak). Zmienna typu *char* może przechowywać tylko jeden znak. Wartości tego typu zapisujemy w apostrofach, np. ‘A’ jest wartością typu *char* reprezentującą literę A. Zdefiniujmy zmienną typu *char* i, podobnie jak poprzednio, sprawdźmy jej rozmiar w pamięci:"
   ]
  },
  {
   "cell_type": "code",
   "execution_count": null,
   "id": "7c80ffd8-849d-4e56-b1d7-1bb1f05dce12",
   "metadata": {},
   "outputs": [],
   "source": [
    "char znak = 'A';\n",
    "cout << znak << endl;\n",
    "cout << sizeof(char) << endl;"
   ]
  },
  {
   "cell_type": "markdown",
   "id": "82535136-c199-4797-9bfa-f459f638aecd",
   "metadata": {},
   "source": [
    "Zmienna typu *char* zajmuje w pamięci zaledwie 1 B, czyli 8 bitów. Przekłada się to na $2^{8} = 256$ możliwych wartości. W istocie typ *char* jest typem liczbowym całkowitym, podobnie jak *int*, tyle że o mniejszej pojemności. W zmiennej typu *char* przechowywana jest liczba całkowita będąca kodem liczbowym określonego znaku. Kod ten przechowywany jest w 1 B zajmowanym przez typ *char* wprost jako ciąg binarny, przeliczalny na liczbę dziesiętną w sposób omówiony na początku ćwiczenia. Przypisanie kodów do poszczególnych znaków określa **tabela ASCII** (ang. *American Standard Code for Information Interchange*). Tabelę ASCII (pozycje od 0 do 127) przedstawiono poniżej:\n",
    "\n",
    "| Dec | Char | Dec | Char | Dec | Char | Dec | Char |\n",
    "|-----|------|-----|------|-----|------|-----|------|\n",
    "|  0  |  NUL |  32 |  SPC |  64 |  @   |  96 |  `   |\n",
    "|  1  |  SOH |  33 |  !   |  65 |  A   |  97 |  a   |\n",
    "|  2  |  STX |  34 |  \"   |  66 |  B   |  98 |  b   |\n",
    "|  3  |  ETX |  35 |  #   |  67 |  C   |  99 |  c   |\n",
    "|  4  |  EOT |  36 |  $   |  68 |  D   | 100 |  d   |\n",
    "|  5  |  ENQ |  37 |  %   |  69 |  E   | 101 |  e   |\n",
    "|  6  |  ACK |  38 |  &   |  70 |  F   | 102 |  f   |\n",
    "|  7  |  BEL |  39 |  '   |  71 |  G   | 103 |  g   |\n",
    "|  8  |  BS  |  40 |  (   |  72 |  H   | 104 |  h   |\n",
    "|  9  |  TAB |  41 |  )   |  73 |  I   | 105 |  i   |\n",
    "| 10  |  LF  |  42 |  *   |  74 |  J   | 106 |  j   |\n",
    "| 11  |  VT  |  43 |  +   |  75 |  K   | 107 |  k   |\n",
    "| 12  |  FF  |  44 |  ,   |  76 |  L   | 108 |  l   |\n",
    "| 13  |  CR  |  45 |  -   |  77 |  M   | 109 |  m   |\n",
    "| 14  |  SO  |  46 |  .   |  78 |  N   | 110 |  n   |\n",
    "| 15  |  SI  |  47 |  /   |  79 |  O   | 111 |  o   |\n",
    "| 16  |  DLE |  48 |  0   |  80 |  P   | 112 |  p   |\n",
    "| 17  |  DC1 |  49 |  1   |  81 |  Q   | 113 |  q   |\n",
    "| 18  |  DC2 |  50 |  2   |  82 |  R   | 114 |  r   |\n",
    "| 19  |  DC3 |  51 |  3   |  83 |  S   | 115 |  s   |\n",
    "| 20  |  DC4 |  52 |  4   |  84 |  T   | 116 |  t   |\n",
    "| 21  |  NAK |  53 |  5   |  85 |  U   | 117 |  u   |\n",
    "| 22  |  SYN |  54 |  6   |  86 |  V   | 118 |  v   |\n",
    "| 23  |  ETB |  55 |  7   |  87 |  W   | 119 |  w   |\n",
    "| 24  |  CAN |  56 |  8   |  88 |  X   | 120 |  x   |\n",
    "| 25  |  EM  |  57 |  9   |  89 |  Y   | 121 |  y   |\n",
    "| 26  |  SUB |  58 |  :   |  90 |  Z   | 122 |  z   |\n",
    "| 27  |  ESC |  59 |  ;   |  91 |  [   | 123 |  {   |\n",
    "| 28  |  FS  |  60 |  <   |  92 |  \\   | 124 |  |   |\n",
    "| 29  |  GS  |  61 |  =   |  93 |  ]   | 125 |  }   |\n",
    "| 30  |  RS  |  62 |  >   |  94 |  ^   | 126 |  ~   |\n",
    "| 31  |  US  |  63 |  ?   |  95 |  _   | 127 |  DEL |\n",
    "\n",
    "Kolumny *Dec* zawierają kolejne wartości liczbowe w systemie dziesiętnym, natomiast kolumny *Char* odpowiadające tym liczbom znaki. Widzimy więc, że po przypisaniu do zmiennej *znak* znaku ‘A’, w pamięci przechowywana jest tak naprawdę liczba 65, stanowiąca kod tego znaku. Tabela zawiera m.in. wielkie i małe litery standardowego alfabetu łacińskiego (z literami ‘q’, ‘v’, ‘x’, ale bez polskich znaków diakrytycznych ‘ą’, ‘ę’, ‘ć’, itp.), cyfry arabskie (tu znów ważne jest odróżnienie pojęcia cyfry – symbolu graficznego, od pojęcia liczby) oraz znaki specjalne (kropka, przecinek, średnik, itp.). Są tu również zawarte znaki sterujące, np. HT (pozycja 9) – tabulator, CR (pozycja 13) – przejście do nowej linii, czy SPC (pozycja 32) – spacja. Jak widzisz, *char* to nie tylko znaki widoczne, ale również tzw. białe znaki – znaki, których symboli nie widzimy, ale wpływają na układ tekstu. Znaki te mają swoje kody sterujące, za pomocą których można je przypisywać do zmiennych typu *char*, np. ‘\\n’ jest kodem sterującym przejścia do nowej linii, a ‘\\t’ tabulatora (pomimo, że kod sterujący składa się z dwóch symboli, odpowiada pojedynczemu znakowi). Zauważysz to, wykonując poniższą komórkę:"
   ]
  },
  {
   "cell_type": "code",
   "execution_count": null,
   "id": "ee14e57a-cb5a-44ef-bbdc-eb8b445798ea",
   "metadata": {},
   "outputs": [],
   "source": [
    "char tabulator = '\\t', nowa_linia = '\\n';\n",
    "cout << tabulator << \"jakis napis\" << nowa_linia << \"inny napis\" << tabulator << \"kolejny napis\" << endl;"
   ]
  },
  {
   "cell_type": "markdown",
   "id": "a5581b06-9c12-4564-a972-0b5a9ade4aa0",
   "metadata": {},
   "source": [
    "Utworzone zmienne znakowe zawierające kody sterujące wpływają na układ tekstu. Tabela ASCII liczy 128 pozycji, choć w zmiennej typu *char* można przechować 256 różnych liczb. Pozostałe możliwe pozycje (od 128 do 255) są zajmowane przez dodatkowe znaki zależne od ustawionego w systemie kodowania znaków, np. dla systemu Windows ustawionego na region środkowoeuropejski znajdą się tam m.in. polskie, czeskie i słowackie znaki diakrytyczne. W ramach niniejszego kursu ograniczymy się do obsługi znaków zawartych w tabeli ASCII."
   ]
  },
  {
   "cell_type": "markdown",
   "id": "07dcffb1-4f21-4368-95d1-8d18c79292ab",
   "metadata": {},
   "source": [
    "### Typ *bool*\n",
    "\n",
    "Ostatnim fundamentalnym typem danych jest służący do przechowywania wartości logicznych **typ *bool*** (ang. *boolean*, od nazwiska George’a Boole’a, współtwórcy logiki matematycznej). Zmienna typu *bool* może przyjąć tylko jedną z dwóch wartości: *false* – logiczny fałsz lub *true* – logiczna prawda. Zarówno *false* jak i *true* są słowami ze składni języka C++ (nie mogą więc być nazwami zmiennych). Zamiennie z tymi słowami używa się liczb 0 i 1, co zobaczysz, wykonując poniższą komórkę:"
   ]
  },
  {
   "cell_type": "code",
   "execution_count": null,
   "id": "a44206fa-ea06-4e0e-8645-8ed2be96e97b",
   "metadata": {},
   "outputs": [],
   "source": [
    "bool logiczna = true;\n",
    "cout << logiczna << endl;\n",
    "cout << sizeof(bool) << endl;"
   ]
  },
  {
   "cell_type": "markdown",
   "id": "095fa868-7731-4e90-b3d4-8ad8bfe60474",
   "metadata": {},
   "source": [
    "Wartość *true* przypisana zmiennej *logiczna* została wypisana jako 1. Wynik działania powyższej komórki ujawnia również, że zmienna typu *bool* zajmuje 1 B pamięci. Teoretycznie do przechowania takiej dwustanowej informacji wystarczyłby jeden bit, jednak wysokopoziomowe języki programowania, jak C++, operują na pełnych bajtach jako najmniejszej adresowalnej jednostce pamięci. Wartości logiczne mają kluczowe znaczenie dla wykonywania instrukcji sterujących programu, takich jak instrukcje warunkowe i pętle."
   ]
  },
  {
   "cell_type": "markdown",
   "id": "03b6b38c-e535-4e2f-8b7f-2eb2edd3dca4",
   "metadata": {},
   "source": [
    "## Typ napisowy – łańcuch znaków *string*\n",
    "\n",
    "Jeśli przyjrzysz się pięciu podstawowym typom danych omówionym w poprzedniej sekcji zauważysz, że żaden z nich nie przechowuje wartości występujących w pierwszym programie z poprzedniego ćwiczenia. Mowa tu o wypisywanej przez tamten program wartości „Witaj!”. Nie jest to ani liczba całkowita lub rzeczywista, ani wartość logiczna. Najbardziej przypomina wartość typu *char*, jednak jest ujęta w cudzysłów, a nie apostrof, i zawiera więcej niż jeden znak. Jest to wartość napisowa, a do ich przechowywania służy typ *string*, zwany również łańcuchem znakowym. Jest to nic innego, jak ciąg znaków tworzących jedną wartość.\n",
    "\n",
    "**Typ *string*** nie jest typem fundamentalnym języka C++. W istocie jest to klasa (typ złożony) zdefiniowany w module *string* biblioteki standardowej. Czy oznacza to, że do programu obsługującego łańcuchy znakowe trzeba załączać moduł string? Niekoniecznie – moduł *string* jest załączony do modułu *iostream*. Jeśli więc nasz program ma załączony *iostream*, to *string* jest już załączony przez niego pośrednio i nie ma potrzeby załączania go jawnie dyrektywą *#include*. Natomiast trzeba mieć na uwadze, że nazwa typu *string*, niebędąca elementem składni języka C++, nie będzie rozpoznawana bez wskazania przestrzeni nazw *std*. W przypadku niniejszego notatnika zostało to już zrobione w sekcji „Przygotowanie notatnika”, więc możemy spróbować zdefiniować i wypisać zmienną typu *string*:\n"
   ]
  },
  {
   "cell_type": "code",
   "execution_count": null,
   "id": "d15471aa-5a14-4d04-b37d-6817a8285713",
   "metadata": {},
   "outputs": [],
   "source": [
    "string napis;\n",
    "cout << napis << endl;"
   ]
  },
  {
   "cell_type": "markdown",
   "id": "7a20aae8-40d3-46ce-a3df-d8d3fff2aa32",
   "metadata": {},
   "source": [
    "Jedynym widocznym efektem wypisania utworzonej zmiennej *napis* jest pusta linia – napis nie zawiera więc żadnych znaków. W odróżnieniu od typów fundamentalnych, zdefiniowanie zmiennej typu *string*, czy mówiąc poprawniej obiektu klasy *string*, daje gwarancję stanu początkowego – zdefiniowana zmienna przechowuje pusty napis. Dopiero przypisanie do niej niepustej wartości powoduje zmianę tego stanu:"
   ]
  },
  {
   "cell_type": "code",
   "execution_count": null,
   "id": "93322f0a-648a-40ff-b9d0-ade64b7cc9c3",
   "metadata": {},
   "outputs": [],
   "source": [
    "napis = \"Witaj!\";\n",
    "cout << napis << endl;"
   ]
  },
  {
   "cell_type": "markdown",
   "id": "56c742fd-e124-4bce-8a92-35e505b874d7",
   "metadata": {},
   "source": [
    "W przypadku obiektów *string* nie będziemy sprawdzać rozmiaru zajmowanej pamięci, bowiem może on ulegać zmianie w zależności od tego, jak długi łańcuch zamierzamy przechować. Rozmiar jest więc na bieżąco dostosowywany do potrzeb.\n",
    "\n",
    "Istotną kwestią związaną z klasą *string* jest fakt, że posiada ona zestaw funkcji wbudowanych pozwalających wykonywać pewne operacje na łańcuchu znakowym, np. sprawdzić jego długość – liczbę znaków. Funkcje wbudowane wywołuje się na konkretnym zdefiniowanym obiekcie klasy, podając jego nazwę i po kropce nazwę funkcji:\n",
    "```c++\n",
    "nazwa_obiektu.nazwa_funkcji();\n",
    "``` \n",
    "Przykładowo wypisania aktualnej długości obiektu *napis* dokonamy za pomocą funkcji wbudowanej *length()* lub *size()*, wywołując ją w następujący sposób:"
   ]
  },
  {
   "cell_type": "code",
   "execution_count": null,
   "id": "3a0d873a-ccb6-4731-8d1c-975426e069bc",
   "metadata": {},
   "outputs": [],
   "source": [
    "cout << napis.length() << endl;"
   ]
  },
  {
   "cell_type": "code",
   "execution_count": null,
   "id": "77c9dbe5-2ca1-4052-893b-550aa9519c24",
   "metadata": {},
   "outputs": [],
   "source": [
    "cout << napis.size() << endl;"
   ]
  },
  {
   "cell_type": "markdown",
   "id": "8519f397-30a0-4c12-befd-1bf5a4dac630",
   "metadata": {},
   "source": [
    "Wyświetlona liczba powinna odpowiadać liczbie znaków w przypisanym wcześniej łańcuchu \"Witaj!\" i wynosić 6. Inną ciekawą funkcją jest *max_size()*, która zwraca maksymalną liczbę znaków możliwą do przechowania w obiekcie klasy *string*:"
   ]
  },
  {
   "cell_type": "code",
   "execution_count": null,
   "id": "ba9240e1-7bf0-4f59-b9d1-ec312c80795d",
   "metadata": {},
   "outputs": [],
   "source": [
    "cout << napis.max_size() << endl;"
   ]
  },
  {
   "cell_type": "markdown",
   "id": "3ae28543-c59e-43ee-b2f3-291c9e063aa9",
   "metadata": {},
   "source": [
    "Wartość ta jest zależna od komputera, na którym uruchamiamy program. W przypadku notatników Jupyter, ze względu na specyficzny sposób implementacji kodu, liczba ta jest stosunkowo niewielka w porównaniu z tym, co mógłbyś zaobserwować wykonując podobną operację na własnym komputerze. Przydatną funkcją wbudowaną klasy *string* jest *empty()*, która zwraca wartość logiczną będącą odpowiedzią na pytanie, czy łańcuch znakowy jest pusty: 1 (*true*) – tak, łańcuch jest pusty, 0 (*false*) – nie, łańcuch zawiera przynajmniej 1 znak. Jeśli wywołamy tę funkcję na obiekcie *napis*, zawierającym już jakieś znaki, rezultatem będzie 0:"
   ]
  },
  {
   "cell_type": "code",
   "execution_count": null,
   "id": "f9bca172-530a-4225-9a4e-32cf9234b649",
   "metadata": {},
   "outputs": [],
   "source": [
    "cout << napis.empty() << endl;"
   ]
  },
  {
   "cell_type": "markdown",
   "id": "d1a85eb1-96dc-47e3-9410-13c1fbb046be",
   "metadata": {},
   "source": [
    "Jednak wywołanie jej na nowozdefiniowanym obiekcie powinno dać rezultat 1:"
   ]
  },
  {
   "cell_type": "code",
   "execution_count": null,
   "id": "987d061d-4552-4cf1-988d-f2f3ab7e7c19",
   "metadata": {},
   "outputs": [],
   "source": [
    "string nowy_napis;\n",
    "cout << nowy_napis.empty() << endl;"
   ]
  },
  {
   "cell_type": "markdown",
   "id": "1d785ff6-c1fd-44dd-b03e-52444b0b83b7",
   "metadata": {},
   "source": [
    "Przedstawione funkcje to tylko część możliwości związanych z klasą *string*. Więcej informacji na temat łańcuchów znakowych poznasz w dalszej części kursu."
   ]
  },
  {
   "cell_type": "markdown",
   "id": "9c0463e1-559d-4e54-9447-a7c539f17b07",
   "metadata": {},
   "source": [
    "## Konwersja typów\n",
    "Znasz już podstawowe typy danych, z którymi będziemy pracować w dalszych ćwiczeniach. Jeśli spojrzysz na nie raz jeszcze, zapewne zauważysz, że niektóre z nich dzielą pewne podobieństwa, czy to w rodzaju przechowywanych wartości, czy w sposobie ich zapisu w pamięci. Pojawia się zatem pytanie, czy np. liczbę całkowitą możemy przypisać do zmiennej typu *float* lub *double*? W końcu liczby całkowite też należą do zbioru liczb rzeczywistych. Albo co się stanie, jeśli znak typu *char* przypiszemy do zmiennej typu *int*? W języku C++ zmiana typu jest jak najbardziej możliwa, a operację taką nazywamy **konwersją typów**. Należy jednak pamiętać, że w niektórych przypadkach może sie ona wiązać z utratą danych - nie zawsze ma więc sens.\n",
    "\n",
    "W C++ występują dwa typy konwersji: niejawna (automatyczna) i jawna. Przykład obu typów konwersji zawiera poniższa komórka:"
   ]
  },
  {
   "cell_type": "code",
   "execution_count": null,
   "id": "98d8ecf2-160a-4d87-a172-ff82517824c4",
   "metadata": {},
   "outputs": [],
   "source": [
    "float l1, l2;\n",
    "l1 = 10;\n",
    "l2 = float(10);\n",
    "cout << l1 << endl << l2 << endl;"
   ]
  },
  {
   "cell_type": "markdown",
   "id": "c2fd79eb-97c1-4026-9013-85685ff21982",
   "metadata": {},
   "source": [
    " *Konwersja niejawna* (automatyczna) ma miejsce wtedy, gdy wartość danego typu jest przypisywana do zmiennej innego typu. Wtedy, jeśli to możliwe, kompilator automatycznie konwertuje wartość na typ docelowy. W powyższym przykładzie taka konwersja zachodzi w linii *l1 = 10;*. Wartość źródłowa jest typu całkowitego *int* (gdyby miała być typu rzeczywistego, należałoby ją zapisać jako 10.0), zaś zmienna docelowa jest typu *float*. Jak już wiesz, sposób interpretacji pamięci dla wartości obu typów jest różny, wiec liczba 10 musi być zapisana tak, jak wartości typu *float*. Sam kod nie zdradza jednak na pierwszy rzut oka, że taka konwersja zajdzie.\n",
    "W drugim przypadku (linia *l2 = float(10);*) mamy do czynienia z *konwersją jawną*, zwaną też rzutowaniem (w tym przypadku rzutowaniem typu *int* na typ *float*). Ogólnie składnia takiego rzutowania wygląda następująco:\n",
    "```c++\n",
    "typ_docelowy (wartosc_typu_zrodlowego);\n",
    "``` \n",
    "Tu już ewidentnie konwersja jest intencją programisty, który jawnie zawarł ją w kodzie źródłowym programu.\n",
    "Odpowiedzieliśmy więc na pytanie, czy można przypisać liczbę całkowitą do zmiennej rzeczywistej. Jakie są inne możliwości konwersji typów? Jeśli za typ źródłowy przyjmiemy typ *int*, to okaże się on konwertowalny na każdy z pozostałych typów fundamentalnych. Skoro może być konwertowany na typ *float*, to nie ma powodu, by nie dał się konwertować na typ *double*. Możliwa jest również konwersja na typ *char*, a nawet typ *bool*. Prześledźmy na początek konwersje na typy rzeczywiste:"
   ]
  },
  {
   "cell_type": "code",
   "execution_count": null,
   "id": "7a6f435b-7408-430c-9149-753e9d31fb8c",
   "metadata": {},
   "outputs": [],
   "source": [
    "int calkowita1 = 20;\n",
    "float rzeczywista1 = calkowita1;\n",
    "double rzeczywista2 = calkowita1;\n",
    "cout << rzeczywista1 << endl << rzeczywista2 << endl;"
   ]
  },
  {
   "cell_type": "markdown",
   "id": "d66c6b00-1653-4d4e-8c38-90d5065944e7",
   "metadata": {},
   "source": [
    "W obu przypadkach zaszła niejawna konwersja, a liczba całkowita jest przechowywana w zmiennych typów zmiennoprzecinkowych. Oczywiście możliwe jest też zastosowanie konwersji jawnej, ale efekt będzie taki sam. \n",
    "\n",
    "W przypadku typu *char* konwersja jest jeszcze prostsza – w końcu zarówno *int*, jak i *char* są w istocie typami liczbowymi całkowitymi. Jedynym problemem jest różny rozmiar zajmowany przez oba typy. Dlatego konwersja zajdzie prawidłowo tylko dla liczb całkowitych z zakresu 0-255. Dla wyższych wartości dojdzie do utraty danych – przepełniona zostanie pojemność zmiennej typu *char* (podobnie jak w przypadku, który analizowaliśmy przy okazji omawiania typu *int*). Wykonajmy więc poniższą komórkę:"
   ]
  },
  {
   "cell_type": "code",
   "execution_count": null,
   "id": "6c4f6263-6f93-453c-a190-7778dd994b4e",
   "metadata": {},
   "outputs": [],
   "source": [
    "char zn1 = 100, zn2 = 310;\n",
    "cout << zn1 << endl << zn2 << endl;"
   ]
  },
  {
   "cell_type": "markdown",
   "id": "9e829817-ed41-4ff9-8559-90a07c8a21fb",
   "metadata": {},
   "source": [
    "W przypadku konwersji liczby 100 na typ znakowy (przypisanie do zmiennej *zn1*) wynik jest zgodny z tabelą ASCII – wyświetlona zostaje litera ‘d’ o kodzie 100. Natomiast w przypadku liczby 310 wypisana została cyfra ‘6’, której odpowiada kod 54. Jest to wartość będąca wynikiem konwersji liczby 310, wymagającej co najmniej 9 bitów (0001 0011 0110), na wartość typu *char*, zajmującą 8 bitów. Najstarszy bit liczby został utracony, a pozostałe (0011 0110) odpowiadają wartości 54 w systemie dziesiętnym, kodującej cyfrę ‘6’.\n",
    "\n",
    "Konwersja typu *int* na typ *bool* może dać jeden z dwóch rezultatów. Jeśli liczba całkowita jest zerem, wynikiem konwersji będzie logiczny fałsz (0). Dla niezerowej wartości liczby rezultatem jest logiczna prawda (1):"
   ]
  },
  {
   "cell_type": "code",
   "execution_count": null,
   "id": "f202f99e-cbcf-45a4-a38f-08e3ed96fb2e",
   "metadata": {},
   "outputs": [],
   "source": [
    "int calkowita3 = 0, calkowita4 = 20;\n",
    "bool logiczna1 = calkowita3, logiczna2 = calkowita4;\n",
    "cout << logiczna1 << endl << logiczna2 << endl;"
   ]
  },
  {
   "cell_type": "markdown",
   "id": "ce07b62e-c9f7-4987-ba22-f3252f0a19f9",
   "metadata": {},
   "source": [
    "Przyjrzyjmy się teraz możliwościom konwersji typów rzeczywistych *float* i *double*. Konwersja między obydwoma typami jest oczywiście możliwa. W przypadku konwersji *float* na *double* jest ona bezstratna – każdą liczbę rzczywistą możliwą do przechowania w 4-bajtowej zmiennej typu *float* można tym bardziej przechować w 8-bajtowej zmiennej typu *double*. Jednak w sytuacji odwrotnej należy liczyć się z możliwością utraty danych – wartość typu *double* może nie zmieścić się w zmiennej typu *float*. Poniższa komórka zawiera przykłady konwersji niejawnej między typami rzeczywistymi. Przy okazji zapoznasz się z możliwością zapisu wartości rzeczywistych w notacji wykładniczej (naukowej), np. zapis 254e-5 oznacza $254\\cdot10^{-5} = 0.00254$:"
   ]
  },
  {
   "cell_type": "code",
   "execution_count": null,
   "id": "61621f6b-9493-4722-b52c-2451095f6830",
   "metadata": {},
   "outputs": [],
   "source": [
    "float f1 = 254e-5;\n",
    "double d1 = f1;\n",
    "cout << \"Wartosc zrodlowa typu float: \" << f1 << endl << \"Wynik konwersji na typ double: \" << d1 << endl;\n",
    "double d2 = 4845641515464e-3;\n",
    "float f2 = d2;\n",
    "cout << \"Wartosc zrodlowa typu double: \" << fixed << d2 << endl << \"Wynik konwersji na typ float: \" << f2 << endl;"
   ]
  },
  {
   "cell_type": "markdown",
   "id": "f8ee4cd4-6513-494d-bf0b-6d8458af75e8",
   "metadata": {},
   "source": [
    "W przypadku konwersji z typu *float* na *double* przykładowa liczba nie wymaga dużej ilości pamięci – nawet typ *float* jest wystarczający. W przypadku konwersji z *double* na *float* liczbę dobrano tak, aby przepełniła pojemność typu *float* - zauważ, że wynik konwersji odbiega od oryginalnej wartość, którą wiernie odwzorowywał typ *double*. Dla lepszej czytelności wyniku w wypisaniu drugiej liczby użyto manipulatora *fixed* wymuszającego wypisanie liczby w notacji dziesiętnej. Domyślnie tak duże wartości wypisywane są w notacji wykładniczej, która utrudniałaby porównanie wartości przed i po konwersji. Więcej o manipulatorach wydruku dowiesz się w kolejnym ćwiczeniu.\n",
    "\n",
    "Przeanalizowaliśmy możliwości konwersji pomiędzy typami rzeczywistymi. Natomiast co z konwersją na inne typy? W przypadku konwersji na typ *int* zawsze będzie się ona wiązała z utratą danych. Jeśli wykonasz poniższą komórkę:"
   ]
  },
  {
   "cell_type": "code",
   "execution_count": null,
   "id": "f39a8919-4ce9-47da-9e28-4ce8e99eec70",
   "metadata": {},
   "outputs": [],
   "source": [
    "float rzeczywista3 = 12.35;\n",
    "int calkowita5 = rzeczywista3;\n",
    "cout << calkowita5 << endl;"
   ]
  },
  {
   "cell_type": "markdown",
   "id": "0824f0af-3aab-4ce5-856b-eb5dbd07bf69",
   "metadata": {},
   "source": [
    "zauważysz, że liczba została tak jakby zaokrąglona w dół do części całkowitej. Nie jest to jednak prawda, co obrazuje kolejna komórka:"
   ]
  },
  {
   "cell_type": "code",
   "execution_count": null,
   "id": "8cc624cd-cbcd-4bfb-ae50-ebbde8e98e7f",
   "metadata": {},
   "outputs": [],
   "source": [
    "rzeczywista3 = 12.85;\n",
    "calkowita5 = rzeczywista3;\n",
    "cout << calkowita5 << endl;"
   ]
  },
  {
   "cell_type": "markdown",
   "id": "cfd4a60e-9a42-419e-ad9f-2ad1bf7be657",
   "metadata": {},
   "source": [
    "Gdyby wynikiem konwersji było zaokrąglenie, w tym przypadku rezultatem powinna być liczba 13, a nie 12. Przy konwersji z typu rzeczywistego na typ całkowity zachodzi więc nie zaokrąglenie liczby do części całkowitej, a zupełna utrata części ułamkowej. Zatem takie przypisanie jest możliwe, ale wiąże się z utratą danych.\n",
    "\n",
    "W przypadku konwersji na typ *char* sytuacja jest podobna, przy czym należy pamiętać dodatkowo o znacznie mniejszej pojemności typu znakowego. Dokonując poniższej konwersji:"
   ]
  },
  {
   "cell_type": "code",
   "execution_count": null,
   "id": "2cba1708-525c-474d-945e-22a8e36ee83e",
   "metadata": {},
   "outputs": [],
   "source": [
    "rzeczywista3 = 65.954;\n",
    "char znak1 = rzeczywista3;\n",
    "cout << znak1 << endl;"
   ]
  },
  {
   "cell_type": "markdown",
   "id": "55cc793c-e17b-4de0-9b54-16a7861925f1",
   "metadata": {},
   "source": [
    "utraciliśmy rozwinięcie dziesiętne. Część całkowita wynosi 65, co stanowi kod wyświetlonego znaku ‘A’.\n",
    "\n",
    "Reguły konwersji typu *float* lub *double* na typ *bool* są podobne, jak w przypadku konwersji z typu *int*. Wartość 0.0 daje logiczny fałsz, natomiast jakakolwiek niezerowa liczba rzeczywista daje prawdę:"
   ]
  },
  {
   "cell_type": "code",
   "execution_count": null,
   "id": "4087f49d-5e68-415f-acda-13c4bac8112b",
   "metadata": {},
   "outputs": [],
   "source": [
    "float rzeczywista4 = 0.0;\n",
    "bool logiczna3 = rzeczywista4;\n",
    "float rzeczywista5 = -0.05;\n",
    "bool logiczna4 = rzeczywista5;\n",
    "cout << logiczna3 << endl << logiczna4 << endl;"
   ]
  },
  {
   "cell_type": "markdown",
   "id": "4fce6093-bec2-4ef2-ade4-7d864fc7e1c2",
   "metadata": {},
   "source": [
    "Kolejnym możliwym przypadkiem jest przyjęcie *char* jako typu źródłowego. Skoro zarówno *char*, jak i *int* są tak naprawdę liczbami, a przy tym pojemność *int* jest większa, konwersja z *char* na *int* odbędzie się bezstratnie:"
   ]
  },
  {
   "cell_type": "code",
   "execution_count": null,
   "id": "0982319f-c897-45db-b65b-f092d48cf48b",
   "metadata": {},
   "outputs": [],
   "source": [
    "char znak2 = 'r';\n",
    "int calkowita6 = znak2;\n",
    "cout << calkowita6 << endl;"
   ]
  },
  {
   "cell_type": "markdown",
   "id": "fcc8f1b1-1e0d-437c-a09d-7026678346f6",
   "metadata": {},
   "source": [
    "Natomiast sama wartość nie będzie już interpretowana jako kod znaku w tabeli ASCII, a jako zwykła liczba całkowita. Jest to wygodna metoda sprawdzenia kodu liczbowego danego znaku, czego można dokonać również konwersją jawną:"
   ]
  },
  {
   "cell_type": "code",
   "execution_count": null,
   "id": "abd8467d-890a-4fa4-84c6-6b601093b0a5",
   "metadata": {},
   "outputs": [],
   "source": [
    "cout << int('s') << endl;"
   ]
  },
  {
   "cell_type": "markdown",
   "id": "790a7790-6fa9-462a-b644-0e404eefe7c2",
   "metadata": {},
   "source": [
    "Skoro typ *char* jest kowertowalny na typ *int*, to jest również konwertowalny na typy rzeczywiste *float* i *double* – liczbę całkowitą można przecież przechować w zmiennej typu rzeczywistego:"
   ]
  },
  {
   "cell_type": "code",
   "execution_count": null,
   "id": "dff67c6a-41b9-4e17-9a1e-ccd231debbb6",
   "metadata": {},
   "outputs": [],
   "source": [
    "znak2 = 'r';\n",
    "float rzeczywista6 = znak2;\n",
    "cout << rzeczywista6 << endl;"
   ]
  },
  {
   "cell_type": "markdown",
   "id": "0de43f30-9d92-45c1-94ab-1e538855007a",
   "metadata": {},
   "source": [
    "Tu również konwersja zachodzi bezstratnie. W przypadku konwersji *char* na typ *bool* reguły znów są podobne, jak przy konwersji *int* -> *bool*. Tylko znak o zerowym kodzie ASCII (znak pusty, tzw. NULL, uzyskiwany kodem sterującym ‘\\0’) daje logiczny fałsz. Każdy inny znak prowadzi do uzyskania logicznej prawdy:"
   ]
  },
  {
   "cell_type": "code",
   "execution_count": null,
   "id": "795d51a8-6720-4458-8128-81ae1a9ed7cf",
   "metadata": {},
   "outputs": [],
   "source": [
    "char znak3 = '\\0';\n",
    "char znak4 = '4';\n",
    "bool logiczna5 = znak3;\n",
    "bool logiczna6 = znak4;\n",
    "cout << logiczna5 << endl << logiczna6 << endl;"
   ]
  },
  {
   "cell_type": "markdown",
   "id": "6623b5ec-04d5-4d86-a266-a575af03cb21",
   "metadata": {},
   "source": [
    "Ostatnim wariantem jest przyjęcie wartości typu *bool* jako wartości źródłowej. Pozostałe 4 typy są w istocie liczbami, więc reguły są stosunkowo proste. Wartość *false* odpowiada liczbowej wartości zero (całkowitej 0 lub rzeczywistej 0.0), co w przypadku typu *char* daje kod liczbowy 0 odpowiadający znakowi NULL w tablicy ASCII. Wartość *true* w konwersji na inne typy zawsze odpowiada wartości 1. Dla typu *char* wartość ta odpowiada w tabeli ASCII znakowi SOH (ang. *Start of Heading* – początek nagłówka):"
   ]
  },
  {
   "cell_type": "code",
   "execution_count": null,
   "id": "655a1418-5308-4267-aa3b-2f209f281067",
   "metadata": {},
   "outputs": [],
   "source": [
    "cout << int(false) << ',' << float(false) << ',' << char(false) << endl;\n",
    "cout << int(true) << ',' << float(true) << ',' << char(true) << endl;"
   ]
  },
  {
   "cell_type": "markdown",
   "id": "c0296101-4b40-4769-bff5-2684e6e31207",
   "metadata": {},
   "source": [
    "Wykonując powyższą komórkę zauważyłeś, że dla *false* zarówno konwersja na typ *int*, jak i *float* daje 0, natomiast *true* daje 1. Wyniki konwersji dla *char* nie są wyświetlane, ponieważ zarówno NULL jak i SOH nie są znakami graficznymi – są to białe znaki.\n",
    "\n",
    "Podsumowując, możliwa jest konwersja między wszystkimi typami fundamentalnymi. Jednak nie zawsze ma ona sens, gdyż w niektórych przypadkach może się wiązać z utratą istotnych danych. Poniższa tabela podsumowuje możliwości konwersji pomiędzy typami fundamentalnymi: b – konwersja bezstratna, m – możliwa utrata danych (w zależności od konwertowanej wartości), s – konwersja stratna. Zauważ, że konwersja na typ *bool* jest zawsze konwersją stratną – tracona jest informacja o oryginalnej wartości.\n",
    "\n",
    "| Typ źródłowy | int | float | double | char | bool |\n",
    "|-----|------|-----|------|-----|------|\n",
    "| **Typ docelowy** |  |  |  |  |  |\n",
    "|  **int**  | - |  m |  m  |  b | b |\n",
    "|  **float**  |  b | - | m | b | b |\n",
    "|  **double**  |  b |  b  | - |  b | b |\n",
    "|  **char** | m |  m  | m | - |  b |\n",
    "|  **bool**  | s |  s  |  s   | s | - |"
   ]
  },
  {
   "cell_type": "markdown",
   "id": "263d295b-9f94-4091-89f8-571f6dab4319",
   "metadata": {},
   "source": [
    "## Typy zmodyfikowane\n",
    "\n",
    "Ostatnim zagadnieniem poruszonym w tym ćwiczeniu są typu zmodyfikowane. Są rozszerzeniem zestawu typów fundamentalnych, pozwalającym dostosować niektóre z nich do specyficznych zastosowań.\n",
    "\n",
    "### Typ unsigned\n",
    "\n",
    "Jak już wiesz, w zmiennej typu *int* można przechowywać liczby całkowite dodatnie i ujemne mieszczące się w zakresie określonym pojemnością typu. Niekiedy jednak występują sytuacje, gdy nie bierzemy pod uwagę liczb ujemnych. Wtedy definicję zmiennej typu *int* można poprzedzić słowem *unsigned*. Rozmiar tak zdefiniowanej zmiennej wciąż będzie wynosił 4 B, natomiast wszystkie 32 bity będą wyrażały wartość liczbową w formie ciągu binarnego – najstarszy bit nie będzie kodował znaku liczby. Wobec tego zakres możliwych do przechowania wartości przesunie się z -2 147 483 648 do 2 147 483 647 na 0 do 4 294 967 295. Zauważysz to w poniższym przykładzie:"
   ]
  },
  {
   "cell_type": "code",
   "execution_count": null,
   "id": "ed1b8863-428b-4eab-b42b-9c44da6fe74a",
   "metadata": {},
   "outputs": [],
   "source": [
    "int duza_liczba = 4294967295;\n",
    "unsigned int duza_liczba1 = 4294967295;\n",
    "cout << duza_liczba << endl << duza_liczba1 << endl;\n",
    "cout << \"Rozmiar unsigned int: \" << sizeof(unsigned int) << endl;"
   ]
  },
  {
   "cell_type": "markdown",
   "id": "114b1192-05ef-4937-a3bb-dc0f7d529fe9",
   "metadata": {},
   "source": [
    "Dla pierwszej zmiennej, zdefiniowanej jako *int* wypisana wartość jest niepoprawna, co wyjaśnialiśmy już przy omawianiu typu *int*. W przypadku drugiej zmiennej wartość jest już przechowywana prawidło. Natomiast zwrócony przez operator *sizeof()* rozmiar zmiennej typu *unsigned int* wciąż wynosi 4 B. Modyfikator *unsigned* nie zmienia więc pojemności zmiennej, a jedynie sposób odczytu przydzielonej dla niej pamięci. Istnieje również modyfikator *signed*, wymuszający uwzględnianie znaku liczby, jednak definicja zmiennej typu *int* domyślnie daje typ uwzględniający znak *signed int*. Modyfikatorów *signed* i *unsigned* nie można używać dla typów rzeczywistych *float* i *double*."
   ]
  },
  {
   "cell_type": "markdown",
   "id": "9e821390-6631-49c2-a8c6-b655d197c2d8",
   "metadata": {},
   "source": [
    "### Typy o zmodyfikowanej pojemności\n",
    "\n",
    "W C++ istnieje również zestaw modyfikatorów, które zmieniają pojemność niektórych typów podstawowych poprzez zmianę rozmiaru przydzielanej im pamięci. Modyfikator ***short*** ma zastosowanie tylko dla typu *int*. Zmienia on rozmiar zmiennej ze standardowych 4 B na 2 B, czyli dostępne jest 16 bitów. Przekłada się to na $2^{16} = 65 \\;536$ możliwych do przechowania wartości."
   ]
  },
  {
   "cell_type": "code",
   "execution_count": null,
   "id": "91001b79-963e-4e3b-af28-84fb76542a11",
   "metadata": {},
   "outputs": [],
   "source": [
    "short int x1 = 20000;\n",
    "short int x2 = 65535;\n",
    "cout << x1 << endl << x2 << endl;\n",
    "cout << \"Rozmiar short int: \" << sizeof(short int) << endl;"
   ]
  },
  {
   "cell_type": "markdown",
   "id": "4b1624b2-3828-462e-92c7-efd113fe10ca",
   "metadata": {},
   "source": [
    "Zmienna *x1* prawidłowo przechowuje przypisaną wartość, natomiast w przypadku *x2* doszło do przepełnienia – modyfikator *short* nie wymusza pomijania znaku. Wobec tego realny zakres wartości możliwych do przechowania w zmiennej *short int* wynosi od -32 768 do 32 767. Jeśli nie interesują nas liczby ujemne, można wymusić pomijanie znaku modyfikatorem *unsigned*:"
   ]
  },
  {
   "cell_type": "code",
   "execution_count": null,
   "id": "b051b487-e9da-4a8e-8a3e-4dffcf26dc4f",
   "metadata": {},
   "outputs": [],
   "source": [
    "short unsigned int x3 = 65535;\n",
    "cout << x3 << endl;"
   ]
  },
  {
   "cell_type": "markdown",
   "id": "f6346f8b-0f7e-4500-9961-38755ba33b4f",
   "metadata": {},
   "source": [
    "Teraz przypisana liczba jest przechowywana prawidłowo. Jak widzisz modyfikator *unsigned* i modyfikatory pojemności mogą być używane razem, przy czym dopuszczalna jest dowolna kolejność modyfikatorów: możemy zapisać *unsigned short int x3;*, jak i *short unsigned int x3;*. Możesz się też spotkać ze skróconym zapisem *short x3;*, *unsigned x3;*, a nawet *unsigned short x3;*. Zapisy te pomijają nazwę typu fundamentalnego *int*, ale jest on tam obecny domyślnie. Zatem zapis *short x3;* jest równoważny zapisowi *short int x3;*. Jest to prawdziwe również dla pozostałych modyfikatorów pojemności.\n",
    "\n",
    "Drugim z dostępnych modyfikatorów pojemności jest *long*, który może być stosowany dla typów *int* i *double*. Jednak jeśli wykonasz poniższą komórkę zauważysz, że dla typu *int* zastosowanie tego modyfikatora nie zmienia rozmiaru:"
   ]
  },
  {
   "cell_type": "code",
   "execution_count": null,
   "id": "5e06c69a-8dc7-4fde-ad58-cddd181df1eb",
   "metadata": {},
   "outputs": [],
   "source": [
    "long int x4 = 246;\n",
    "cout << \"Rozmiar long int: \" << sizeof(long int) << endl;"
   ]
  },
  {
   "cell_type": "markdown",
   "id": "6218b0e4-6307-4701-bf37-fa0f4bd24fee",
   "metadata": {},
   "source": [
    "W obecnych implementacjach języka C++ przyjęto,  że zarówno *int* jak i *long int* mają ten sam rozmiar i tę samą pojemność. Standard języka C++ określa jedynie minimalne rozmiary poszczególnych typów, w tym dla typu *int* i *long int* podając jako minimalny rozmiar 32 bity. Jednakże w starszych implementacjach zdarzało się, że typ *int* zajmował 16 bitów. Wtedy typ *long int* faktycznie zwiększał pojemność względem standardowej. Podobnie jak dla modyfikatora *short*, zapis *long int x4;* jest równoważny zapisowi *long x4;*. Można również łączyć modyfikator *long* z modyfikatorem *unsigned*.\n",
    "\n",
    "Dla typu *double*, użycie modyfikatora *long* przynosi już wyraźny efekt:"
   ]
  },
  {
   "cell_type": "code",
   "execution_count": null,
   "id": "fca069a5-77af-4e87-8f9e-4b1a563db137",
   "metadata": {},
   "outputs": [],
   "source": [
    "long double ld1 = 12.65;\n",
    "cout << \"Rozmiar long double: \" << sizeof(long double) << endl;"
   ]
  },
  {
   "cell_type": "markdown",
   "id": "1d10c476-c489-49dd-8a53-409b99424d88",
   "metadata": {},
   "source": [
    "Zajmowany przez zmienną rozmiar pamięci został podwojony i wynosi 16 B. Zatem możliwe jest przechowanie liczb zmiennoprzecinkowych z jeszcze większą precyzją. Definiując zmienną rzeczywistą o zwiększonej precyzji nie można już zapisać *long ld1;* - domyślnie będzie to zmienna typu *long int*. W nazwie typu musi się znaleźć słowo *double* określające, że chodzi nam o powiększony typ rzeczywisty.\n",
    "\n",
    "Ostatnim modyfikatorem pojemności jest *long long*, który ma zastosowanie tylko dla typu *int*. Ponownie zapis *long long x5;* jest równoważny zapisowi *long long int x5;*. Wykonaj poniższą komórkę, aby sprawdzić rozmiar typu *long long int*:\n"
   ]
  },
  {
   "cell_type": "code",
   "execution_count": null,
   "id": "a9a4574f-e252-4556-b621-3940446c955c",
   "metadata": {},
   "outputs": [],
   "source": [
    "long long int x5 = 24357;\n",
    "cout << \"Rozmiar long long int: \" << sizeof(long long int) << endl;"
   ]
  },
  {
   "cell_type": "markdown",
   "id": "6f5f4180-ebf0-4294-95d9-5045404c4d5a",
   "metadata": {},
   "source": [
    "Wynikiem jest 8 B, co przekłada się na 64 bity zajmowane przez wartość tego typu. Znacząco podnosi to pojemność zmiennej, mogącej teraz przechowywać wartości od -9 223 372 036 854 775 808 do 9 223 372 036 854 775 807. Możliwe jest też zdefiniowanie zmiennej *unisgned long long int*, dla której maksymalna przechowywana wartość wyniesie $2^{64}$ = 18 446 744 073 709 551 616 (ponad 18 trylionów).\n",
    "Podsumowując:\n",
    "- modyfikator *short* – tylko dla typu *int*, zmniejsza dwukrotnie rozmiar zmiennej (z 4 B do 2 B);\n",
    "- modyfikator *long* – dla typu *int* i *double*, dla *int* w większości implementacji nie zmienia rozmiaru, dla *double* podwaja rozmiar (z 8 B do 16 B);\n",
    "- modyfikator *long long* – tylko dla typu *int*, podwaja rozmiar zmiennej (z 4 B do 8 B).\n"
   ]
  },
  {
   "cell_type": "markdown",
   "id": "710238eb-d773-4c9b-a620-c024e1941c9b",
   "metadata": {},
   "source": [
    "### Zadanie\n",
    "\n",
    "Poniższy program oblicza wartość silni liczby *n* za pomocą pętli *for* (z zasadą działania pętli zapoznasz się w dalszych ćwiczeniach). Wartość *n* jest wczytywana od użytkownika – po wykonaniu komórki musisz podać liczbę naturalną i wcisnąć ENTER. Sprawdź jego działanie dla kilku liczb mniejszych lub równych 12. Uwaga: przed każdym ponownym uruchomieniem zresetuj kernel, aby uniknąć błędów redefinicji zmiennych."
   ]
  },
  {
   "cell_type": "code",
   "execution_count": null,
   "id": "7c309d7a-38f1-4cf3-8c68-1c7aaa80c859",
   "metadata": {},
   "outputs": [],
   "source": [
    "#include <iostream>\n",
    "using namespace std;\n",
    "\n",
    "int n;\n",
    "int silnia = 1;\n",
    "cout << \"Podaj liczbe naturalna i wcisnij ENTER: \";\n",
    "cin >> n;\n",
    "for (int i=1;i<n+1;i++){\n",
    "    silnia = silnia*i;\n",
    "}\n",
    "cout << \"Silnia liczby \" << n << \" wynosi: \" << silnia << endl;"
   ]
  },
  {
   "cell_type": "markdown",
   "id": "ce8bd13a-eac8-47ce-879a-559dbe333e4d",
   "metadata": {},
   "source": [
    "Wyniki zapewne są poprawne. Sprawdź teraz działanie programu dla liczby 13. Rezultat zapewne jest nieprawidłowy. Wiedząc, że obliczona wartość silni jest przechowywana w zmiennej *silnia*, wykorzystaj odpowiedni modyfikator typu, aby silnia była obliczana prawidłowo również dla większych liczb."
   ]
  },
  {
   "cell_type": "markdown",
   "id": "663dfa1a-06e8-4b83-b2a7-ac4c9737a205",
   "metadata": {},
   "source": [
    "<details>\n",
    "    <summary>Odpowiedź</summary>\n",
    "\n",
    "Problem tkwi w przepełnieniu pojemności zmiennej typu *int*. Aby zwiększyć pojemność, zmień typ zmiennej *silnia* z *int* na *long long int*. Oczywiście rozwiązanie to pozwala zwiększyć poprawność w stosunkowo niewielkim zakresie liczb – silnia rośnie na tyle szybko, że już dla liczby 21 wartość silni przepełnia nawet typ *long long int*.\n",
    "        \n",
    "</details>"
   ]
  },
  {
   "cell_type": "markdown",
   "id": "4cc6cd26-7841-4a86-849f-0a525f8be689",
   "metadata": {
    "editable": true,
    "slideshow": {
     "slide_type": ""
    },
    "tags": []
   },
   "source": [
    "![logotypy.png](../figures/OMNIS2_logotypy.png)"
   ]
  }
 ],
 "metadata": {
  "kernelspec": {
   "display_name": "C++17",
   "language": "C++17",
   "name": "xcpp17"
  },
  "language_info": {
   "codemirror_mode": "text/x-c++src",
   "file_extension": ".cpp",
   "mimetype": "text/x-c++src",
   "name": "c++",
   "version": "17"
  }
 },
 "nbformat": 4,
 "nbformat_minor": 5
}

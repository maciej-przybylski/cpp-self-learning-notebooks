{
  "metadata": {
    "kernelspec": {
      "name": "xcpp17",
      "display_name": "C++17",
      "language": "cpp"
    },
    "language_info": {
      "codemirror_mode": "text/x-c++src",
      "file_extension": ".cpp",
      "mimetype": "text/x-c++src",
      "name": "C++",
      "version": "17"
    }
  },
  "nbformat_minor": 5,
  "nbformat": 4,
  "cells": [
    {
      "id": "24218d8b-9b9a-4480-be64-bab9d3562cb0",
      "cell_type": "markdown",
      "source": "![OMNIS2_Logo_projektu.png](../figures/OMNIS2_Logo_projektu.png)",
      "metadata": {
        "editable": true,
        "slideshow": {
          "slide_type": ""
        },
        "tags": []
      }
    },
    {
      "id": "32578e4d-0818-420c-899c-e578bf69a922",
      "cell_type": "markdown",
      "source": "# Ćwiczenie 2: Zmienne, stałe, typy danych, konwersja typów",
      "metadata": {
        "editable": true,
        "slideshow": {
          "slide_type": ""
        },
        "tags": []
      }
    },
    {
      "id": "f7f56d10-e417-4aeb-bb11-69f669927714",
      "cell_type": "markdown",
      "source": "## Wprowadzenie\n\nW tym ćwiczeniu zapoznasz się z pojęciem stałej i zmiennej oraz poznasz podstawowe typy danych w języku C++ i sposób ich przechowywania w pamięci operacyjnej. Przedstawione zostaną również możliwości konwersji wartości pomiedzy poszczególnymi typami danych.",
      "metadata": {}
    },
    {
      "id": "9c506939-66da-48b7-904b-9125d7c98f50",
      "cell_type": "markdown",
      "source": "## Przygotowanie notatnika\n\nZ poprzedniego ćwiczenia wiesz już, że właściwy kod programu w C++ musi być poprzedzony dodatkowymi instrukcjami: załączeniem niezbędnych modułów biblioteki standardowej, np. \n```c++\n#include <iostream>\n```\noraz deklaracją globalnej przestrzeni nazw \n```c++\nusing namespace std;\n```\nW środowisku Jupyter każdy notatnik należy traktować jako osobny program, wobec czego owe instrukcje muszą się w nim znaleźć przed komórkami z kodem źródłowoym przykładów i zadań. Dlatego na początku notatnika do każdego ćwiczenia znajdziesz zawierającą je komórkę. Wykonaj poniższą komórkę, aby przygotować niniejszy notatnik do pracy.",
      "metadata": {
        "tags": [],
        "editable": true,
        "slideshow": {
          "slide_type": ""
        }
      }
    },
    {
      "id": "fc634cce-8217-45fd-9820-c15ed3697ab2",
      "cell_type": "code",
      "source": "#include <iostream>\nusing namespace std;",
      "metadata": {
        "trusted": true
      },
      "outputs": [],
      "execution_count": 1
    },
    {
      "id": "4cc6cd26-7841-4a86-849f-0a525f8be689",
      "cell_type": "markdown",
      "source": "![logotypy.png](../figures/OMNIS2_logotypy.png)",
      "metadata": {
        "editable": true,
        "slideshow": {
          "slide_type": ""
        },
        "tags": []
      }
    }
  ]
}
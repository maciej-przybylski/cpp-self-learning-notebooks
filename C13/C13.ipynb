{
 "cells": [
  {
   "cell_type": "markdown",
   "id": "24218d8b-9b9a-4480-be64-bab9d3562cb0",
   "metadata": {
    "editable": true,
    "slideshow": {
     "slide_type": ""
    },
    "tags": []
   },
   "source": [
    "![OMNIS2_Logo_projektu.png](../figures/OMNIS2_Logo_projektu.png)"
   ]
  },
  {
   "cell_type": "markdown",
   "id": "ff437d40-73f5-4438-8675-32f7db369837",
   "metadata": {
    "editable": true,
    "slideshow": {
     "slide_type": ""
    },
    "tags": []
   },
   "source": [
    "# Ćwiczenie 13: Referencje, wskaźniki, tablice dynamiczne jednowymiarowe "
   ]
  },
  {
   "cell_type": "markdown",
   "id": "14b6b15d-eaa5-4574-8763-2683f8024381",
   "metadata": {},
   "source": [
    "## Przygotowanie notatnika"
   ]
  },
  {
   "cell_type": "code",
   "execution_count": null,
   "id": "57ea6742-8f5f-404f-82d1-b6fc092da53f",
   "metadata": {},
   "outputs": [],
   "source": [
    "#include <iostream>\n",
    "using namespace std;"
   ]
  },
  {
   "cell_type": "markdown",
   "id": "32578e4d-0818-420c-899c-e578bf69a922",
   "metadata": {
    "editable": true,
    "slideshow": {
     "slide_type": ""
    },
    "tags": []
   },
   "source": [
    "## Adresy i zmienne wskaźnikowe\n",
    "\n",
    "Nazwy zmiennych których używamy w kodzie źródłowym mają ułatwić pracę twórcy programu. Natomiast komputer posługuje się adresami pamięci. \n",
    "\n",
    "Adres zmiennej możemy uzyskać za pomocą operatora `&` postawionego przed nazwą tej zmiennej (ale po tym jak już została zadeklarowana):"
   ]
  },
  {
   "cell_type": "code",
   "execution_count": null,
   "id": "326ccb25-c13c-4f4e-a2f0-e5c0fc1bbaeb",
   "metadata": {},
   "outputs": [],
   "source": [
    "int a = 4;\n",
    "// wypisanie wartości zmiennej\n",
    "cout << a << endl; \n",
    "// wypisanie adresu zmiennej\n",
    "cout << &a; "
   ]
  },
  {
   "cell_type": "markdown",
   "id": "f53b21a1-2597-4f63-8db7-98023bf68c88",
   "metadata": {},
   "source": [
    "Jak można zauważyć po uruchomieniu komórki powyżej, adres jest liczbą całkowitą w zapisie szesnastkowym. \n",
    "\n",
    "Każda zmienna będzie miała inny adres, **sprawdź to:**"
   ]
  },
  {
   "cell_type": "code",
   "execution_count": null,
   "id": "65be60a7-f341-4d79-95e0-33da5190683b",
   "metadata": {},
   "outputs": [],
   "source": [
    "// Zadeklaruj kolejną zmienną, np. typu double, i wypisz jej adres\n"
   ]
  },
  {
   "cell_type": "markdown",
   "id": "2a4e64a3-dcb5-4c62-b68d-492edcc760d7",
   "metadata": {},
   "source": [
    "## Zmienne wskaźnikowe\n",
    "\n",
    "Adresy pamięci to liczby i można je przechowywać oraz kopiować tak jak inne dane. \n",
    "Do przechowywania adresów służą zmienne wskaźnikowe, których deklaracja wygląda jak poniżej:"
   ]
  },
  {
   "cell_type": "code",
   "execution_count": null,
   "id": "5800e64b-6653-473e-9195-260f4c943e97",
   "metadata": {},
   "outputs": [],
   "source": [
    "int b = 8;\n",
    "int *wb;"
   ]
  },
  {
   "cell_type": "markdown",
   "id": "406dd96c-ff95-4691-a92a-eac6eb0ac566",
   "metadata": {},
   "source": [
    "Przy deklaracji zmiennej wskaźnikowej oprócz typu pojawia się znak `*` przed nazwą tej zmiennej. "
   ]
  },
  {
   "cell_type": "markdown",
   "id": "51137e46-1cd1-47f0-bb3a-b0f38a97e472",
   "metadata": {},
   "source": [
    "Zmienna `wb` nie ma jeszcze ustawionej wartości. \n",
    "Teraz będziemy chcieli wpisać do niej adres zmiennej `b`. \n",
    "Odwołanie się do zmiennej wskaźnikowej odbywa się bez znaku '*' (jeżeli operujemy na adresach)."
   ]
  },
  {
   "cell_type": "code",
   "execution_count": null,
   "id": "50d0cc40-7563-469f-b5ff-b3a4f1a29fd0",
   "metadata": {},
   "outputs": [],
   "source": [
    "wb = &b;"
   ]
  },
  {
   "cell_type": "markdown",
   "id": "f2998452-ab43-4762-9c88-4c2d8f50a91b",
   "metadata": {},
   "source": [
    "Co się pojawi jeżeli wypiszemy na konsolę zwartość zmiennej `wb`? **Sprawdź:**"
   ]
  },
  {
   "cell_type": "code",
   "execution_count": null,
   "id": "c116f379-24ca-4fe1-80b5-467aa95f2dfc",
   "metadata": {},
   "outputs": [],
   "source": [
    "cout << b << endl;\n",
    "cout << wb << endl;\n",
    "cout << &b << endl;"
   ]
  },
  {
   "cell_type": "markdown",
   "id": "fe05fb23-c77c-459b-b971-ccf6c3fc0b3e",
   "metadata": {},
   "source": [
    "Jeżeli mamy adres zmiennej to możemy uzyskać dostęp do tego obszaru pamięci i odczytać lub zmienić dane. \n",
    "W tym celu użyjemy tzw. operatora wyłuskania w postaci znaku '*', który, **uwaga**, stosujemy tylko do zmiennych wskaźnikowych, po ich wcześniejszym zadeklraowaniu.\n",
    "\n",
    "**Porównaj wynik wypisania:**"
   ]
  },
  {
   "cell_type": "code",
   "execution_count": null,
   "id": "0c8abb63-08a4-462a-8d47-a164ab03b6f3",
   "metadata": {
    "editable": true,
    "slideshow": {
     "slide_type": ""
    },
    "tags": []
   },
   "outputs": [],
   "source": [
    "cout << wb << endl;\n",
    "cout << *wb << endl;"
   ]
  },
  {
   "cell_type": "markdown",
   "id": "47c63912-e6ba-46ff-9eac-5eadf782f5ed",
   "metadata": {},
   "source": [
    "A teraz wykorzystamy operator wyłuskania do zmiany danych."
   ]
  },
  {
   "cell_type": "code",
   "execution_count": null,
   "id": "7da93ae6-f9c1-458f-a4df-7b5d845459f4",
   "metadata": {},
   "outputs": [],
   "source": [
    "*wb = 10;\n",
    "cout << *wb;"
   ]
  },
  {
   "cell_type": "markdown",
   "id": "85e93c55-bee3-4e13-8c0e-9238804c6dd7",
   "metadata": {},
   "source": [
    "Jaka wartość jest teraz w zmiennej `b`? \n",
    "`8` czy `10`? \n",
    "\n",
    "**Sprawdź:**"
   ]
  },
  {
   "cell_type": "code",
   "execution_count": null,
   "id": "343be282-679c-47be-be0f-869a01ba3aab",
   "metadata": {},
   "outputs": [],
   "source": [
    "cout << b << endl;"
   ]
  },
  {
   "cell_type": "markdown",
   "id": "ff648d3e-3552-4303-9007-0a08205a3251",
   "metadata": {},
   "source": [
    "**Zadanie:** \n",
    "\n",
    "1. Zadeklaruj zmienną `x` typu `char` i wpisz do niej znak `'A'`.\n",
    "2. Zadeklaruj zmienną `y` typu wskaźnik do `char` i wpisz do niej adres zmiennej `x`.\n",
    "3. Wypisz zawartość zmiennej `y`.\n",
    "4. Wypisz zawartość zmiennej `x` oraz zawartość pamięci pod adresem przechowywanym w zmiennej `y`. "
   ]
  },
  {
   "cell_type": "code",
   "execution_count": null,
   "id": "983315e6-5e22-472d-b57c-411c636d65bb",
   "metadata": {},
   "outputs": [],
   "source": [
    "// Tutaj rozwiąż i przetestuj zadanie"
   ]
  },
  {
   "cell_type": "markdown",
   "id": "7ab9bf32-13a2-4b25-a0f8-d72916006f34",
   "metadata": {},
   "source": [
    "5. Korzystając z adresu w zmiennej wskaźnikowej `y` oraz operatora wyłuskania `*` wpisz do pamięci znak `'B'`.\n",
    "6. Wypisz zawartość zmiennej `x`."
   ]
  },
  {
   "cell_type": "code",
   "execution_count": null,
   "id": "c7e4ea6e-2f14-47a2-bbeb-4d3188c9884b",
   "metadata": {},
   "outputs": [],
   "source": [
    "// Tutaj rozwiąż i przetestuj zadanie"
   ]
  },
  {
   "cell_type": "markdown",
   "id": "e0ff5186-7f27-4b59-b42a-6e36eaad6779",
   "metadata": {},
   "source": [
    "## Referencja\n",
    "\n",
    "Zmienne wskaźnikowe z powyższych przykładów mogą się przydać na przykład w takiej sytuacji:"
   ]
  },
  {
   "cell_type": "code",
   "execution_count": null,
   "id": "d77bab4f-678d-423b-95d5-947bf6c88b94",
   "metadata": {},
   "outputs": [],
   "source": [
    "string zmienna_o_dlugiej_nazwie_zawierajaca_tekst = \"Jakis tekst.\";\n",
    "string *tekst = &zmienna_o_dlugiej_nazwie_zawierajaca_tekst;\n",
    "\n",
    "cout << zmienna_o_dlugiej_nazwie_zawierajaca_tekst << endl;\n",
    "cout << *tekst << endl;\n",
    "\n",
    "*tekst = \"Nowy tekst.\";\n",
    "\n",
    "cout << zmienna_o_dlugiej_nazwie_zawierajaca_tekst << endl;\n",
    "cout << *tekst << endl;"
   ]
  },
  {
   "cell_type": "markdown",
   "id": "39407a39-4f86-46d3-8a04-1e806e0c6b76",
   "metadata": {},
   "source": [
    "... jednak musimy ciągle pamiętać o znaku `*`, jeżeli chcemy operować na danych a nie na adresach, a można prościej.\n",
    "\n",
    "Znak `&`, oprócz uzyskania adresu, pełni jeszcze jedną rolę w języku C++: `&` użyty przy deklaracji tuż przed nazwą symbolu oznacza, że symbol ten jest **referencją** do jakiejś istniejącej zmiennej. Mechanizm ten pozwala uprościć przykład z komórki powyżej. \n",
    "\n",
    "**Uwaga:** porównaj kod z komórki poniżej z poprzednią i prześledź wszystkie wystąpienia i pozycje znaków `*` i `&`. **O ile zmniejszyła się liczba znaków specjalnych `*` i `&` w kodzie?**"
   ]
  },
  {
   "cell_type": "code",
   "execution_count": null,
   "id": "105d5eb5-41e6-4efd-ba81-3c5bda477c00",
   "metadata": {},
   "outputs": [],
   "source": [
    "string zmienna_o_dlugiej_nazwie_zawierajaca_tekst = \"Jakis tekst.\";\n",
    "string &tekst = zmienna_o_dlugiej_nazwie_zawierajaca_tekst;\n",
    "\n",
    "cout << zmienna_o_dlugiej_nazwie_zawierajaca_tekst << endl;\n",
    "cout << tekst << endl;\n",
    "\n",
    "tekst = \"Nowy tekst.\";\n",
    "\n",
    "cout << zmienna_o_dlugiej_nazwie_zawierajaca_tekst << endl;\n",
    "cout << tekst << endl;"
   ]
  },
  {
   "cell_type": "markdown",
   "id": "a1c60e08-5409-4f94-a8ed-770d65e99856",
   "metadata": {},
   "source": [
    "**Zadanie:**\n",
    "1. Zadeklaruj zmienną `imie_psa` typu `string`.\n",
    "2. Zdefiniuj referencję `im` do zmiennej `imie_psa`.\n",
    "3. Wczytaj z konsoli `cin` imię do `im`.\n",
    "4. Wypisz na konsolę zawartość zmiennej `imie_psa`."
   ]
  },
  {
   "cell_type": "code",
   "execution_count": null,
   "id": "893a0170-7d46-46e3-97ce-993c75534e07",
   "metadata": {},
   "outputs": [],
   "source": [
    "// Tutaj rozwiąż i przetestuj zadanie"
   ]
  },
  {
   "cell_type": "markdown",
   "id": "701a2d68-b780-46d5-a47c-cae8976154bb",
   "metadata": {},
   "source": [
    "### Referencje w argumentach funkcji\n",
    "\n",
    "Referencje powszechnie stosuje się w argumentach funkcji w sytucjach kiedy wynik z wnętrza funkcji chcemy wprowadzić do zmiennych istniejących poza nią, a mechanizm zwracania wartości przez `return` nie może zostać użyty. \n",
    "\n",
    "**Przykład:** napisać funkcję wczytującą z konsoli dwie liczby do zmiennych `a` i `b` istniejących poza tą funkcją. "
   ]
  },
  {
   "cell_type": "code",
   "execution_count": null,
   "id": "f48e49b3-4bc2-4c7d-b8fc-840177e23c9d",
   "metadata": {},
   "outputs": [],
   "source": [
    "int wczytaj1()\n",
    "{\n",
    "    int a,b;\n",
    "    cin >> a >> b;\n",
    "    return a,b; // UWAGA! Poza tym przykładem, nigdy tak nie robimy!\n",
    "}"
   ]
  },
  {
   "cell_type": "code",
   "execution_count": null,
   "id": "83b9f878-2daa-47ab-8473-c25e84c0eba7",
   "metadata": {},
   "outputs": [],
   "source": [
    "int a = 0, b = 0;\n",
    "a,b = wczytaj1(); // UWAGA! Poza tym przykładem, nigdy tak nie robimy!\n",
    "cout << a << \" \" << b;"
   ]
  },
  {
   "cell_type": "markdown",
   "id": "7003a1da-d6aa-49bb-b63d-78591f3bab57",
   "metadata": {},
   "source": [
    "Kod powyżej jest składniowo poprawny, ale wynik jest niepoprawny. **Funkcje w C++ mogą zwracać tylko jedną wartość!**"
   ]
  },
  {
   "cell_type": "markdown",
   "id": "03fd164c-53e1-48d4-bb10-403dd5127fc5",
   "metadata": {},
   "source": [
    "Spróbujmy jeszcze raz:"
   ]
  },
  {
   "cell_type": "code",
   "execution_count": null,
   "id": "a7823313-9e57-4c6f-9e81-05d9852857d7",
   "metadata": {},
   "outputs": [],
   "source": [
    "void wczytaj2(int a, int b) // a i b są zmiennymi lokalnymi tej funkcji\n",
    "{\n",
    "    cin >> a >> b;\n",
    "}"
   ]
  },
  {
   "cell_type": "code",
   "execution_count": null,
   "id": "aa629099-8606-4767-95b9-c4787564167b",
   "metadata": {
    "jp-MarkdownHeadingCollapsed": true
   },
   "outputs": [],
   "source": [
    "int a = 0, b = 0;\n",
    "wczytaj2(a,b); \n",
    "cout << a << \" \" << b;"
   ]
  },
  {
   "cell_type": "markdown",
   "id": "800b8adb-3ec6-479b-b2c8-94bcdfb857a6",
   "metadata": {},
   "source": [
    "Powyższe rozwiązanie również nie działa. Argumenty `a` i `b`, choć nazywają się tak samo jak zmienne poza funkcją, są innymi zmiennymi, lokalnymi dla funkcji `wczytaj` i znikają z pamięci po jej zakończeniu. \n",
    "\n",
    "**Poprawne rozwiązanie wygląda tak:**"
   ]
  },
  {
   "cell_type": "code",
   "execution_count": null,
   "id": "8f5c9415-e476-47a8-8ffa-0890986ba79b",
   "metadata": {},
   "outputs": [],
   "source": [
    "void wczytaj3(int &a, int &b) // a i b są referencjami\n",
    "{\n",
    "    cin >> a >> b;\n",
    "}"
   ]
  },
  {
   "cell_type": "code",
   "execution_count": null,
   "id": "a202547d-9c5e-4eea-9644-6e13955d2f37",
   "metadata": {},
   "outputs": [],
   "source": [
    "int a = 0, b = 0;\n",
    "wczytaj3(a,b); \n",
    "cout << a << \" \" << b;"
   ]
  },
  {
   "cell_type": "markdown",
   "id": "e8448db6-1b40-4e76-bef9-725f2b748aef",
   "metadata": {},
   "source": [
    "Referencje w argumentach funkcji mogą się nazywać inaczej niż zmienne przekazywane:"
   ]
  },
  {
   "cell_type": "code",
   "execution_count": null,
   "id": "ed00ee7b-b52e-4857-8c0e-586adf4f1b79",
   "metadata": {},
   "outputs": [],
   "source": [
    "void wczytaj4(int &x, int &y) // x i y są referencjami\n",
    "{\n",
    "    cin >> x >> y;\n",
    "}"
   ]
  },
  {
   "cell_type": "code",
   "execution_count": null,
   "id": "de9327db-e105-4ee5-b4fe-be78c3930d32",
   "metadata": {},
   "outputs": [],
   "source": [
    "int a = 0, b = 0;\n",
    "wczytaj4(a,b); \n",
    "cout << a << \" \" << b;"
   ]
  },
  {
   "cell_type": "markdown",
   "id": "1bbffb6e-f0a8-41f8-b1ce-8ec21e500b2b",
   "metadata": {},
   "source": [
    "**Mechanizmy zwracania wartości przez `return` i referencje można łączyć.**\n",
    "\n",
    "**Przykład:** funkcja sumująca dwie liczby podane jako argumenty i zwracająca wartość logiczną określający czy wynik jest większy od zera oraz zwracającą sam wynik przez referencję."
   ]
  },
  {
   "cell_type": "code",
   "execution_count": null,
   "id": "24f1bb4d-1892-4e54-9323-71d0476665e1",
   "metadata": {},
   "outputs": [],
   "source": [
    "bool obliczISprawdz(int a, int b, int &c)\n",
    "{\n",
    "    c = a + b;\n",
    "    return c >= 0;\n",
    "}"
   ]
  },
  {
   "cell_type": "markdown",
   "id": "0950bc60-4884-4b84-bc83-33d270b51487",
   "metadata": {},
   "source": [
    "Przetestuj poniższy kod dla różnych wartości `a` i `b`:"
   ]
  },
  {
   "cell_type": "code",
   "execution_count": null,
   "id": "c6a09f3c-3160-4b29-bf81-56bd70566cd8",
   "metadata": {},
   "outputs": [],
   "source": [
    "int a,b,c;\n",
    "cin >> a >> b;\n",
    "if(obliczISprawdz(a,b,c))\n",
    "    cout << c;\n",
    "else\n",
    "    cout << \"Liczba ujemna!\";"
   ]
  },
  {
   "cell_type": "markdown",
   "id": "fc69ad08-3d84-4dd7-956a-bdecabc8f090",
   "metadata": {},
   "source": [
    "## Dynamiczna alokacja pamięci - wprowadzenie\n",
    "\n",
    "Wyjaśnienie dlaczego i kiedy należy korzystać z dynamicznej alokacji pamięci można odnaleźć w wykładach. \n",
    "Tutaj ograniczymy się pokazania kilku przykładów i zadań. "
   ]
  },
  {
   "cell_type": "markdown",
   "id": "48b71d23-d91f-46cd-aca5-5d78b6b26bc9",
   "metadata": {},
   "source": [
    "Dynamiczna alokacja pamięci odbywa się za pomocą instrukcji `new`, a dealokacja odbywa się za pomocą instrukcji `delete`. \n",
    "Jeżeli używamy dynamicznej alokacji pamięci to sami decydujemy kiedy pamięć zostanie zaerezorwawane, ale musimy również sami zwolnić pamięć, kiedy dane nie są już używane. \n",
    "\n",
    "**Reguła do zapamiętania:** tyle razy ile wywowłaliśmy `new` tyle razy musimy użyć `delete`."
   ]
  },
  {
   "cell_type": "markdown",
   "id": "6ca06cb5-b530-4e7b-aab7-b9604ed4ffa4",
   "metadata": {},
   "source": [
    "Operator `new` zwraca adres początku obszaru pamięci, który został zajęty. Dlatego do pracy ze zmiennymi dynamicznymi używamy zmiennych wskaźnikowych."
   ]
  },
  {
   "cell_type": "markdown",
   "id": "9c6aefbb-5818-416c-9507-d5981c9b0056",
   "metadata": {},
   "source": [
    "**Przykład:** alokacja pamięci dla pojedynczego elementu typu `double`:"
   ]
  },
  {
   "cell_type": "code",
   "execution_count": null,
   "id": "560de111-6872-4bcc-be39-52542f745835",
   "metadata": {},
   "outputs": [],
   "source": [
    "double *w = new double;\n",
    "*w = 7.6;\n",
    "cout << \"Adres:   \" << w << endl;\n",
    "cout << \"Wartosc: \" <<*w << endl;"
   ]
  },
  {
   "cell_type": "markdown",
   "id": "30846cd9-798f-4cd8-81f4-a6f5fbdd2aec",
   "metadata": {},
   "source": [
    "Po zakończeniu pracy ze zmienną w pamięci dynamicznej, **należy zwolnić pamięć**:"
   ]
  },
  {
   "cell_type": "code",
   "execution_count": null,
   "id": "8565b239-82c1-4bbe-b134-de05b63d1e44",
   "metadata": {},
   "outputs": [],
   "source": [
    "delete w;"
   ]
  },
  {
   "cell_type": "markdown",
   "id": "9a811041-ea38-400a-a516-c5f9f765d9b8",
   "metadata": {},
   "source": [
    "**Uwaga:** została zwolniona pamięć pod adresem takim jaki został zapamiętany w zmiennej `w`, ale zmienna `w` dalej pamięto \"gdzie to było\". "
   ]
  },
  {
   "cell_type": "code",
   "execution_count": null,
   "id": "9ec46827-7dfd-47e8-9c7c-35a7ef68f165",
   "metadata": {},
   "outputs": [],
   "source": [
    "cout << \"Adres:   \" << w << endl;"
   ]
  },
  {
   "cell_type": "markdown",
   "id": "d83d2d4d-615e-4584-863e-ffd5456eddd5",
   "metadata": {},
   "source": [
    "Dlatego po zwolnieniu pamięci dobrze jest wyzerować zmienną wskaźnikową wpisując do niej wartość `nullptr` (dawniej `NULL`) lub po prostu liczbę `0`."
   ]
  },
  {
   "cell_type": "code",
   "execution_count": null,
   "id": "710b66e0-c73c-4f01-a022-795d8cbb35c2",
   "metadata": {},
   "outputs": [],
   "source": [
    "w = nullptr;"
   ]
  },
  {
   "cell_type": "markdown",
   "id": "7615c768-0c11-4d15-ab4b-ef6dddbe13ea",
   "metadata": {},
   "source": [
    "lub"
   ]
  },
  {
   "cell_type": "code",
   "execution_count": null,
   "id": "b4fc61ef-a8d8-4d1d-865a-676877317b5d",
   "metadata": {},
   "outputs": [],
   "source": [
    "w = 0;"
   ]
  },
  {
   "cell_type": "markdown",
   "id": "2b5338c7-812c-48fe-acf6-b088064cf23d",
   "metadata": {},
   "source": [
    "\"Wyzerowanie\" zmiennej wskaźnikowej pozwala na bezpieczną pracę ze zmienną wskaźnikową, bo pozwala sprawdzić czy zmienna zawiera jakiś adres:"
   ]
  },
  {
   "cell_type": "code",
   "execution_count": null,
   "id": "9a0bdf87-4125-4c01-a974-734ad1a2719d",
   "metadata": {},
   "outputs": [],
   "source": [
    "if(w!=nullptr)\n",
    "    cout << *w << endl;\n",
    "else\n",
    "    cout << \"NULL\" << endl;"
   ]
  },
  {
   "cell_type": "markdown",
   "id": "9c531e32-1734-4ce4-94fd-5352610f2022",
   "metadata": {},
   "source": [
    "Próba dostępu do uprzednio zwolnionego obszaru pamięci spowoduje błąd. \n",
    "\n",
    "**Uwaga:** poniższy kod (ostatnia instrukcja) spowoduje błąd, co najmniej wypisanie błędnej wartości, ale również może nastąpić restart kernela:"
   ]
  },
  {
   "cell_type": "code",
   "execution_count": null,
   "id": "d92b33e1-1cdd-4630-8387-be7c62faeae4",
   "metadata": {},
   "outputs": [],
   "source": [
    "char *znak = new char;\n",
    "*znak = 'R';\n",
    "cout << *znak << endl;\n",
    "delete znak;\n",
    "cout << *znak << endl;"
   ]
  },
  {
   "cell_type": "markdown",
   "id": "ae5b030d-056a-4b14-887b-e8a7055234d0",
   "metadata": {},
   "source": [
    "### Przykłady"
   ]
  },
  {
   "cell_type": "markdown",
   "id": "efd32d40-80ef-435f-b05b-9a9c02153620",
   "metadata": {},
   "source": [
    "Dynamiczna alokacja zmiennej napisowej:"
   ]
  },
  {
   "cell_type": "code",
   "execution_count": null,
   "id": "ba63f6c8-6a4a-4ce7-bdbc-01f91f08c739",
   "metadata": {},
   "outputs": [],
   "source": [
    "string *s = nullptr; // Sam wskaźnik bez alokacji\n",
    "s = new string; // Alokacja może nastąpić później niż deklaracja zmiennej wskaźnikowej\n",
    "*s = \"Jakis tekst\";\n",
    "cout << *s;\n",
    "delete s;"
   ]
  },
  {
   "cell_type": "code",
   "execution_count": null,
   "id": "33101736-d6d4-4c7d-b727-6d1177f98b6e",
   "metadata": {},
   "outputs": [],
   "source": [
    "string *s = new string(\"Jakis inny tekst\"); // Alokacja z przypisaniem wartości\n",
    "cout << *s;\n",
    "delete s;"
   ]
  },
  {
   "cell_type": "markdown",
   "id": "368173d3-72b9-466f-a5a1-a9f37b8fd15a",
   "metadata": {},
   "source": [
    "Dynamiczna alokacja struktury:"
   ]
  },
  {
   "cell_type": "code",
   "execution_count": null,
   "id": "ac25ea85-8825-4512-b0f2-58eefd1faa00",
   "metadata": {},
   "outputs": [],
   "source": [
    "struct Punkt{\n",
    "    int x,y;\n",
    "};\n",
    "\n",
    "Punkt *p = new Punkt;\n",
    "\n",
    "(*p).x = 1;\n",
    "(*p).y = 2;\n",
    "cout << (*p).x << \" \" << (*p).y << endl;"
   ]
  },
  {
   "cell_type": "markdown",
   "id": "e358bdf0-61ae-4fb3-8bdc-f9a49fff2163",
   "metadata": {},
   "source": [
    "Przy okazji powyższego przykładu można zauważyć pewną trudność w korzystaniu ze wskaźników to typów złożonych (struktur i klas). \n",
    "Operator dostępu do pola, czyli `.`, ma wyższy priorytet niż operator wyłuskania `*`, co wymusza użycia nawiazu przed dostępem do pól `(*p).x`.\n",
    "\n",
    "Dlatego w języku C++ istnieje dodatkowy operator `->` ułatwiający dostęp do pól i metod typów złożonych poprzez wskaźnik:"
   ]
  },
  {
   "cell_type": "code",
   "execution_count": null,
   "id": "8ab94957-87c1-4d39-959d-0b917aa4f85b",
   "metadata": {},
   "outputs": [],
   "source": [
    "p->x = 1;\n",
    "p->y = 2;\n",
    "cout << p->x << \" \" << p->y << endl;"
   ]
  },
  {
   "cell_type": "code",
   "execution_count": null,
   "id": "68ecaac2-bfd1-4230-8b4b-49cd0ec7d2c5",
   "metadata": {},
   "outputs": [],
   "source": [
    "delete p;"
   ]
  },
  {
   "cell_type": "markdown",
   "id": "0136afbb-3f95-4f70-9a02-15f98c3f0f95",
   "metadata": {},
   "source": [
    "### Zadanie\n",
    "\n",
    "1. Zadeklaruj dwie zmienne wskaźnikowe `w1` i `w2` dla typu `double`.\n",
    "2. Korzystając z instrukcji `new`, zarezerwuj pamięć dla pojedynczej zmiennej typu `double` a jej adres zapamiętaj w zmiennej `w1`.\n",
    "3. Skopiuj adres ze zmiennej `w1` do `w2`.\n",
    "4. Korzystając z operatora wyłuskania `*` i zmiennej `w2` wprowadź wartość wczytaną od użytkownika.\n",
    "5. Korzystając z operatora wyłuskania `*` i zmiennej `w1` wypisz na ekranie zapamiętaną wartość.\n",
    "6. Zwolnij zarezerwowaną pamięć używając `delete`. **Uwaga:** zastanów się ile razy należy wywołać `delete`? "
   ]
  },
  {
   "cell_type": "code",
   "execution_count": null,
   "id": "e1cdce0a-2b6a-49c1-a57a-34ff370f6262",
   "metadata": {},
   "outputs": [],
   "source": [
    "// Tutaj rozwiąż i przetestuj zadanie"
   ]
  },
  {
   "cell_type": "markdown",
   "id": "b4067764-cf7c-47d3-b69a-f466d0e21f6f",
   "metadata": {},
   "source": [
    "## Tablice dynamiczne jednowymiarowe\n",
    "\n",
    "Tablice dynamiczne jednowymiarowe alokuje się za pomocą instrukcji `new` z dodanym nawiasem kwadratowym `[]`, wktórym podajemy rozmiar tablicy:  "
   ]
  },
  {
   "cell_type": "code",
   "execution_count": null,
   "id": "3146d60a-db0e-456a-a0a9-714b75700dbb",
   "metadata": {},
   "outputs": [],
   "source": [
    "int *T = new int[10];"
   ]
  },
  {
   "cell_type": "markdown",
   "id": "bb8421e7-1b80-4407-aad3-80b9b8a84900",
   "metadata": {},
   "source": [
    "Istotne jest zapamiętanie, że **instrukcja `new` niezależnie od tego czy alokuje pamięć na pojedynczy element czy na całą tablicę, zawsze zwraca adres początku obszaru pamięci,** a więc w przypadku tablicy, adres pierwszego elementu.\n",
    "Dlatego wystarczy zwykła zmienna wskaźnikowa pamiętające ten adres.\n",
    "\n",
    "Tablice jednowymiarowe zawsze zajmują ciągły obszar pamięci, więc znajomość adresu początku tablicy oraz rozmiaru pojedynczej komórki, pozwala na dostęp do każdego elementu tablicy, poprzez skokową zmianę adresu. Choć jest to możliwe do samodzielnej implementacji, nie ma takiej konieczności.\n",
    "\n",
    "**Dostęp do komórek tablicy dynamicznej jest identyczny jak w przypadku tablicy statycznej**, np.:"
   ]
  },
  {
   "cell_type": "code",
   "execution_count": null,
   "id": "c471ee6f-38d2-4c38-91f2-2cd426cd072c",
   "metadata": {},
   "outputs": [],
   "source": [
    "for(int i=0; i<10; i++)\n",
    "    T[i] = i*i;\n",
    "\n",
    "for(int i=0; i<10; i++)\n",
    "    cout << i << \": \" << T[i] << endl;"
   ]
  },
  {
   "cell_type": "markdown",
   "id": "c7532162-6870-438a-a9cb-5642e2289ee7",
   "metadata": {},
   "source": [
    "Zwolnienie pamięci po tablicy dynamicznej również wymaga dodatkowego użycia nawiasu `[]`, zaraz po  instrukcji `delete`:"
   ]
  },
  {
   "cell_type": "code",
   "execution_count": null,
   "id": "33afaca4-05e0-4bf1-a559-a90f067c3115",
   "metadata": {},
   "outputs": [],
   "source": [
    "delete [] T;"
   ]
  },
  {
   "cell_type": "markdown",
   "id": "a3b5ea33-833f-42a6-ad3e-83b5a1a227c8",
   "metadata": {},
   "source": [
    "**Uwaga:** po samej deklaracji zmiennej wskaźnikowej `int *T` nie ma możliwości stwierdzenie czy przechowuje adres pojedynczego elementu czy adres pierwszego elementu tablicy. To programista musi pamiętać co się kryje pod zapamiętanym w `T` adresem. Ponadto, możliwe jest wywołanie `delete` bez `[]`, czyli\n",
    "```c++\n",
    "delete T;\n",
    "```\n",
    "co spowoduje zwolnienie tylko pamięci po jednej komórce a nie całej tablicy powodując wyciek pamięci. "
   ]
  },
  {
   "cell_type": "markdown",
   "id": "6735083f-d4c5-4ed7-9d9f-173dde05a564",
   "metadata": {},
   "source": [
    "### Prosty przykład\n",
    "\n",
    "Poniższy kod tworzy tablicę o rozmiarze podanym przez użytkownika i wypełnia ją losowymi liczbami rzeczywistymi."
   ]
  },
  {
   "cell_type": "code",
   "execution_count": null,
   "id": "bec650ce-f10e-42b3-816d-0549e790240e",
   "metadata": {},
   "outputs": [],
   "source": [
    "int n;\n",
    "\n",
    "cout << \"Podaj rozmiar tablicy: \";\n",
    "cin >> n;\n",
    "\n",
    "double *tab = new double[n];\n",
    "\n",
    "for(int i=0; i<n; i++)\n",
    "    tab[i] = 10.0 * double(rand())/RAND_MAX;\n",
    "\n",
    "for(int i=0; i<n; i++)\n",
    "    cout << tab[i] << endl;\n",
    "\n",
    "delete [] tab;"
   ]
  },
  {
   "cell_type": "markdown",
   "id": "56697cac-20b8-4e7c-beab-7a86e1f879c1",
   "metadata": {},
   "source": [
    "### Przykład: tablice dynamiczne i funkcje\n",
    "\n",
    "**Wersja 1:** adres tablicy zwracany przez `return`."
   ]
  },
  {
   "cell_type": "code",
   "execution_count": null,
   "id": "e24017c8-3b2b-4a94-9338-ce1fb12fc41f",
   "metadata": {},
   "outputs": [],
   "source": [
    "//Funkcja jest typy char*, zwraca adres do początku tablicy char\n",
    "char* tworzIWypelnijTablice(int n) \n",
    "{\n",
    "    char *t = new char[n];\n",
    "    for(int i=0; i<n; i++)\n",
    "        t[i] = rand()%('z'-'a'+1) + 'a';\n",
    "    return t; \n",
    "}"
   ]
  },
  {
   "cell_type": "code",
   "execution_count": null,
   "id": "ceb29fda-353e-4514-9bb9-dbde827fb72e",
   "metadata": {},
   "outputs": [],
   "source": [
    "void wypisz(char* t, int n)\n",
    "{\n",
    "    for(int i=0; i<n; i++)\n",
    "        cout << t[i] << \" \";\n",
    "}"
   ]
  },
  {
   "cell_type": "code",
   "execution_count": null,
   "id": "87665cf5-a72b-496c-8007-fa0b20584c41",
   "metadata": {},
   "outputs": [],
   "source": [
    "void testTablicy()\n",
    "{\n",
    "    int n;\n",
    "    cout << \"Podaj rozmiar tablicy: \";\n",
    "    cin >> n;\n",
    "    char* T = tworzIWypelnijTablice(n);\n",
    "    wypisz(T, n);\n",
    "    delete [] T;\n",
    "}"
   ]
  },
  {
   "cell_type": "code",
   "execution_count": null,
   "id": "c6fd961f-3ffe-4bf9-af36-53f1636baa64",
   "metadata": {},
   "outputs": [],
   "source": [
    "testTablicy();"
   ]
  },
  {
   "cell_type": "markdown",
   "id": "327b9262-3fd4-4e94-9228-ec0433d4848a",
   "metadata": {},
   "source": [
    "**Wersja 2:** adres i rozmiar tablicy zwracany przez referencję"
   ]
  },
  {
   "cell_type": "code",
   "execution_count": null,
   "id": "704a7f6f-b57c-46f1-903e-98305d23c267",
   "metadata": {},
   "outputs": [],
   "source": [
    "//Funkcja jest typy void, zwraca adres i rozmiar tablicy przez referencje\n",
    "void tworzIWypelnijTablice(char* &t, int &n) \n",
    "{\n",
    "    cout << \"Podaj rozmiar tablicy: \";\n",
    "    cin >> n;\n",
    "    t = new char[n];\n",
    "    for(int i=0; i<n; i++)\n",
    "        t[i] = rand()%('z'-'a'+1) + 'a';\n",
    "}"
   ]
  },
  {
   "cell_type": "code",
   "execution_count": null,
   "id": "6e403702-3f78-4927-b003-8d3ca8b67abc",
   "metadata": {},
   "outputs": [],
   "source": [
    "void testTablicy2()\n",
    "{\n",
    "    int n;\n",
    "    char* T;\n",
    "    tworzIWypelnijTablice(T, n);\n",
    "    wypisz(T, n);\n",
    "    delete [] T;\n",
    "}"
   ]
  },
  {
   "cell_type": "code",
   "execution_count": null,
   "id": "f92a6f1f-93c7-4cda-a8d0-ae8b6153a7a4",
   "metadata": {},
   "outputs": [],
   "source": [
    "testTablicy2();"
   ]
  },
  {
   "cell_type": "markdown",
   "id": "eb588318-b5aa-4072-a84f-83caf9cfb10a",
   "metadata": {
    "editable": true,
    "slideshow": {
     "slide_type": ""
    },
    "tags": []
   },
   "source": [
    "### Zadanie (do rozwiązania w notatniku)\n",
    "\n",
    "Dokończyć poniższą implementację programu tworzącego dynamiczną tablicę rekordów typu `LiczbaZnak` o rozmiarze `n` wylosowanym z przedziału `<3,8>` i danych wylosowanych z przedziału `<a,b>` dla pola liczbowego i `<x,y>` dla pola znakowego, gdzie `a,b,x,y` wczytane od użytkownika."
   ]
  },
  {
   "cell_type": "code",
   "execution_count": null,
   "id": "1e005f85-a477-4cb8-a220-879bb726d6ec",
   "metadata": {},
   "outputs": [],
   "source": [
    "struct LiczbaZnak{\n",
    "    int liczba;\n",
    "    char znak;\n",
    "};"
   ]
  },
  {
   "cell_type": "code",
   "execution_count": null,
   "id": "244ce365-2d03-4fe3-9d40-9e93ff8a8276",
   "metadata": {},
   "outputs": [],
   "source": [
    "void wypelnij(LiczbaZnak* T, int n, int a, int b, char x, char y)\n",
    "{\n",
    "    // Uzupełnij\n",
    "    for(int i=0; i<n; i++)\n",
    "    {\n",
    "        T[i].liczba = ... //uzupełnij\n",
    "        T[i].znak = ... //uzupełnij\n",
    "    }       \n",
    "}"
   ]
  },
  {
   "cell_type": "code",
   "execution_count": null,
   "id": "0bcff9e9-866e-4085-86db-b919fa408f6b",
   "metadata": {},
   "outputs": [],
   "source": [
    "void wypisz(...)  // Uzupełnij\n",
    "{\n",
    "     // Uzupełnij\n",
    "}"
   ]
  },
  {
   "cell_type": "code",
   "execution_count": null,
   "id": "46cd90d8-5ea4-4375-beb3-9492dd726a43",
   "metadata": {},
   "outputs": [],
   "source": [
    "// TESTOWANIE\n",
    "int n = ... // losowy rozmiar rand()\n",
    "int a, b;\n",
    "char x,y;\n",
    "cin >> ....; // wczytanie przedzialow\n",
    "LiczbaZnak* T;\n",
    "T = ... // uzupełnij\n",
    "wypelnij(T,n,a,b,x,y);\n",
    "wypisz(...); //uzupełnij\n",
    "delete ... //uzupełnij"
   ]
  },
  {
   "cell_type": "markdown",
   "id": "395647ea-e86f-44dc-893f-ca58a7e931dc",
   "metadata": {},
   "source": [
    "### Zadania do samodzielnego rozwiązania"
   ]
  },
  {
   "cell_type": "markdown",
   "id": "75ed8976-94a7-4720-a2c4-50639bdb48c2",
   "metadata": {},
   "source": [
    "#### Zadanie 1\n",
    "\n",
    "Napisać program tworzący dwie jednowymiarowe tablice losowych liczb całkowitych `A` i `B` o wymiarach odpowiednio `nA, nB` podanych przez użytkownika. Ponadto, za pomocą odpowiednich funkcji:\n",
    "* wypisać każdą z tablic na ekranie,\n",
    "* na podstawie tablic `A`, `B` stworzyć nową tablicę `C` o rozmiarze `min(nA, nB)` i wartościach `max(A[i],B[i])`."
   ]
  },
  {
   "cell_type": "code",
   "execution_count": null,
   "id": "3dca2daf-746d-4828-b2b8-4131326b7277",
   "metadata": {},
   "outputs": [],
   "source": []
  },
  {
   "cell_type": "markdown",
   "id": "4741735b-4d8c-4f25-a273-e07d1b023111",
   "metadata": {},
   "source": [
    "#### Zadanie 2\n",
    "Wczytać od użytkownika dane do dwóch tablic dynamicznych `T1` i `T2` typu `Przedzial` o polach `a` i `b`' (liczby rzeczywiste) wymuszając `a<b`. Rozmiary tablic podane przez użytkownika. Dla każdej z tablic wypisać przedział najszerszy i najwęższy. Napisać pełen program z użyciem procedur i funkcji."
   ]
  },
  {
   "cell_type": "code",
   "execution_count": null,
   "id": "c60a83f6-a43f-43a0-8a8b-f97a3fabc74e",
   "metadata": {},
   "outputs": [],
   "source": []
  },
  {
   "cell_type": "markdown",
   "id": "4cc6cd26-7841-4a86-849f-0a525f8be689",
   "metadata": {
    "editable": true,
    "slideshow": {
     "slide_type": ""
    },
    "tags": []
   },
   "source": [
    "![logotypy.png](../figures/OMNIS2_logotypy.png)"
   ]
  }
 ],
 "metadata": {
  "kernelspec": {
   "display_name": "C++17",
   "language": "C++17",
   "name": "xcpp17"
  },
  "language_info": {
   "codemirror_mode": "text/x-c++src",
   "file_extension": ".cpp",
   "mimetype": "text/x-c++src",
   "name": "c++",
   "version": "17"
  }
 },
 "nbformat": 4,
 "nbformat_minor": 5
}

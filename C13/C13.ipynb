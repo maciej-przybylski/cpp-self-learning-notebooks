{
 "cells": [
  {
   "cell_type": "markdown",
   "id": "24218d8b-9b9a-4480-be64-bab9d3562cb0",
   "metadata": {
    "editable": true,
    "slideshow": {
     "slide_type": ""
    },
    "tags": []
   },
   "source": [
    "![OMNIS2_Logo_projektu.png](../figures/OMNIS2_Logo_projektu.png)"
   ]
  },
  {
   "cell_type": "markdown",
   "id": "ff437d40-73f5-4438-8675-32f7db369837",
   "metadata": {
    "editable": true,
    "slideshow": {
     "slide_type": ""
    },
    "tags": []
   },
   "source": [
    "# Ćwiczenie 13: Referencje, wskaźniki"
   ]
  },
  {
   "cell_type": "markdown",
   "id": "14b6b15d-eaa5-4574-8763-2683f8024381",
   "metadata": {},
   "source": [
    "## Przygotowanie notatnika"
   ]
  },
  {
   "cell_type": "code",
   "execution_count": null,
   "id": "57ea6742-8f5f-404f-82d1-b6fc092da53f",
   "metadata": {},
   "outputs": [],
   "source": [
    "#include <iostream>\n",
    "using namespace std;"
   ]
  },
  {
   "cell_type": "markdown",
   "id": "32578e4d-0818-420c-899c-e578bf69a922",
   "metadata": {
    "editable": true,
    "slideshow": {
     "slide_type": ""
    },
    "tags": []
   },
   "source": [
    "## Adresy i zmienne wskaźnikowe\n",
    "\n",
    "Nazwy zmiennych których używamy w kodzie źródłowym mają ułatwić pracę twórcy programu. Natomiast komputer posługuje się adresami pamięci. \n",
    "\n",
    "Adres zmiennej możemy uzyskać za pomocą operatora `&` postawionego przed nazwą tej zmiennej (ale po tym jak już została zadeklarowana):"
   ]
  },
  {
   "cell_type": "code",
   "execution_count": null,
   "id": "326ccb25-c13c-4f4e-a2f0-e5c0fc1bbaeb",
   "metadata": {},
   "outputs": [],
   "source": [
    "int a = 4;\n",
    "// wypisanie wartości zmiennej\n",
    "cout << a << endl; \n",
    "// wypisanie adresu zmiennej\n",
    "cout << &a; "
   ]
  },
  {
   "cell_type": "markdown",
   "id": "f53b21a1-2597-4f63-8db7-98023bf68c88",
   "metadata": {},
   "source": [
    "Jak można zauważyć po uruchomieniu komórki powyżej, adres jest liczbą całkowitą w zapisie szesnastkowym. \n",
    "\n",
    "Każda zmienna będzie miała inny adres, **sprawdź to:**"
   ]
  },
  {
   "cell_type": "code",
   "execution_count": null,
   "id": "65be60a7-f341-4d79-95e0-33da5190683b",
   "metadata": {},
   "outputs": [],
   "source": [
    "// Zadeklaruj kolejną zmienną, np. typu double, i wypisz jej adres\n"
   ]
  },
  {
   "cell_type": "markdown",
   "id": "2a4e64a3-dcb5-4c62-b68d-492edcc760d7",
   "metadata": {},
   "source": [
    "## Zmienne wskaźnikowe\n",
    "\n",
    "Adresy pamięci to liczby i można je przechowywać oraz kopiować tak jak inne dane. \n",
    "Do przechowywania adresów służą zmienne wskaźnikowe, których deklaracja wygląda jak poniżej:"
   ]
  },
  {
   "cell_type": "code",
   "execution_count": null,
   "id": "5800e64b-6653-473e-9195-260f4c943e97",
   "metadata": {},
   "outputs": [],
   "source": [
    "int b = 8;\n",
    "int *wb;"
   ]
  },
  {
   "cell_type": "markdown",
   "id": "406dd96c-ff95-4691-a92a-eac6eb0ac566",
   "metadata": {},
   "source": [
    "Przy deklaracji zmiennej wskaźnikowej oprócz typu pojawia się znak `*` przed nazwą tej zmiennej. "
   ]
  },
  {
   "cell_type": "markdown",
   "id": "51137e46-1cd1-47f0-bb3a-b0f38a97e472",
   "metadata": {},
   "source": [
    "Zmienna `wb` nie ma jeszcze ustawionej wartości. \n",
    "Teraz będziemy chcieli wpisać do niej adres zmiennej `b`. \n",
    "Odwołanie się do zmiennej wskaźnikowej odbywa się bez znaku '*' (jeżeli operujemy na adresach)."
   ]
  },
  {
   "cell_type": "code",
   "execution_count": null,
   "id": "50d0cc40-7563-469f-b5ff-b3a4f1a29fd0",
   "metadata": {},
   "outputs": [],
   "source": [
    "wb = &b;"
   ]
  },
  {
   "cell_type": "markdown",
   "id": "f2998452-ab43-4762-9c88-4c2d8f50a91b",
   "metadata": {},
   "source": [
    "Co się pojawi jeżeli wypiszemy na konsolę zwartość zmiennej `wb`? **Sprawdź:**"
   ]
  },
  {
   "cell_type": "code",
   "execution_count": null,
   "id": "c116f379-24ca-4fe1-80b5-467aa95f2dfc",
   "metadata": {},
   "outputs": [],
   "source": [
    "cout << b << endl;\n",
    "cout << wb << endl;\n",
    "cout << &b << endl;"
   ]
  },
  {
   "cell_type": "markdown",
   "id": "fe05fb23-c77c-459b-b971-ccf6c3fc0b3e",
   "metadata": {},
   "source": [
    "Jeżeli mamy adres zmiennej to możemy uzyskać dostęp do tego obszaru pamięci i odczytać lub zmienić dane. \n",
    "W tym celu użyjemy tzw. operatora wyłuskania w postaci znaku '*', który, **uwaga**, stosujemy tylko do zmiennych wskaźnikowych, po ich wcześniejszym zadeklraowaniu.\n",
    "\n",
    "**Porównaj wynik wypisania:**"
   ]
  },
  {
   "cell_type": "code",
   "execution_count": null,
   "id": "0c8abb63-08a4-462a-8d47-a164ab03b6f3",
   "metadata": {
    "editable": true,
    "slideshow": {
     "slide_type": ""
    },
    "tags": []
   },
   "outputs": [],
   "source": [
    "cout << wb << endl;\n",
    "cout << *wb << endl;"
   ]
  },
  {
   "cell_type": "markdown",
   "id": "47c63912-e6ba-46ff-9eac-5eadf782f5ed",
   "metadata": {},
   "source": [
    "A teraz wykorzystamy operator wyłuskania do zmiany danych."
   ]
  },
  {
   "cell_type": "code",
   "execution_count": null,
   "id": "7da93ae6-f9c1-458f-a4df-7b5d845459f4",
   "metadata": {},
   "outputs": [],
   "source": [
    "*wb = 10;\n",
    "cout << *wb;"
   ]
  },
  {
   "cell_type": "markdown",
   "id": "85e93c55-bee3-4e13-8c0e-9238804c6dd7",
   "metadata": {},
   "source": [
    "Jaka wartość jest teraz w zmiennej `b`? \n",
    "`8` czy `10`? \n",
    "\n",
    "**Sprawdź:**"
   ]
  },
  {
   "cell_type": "code",
   "execution_count": null,
   "id": "343be282-679c-47be-be0f-869a01ba3aab",
   "metadata": {},
   "outputs": [],
   "source": [
    "cout << b << endl;"
   ]
  },
  {
   "cell_type": "markdown",
   "id": "ff648d3e-3552-4303-9007-0a08205a3251",
   "metadata": {},
   "source": [
    "**Zadanie:** \n",
    "\n",
    "1. Zadeklaruj zmienną `x` typu `char` i wpisz do niej znak `'A'`.\n",
    "2. Zadeklaruj zmienną `y` typu wskaźnik do `char` i wpisz do niej adres zmiennej `x`.\n",
    "3. Wypisz zawartość zmiennej `y`.\n",
    "4. Wypisz zawartość zmiennej `x` oraz zawartość pamięci pod adresem przechowywanym w zmiennej `y`. "
   ]
  },
  {
   "cell_type": "code",
   "execution_count": null,
   "id": "983315e6-5e22-472d-b57c-411c636d65bb",
   "metadata": {},
   "outputs": [],
   "source": [
    "// Tutaj rozwiąż i przetestuj zadanie"
   ]
  },
  {
   "cell_type": "markdown",
   "id": "7ab9bf32-13a2-4b25-a0f8-d72916006f34",
   "metadata": {},
   "source": [
    "5. Korzystając z adresu w zmiennej wskaźnikowej `y` oraz operatora wyłuskania `*` wpisz do pamięci znak `'B'`.\n",
    "6. Wypisz zawartość zmiennej `x`."
   ]
  },
  {
   "cell_type": "code",
   "execution_count": null,
   "id": "c7e4ea6e-2f14-47a2-bbeb-4d3188c9884b",
   "metadata": {},
   "outputs": [],
   "source": [
    "// Tutaj rozwiąż i przetestuj zadanie"
   ]
  },
  {
   "cell_type": "markdown",
   "id": "e0ff5186-7f27-4b59-b42a-6e36eaad6779",
   "metadata": {},
   "source": [
    "## Referencja\n",
    "\n",
    "Zmienne wskaźnikowe z powyższych przykładów mogą się przydać na przykład w takiej sytuacji:"
   ]
  },
  {
   "cell_type": "code",
   "execution_count": null,
   "id": "d77bab4f-678d-423b-95d5-947bf6c88b94",
   "metadata": {},
   "outputs": [],
   "source": [
    "string zmienna_o_dlugiej_nazwie_zawierajaca_tekst = \"Jakis tekst.\";\n",
    "string *tekst = &zmienna_o_dlugiej_nazwie_zawierajaca_tekst;\n",
    "\n",
    "cout << zmienna_o_dlugiej_nazwie_zawierajaca_tekst << endl;\n",
    "cout << *tekst << endl;\n",
    "\n",
    "*tekst = \"Nowy tekst.\";\n",
    "\n",
    "cout << zmienna_o_dlugiej_nazwie_zawierajaca_tekst << endl;\n",
    "cout << *tekst << endl;"
   ]
  },
  {
   "cell_type": "markdown",
   "id": "39407a39-4f86-46d3-8a04-1e806e0c6b76",
   "metadata": {},
   "source": [
    "... jednak musimy ciągle pamiętać o znaku `*`, jeżeli chcemy operować na danych a nie na adresach, a można prościej.\n",
    "\n",
    "Znak `&`, oprócz uzyskania adresu, pełni jeszcze jedną rolę w języku C++: `&` użyty przy deklaracji tuż przed nazwą symbolu oznacza, że symbol ten jest **referencją** do jakiejś istniejącej zmiennej. Mechanizm ten pozwala uprościć przykład z komórki powyżej. \n",
    "\n",
    "**Uwaga:** porównaj kod z komórki poniżej z poprzednią i prześledź wszystkie wystąpienia i pozycje znaków `*` i `&`. **O ile zmniejszyła się liczba znaków specjalnych `*` i `&` w kodzie?**"
   ]
  },
  {
   "cell_type": "code",
   "execution_count": null,
   "id": "105d5eb5-41e6-4efd-ba81-3c5bda477c00",
   "metadata": {},
   "outputs": [],
   "source": [
    "string zmienna_o_dlugiej_nazwie_zawierajaca_tekst = \"Jakis tekst.\";\n",
    "string &tekst = zmienna_o_dlugiej_nazwie_zawierajaca_tekst;\n",
    "\n",
    "cout << zmienna_o_dlugiej_nazwie_zawierajaca_tekst << endl;\n",
    "cout << tekst << endl;\n",
    "\n",
    "tekst = \"Nowy tekst.\";\n",
    "\n",
    "cout << zmienna_o_dlugiej_nazwie_zawierajaca_tekst << endl;\n",
    "cout << tekst << endl;"
   ]
  },
  {
   "cell_type": "markdown",
   "id": "a1c60e08-5409-4f94-a8ed-770d65e99856",
   "metadata": {},
   "source": [
    "**Zadanie:**\n",
    "1. Zadeklaruj zmienną `imie_psa` typu `string`.\n",
    "2. Zdefiniuj referencję `im` do zmiennej `imie_psa`.\n",
    "3. Wczytaj z konsoli `cin` imię do `im`.\n",
    "4. Wypisz na konsolę zawartość zmiennej `imie_psa`."
   ]
  },
  {
   "cell_type": "code",
   "execution_count": null,
   "id": "893a0170-7d46-46e3-97ce-993c75534e07",
   "metadata": {},
   "outputs": [],
   "source": [
    "// Tutaj rozwiąż i przetestuj zadanie"
   ]
  },
  {
   "cell_type": "markdown",
   "id": "701a2d68-b780-46d5-a47c-cae8976154bb",
   "metadata": {},
   "source": [
    "### Referencje w argumentach funkcji\n",
    "\n",
    "Referencje powszechnie stosuje się w argumentach funkcji w sytucjach kiedy wynik z wnętrza funkcji chcemy wprowadzić do zmiennych istniejących poza nią, a mechanizm zwracania wartości przez `return` nie może zostać użyty. \n",
    "\n",
    "**Przykład:** napisać funkcję wczytującą z konsoli dwie liczby do zmiennych `a` i `b` istniejących poza tą funkcją. "
   ]
  },
  {
   "cell_type": "code",
   "execution_count": null,
   "id": "f48e49b3-4bc2-4c7d-b8fc-840177e23c9d",
   "metadata": {},
   "outputs": [],
   "source": [
    "int wczytaj1()\n",
    "{\n",
    "    int a,b;\n",
    "    cin >> a >> b;\n",
    "    return a,b; // UWAGA! Poza tym przykładem, nigdy tak nie robimy!\n",
    "}"
   ]
  },
  {
   "cell_type": "code",
   "execution_count": null,
   "id": "83b9f878-2daa-47ab-8473-c25e84c0eba7",
   "metadata": {},
   "outputs": [],
   "source": [
    "int a = 0, b = 0;\n",
    "a,b = wczytaj1(); // UWAGA! Poza tym przykładem, nigdy tak nie robimy!\n",
    "cout << a << \" \" << b;"
   ]
  },
  {
   "cell_type": "markdown",
   "id": "7003a1da-d6aa-49bb-b63d-78591f3bab57",
   "metadata": {},
   "source": [
    "Kod powyżej jest składniowo poprawny, ale wynik jest niepoprawny. **Funkcje w C++ mogą zwracać tylko jedną wartość!**"
   ]
  },
  {
   "cell_type": "markdown",
   "id": "03fd164c-53e1-48d4-bb10-403dd5127fc5",
   "metadata": {},
   "source": [
    "Spróbujmy jeszcze raz:"
   ]
  },
  {
   "cell_type": "code",
   "execution_count": null,
   "id": "a7823313-9e57-4c6f-9e81-05d9852857d7",
   "metadata": {},
   "outputs": [],
   "source": [
    "void wczytaj2(int a, int b) // a i b są zmiennymi lokalnymi tej funkcji\n",
    "{\n",
    "    cin >> a >> b;\n",
    "}"
   ]
  },
  {
   "cell_type": "code",
   "execution_count": null,
   "id": "aa629099-8606-4767-95b9-c4787564167b",
   "metadata": {
    "jp-MarkdownHeadingCollapsed": true
   },
   "outputs": [],
   "source": [
    "int a = 0, b = 0;\n",
    "wczytaj2(a,b); \n",
    "cout << a << \" \" << b;"
   ]
  },
  {
   "cell_type": "markdown",
   "id": "800b8adb-3ec6-479b-b2c8-94bcdfb857a6",
   "metadata": {},
   "source": [
    "Powyższe rozwiązanie również nie działa. Argumenty `a` i `b`, choć nazywają się tak samo jak zmienne poza funkcją, są innymi zmiennymi, lokalnymi dla funkcji `wczytaj` i znikają z pamięci po jej zakończeniu. \n",
    "\n",
    "**Poprawne rozwiązanie wygląda tak:**"
   ]
  },
  {
   "cell_type": "code",
   "execution_count": null,
   "id": "8f5c9415-e476-47a8-8ffa-0890986ba79b",
   "metadata": {},
   "outputs": [],
   "source": [
    "void wczytaj3(int &a, int &b) // a i b są referencjami\n",
    "{\n",
    "    cin >> a >> b;\n",
    "}"
   ]
  },
  {
   "cell_type": "code",
   "execution_count": null,
   "id": "a202547d-9c5e-4eea-9644-6e13955d2f37",
   "metadata": {},
   "outputs": [],
   "source": [
    "int a = 0, b = 0;\n",
    "wczytaj3(a,b); \n",
    "cout << a << \" \" << b;"
   ]
  },
  {
   "cell_type": "markdown",
   "id": "e8448db6-1b40-4e76-bef9-725f2b748aef",
   "metadata": {},
   "source": [
    "Referencje w argumentach funkcji mogą się nazywać inaczej niż zmienne przekazywane:"
   ]
  },
  {
   "cell_type": "code",
   "execution_count": null,
   "id": "ed00ee7b-b52e-4857-8c0e-586adf4f1b79",
   "metadata": {},
   "outputs": [],
   "source": [
    "void wczytaj4(int &x, int &y) // x i y są referencjami\n",
    "{\n",
    "    cin >> x >> y;\n",
    "}"
   ]
  },
  {
   "cell_type": "code",
   "execution_count": null,
   "id": "de9327db-e105-4ee5-b4fe-be78c3930d32",
   "metadata": {},
   "outputs": [],
   "source": [
    "int a = 0, b = 0;\n",
    "wczytaj4(a,b); \n",
    "cout << a << \" \" << b;"
   ]
  },
  {
   "cell_type": "markdown",
   "id": "1bbffb6e-f0a8-41f8-b1ce-8ec21e500b2b",
   "metadata": {},
   "source": [
    "**Mechanizmy zwracania wartości przez `return` i referencje można łączyć.**\n",
    "\n",
    "**Przykład:** funkcja sumująca dwie liczby podane jako argumenty i zwracająca wartość logiczną określający czy wynik jest większy od zera oraz zwracającą sam wynik przez referencję."
   ]
  },
  {
   "cell_type": "code",
   "execution_count": null,
   "id": "24f1bb4d-1892-4e54-9323-71d0476665e1",
   "metadata": {},
   "outputs": [],
   "source": [
    "bool obliczISprawdz(int a, int b, int &c)\n",
    "{\n",
    "    c = a + b;\n",
    "    return c >= 0;\n",
    "}"
   ]
  },
  {
   "cell_type": "markdown",
   "id": "0950bc60-4884-4b84-bc83-33d270b51487",
   "metadata": {},
   "source": [
    "Przetestuj poniższy kod dla różnych wartości `a` i `b`:"
   ]
  },
  {
   "cell_type": "code",
   "execution_count": null,
   "id": "c6a09f3c-3160-4b29-bf81-56bd70566cd8",
   "metadata": {},
   "outputs": [],
   "source": [
    "int a,b,c;\n",
    "cin >> a >> b;\n",
    "if(obliczISprawdz(a,b,c))\n",
    "    cout << c;\n",
    "else\n",
    "    cout << \"Liczba ujemna!\";"
   ]
  },
  {
   "cell_type": "markdown",
   "id": "4cc6cd26-7841-4a86-849f-0a525f8be689",
   "metadata": {
    "editable": true,
    "slideshow": {
     "slide_type": ""
    },
    "tags": []
   },
   "source": [
    "![logotypy.png](../figures/OMNIS2_logotypy.png)"
   ]
  }
 ],
 "metadata": {
  "kernelspec": {
   "display_name": "C++17",
   "language": "C++17",
   "name": "xcpp17"
  },
  "language_info": {
   "codemirror_mode": "text/x-c++src",
   "file_extension": ".cpp",
   "mimetype": "text/x-c++src",
   "name": "c++",
   "version": "17"
  }
 },
 "nbformat": 4,
 "nbformat_minor": 5
}

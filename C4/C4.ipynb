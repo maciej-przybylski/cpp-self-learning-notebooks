{
 "cells": [
  {
   "cell_type": "markdown",
   "id": "24218d8b-9b9a-4480-be64-bab9d3562cb0",
   "metadata": {
    "editable": true,
    "slideshow": {
     "slide_type": ""
    },
    "tags": []
   },
   "source": [
    "![OMNIS2_Logo_projektu.png](../figures/OMNIS2_Logo_projektu.png)"
   ]
  },
  {
   "cell_type": "markdown",
   "id": "4c3cc7b2-2ad5-45d5-ab21-45000a0261d8",
   "metadata": {
    "editable": true,
    "slideshow": {
     "slide_type": ""
    },
    "tags": []
   },
   "source": [
    "# Ćwiczenie 4: Operatory arytmetyczne, operatory porównania, operatory logiczne\n",
    "\n",
    "autor: Jan Klimaszewski"
   ]
  },
  {
   "cell_type": "markdown",
   "id": "32578e4d-0818-420c-899c-e578bf69a922",
   "metadata": {
    "editable": true,
    "slideshow": {
     "slide_type": ""
    },
    "tags": []
   },
   "source": [
    "W tym ćwiczeniu nauczysz się, jak w C++ korzystać z: \n",
    "- operatorów arytmetycznych do wykonywania podstawowych operacji matematycznych na liczbach i zmiennych, \n",
    "- operatorów porównania do zapisywania warunków i porównywania ze sobą liczb i zmiennych, \n",
    "- operatorów logicznych do budowania warunków za pomocą skomplikowanych zdań logicznych.\n",
    "\n",
    "Dzięki temu będziesz potrafił napisać program, w którym za pomocą operatorów arytmetycznych komputer wykona za Ciebie skomplikowane działania matematyczne. Korzystając z porównań i spójników logicznych będziesz mógł zaprogramować złożone warunki i skompilkowane zdania logiczne, które komputer wykona bezbłędnie."
   ]
  },
  {
   "cell_type": "markdown",
   "id": "37ecd10b",
   "metadata": {},
   "source": [
    "## Przygotowanie notatnika\n",
    "Zanim przejdziemy dalej uruchomimy dwa polecenia pomocnicze - zadeklarujemy korzystanie z biblioteki `iostream` oraz określimy, że będziemy domyślnie korzystali z przestrzeni nazw `std`. "
   ]
  },
  {
   "cell_type": "code",
   "execution_count": null,
   "id": "8f0306b7",
   "metadata": {},
   "outputs": [],
   "source": [
    "#include <iostream>\n",
    "\n",
    "using namespace std;"
   ]
  },
  {
   "cell_type": "markdown",
   "id": "ec60f7ab",
   "metadata": {},
   "source": [
    "## Operatory arytmetyczne w C++\n",
    "Język programowania C++ obsługuje dobrze znane z matematyki operatory arytmetyczne, takie jak:\n",
    "- dodawanie: `+`\n",
    "- odejmowanie: `-`\n",
    "- mnożenie: `*`\n",
    "- dzielenie: `/`\n",
    "- reszta z dzielenia: `%`\n",
    "\n",
    "Poniżej pokazano jak w najprostrzy sposób wykorzystać niektóre z tych operatorów w praktyce.\n",
    "Rozwiązując kolejne zadania nauczysz się jak używać tych poleceń. "
   ]
  },
  {
   "cell_type": "code",
   "execution_count": null,
   "id": "a73ed301",
   "metadata": {
    "vscode": {
     "languageId": "cpp"
    }
   },
   "outputs": [],
   "source": [
    "cout << \"Obliczony wynik działania = \" << 2 + 3 << endl;\n",
    "cout << \"Obliczony wynik działania = \" << 2 * 3 << endl;\n",
    "cout << \"Obliczony wynik działania = \" << 2.5 + 3 << endl;\n",
    "cout << \"Obliczony wynik działania = \" << 2.5 * 3 << endl;\n",
    "cout << \"Obliczony wynik działania = \" << ((2 * 3) - 2)/2  << endl;"
   ]
  },
  {
   "cell_type": "markdown",
   "id": "0a2f8ee6",
   "metadata": {},
   "source": [
    "### Typy zmiennych w C++ - przypomnienie\n",
    "Wiesz już, że w C++ można używać zmiennych do przechowywania różnych wartości np. liczbowych. Każda zmienna musi mieć typ - określa on jakiego rodzaju wartość przechowuje - np. czy jest to liczba całkowia, czy znak klawiatury. Podstawowe typy danych w C++:\n",
    "- liczby całkowite: `int`\n",
    "- liczby zmiennoprzecinkowe: `float`, `double`\n",
    "- znaki np. klawiatury: `char`\n",
    "- wartości logiczne: `bool`\n",
    "\n",
    "Rozwiązując kolejne zadania nauczysz się jak używać tych typów zmiennych w praktyce."
   ]
  },
  {
   "cell_type": "markdown",
   "id": "4fe36135",
   "metadata": {},
   "source": [
    "## Zadanie 4.1\n",
    "Na początek potraktujmy program w języku C++ jak kalkulator - wykonajmy proste działania arytmetyczne i zobaczmy jak wygląda ich wynik. \n",
    "\n",
    "Skomplikujmy jednak trochę to zadanie. \n",
    "Załóżmy, że chcemy na początek rozwiązać proste zadanie z obliczeniem pola powierzchni prostokąta o bokach `a` oraz `b`. Zadeklaruj zmienne o odpowiednich typach danych i nazwach. Wynik obliczeń wpisz również do odpowiedniej zmiennej. Wypisz na ekranie konsoli dowolny komunikat tekstowy z wynikiem podanych operacji - uzupełnij poniższy fragment kodu.\n",
    "\n",
    "Po uzupełnieniu przetestuj, czy działa poprawnie dla różnych wartości, np.: 1, 2, 10, 20000, 124322, -2, -200, -4353 , 1.5, -12.6, 234.5677."
   ]
  },
  {
   "cell_type": "code",
   "execution_count": null,
   "id": "d9a02731",
   "metadata": {
    "scrolled": true
   },
   "outputs": [],
   "source": [
    "? a;                //todo uzupełnić typ \n",
    "a = ?;              //todo uzupełnij wartość\n",
    "\n",
    "                    //todo uzupełnij deklaracje i wpisanie wartości zmiennej `b`\n",
    "\n",
    "                    //todo uzupełnij deklaracje i wpisanie wartości zmiennej przechowyjącej obliczony wynik działań\n",
    "\n",
    "cout << \"Obliczony wynik działania = \" << ? << endl; //todo wpisz nazwę zmiennej, ktrej wartość chcesz wypisać na konsoli"
   ]
  },
  {
   "cell_type": "markdown",
   "id": "3207b4df",
   "metadata": {},
   "source": [
    "## Zadanie 4.2\n",
    "Wiemy już jak korzystać z operatorów arytmetycznych i wyliczać wyniki prostych działań matematycznych. Spróbujmy teraz wyznaczyć średnią z dwóch wartości przychowywanych w zmiennych 'x1' i 'x2'. \n"
   ]
  },
  {
   "cell_type": "code",
   "execution_count": null,
   "id": "9ab45cc1",
   "metadata": {
    "vscode": {
     "languageId": "plaintext"
    }
   },
   "outputs": [],
   "source": [
    "int x1 = 2;  \n",
    "int x2 = 6;\n",
    "\n",
    "cout << \"Wartość x1 = \" << ? << \", wartość x2 = \" << ? << endl; //todo uzupełnij brakujące miejsca\n",
    "\n",
    "int suma = ?;                                                   //todo uzupełnij działanie\n",
    "int liczba = 2;                                                 // liczba elementów do obliczenia średniej\n",
    "\n",
    "int srednia = ?;                                                //todo uzupełnij działanie z wykorzystaniem sumy i liczby\n",
    "\n",
    "cout << \"Obliczona średnia = \" << srednia << endl;"
   ]
  },
  {
   "cell_type": "markdown",
   "id": "8c36a324",
   "metadata": {},
   "source": [
    "Przetestuj teraz ten kod dla parzystych i nieparzystych wartości liczbowych `x1` oraz `x2`. Czy widzisz jakieś błędy w działaniu?"
   ]
  },
  {
   "cell_type": "markdown",
   "id": "2180334b",
   "metadata": {},
   "source": [
    "### Dzielenie całkowite, a rzeczywiste \n",
    "Pewnie łatwo można zauważyć, że jeśli wynikiem operacji dzielenia ma być liczba zmiennoprzecinkowa (nie całkowita), program zupełnie ignoruje część obliczeń, która powinna znajdować się po przecinku. Dzieje się tak dlatego, że w C++ możemy mówić o dwóch rodzajach dzielenia:\n",
    "\n",
    "**1. Dzielenie całkowite (`int / int`)**\n",
    "\n",
    "* Wykonuje się, gdy **obie liczby są całkowite (int)**.\n",
    "* Wynik też jest liczbą całkowitą — **część ułamkowa jest odrzucana** (nie zaokrąglana!).\n",
    "* Przykład:\n",
    "\n",
    "  ```cpp\n",
    "  int a = 7;\n",
    "  int b = 2;\n",
    "  cout << a / b;  // wynik: 3\n",
    "  ```\n",
    "\n",
    "  (bo 7 / 2 = 3.5, ale część .5 zostaje odrzucona)\n",
    "\n",
    "**2. Dzielenie rzeczywiste (`float` lub `double`)**\n",
    "\n",
    "* Wykonuje się, gdy **co najmniej jedna liczba jest typu zmiennoprzecinkowego** (`float`, `double`).\n",
    "* Wynik zachowuje część ułamkową.\n",
    "* Przykład:\n",
    "\n",
    "  ```cpp\n",
    "  float a = 7;\n",
    "  float b = 2;\n",
    "  cout << a / b;  // wynik: 3.5\n",
    "  ```"
   ]
  },
  {
   "cell_type": "markdown",
   "id": "de0d26d4",
   "metadata": {},
   "source": [
    "## Zadanie 4.3.\n",
    "W wykorzystaniem powyższych informacji zmodyfikuj rozwiązanie zadania 4.2. tak, aby liczenie średniej zawsze zwracało poprawny wynik. W odpowiednim miejscu trzeba zastosować dzielenie rzeczywiste."
   ]
  },
  {
   "cell_type": "code",
   "execution_count": null,
   "id": "f459b8db",
   "metadata": {
    "vscode": {
     "languageId": "plaintext"
    }
   },
   "outputs": [],
   "source": [
    "int x1 = 7;                                                     //todo popraw typ zmiennej\n",
    "int x2 = 2;                                                     //todo popraw typ zmiennej\n",
    "\n",
    "cout << \"Wartość x1 = \" << ? << \", wartość x2 = \" << ? << endl; //todo uzupełnij brakujące miejsca\n",
    "\n",
    "int suma = ?;                                                   //todo uzupełnij działanie i popraw typ zmiennej\n",
    "int liczba = 2;                                                 // liczba elementów do liczenia średniej - czy to może zostać typu int?\n",
    "\n",
    "int srednia = ?;                                                //todo popraw typ zmiennej oraz uzupełnij działanie z wykorzystaniem sumy i liczby\n",
    "\n",
    "cout << \"Obliczona średnia = \" << srednia << endl;"
   ]
  },
  {
   "cell_type": "markdown",
   "id": "beaedebb",
   "metadata": {},
   "source": [
    "\n",
    "**💡 Wskazówka:**\n",
    "Jeśli chcesz uzyskać wynik rzeczywisty z dwóch liczb całkowitych, możesz zamienić jedną z nich na `float` lub `double`:\n",
    "\n",
    "```cpp\n",
    "int a = 7, b = 2;\n",
    "cout << double(a) / b;  // wynik: 3.5\n",
    "```\n",
    "Taką operację nazywamy **rzutowaniem** typów zmiennych - w powyższym przykładzie rzutujemy typ `int` na `double`."
   ]
  },
  {
   "cell_type": "markdown",
   "id": "03de69b2",
   "metadata": {},
   "source": [
    "## Zadanie 4.4.\n",
    "Na koniec dyskusji na temat operatorów arytmetycznych rozwiążemy klasyczne zadanie dotyczące prostego problemu matematycznego. Ale trochę je uprościmy.\n",
    "\n",
    "Wyznacz pierwiastki rownania kwadratowego `ax^2+bx+c = 0`. Ale załóż, że równanie ma dwa pierwiastki. Można to zapewnić przyjmując np. `a = 1`, `b = 4`, `c = 1`. Uzupełnij poniższy fragment kodu."
   ]
  },
  {
   "cell_type": "markdown",
   "id": "13bd768d",
   "metadata": {},
   "source": [
    "### Biblioteka funkcji matematycznych `cmath`\n",
    "Do rozwiązania zadania poza prostymi operatorami arytmetycznymi przydadzą Ci się jeszcze funkcje matematycze typu $\\sqrt{x}$, czy $x^2$. W tym celu na początku programu dołączymy bibliotekę programistyczną `<cmath>` zawierającą te funkcje. Po jej dołączeniu możesz korzystać z wielu przydatnych funkcji matematycznych m.in.:\n",
    "\n",
    "**1. `pow(a, b)` – potęgowanie**\n",
    "\n",
    "* Zwraca wynik działania $a^b$.\n",
    "* Przykład:\n",
    "\n",
    "  ```cpp\n",
    "  cout << pow(2, 3);  // wynik: 8 (bo 2³ = 8)\n",
    "  ```\n",
    "\n",
    "\n",
    "**2. `sqrt(x)` – pierwiastek kwadratowy**\n",
    "\n",
    "* Zwraca wynik działania $\\sqrt{x}$.\n",
    "* Przykład:\n",
    "\n",
    "  ```cpp\n",
    "  cout << sqrt(16);  // wynik: 4\n",
    "  ```\n",
    "\n",
    "\n",
    "**3. `abs(x)` – wartość bezwzględna**\n",
    "\n",
    "* Zwraca wynik działania $|x|$.\n",
    "* Przykład:\n",
    "\n",
    "  ```cpp\n",
    "  cout << abs(-5);  // wynik: 5\n",
    "  ```\n",
    "\n",
    "\n",
    "**4. `round(x)`, `floor(x)`, `ceil(x)` – zaokrąglanie liczb**\n",
    "\n",
    "* `round(x)` – zaokrągla do najbliższej liczby całkowitej\n",
    "* `floor(x)` – zaokrągla w dół\n",
    "* `ceil(x)` – zaokrągla w górę\n",
    "* Przykład:\n",
    "\n",
    "  ```cpp\n",
    "  cout << round(3.6);  // wynik: 4\n",
    "  cout << floor(3.6);  // wynik: 3\n",
    "  cout << ceil(3.2);   // wynik: 4\n",
    "  ```\n"
   ]
  },
  {
   "cell_type": "code",
   "execution_count": null,
   "id": "b78dcd43",
   "metadata": {},
   "outputs": [],
   "source": [
    "#include <cmath>\n",
    "\n",
    "float a, b, c;\n",
    "a = ?;                          //todo uzupełnij\n",
    "b = ?;                          //todo uzupełnij\n",
    "c = ?;                          //todo uzupełnij\n",
    "\n",
    "float delta = ?;                //todo wpisz wzór na wyliczenie delty\n",
    "\n",
    "                                //todo zadeklaruj zmienne x1 i x2 na wartości pierwiastków równania\n",
    "x1 = ?;                         //todo wpisz wzór na wyliczenie pierwiastka x1\n",
    "x2 = ?;                         //todo wpisz wzór na wyliczenie pierwiastka x2\n",
    "cout << \"Rozwiązania: \" << x1 << \" \" << x2 << endl;"
   ]
  },
  {
   "cell_type": "markdown",
   "id": "c45fa629",
   "metadata": {},
   "source": [
    "## Operatory porównania w C++\n",
    "Język programowania C++ obsługuje dobrze znane z matematyki operatory porównań, takie jak:\n",
    "- Mniejsze niż: `a < b`\n",
    "- Mniejsze lub równe: `a <= b`\n",
    "- Większe niż: `a > b`\n",
    "- Większe lub równe: `a >= b`\n",
    "- Równe: `a == b`\n",
    "- Różne: `a != b`\n",
    "\n",
    "Wynikiem ich działania jest zawsze wartość logiczna — **`true` (prawda)** lub **`false` (fałsz)**.\n",
    "\n",
    "Poniżej pokazano jak w najprostrzy sposób wykorzystać niektóre z tych operatorów w praktyce.\n",
    "Rozwiązując kolejne zadania nauczysz się jak używać tych poleceń w podstawowym zakresie. Pełne zastosowanie tych operatorów poznasz w kolejnych ćwiczeniach przy pisaniu instrukcji warunkowych oraz pętli. "
   ]
  },
  {
   "cell_type": "markdown",
   "id": "8b117075",
   "metadata": {},
   "source": [
    "## Zadanie 4.5.\n",
    "Napisz program, który porówna ze sobą dwie liczby zapisane w zmiennych `a` i `b`. Wypisz na konsoli, czy wartość zmiennej `a` jest mniejsza od `b`, czy są sobie równe, itp.? Uzupełnij poniższy kod."
   ]
  },
  {
   "cell_type": "code",
   "execution_count": null,
   "id": "cc873a72",
   "metadata": {
    "vscode": {
     "languageId": "plaintext"
    }
   },
   "outputs": [],
   "source": [
    "int a = ?, b = ?;               //todo wpisz konkretne wartości\n",
    "\n",
    "bool wynik_mniejsze = ?;        //todo wpisz do tej zmiennej logicznej wynik sprawdzenia, czy a jest mniejsze niż b\n",
    "bool wynik_rozne = ?;           //todo wpisz do tej zmiennej logicznej wynik sprawdzenia, czy a jest różne b\n",
    "bool wynik_mniejsze_rowne = ?;  //todo wpisz do tej zmiennej logicznej wynik sprawdzenia, czy a jest mniejsze lub równe b\n",
    "bool wynik_rowne = ?;           //todo wpisz do tej zmiennej logicznej wynik sprawdzenia, czy a jest równe b\n",
    "bool wynik_wieksze = ?;         //todo wpisz do tej zmiennej logicznej wynik sprawdzenia, czy a jest większe niż b\n",
    "bool wynik_wieksze_rowne = ?;   //todo wpisz do tej zmiennej logicznej wynik sprawdzenia, czy a jest większe lub równe b\n",
    "\n",
    "cout << \"Wynik sprawdzenia, czy a jest mniejsze niż b: \" << ? << endl;    //todo uzupełnij wypisanie wyników działań na konsoli\n",
    "cout ..."
   ]
  },
  {
   "cell_type": "markdown",
   "id": "c4f6b88d",
   "metadata": {},
   "source": [
    "## Operatory logiczne w C++\n",
    "Poza operatorami porównań język programowania C++ obsługuje operatory logiczne wykorzystywane do budowania skomplikowanych zdań logicznych. Operatory logiczne pozwalają **łączyć wiele wyrażeń logicznych** w programie.\n",
    "\n",
    "Podobnie jak przy opreratorach porównań, wynikiem działania operatorów logicznych jest zawsze wartość logiczna — **`true` (prawda)** lub **`false` (fałsz)**.\n",
    "\n",
    "| Operator | Nazwa         | Działanie                                            | Przykład            | Wynik                                                    |     \n",
    "| -------- | ------------- | ---------------------------------------------------- | ------------------- | -------------------------------------------------------- |\n",
    "| `&&`     | **i ($\\cap$)**   | Prawda tylko wtedy, gdy **oba warunki** są prawdziwe | `(x > 1 && x < 9)` | `true`, jeśli `x` między 1 a 9, $x \\in (0, 9)$                            |\n",
    "| `\\|\\|`     | **lub ($\\cup$)**  | Prawda, gdy **co najmniej jeden** warunek jest prawdziwy | `(x < 0 \\|\\| x > 100)` | `true`, jeśli `x` poza zakresem 0–100, $x \\in (-\\infty, 0) \\cup (100, \\infty)$  |\n",
    "| `!`      | **nie ($\\neg$)** | Odwraca wartość logiczną                             | `!(x > 5)`          | `true`, jeśli `x <= 5`, $x \\in (-\\infty, 5]$                                   |\n",
    "\n",
    "Rozwiązując kolejne zadania nauczysz się jak używać tych operatorów w podstawowym zakresie. Pełne ich zastosowanie poznasz w kolejnych ćwiczeniach przy pisaniu instrukcji warunkowych oraz pętli. "
   ]
  },
  {
   "cell_type": "markdown",
   "id": "7b8c05e1",
   "metadata": {},
   "source": [
    "## Zadanie 4.6.\n",
    "Napisz program, który sprawdzi, czy wartość liczbowa `x` podana przez użytkownika znajduje się w podanym przedziale. Zadeklaruj odpowiednią zmienną typu zmiennoprzecinkowego i wczytaj jej wartość na podstawie danych z konsoli. Następnie sprawdź, czy wartość znajduje się w przedziale:  \n",
    "a) $x \\in [0, 10)$  \n",
    "b) $x \\in [-10.5, 10.5]$  \n",
    "c) $x \\in (-\\infty, -4.4] \\cup [10.5, \\infty)$  \n",
    "d) $x \\in (-\\infty, -10.5] \\cup (-4.4, 4.4) \\cup [10.5, \\infty)$  \n",
    "\n",
    "Uzupełnij poniższy kod."
   ]
  },
  {
   "cell_type": "code",
   "execution_count": null,
   "id": "331ffb2b",
   "metadata": {
    "vscode": {
     "languageId": "plaintext"
    }
   },
   "outputs": [],
   "source": [
    "                        //todo zadeklaruj zmienną x\n",
    "\n",
    "cout << \"Podaj wartość x:\" << endl;\n",
    "cin >> x;\n",
    "\n",
    "bool zdanie_a = ?;      //todo wpisz do tej zmiennej logicznej wynik sprawdzenia, czy a jest mniejsze niż b\n",
    "bool zdanie_b = ?;      //todo wpisz do tej zmiennej logicznej wynik sprawdzenia, czy a jest różne b\n",
    "bool zdanie_c = ?;      //todo wpisz do tej zmiennej logicznej wynik sprawdzenia, czy a jest mniejsze lub równe b\n",
    "bool zdanie_d = ?;      //todo wpisz do tej zmiennej logicznej wynik sprawdzenia, czy a jest większe lub równe b\n",
    "\n",
    "cout << \"Wynik sprawdzenia podpunkt a): \" << ? << endl;    //todo uzupełnij wypisanie wyników działań na konsoli\n",
    "cout ..."
   ]
  },
  {
   "cell_type": "markdown",
   "id": "4cc6cd26-7841-4a86-849f-0a525f8be689",
   "metadata": {
    "editable": true,
    "slideshow": {
     "slide_type": ""
    },
    "tags": []
   },
   "source": [
    "![logotypy.png](../figures/OMNIS2_logotypy.png)"
   ]
  }
 ],
 "metadata": {
  "kernelspec": {
   "display_name": "C++17",
   "language": "C++17",
   "name": "xcpp17"
  },
  "language_info": {
   "codemirror_mode": "text/x-c++src",
   "file_extension": ".cpp",
   "mimetype": "text/x-c++src",
   "name": "c++",
   "version": "17"
  }
 },
 "nbformat": 4,
 "nbformat_minor": 5
}
